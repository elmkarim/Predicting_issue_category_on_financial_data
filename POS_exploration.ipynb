{
 "cells": [
  {
   "cell_type": "code",
   "execution_count": 37,
   "metadata": {},
   "outputs": [],
   "source": [
    "import pandas as pd"
   ]
  },
  {
   "cell_type": "code",
   "execution_count": 38,
   "metadata": {},
   "outputs": [],
   "source": [
    "df = pd.read_csv(\"data/WMDataWeeks201601To201852.txt\", sep='|', encoding=\"ISO-8859-1\", \n",
    "                 dtype={\"UPC\":\"str\"}, parse_dates=[\"POSDate\"])"
   ]
  },
  {
   "cell_type": "code",
   "execution_count": null,
   "metadata": {},
   "outputs": [],
   "source": [
    "df.head()"
   ]
  },
  {
   "cell_type": "code",
   "execution_count": 40,
   "metadata": {},
   "outputs": [
    {
     "data": {
      "text/plain": [
       "10441571"
      ]
     },
     "execution_count": 40,
     "metadata": {},
     "output_type": "execute_result"
    }
   ],
   "source": [
    "len(df)"
   ]
  },
  {
   "cell_type": "code",
   "execution_count": 41,
   "metadata": {},
   "outputs": [
    {
     "data": {
      "text/plain": [
       "1573"
      ]
     },
     "execution_count": 41,
     "metadata": {},
     "output_type": "execute_result"
    }
   ],
   "source": [
    "df.UPC.nunique()"
   ]
  },
  {
   "cell_type": "code",
   "execution_count": null,
   "metadata": {},
   "outputs": [],
   "source": [
    "df[\"Brand\"].unique()"
   ]
  },
  {
   "cell_type": "markdown",
   "metadata": {},
   "source": [
    "## Aggregating by Brand"
   ]
  },
  {
   "cell_type": "code",
   "execution_count": 43,
   "metadata": {},
   "outputs": [],
   "source": [
    "from helper_save_load import load_from_pickle\n",
    "\n",
    "df_a, df_f, df_v = load_from_pickle(\"data/dataframes_Dollars.pickle\")\n",
    "del df_a, df_f"
   ]
  },
  {
   "cell_type": "code",
   "execution_count": 44,
   "metadata": {},
   "outputs": [],
   "source": [
    "df_v = df_v.loc[:,~df_v.columns.duplicated()]\n",
    "\n",
    "item_to_brand = df_v[[\"UPC_code\", \"Brand\"]].groupby(\"UPC_code\", as_index=False).first()\n",
    "item_to_brand.columns = [\"UPC\", \"Brand\"]\n",
    "item_to_brand[\"UPC\"] = pd.to_numeric(item_to_brand[\"UPC\"])"
   ]
  },
  {
   "cell_type": "code",
   "execution_count": null,
   "metadata": {},
   "outputs": [],
   "source": [
    "item_to_brand.head()"
   ]
  },
  {
   "cell_type": "code",
   "execution_count": null,
   "metadata": {},
   "outputs": [],
   "source": [
    "# Aggregate(sum) by Date and UPC\n",
    "df_pos = df[[\"TotalSales\", \"TotalQty\", \"POSDate\", \"UPC\"]].groupby([\"POSDate\", \"UPC\"], as_index=False).sum()\n",
    "df_pos[\"UPC\"] = pd.to_numeric(df_pos[\"UPC\"] )\n",
    "df_pos.head()"
   ]
  },
  {
   "cell_type": "code",
   "execution_count": 47,
   "metadata": {},
   "outputs": [],
   "source": [
    "# Compare UPC to variance data brands\n",
    "pos_with_brands = df_pos.merge(item_to_brand, on=[\"UPC\"]) # how=\"left\" to include items not matched to brands"
   ]
  },
  {
   "cell_type": "code",
   "execution_count": 48,
   "metadata": {},
   "outputs": [
    {
     "data": {
      "text/plain": [
       "0.14410079341757273"
      ]
     },
     "execution_count": 48,
     "metadata": {},
     "output_type": "execute_result"
    }
   ],
   "source": [
    "137305/952840 # 14% of items not matchable to brands"
   ]
  },
  {
   "cell_type": "code",
   "execution_count": null,
   "metadata": {},
   "outputs": [],
   "source": [
    "# Group by Month_Year and Brand\n",
    "pos_grouped_brands = pos_with_brands.groupby([pos_with_brands[\"POSDate\"].dt.to_period(\"M\"), \"Brand\"]).agg(\n",
    "                                            {\"TotalSales\":\"sum\", \"TotalQty\":\"sum\"}).reset_index()\n",
    "pos_grouped_brands[\"MonthlyUnitPrice\"] = pos_grouped_brands[\"TotalSales\"]/pos_grouped_brands[\"TotalQty\"]\n",
    "pos_grouped_brands.head()"
   ]
  },
  {
   "cell_type": "code",
   "execution_count": null,
   "metadata": {},
   "outputs": [],
   "source": [
    "import matplotlib.pyplot as plt\n",
    "\n",
    "%matplotlib inline\n",
    "\n",
    "ax = pos_grouped_brands[pos_grouped_brands[\"Brand\"] == '1I-VIM CLEANERS Brand'].plot(x=\"POSDate\", y=\"TotalSales\")\n",
    "\n",
    "pos_grouped_brands[pos_grouped_brands[\"Brand\"] == '1I-VIM CLEANERS Brand'].plot(x=\"POSDate\", y=\"MonthlyUnitPrice\")\n",
    "plt.show()"
   ]
  },
  {
   "cell_type": "code",
   "execution_count": 57,
   "metadata": {},
   "outputs": [],
   "source": [
    "group_by_day = pos_with_brands.groupby([pos_with_brands[\"POSDate\"].dt.to_period(\"M\"), \"Brand\"]).agg({\"TotalSales\":\"sum\", \"TotalQty\":\"sum\"}).reset_index()\n",
    "group_by_day[\"MonthlyUnitPrice\"] = group_by_day[\"TotalSales\"]/group_by_day[\"TotalQty\"]"
   ]
  },
  {
   "cell_type": "code",
   "execution_count": null,
   "metadata": {},
   "outputs": [],
   "source": [
    "group_by_day.head(10)"
   ]
  },
  {
   "cell_type": "code",
   "execution_count": null,
   "metadata": {},
   "outputs": [],
   "source": [
    "to_plot.head()"
   ]
  },
  {
   "cell_type": "code",
   "execution_count": null,
   "metadata": {},
   "outputs": [],
   "source": [
    "to_plot = group_by_day[group_by_day[\"Brand\"] == 'LL-DOVE BAR Brand']\n",
    "\n",
    "plt.rcParams.update({'font.size': 22})\n",
    "\n",
    "ax = to_plot.plot(x=\"POSDate\", y=\"TotalQty\", figsize=(30,10), linewidth=2, label=\"Monthly Sales\")\n",
    "ax2 = to_plot.plot(x=\"POSDate\", y=\"MonthlyUnitPrice\", ax=ax, secondary_y=True, linewidth=2, label=\"Unit Price\")\n",
    "\n",
    "ax.set_ylabel(\"Number of sales\", fontsize=28, labelpad=20)\n",
    "ax2.set_ylabel(\"Average unit price of brand ($)\", fontsize=28, labelpad=40 ,rotation=-90)\n",
    "ax.set_xlabel(\"Month\", fontsize=28)\n",
    "\n",
    "ax.set_title(\"Walmart POS for LL-DOVE BAR Brand\", fontsize=30)\n",
    "\n",
    "to_plot[to_plot[\"POSDate\"] == \"2017-06\"].plot(x=\"POSDate\", y=\"TotalQty\", style='y*', ax=ax, markersize=20, legend=False)\n",
    "promo_months = [\"2018-03\", \"2018-07\", \"2018-08\", \"2018-09\"]\n",
    "for month in promo_months:\n",
    "    to_plot[to_plot[\"POSDate\"] == month].plot(x=\"POSDate\", y=\"TotalQty\", style='g*', ax=ax, markersize=20, legend=False)\n",
    "\n",
    "\n",
    "plt.show()"
   ]
  },
  {
   "cell_type": "code",
   "execution_count": null,
   "metadata": {},
   "outputs": [],
   "source": []
  }
 ],
 "metadata": {
  "kernelspec": {
   "display_name": "Python 3",
   "language": "python",
   "name": "python3"
  },
  "language_info": {
   "codemirror_mode": {
    "name": "ipython",
    "version": 3
   },
   "file_extension": ".py",
   "mimetype": "text/x-python",
   "name": "python",
   "nbconvert_exporter": "python",
   "pygments_lexer": "ipython3",
   "version": "3.6.6"
  }
 },
 "nbformat": 4,
 "nbformat_minor": 2
}
