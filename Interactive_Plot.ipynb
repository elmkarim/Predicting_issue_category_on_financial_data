{
 "cells": [
  {
   "cell_type": "markdown",
   "metadata": {},
   "source": [
    "# Interactive graphics"
   ]
  },
  {
   "cell_type": "code",
   "execution_count": 1,
   "metadata": {},
   "outputs": [],
   "source": [
    "import pandas as pd\n",
    "\n",
    "import matplotlib.pyplot as plt\n",
    "\n",
    "%matplotlib inline"
   ]
  },
  {
   "cell_type": "code",
   "execution_count": 2,
   "metadata": {},
   "outputs": [],
   "source": [
    "\n",
    "from helper_save_load import load_from_pickle\n",
    "\n",
    "df_a, df_f, df_v = load_from_pickle(\"data/dataframes_Dollars.pickle\")\n",
    "df_c = load_from_pickle(\"data/Labeled_comments.pkl\")\n",
    "pos_with_brands = load_from_pickle(\"data/pos_with_brands.pickle\")\n",
    "\n",
    "ignored_brands = [\"57-CAMAY BAR SOAP Brand\",\n",
    "\"IGNORE\",\n",
    "\"71-LBP SH/CD Roll-up Brand\",\n",
    "\"72-LBP SHOWER Roll-up Brand\"]\n",
    "\n",
    "df_c = df_c[~df_c[\"Brand_1\"].isin(ignored_brands)]"
   ]
  },
  {
   "cell_type": "code",
   "execution_count": null,
   "metadata": {},
   "outputs": [],
   "source": [
    "comme_type = ['Promo' if row['Promo'] == 1 else \n",
    "              'Phasing' if row['Phasing'] == 1 else \n",
    "              'SP&D' if row['SP&D'] == 1 else \n",
    "              'POS' if row['POS'] == 1 else\n",
    "              'Empty' if pd.isna(row['Commentaries']) else 'Unknown' \n",
    "              for i,row in df_c.iterrows()]\n",
    "df_c['Comment_type'] = comme_type\n",
    "df_c[[\"Month\",\"Commentaries\", \"Brand_1\",\"Comment_type\"]].head()"
   ]
  },
  {
   "cell_type": "code",
   "execution_count": 4,
   "metadata": {},
   "outputs": [],
   "source": [
    "from datetime import date, timedelta\n",
    "from dateutil.relativedelta import relativedelta\n",
    "def convert_date(mon):\n",
    "    y,m = mon.split(\"/\")\n",
    "    date1 = date(int(y), int(m), 1)\n",
    "    return date1.strftime(\"%b_%Y\")"
   ]
  },
  {
   "cell_type": "code",
   "execution_count": 5,
   "metadata": {},
   "outputs": [],
   "source": [
    "df_c[\"Month\"] = df_c[\"Month\"].apply(convert_date)"
   ]
  },
  {
   "cell_type": "code",
   "execution_count": null,
   "metadata": {},
   "outputs": [],
   "source": [
    "df_c.head()"
   ]
  },
  {
   "cell_type": "code",
   "execution_count": 7,
   "metadata": {},
   "outputs": [],
   "source": [
    "#using interactivity\n",
    "from ipywidgets import interact_manual, SelectionRangeSlider\n",
    "import numpy as np\n",
    "import ipywidgets\n",
    "import matplotlib.pyplot as plt\n",
    "%matplotlib inline"
   ]
  },
  {
   "cell_type": "code",
   "execution_count": null,
   "metadata": {},
   "outputs": [],
   "source": [
    "v = df_v.groupby([\"Brand\",\"Territory\"]).sum().loc[\"JK-DOVE HS-SA Brand\"] / 1e6\n",
    "v[\"Aug_2017\"]"
   ]
  },
  {
   "cell_type": "code",
   "execution_count": null,
   "metadata": {},
   "outputs": [],
   "source": [
    "v_b = df_v.groupby([\"Brand\"]).sum().loc[\"JK-DOVE HS-SA Brand\"] / 1e6\n",
    "v_b"
   ]
  },
  {
   "cell_type": "code",
   "execution_count": 10,
   "metadata": {},
   "outputs": [],
   "source": [
    "def group_by_TR_BR(territory, brand):\n",
    "    v = df_v.groupby([\"Territory\", \"Brand\"]).sum().loc[territory].loc[brand]\n",
    "    a = df_a.groupby([\"Territory\", \"Brand\"]).sum().loc[territory].loc[brand]\n",
    "    f = df_f.groupby([\"Territory\", \"Brand\"]).sum().loc[territory].loc[brand]\n",
    "    a.index = v.index\n",
    "    f.index = v.index\n",
    "    return v, a, f"
   ]
  },
  {
   "cell_type": "code",
   "execution_count": 11,
   "metadata": {},
   "outputs": [],
   "source": [
    "def set_graph(ax, vx, vy, thresholds):\n",
    "    xticks = ax.get_xticklabels()\n",
    "    plt.setp(xticks, rotation=90, fontsize=18)\n",
    "    yticks = ax.get_yticklabels()\n",
    "    plt.setp(yticks, fontsize=18)\n",
    "    ymin = min(-0.22, np.min(vy)*1.1)\n",
    "    ymax = max(0.22, np.max(vy)*1.1)\n",
    "    ax.set(xlim=[0, len(vx)-1])  #, title=variance.name\n",
    "    ax.set(ylim=[ymin, ymax])\n",
    "    ax.set_xlabel('Months', fontsize=28)\n",
    "    ax.set_ylabel('Variance ($M)', fontsize=28)\n",
    "    ax.grid(axis='x')\n",
    "    ax.hlines(0, 0, len(vx)-1)\n",
    "    \n",
    "    #variances thresholds\n",
    "    if thresholds:\n",
    "        ax.hlines(0.2, 0, len(vx)-1, colors='r', linestyles='dashed')\n",
    "        ax.hlines(-0.2, 0, len(vx)-1, colors='r', linestyles='dashed')"
   ]
  },
  {
   "cell_type": "code",
   "execution_count": 12,
   "metadata": {},
   "outputs": [],
   "source": [
    "def plot_variance(variance, ax):\n",
    "    bar_width = 0.95\n",
    "    x = variance.index\n",
    "    y = variance.values/1e6\n",
    "    set_graph(ax, x, y, True)\n",
    "#     ax.set_title()\n",
    "    ax.bar(x, variance.values/1e6, width=bar_width, align='edge', alpha=0.7)\n",
    "\n",
    "#     ax.plot(variance)   "
   ]
  },
  {
   "cell_type": "code",
   "execution_count": 13,
   "metadata": {},
   "outputs": [],
   "source": [
    "def plot_variance_all(v, ax):\n",
    "    last_h = [0] * len(v.columns)\n",
    "    set_graph(ax, v.columns, v.values, True)\n",
    "    ymin=0\n",
    "    ymax=0\n",
    "    for terr in v.index:\n",
    "        ax.bar(v.loc[terr].index, v.loc[terr].values, bottom=last_h, label=terr, align='edge')\n",
    "        last_h = last_h + v.loc[terr].values\n",
    "        ymin = min(ymin, np.min(last_h))\n",
    "        ymax = max(ymax, np.max(last_h))\n",
    "\n",
    "        \n",
    "    ymin = min(-0.22, ymin*1.1)\n",
    "    ymax = max(0.22, ymax*1.1)        \n",
    "    ax.set(ylim=[ymin, ymax])"
   ]
  },
  {
   "cell_type": "code",
   "execution_count": 14,
   "metadata": {},
   "outputs": [],
   "source": [
    "def plot_variance_sum_all(v, ax):\n",
    "    set_graph(ax, v.index, v.values, True)\n",
    "    ax.bar(v.index, v.values, align='edge')\n",
    "    "
   ]
  },
  {
   "cell_type": "code",
   "execution_count": 15,
   "metadata": {},
   "outputs": [],
   "source": [
    "def print_comments(brand):\n",
    "    c_filter = (df_c[\"Brand_1\"]==brand) & (df_c[\"Comment_type\"]!=\"Empty\")\n",
    "    comments = df_c[c_filter][[\"Month\",\"Commentaries\", \"Comment_type\"]]\n",
    "    display(comments)\n",
    "\n",
    "def plot_comments(brand, months, ax):\n",
    "    c_filter = (df_c[\"Brand_1\"]==brand) & (df_c[\"Comment_type\"]!=\"Empty\")\n",
    "    comments = df_c[c_filter][[\"Month\",\"Commentaries\", \"Comment_type\"]]\n",
    "    \n",
    "    comments_pivot = comments.pivot_table(values='Commentaries', index='Month', columns ='Comment_type', aggfunc=lambda x: len(x.unique()))\n",
    "    df1 = pd.DataFrame(data=[0]*len(months), index=months, columns=[\"dummy\"])\n",
    "    df2 = pd.concat([comments_pivot, df1], axis=1, join_axes=[df1.index])\n",
    "    df2.fillna(0, inplace=True)\n",
    "    df2.drop(columns=['dummy'], inplace=True)\n",
    "    if (df2.empty==False):\n",
    "        ax = df2.plot.bar(ax=ax, align='edge')\n",
    "        set_graph(ax, df2.index, [0,1,2,3] , False)\n",
    "        ax.set_ylabel('Commentaries', fontsize=28)\n"
   ]
  },
  {
   "cell_type": "code",
   "execution_count": 41,
   "metadata": {},
   "outputs": [],
   "source": [
    "WM_labels = df_c[df_c['WM'] == 1][[\"Month\", \"Brand_1\", \"Commentaries\", \"Promo\", \"Phasing\", \"SP&D\", \"POS\"]].fillna(0)\n",
    "WM_labels[\"NoClass\"] = ~WM_labels[[\"Promo\", \"Phasing\", \"SP&D\", \"POS\"]].any(axis=1)\n",
    "#WM_labels[\"Month\"] = pd.to_datetime(WM_labels[\"Month\"], format='%b_%Y')"
   ]
  },
  {
   "cell_type": "code",
   "execution_count": null,
   "metadata": {},
   "outputs": [],
   "source": [
    "v, a, f = group_by_TR_BR(\"M7400 - WALMART\", \"05-AXE SA Brand\")\n",
    "v"
   ]
  },
  {
   "cell_type": "code",
   "execution_count": null,
   "metadata": {},
   "outputs": [],
   "source": [
    "v"
   ]
  },
  {
   "cell_type": "code",
   "execution_count": 16,
   "metadata": {},
   "outputs": [],
   "source": [
    "def plot_graph(brand, period, date_range, \n",
    "               POS_plot=True, \n",
    "               territory_v_plot=True,\n",
    "               all_territory_v_plot=False, \n",
    "               sum_v_plot=False,\n",
    "               commentary_plot=True):\n",
    "    \n",
    "    print(brand)\n",
    "    \n",
    "    num_plots = sum([POS_plot, territory_v_plot, all_territory_v_plot, sum_v_plot, commentary_plot])\n",
    "    \n",
    "    #Filter dates\n",
    "\n",
    "    StartDate = pd.to_datetime(date_range[0], format='%b_%Y')\n",
    "    EndDate = pd.to_datetime(date_range[1], format='%b_%Y')\n",
    "\n",
    "    StartDate_f = StartDate.strftime(\"%Y-%m-%d\")\n",
    "    EndDate_f = EndDate.strftime(\"%Y-%m-%d\")\n",
    "\n",
    "    months = pd.date_range(StartDate, EndDate, freq='MS').strftime(\"%b_%Y\")\n",
    "    \n",
    "    v, a, f = group_by_TR_BR(\"M7400 - WALMART\", brand)\n",
    "    v = v[months]\n",
    " \n",
    "    ### Creates figure\n",
    "    fig, axes = plt.subplots(nrows=num_plots, ncols=1, figsize=(30, 8*num_plots), squeeze=False)\n",
    "    axis_num = 0\n",
    "\n",
    "    ###\n",
    "    plt.rcParams.update({'font.size': 22})\n",
    "    \n",
    "    if POS_plot:\n",
    "        # Filtering Walmart POS data\n",
    "        Pos_Date_Filtered = pos_with_brands[(pos_with_brands['POSDate'] >= StartDate_f) & \\\n",
    "                                        (pos_with_brands['POSDate'] < EndDate_f)]\n",
    "        \n",
    "        group_by_day = Pos_Date_Filtered.groupby([Pos_Date_Filtered[\"POSDate\"].dt.to_period(period), \"Brand\"]).\\\n",
    "               agg({\"TotalSales\":\"sum\", \"TotalQty\":\"sum\"}).reset_index()\n",
    "        group_by_day[\"MonthlyUnitPrice\"] = group_by_day[\"TotalSales\"]/group_by_day[\"TotalQty\"]\n",
    "        to_plot = group_by_day[group_by_day[\"Brand\"] == brand]\n",
    "        \n",
    "        # Plotting POS data\n",
    "        to_plot.plot(x=\"POSDate\", y=\"TotalQty\", linewidth=2, label=\"Sales (Qty)\", ax=axes[axis_num, 0])\n",
    "        ax = axes[axis_num, 0]\n",
    "        ax2 = to_plot.plot(x=\"POSDate\", y=\"MonthlyUnitPrice\", secondary_y=True, linewidth=2, \n",
    "                       label=\"Unit Price\", ax=axes[axis_num, 0] )\n",
    "        axis_num += 1\n",
    "        ax.set_ylabel(\"Sales\", fontsize=28, labelpad=20)\n",
    "        ax2.set_ylabel(\"Average unit price of brand ($)\", fontsize=28, labelpad=40 ,rotation=-90)\n",
    "        ax.set_xlabel(\"Date\", fontsize=28)\n",
    "\n",
    "        ax.set_title(brand, fontsize=30)\n",
    "        ax.grid(axis='x')\n",
    "    \n",
    "        xticks = ax.get_xticklabels()\n",
    "        plt.setp(xticks, rotation=90, fontsize=18)\n",
    "        yticks = ax.get_yticklabels()\n",
    "        plt.setp(yticks, fontsize=18)\n",
    "        \n",
    "        #TODO: annotate POS_plot with WM comments\n",
    "        # Add xtick labels\n",
    "    \n",
    "        from matplotlib.ticker import MultipleLocator, FormatStrFormatter\n",
    "        import matplotlib.dates as dates\n",
    "\n",
    "        ax.xaxis.set_major_locator(dates.MonthLocator(bymonth=None, bymonthday=1, interval=1))\n",
    "    \n",
    "    if territory_v_plot:\n",
    "        plot_variance(v, axes[axis_num, 0])\n",
    "        axis_num += 1\n",
    "    \n",
    "    if all_territory_v_plot:\n",
    "        v_all = df_v.groupby([\"Brand\",\"Territory\"]).sum().loc[brand] / 1e6\n",
    "        v_all = v_all[months]\n",
    "\n",
    "        plot_variance_all(v_all, axes[axis_num, 0])\n",
    "        axis_num += 1\n",
    "    \n",
    "    if sum_v_plot:\n",
    "        v_b = df_v.groupby([\"Brand\"]).sum().loc[brand] / 1e6\n",
    "        v_b = v_b[months]\n",
    "        plot_variance_sum_all(v_b, axes[axis_num, 0])\n",
    "        axis_num +=1\n",
    "        \n",
    "    if (commentary_plot):\n",
    "        plot_comments(brand, months, axes[axis_num, 0])\n",
    "        axis_num += 1\n",
    "    plt.show()\n",
    "    print_comments(brand)"
   ]
  },
  {
   "cell_type": "code",
   "execution_count": null,
   "metadata": {},
   "outputs": [],
   "source": [
    "WM_labels[WM_labels[\"Brand_1\"] == \"05-AXE SA Brand\"]"
   ]
  },
  {
   "cell_type": "code",
   "execution_count": 17,
   "metadata": {
    "scrolled": false
   },
   "outputs": [
    {
     "data": {
      "application/vnd.jupyter.widget-view+json": {
       "model_id": "684ef56868a04e3f88cc7c5cb466312c",
       "version_major": 2,
       "version_minor": 0
      },
      "text/plain": [
       "interactive(children=(Dropdown(description='brand', options=('00-DEODORANT MIXED BRAND Brand', '05-AXE SA Bran…"
      ]
     },
     "metadata": {},
     "output_type": "display_data"
    },
    {
     "data": {
      "text/plain": [
       "<function __main__.plot_graph(brand, period, date_range, POS_plot=True, territory_v_plot=True, all_territory_v_plot=False, sum_v_plot=False, commentary_plot=True)>"
      ]
     },
     "execution_count": 17,
     "metadata": {},
     "output_type": "execute_result"
    }
   ],
   "source": [
    "brands_sorted = pos_with_brands['Brand'].sort_values().unique()\n",
    "\n",
    "months = df_v.columns[8:]\n",
    "index = (0, len(months)-1)\n",
    "date_range = SelectionRangeSlider(\n",
    "                options=months,\n",
    "                index=index,\n",
    "                description='Date Range',\n",
    "                layout={'width': '500px'})\n",
    "\n",
    "interact_manual(plot_graph,brand=brands_sorted, period=['D','W','M'], date_range=date_range)"
   ]
  },
  {
   "cell_type": "markdown",
   "metadata": {},
   "source": [
    "# Plotting heatmap"
   ]
  },
  {
   "cell_type": "code",
   "execution_count": 27,
   "metadata": {},
   "outputs": [],
   "source": [
    "pos_grouped_brands = pos_with_brands.groupby([pos_with_brands[\"POSDate\"].dt.to_period(\"W\"), \"Brand\"]).agg(\n",
    "                                            {\"TotalSales\":\"sum\", \"TotalQty\":\"sum\"}).reset_index()"
   ]
  },
  {
   "cell_type": "code",
   "execution_count": 28,
   "metadata": {},
   "outputs": [],
   "source": [
    "selected_brands = pos_with_brands['Brand'].unique()[0:20]"
   ]
  },
  {
   "cell_type": "code",
   "execution_count": null,
   "metadata": {},
   "outputs": [],
   "source": [
    "to_plot = pos_grouped_brands[pos_grouped_brands[\"Brand\"].isin(selected_brands)]\n",
    "display(to_plot.head())\n",
    "to_plot_pivot = to_plot.pivot(index='POSDate', columns='Brand', values='TotalQty')\n",
    "#rescaling between 0 and 1\n",
    "to_plot_pivot[to_plot_pivot.columns[:len(selected_brands)]] /= to_plot_pivot[to_plot_pivot.columns[:len(selected_brands)]].max()\n",
    "display(to_plot_pivot.head())\n"
   ]
  },
  {
   "cell_type": "code",
   "execution_count": 31,
   "metadata": {},
   "outputs": [
    {
     "data": {
      "text/plain": [
       "Index(['18-DOVE BW MENS+CARE Brand', '19-DOVE BAR MENS+CARE Brand',\n",
       "       '1C-PERSONAL CARE MIXED BRAND Brand', '3K-SIMPLE FACE Brand',\n",
       "       '4B-TRESEMME HS-SA Brand', '4C-TRESEMME SH-CD Brand',\n",
       "       '4D-VO5 HS-SA Brand', '4H-AXE FACE Brand',\n",
       "       '4I-DOVE MENS CARE FACE Brand', '4W-DEGREE MENS AP/DEO Brand',\n",
       "       '56-KNORR SOUPS Brand', 'IX-DEG WOMENS AP-DEO Brand',\n",
       "       'JH-DOVE WOMENS AP-DEO Brand', 'JJ-AXE DEO Brand',\n",
       "       'JL-DOVE SH-CD Brand', 'KJ-DOVE BODY WASH Brand', 'KQ-LEVER 2000 Brand',\n",
       "       'LL-DOVE BAR Brand', 'LW-LEVER 2000 BW Brand',\n",
       "       'LY-AXE BODY WASH Brand'],\n",
       "      dtype='object', name='Brand')"
      ]
     },
     "execution_count": 31,
     "metadata": {},
     "output_type": "execute_result"
    }
   ],
   "source": [
    "to_plot_pivot.columns[:len(selected_brands)]"
   ]
  },
  {
   "cell_type": "code",
   "execution_count": null,
   "metadata": {},
   "outputs": [],
   "source": [
    "import seaborn as sns\n",
    "plt.figure(figsize=(10,15))\n",
    "ax = sns.heatmap(to_plot_pivot.T, cmap=\"YlGnBu\")\n",
    "ax.tick_params(labelsize=12)\n",
    "plt.title(\"Sales per week\")"
   ]
  },
  {
   "cell_type": "code",
   "execution_count": null,
   "metadata": {},
   "outputs": [],
   "source": []
  },
  {
   "cell_type": "code",
   "execution_count": null,
   "metadata": {},
   "outputs": [],
   "source": []
  }
 ],
 "metadata": {
  "kernelspec": {
   "display_name": "Python 3",
   "language": "python",
   "name": "python3"
  },
  "language_info": {
   "codemirror_mode": {
    "name": "ipython",
    "version": 3
   },
   "file_extension": ".py",
   "mimetype": "text/x-python",
   "name": "python",
   "nbconvert_exporter": "python",
   "pygments_lexer": "ipython3",
   "version": "3.6.6"
  }
 },
 "nbformat": 4,
 "nbformat_minor": 2
}
