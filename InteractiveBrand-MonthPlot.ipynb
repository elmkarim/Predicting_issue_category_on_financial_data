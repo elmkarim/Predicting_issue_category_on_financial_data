{
 "cells": [
  {
   "cell_type": "code",
   "execution_count": 1,
   "metadata": {},
   "outputs": [],
   "source": [
    "import pandas as pd\n",
    "import numpy as np\n",
    "import matplotlib.pyplot as plt\n",
    "\n",
    "from matplotlib.gridspec import GridSpec\n",
    "from ipywidgets import interact_manual\n",
    "\n",
    "%matplotlib inline"
   ]
  },
  {
   "cell_type": "code",
   "execution_count": 2,
   "metadata": {},
   "outputs": [],
   "source": [
    "PREFILTER = True\n",
    "PREFILTER_THRESHOLD = 0.2 # Data excluded if Brand variance greather than 0.2M or less than -0.2M\n",
    "\n",
    "WINDOW_SIZE = 13 # Timeseries window size in months"
   ]
  },
  {
   "cell_type": "code",
   "execution_count": 3,
   "metadata": {},
   "outputs": [],
   "source": [
    "from helper_save_load import load_from_pickle\n",
    "\n",
    "df_c = load_from_pickle(\"data/Labeled_comments2.pkl\")"
   ]
  },
  {
   "cell_type": "code",
   "execution_count": 4,
   "metadata": {},
   "outputs": [],
   "source": [
    "# These brands are in df_c but do not appear in the variance dataframe df_v\n",
    "ignored_brands = [\"IGNORE\",\n",
    "\"57-CAMAY BAR SOAP Brand\",\n",
    "\"71-LBP SH/CD Roll-up Brand\",\n",
    "\"72-LBP SHOWER Roll-up Brand\"]\n",
    "\n",
    "df_c = df_c[~df_c[\"Brand_1\"].isin(ignored_brands)]"
   ]
  },
  {
   "cell_type": "code",
   "execution_count": 5,
   "metadata": {},
   "outputs": [],
   "source": [
    "df_c.insert(16, \"NoComm\", df_c[\"Commentaries\"].isnull())\n",
    "df_c.insert(16, \"Other\", (df_c[['Promo', 'Phasing', 'SP&D', 'POS']].sum(axis=1) == 0) & ~df_c['NoComm'])\n",
    "df_c[\"Month\"] = pd.to_datetime(df_c[\"Month\"]).dt.strftime(\"%b_%Y\")"
   ]
  },
  {
   "cell_type": "code",
   "execution_count": 6,
   "metadata": {},
   "outputs": [],
   "source": [
    "label_cols = ['Promo', 'Phasing', 'SP&D', 'POS', 'Other', 'NoComm']\n",
    "\n",
    "territory_label_cols = df_c.columns[18:31].to_list()\n",
    "territory_labels = df_c[territory_label_cols]"
   ]
  },
  {
   "cell_type": "code",
   "execution_count": 7,
   "metadata": {},
   "outputs": [],
   "source": [
    "df_a, df_f, df_v = load_from_pickle(\"data/dataframes_Dollars.pickle\")\n",
    "del df_a, df_f"
   ]
  },
  {
   "cell_type": "code",
   "execution_count": 8,
   "metadata": {},
   "outputs": [],
   "source": [
    "#territories = [territory for territory, values in df_v.groupby(['Territory']).groups.items()]"
   ]
  },
  {
   "cell_type": "code",
   "execution_count": 9,
   "metadata": {},
   "outputs": [],
   "source": [
    "if PREFILTER:\n",
    "    df_c = df_c[(df_c[\"Variance\"] >= PREFILTER_THRESHOLD) | (df_c[\"Variance\"] <= -PREFILTER_THRESHOLD)]"
   ]
  },
  {
   "cell_type": "code",
   "execution_count": 10,
   "metadata": {
    "scrolled": true
   },
   "outputs": [
    {
     "name": "stdout",
     "output_type": "stream",
     "text": [
      "Number of multiclass labels before: 38\n",
      "Number of multiclass labels after: 0\n"
     ]
    }
   ],
   "source": [
    "CLASS_PRIORITY = [\"Promo\", \"SP&D\", \"Phasing\", \"POS\"] # Most important class to predict to least\n",
    "\n",
    "print('Number of multiclass labels before:', sum(df_c[label_cols].sum(axis=1) > 1))\n",
    "      \n",
    "for idx, row in df_c[df_c[label_cols[:4]].sum(axis=1) > 1][label_cols[:4]].iterrows():\n",
    "    positive_label_idx = min([CLASS_PRIORITY.index(c) for c in row[row > 0].index])\n",
    "    negative_labels = CLASS_PRIORITY[:]\n",
    "    negative_labels.pop(positive_label_idx) # List of columns to set to zero\n",
    "    df_c.loc[idx, negative_labels] = 0\n",
    "\n",
    "print('Number of multiclass labels after:', sum(df_c[label_cols].sum(axis=1) > 1))"
   ]
  },
  {
   "cell_type": "code",
   "execution_count": 11,
   "metadata": {},
   "outputs": [],
   "source": [
    "terr = []\n",
    "cat = []\n",
    "for i, row in df_c.iterrows():\n",
    "    \n",
    "    t_idx = np.flatnonzero(row.fillna(0)[territory_label_cols])\n",
    "    c_idx = np.flatnonzero(row.fillna(0)[label_cols])\n",
    "   \n",
    "    if t_idx.size > 0:\n",
    "        terr.append(territory_label_cols[t_idx[0]])\n",
    "    else:\n",
    "        terr.append(None)\n",
    "        \n",
    "    if c_idx.size > 0:\n",
    "        cat.append(label_cols[c_idx[0]])\n",
    "    else:\n",
    "        cat.append(None)\n",
    "\n",
    "df_c[\"Territory\"] = terr\n",
    "df_c[\"Class\"] = cat"
   ]
  },
  {
   "cell_type": "code",
   "execution_count": 12,
   "metadata": {},
   "outputs": [],
   "source": [
    "TR_BR_grouped = df_v.groupby([\"Territory\", \"Brand\"]).sum()"
   ]
  },
  {
   "cell_type": "code",
   "execution_count": null,
   "metadata": {},
   "outputs": [],
   "source": [
    "list(df_v.Territory.unique())"
   ]
  },
  {
   "cell_type": "code",
   "execution_count": 15,
   "metadata": {},
   "outputs": [],
   "source": [
    "variance_dict = {}\n",
    "for territory, subterritories in territory_dict.items():\n",
    "    summed_variance = pd.DataFrame()\n",
    "    for subterritory in subterritories:\n",
    "        summed_variance = summed_variance.add(TR_BR_grouped.loc[subterritory], fill_value=0)\n",
    "        \n",
    "    variance_dict[territory] = summed_variance"
   ]
  },
  {
   "cell_type": "code",
   "execution_count": 16,
   "metadata": {},
   "outputs": [
    {
     "data": {
      "text/plain": [
       "(136, 13, 34)"
      ]
     },
     "execution_count": 16,
     "metadata": {},
     "output_type": "execute_result"
    }
   ],
   "source": [
    "# Brand x territory x months\n",
    "# Row of zeros if empty\n",
    "brands = df_v[\"Brand\"].unique()\n",
    "months = df_v.columns[8:]\n",
    "\n",
    "all_brands_variance = []\n",
    "\n",
    "for brand in brands:\n",
    "    temp = []\n",
    "    for territory in territory_label_cols:\n",
    "        if brand in variance_dict[territory].index:\n",
    "            temp.append(variance_dict[territory].loc[brand].values)\n",
    "        else:\n",
    "            temp.append(np.zeros(len(months)))\n",
    "    all_brands_variance.append(temp)\n",
    "    \n",
    "all_brands_variance = np.array(all_brands_variance)\n",
    "all_brands_variance.shape"
   ]
  },
  {
   "cell_type": "code",
   "execution_count": 17,
   "metadata": {},
   "outputs": [
    {
     "name": "stdout",
     "output_type": "stream",
     "text": [
      "X data shape: (3718, 13)\n",
      "y data shape: (3718, 6)\n"
     ]
    }
   ],
   "source": [
    "# Generates full list of 12 month timeseries windows and corresponding class labels\n",
    "# for every *unique* brand-month pair in commentary spreadsheet\n",
    "\n",
    "labels = []\n",
    "BR_TR_timeseries_windows = []\n",
    "previous_commentary_num = -1\n",
    "brand_month_labels = None\n",
    "\n",
    "for idx, row in df_c.iterrows():\n",
    "    brand_idx = np.where(brands==row[\"Brand_1\"])[0][0]\n",
    "    month_idx = np.where(months==row[\"Month\"])[0][0]\n",
    "    t_idx = np.flatnonzero(row.fillna(0)[territory_label_cols]) # Index of territory_label for this row\n",
    "    \n",
    "    # Due to splitting of commentaries we have repeated brand-month pairs in data\n",
    "    # Keeping track of which commentary so we don't repeat its timeseries\n",
    "    current_commentary_num = row[\"Num\"] \n",
    "    \n",
    "    if current_commentary_num != previous_commentary_num:\n",
    "        # First instance of brand-month pair\n",
    "        labels.append(brand_month_labels)\n",
    "        \n",
    "        brand_month_labels = np.zeros((len(territory_label_cols), len(label_cols)), dtype=int)\n",
    "        brand_month_labels[:, 5] = 1 # Default NoComm\n",
    "        \n",
    "        if t_idx.size > 0:\n",
    "            brand_month_labels[t_idx[0]] = row[label_cols].fillna(0).values\n",
    "        \n",
    "        for i in range(len(territory_label_cols)):\n",
    "\n",
    "            # Appending WINDOW_SIZE length month windows per brand per territory as input\n",
    "            if month_idx - WINDOW_SIZE < 0:\n",
    "                padding = np.zeros(WINDOW_SIZE - month_idx-1) # pad with zeros if less than WINDOW_SIZE\n",
    "                window = np.concatenate((padding, all_brands_variance[brand_idx, i, :month_idx+1]))\n",
    "                \n",
    "            else:\n",
    "                window = all_brands_variance[brand_idx, i, (month_idx-WINDOW_SIZE+1):month_idx+1]\n",
    "            BR_TR_timeseries_windows.append(window)\n",
    "    else:\n",
    "        # Repeated instances of brand-month pair\n",
    "        if t_idx.size > 0:\n",
    "            brand_month_labels[t_idx[0]] = row[label_cols].fillna(0).values\n",
    "    \n",
    "    previous_commentary_num = current_commentary_num\n",
    "    \n",
    "labels.append(brand_month_labels) # Append the final labels\n",
    "BR_TR_timeseries_windows = np.array(BR_TR_timeseries_windows)\n",
    "BR_TR_labels = np.vstack(labels[1:])\n",
    "BR_TR_timeseries_windows /= 1e6 \n",
    "\n",
    "print(\"X data shape:\", BR_TR_timeseries_windows.shape) # 286 brand-month pairs * 13 territories, 12 months\n",
    "print(\"y data shape:\", BR_TR_labels.shape)             # 286 brand-month pairs * 13 territories, 5 labels"
   ]
  },
  {
   "cell_type": "code",
   "execution_count": 18,
   "metadata": {},
   "outputs": [],
   "source": [
    "def plot_brand_month(brand, month):\n",
    "    \n",
    "    brand_month = df_c[(df_c[\"Brand_1\"]==brand) & (df_c[\"Month\"]==month)][\"Num\"]\n",
    "    \n",
    "    if brand_month.empty:\n",
    "        print(\"*No data available*\")\n",
    "        \n",
    "    else:\n",
    "        num = brand_month.iloc[0]\n",
    "        df_c[(df_c[\"Brand_1\"]==brand) & (df_c[\"Month\"]==month)][\"Num\"].iloc[0]\n",
    "    \n",
    "        num_indices = df_c[\"Num\"].unique()\n",
    "        num_idx = np.where(num_indices==num)[0][0]\n",
    "\n",
    "        data = BR_TR_timeseries_windows[num_idx*13:num_idx*13+13]\n",
    "        labels = np.argmax(BR_TR_labels[num_idx*13:num_idx*13+13], axis=1)\n",
    "        commentaries = df_c[df_c[\"Num\"] == num][[\"Brand_1\", \"Month\", \"Commentaries\", \"Territory\", \"Class\"]]\n",
    "        ylim = (np.min(data)-0.1, np.max(data)+0.1)\n",
    "        \n",
    "        \n",
    "        xmonths = pd.date_range(end=pd.to_datetime(month, format='%b_%Y'), \n",
    "                                periods=13, freq='MS').strftime('%b_%y').to_list()\n",
    "        \n",
    "        colour_dict = {0:'r', 1:'g', 2:'m', 3:'c', 4:'grey', 5:'b'}\n",
    "        \n",
    "        gs00 = GridSpec(5, 3, hspace=0.7)\n",
    "\n",
    "        fig = plt.figure(figsize=(30,20))\n",
    "        axs = []\n",
    "\n",
    "        ax = fig.add_subplot(gs00[0,1])\n",
    "        axs.append(ax)\n",
    "        for i in range(1, 5):\n",
    "            for j in range(3):\n",
    "                ax = fig.add_subplot(gs00[i,j])\n",
    "                axs.append(ax)\n",
    "                \n",
    "        for i, ax in enumerate(axs):\n",
    "            ax.hlines(0, -1, WINDOW_SIZE, linewidth=0.5)\n",
    "            ax.plot(data[i], colour_dict[labels[i]], linewidth=3)\n",
    "            ax.set_xlim(-1, WINDOW_SIZE)\n",
    "            ax.set_ylim(ylim)\n",
    "            ax.tick_params(labelsize=16)\n",
    "            ax.set_xticks(np.arange(0, WINDOW_SIZE))\n",
    "            ax.set_xticklabels(xmonths, rotation=45)\n",
    "            ax.set_title(territory_label_cols[i], fontsize=22)\n",
    "        \n",
    "        fig.suptitle(\"Data for ({}, {})\".format(brand, month), fontsize=30, y=0.95)\n",
    "        markers = [plt.Line2D([0,0],[0,0],color=c, marker='o', linestyle='') for c in colour_dict.values()] \n",
    "        fig.legend(markers, label_cols, numpoints=1, markerscale=6, \n",
    "                   prop={'size': 30}, title='Commentary Type', title_fontsize=32)\n",
    "        plt.show()\n",
    "        \n",
    "        with pd.option_context('display.max_colwidth', -1):\n",
    "             display(commentaries)"
   ]
  },
  {
   "cell_type": "code",
   "execution_count": 19,
   "metadata": {},
   "outputs": [],
   "source": [
    "brands = df_c[\"Brand_1\"].unique()\n",
    "months = df_c[\"Month\"].unique()"
   ]
  },
  {
   "cell_type": "code",
   "execution_count": 20,
   "metadata": {},
   "outputs": [],
   "source": [
    "from helper_save_load import save_to_pickle\n",
    "save_to_pickle('external/plot_data.pkl', [df_c, BR_TR_timeseries_windows, BR_TR_labels])\n",
    "save_to_pickle('external/brands_and_months.pkl', [brands, months])"
   ]
  },
  {
   "cell_type": "code",
   "execution_count": 21,
   "metadata": {},
   "outputs": [
    {
     "data": {
      "application/vnd.jupyter.widget-view+json": {
       "model_id": "d74f104bb0634c48953c726cd722985e",
       "version_major": 2,
       "version_minor": 0
      },
      "text/plain": [
       "interactive(children=(Dropdown(description='brand', options=('KJ-DOVE BODY WASH Brand', '18-DOVE BW MENS+CARE …"
      ]
     },
     "metadata": {},
     "output_type": "display_data"
    },
    {
     "data": {
      "text/plain": [
       "<function __main__.plot_brand_month(brand, month)>"
      ]
     },
     "execution_count": 21,
     "metadata": {},
     "output_type": "execute_result"
    }
   ],
   "source": [
    "interact_manual(plot_brand_month, brand=brands, month=months)"
   ]
  },
  {
   "cell_type": "code",
   "execution_count": 22,
   "metadata": {},
   "outputs": [
    {
     "data": {
      "text/plain": [
       "['Promo', 'Phasing', 'SP&D', 'POS', 'Other']"
      ]
     },
     "execution_count": 22,
     "metadata": {},
     "output_type": "execute_result"
    }
   ],
   "source": [
    "df_c.columns[12:17].tolist()"
   ]
  },
  {
   "cell_type": "code",
   "execution_count": null,
   "metadata": {},
   "outputs": [],
   "source": [
    "TR_BR_grouped.loc['M5100 - METRO ONT IC'].index"
   ]
  },
  {
   "cell_type": "code",
   "execution_count": null,
   "metadata": {},
   "outputs": [],
   "source": [
    "TR_BR_grouped.loc['M5101 - METRO QUE IC'].index"
   ]
  },
  {
   "cell_type": "code",
   "execution_count": null,
   "metadata": {},
   "outputs": [],
   "source": []
  },
  {
   "cell_type": "code",
   "execution_count": 25,
   "metadata": {},
   "outputs": [],
   "source": [
    "import re\n",
    "search = []    \n",
    "for comm in df_c['Commentaries']:\n",
    "    \n",
    "    if isinstance(comm, str):\n",
    "        s = re.search('[+-]? *\\$?[0-9\\.]+[MK]', comm)\n",
    "        if s is not None:\n",
    "            search.append(s.group())\n",
    "        else:\n",
    "            search.append('')\n",
    "    else:\n",
    "        search.append('')\n",
    "\n",
    "# df['col1'] = search"
   ]
  },
  {
   "cell_type": "code",
   "execution_count": 26,
   "metadata": {},
   "outputs": [],
   "source": [
    "search = [s.replace('$', '').replace(' ', '') for s in search]\n",
    "\n",
    "comm_variances = []\n",
    "\n",
    "for s in search:\n",
    "\n",
    "    if s == '':\n",
    "        comm_variances.append(np.nan)\n",
    "    elif 'K' in s:\n",
    "        comm_variances.append(float(s[:-1])/1000)\n",
    "    elif 'M' in s:\n",
    "        comm_variances.append(float(s[:-1]))"
   ]
  },
  {
   "cell_type": "code",
   "execution_count": 27,
   "metadata": {},
   "outputs": [],
   "source": [
    "df_c['CommVar'] = comm_variances"
   ]
  },
  {
   "cell_type": "code",
   "execution_count": 28,
   "metadata": {},
   "outputs": [],
   "source": [
    "data_idx = []\n",
    "for i, row in df_c[['Num', 'Territory']].iterrows():\n",
    "    t = row['Territory']\n",
    "    if t is not None:\n",
    "        data_idx.append((row['Num'], territory_label_cols.index(t)))\n",
    "    else:\n",
    "        data_idx.append(None)\n",
    "\n",
    "terr_vars = []        \n",
    "num_indices = df_c[\"Num\"].unique()      \n",
    "for x in data_idx:\n",
    "    if x is None:\n",
    "        terr_vars.append(np.nan)\n",
    "    else:\n",
    "        (num, t_idx) = x\n",
    "#         print(num)\n",
    "        num_idx = np.where(num_indices==num)[0][0] \n",
    "        terr_vars.append(BR_TR_timeseries_windows[num_idx*13 + t_idx, -1])\n",
    "    "
   ]
  },
  {
   "cell_type": "code",
   "execution_count": 29,
   "metadata": {},
   "outputs": [],
   "source": [
    "df_c['TerrVar'] = terr_vars\n",
    "df_c['VarAbsDiff'] = abs(df_c['CommVar'] - df_c['TerrVar'])"
   ]
  },
  {
   "cell_type": "code",
   "execution_count": 30,
   "metadata": {},
   "outputs": [],
   "source": [
    "df2 = df_c[df_c['VarAbsDiff'] > 0.5][['Month', 'Brand_1','Commentaries', 'TerrVar', 'CommVar', 'VarAbsDiff', 'Territory']]"
   ]
  },
  {
   "cell_type": "code",
   "execution_count": 31,
   "metadata": {},
   "outputs": [
    {
     "data": {
      "text/plain": [
       "0.056818181818181816"
      ]
     },
     "execution_count": 31,
     "metadata": {},
     "output_type": "execute_result"
    }
   ],
   "source": [
    "len(df2)/len(df_c)"
   ]
  },
  {
   "cell_type": "code",
   "execution_count": null,
   "metadata": {},
   "outputs": [],
   "source": [
    "df_c[['Month','Brand_1','Commentaries', 'CommVar', 'TerrVar', 'Territory']].tail(50)"
   ]
  },
  {
   "cell_type": "code",
   "execution_count": null,
   "metadata": {},
   "outputs": [],
   "source": [
    "df2"
   ]
  },
  {
   "cell_type": "code",
   "execution_count": 164,
   "metadata": {},
   "outputs": [],
   "source": [
    "df2.to_csv('var_difference.csv', sep='\\t', encoding='utf-8')"
   ]
  }
 ],
 "metadata": {
  "kernelspec": {
   "display_name": "Python 3",
   "language": "python",
   "name": "python3"
  },
  "language_info": {
   "codemirror_mode": {
    "name": "ipython",
    "version": 3
   },
   "file_extension": ".py",
   "mimetype": "text/x-python",
   "name": "python",
   "nbconvert_exporter": "python",
   "pygments_lexer": "ipython3",
   "version": "3.6.6"
  }
 },
 "nbformat": 4,
 "nbformat_minor": 2
}
