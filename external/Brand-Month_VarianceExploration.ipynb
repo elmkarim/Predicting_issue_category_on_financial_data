{
 "cells": [
  {
   "cell_type": "code",
   "execution_count": 1,
   "metadata": {},
   "outputs": [
    {
     "data": {
      "application/vnd.jupyter.widget-view+json": {
       "model_id": "9c4ed2b7dc484078bcfc300af78998d8",
       "version_major": 2,
       "version_minor": 0
      },
      "text/plain": [
       "interactive(children=(Dropdown(description='brand', options=('KJ-DOVE BODY WASH Brand', '18-DOVE BW MENS+CARE …"
      ]
     },
     "metadata": {},
     "output_type": "display_data"
    },
    {
     "data": {
      "text/plain": [
       "<function brand_month_plot.plot_brand_month(brand, month)>"
      ]
     },
     "execution_count": 1,
     "metadata": {},
     "output_type": "execute_result"
    }
   ],
   "source": [
    "from brand_month_plot import plot_brand_month\n",
    "from ipywidgets import interact_manual\n",
    "from helper_save_load import load_from_pickle\n",
    "\n",
    "brands, months = load_from_pickle('brands_and_months.pkl')\n",
    "\n",
    "interact_manual(plot_brand_month, brand=brands, month=months)"
   ]
  },
  {
   "cell_type": "code",
   "execution_count": null,
   "metadata": {},
   "outputs": [],
   "source": []
  }
 ],
 "metadata": {
  "kernelspec": {
   "display_name": "Python 3",
   "language": "python",
   "name": "python3"
  },
  "language_info": {
   "codemirror_mode": {
    "name": "ipython",
    "version": 3
   },
   "file_extension": ".py",
   "mimetype": "text/x-python",
   "name": "python",
   "nbconvert_exporter": "python",
   "pygments_lexer": "ipython3",
   "version": "3.6.7"
  }
 },
 "nbformat": 4,
 "nbformat_minor": 2
}
