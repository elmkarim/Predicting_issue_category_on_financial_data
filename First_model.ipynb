{
 "cells": [
  {
   "cell_type": "code",
   "execution_count": null,
   "metadata": {},
   "outputs": [],
   "source": []
  },
  {
   "cell_type": "code",
   "execution_count": null,
   "metadata": {},
   "outputs": [],
   "source": [
    "import numpy as np\n",
    "import pandas as pd\n",
    "import matplotlib.pyplot as plt\n",
    "\n",
    "%matplotlib inline"
   ]
  },
  {
   "cell_type": "code",
   "execution_count": 2,
   "metadata": {},
   "outputs": [
    {
     "name": "stderr",
     "output_type": "stream",
     "text": [
      "Using TensorFlow backend.\n"
     ]
    }
   ],
   "source": [
    "from keras.utils import to_categorical\n",
    "from keras.models import Model\n",
    "from keras.models import Sequential\n",
    "from keras.layers import LSTM, Dense, Embedding, Input, Dropout\n",
    "from keras.callbacks import EarlyStopping\n",
    "\n",
    "from keras.layers import concatenate"
   ]
  },
  {
   "cell_type": "code",
   "execution_count": 345,
   "metadata": {},
   "outputs": [],
   "source": [
    "from sklearn.metrics import f1_score, confusion_matrix, recall_score, precision_score, make_scorer\n",
    "from sklearn.model_selection import KFold, cross_validate\n",
    "\n",
    "\n",
    "from imblearn.over_sampling import RandomOverSampler\n",
    "from imblearn.pipeline import Pipeline\n"
   ]
  },
  {
   "cell_type": "markdown",
   "metadata": {},
   "source": [
    "## Parameters"
   ]
  },
  {
   "cell_type": "code",
   "execution_count": 433,
   "metadata": {},
   "outputs": [],
   "source": [
    "PREFILTER = True\n",
    "PREFILTER_THRESHOLD = 0.2 # Data excluded if Brand variance greather than 0.2M or less than -0.2M\n",
    "\n",
    "WINDOW_SIZE = 13 # Timeseries window size in months\n",
    "\n",
    "MULTILABEL = False\n",
    "\n",
    "UNDERSAMPLE = True\n",
    "UNDERSAMPLE_RATIO = 0.6 #  Amount of data with no comment =  Amount of data with comment / UNDERSAMPLE_RATIO\n",
    "EXTRA_TEST_DATA = 100 # Amount of data thrown out when undersampling to include in the test set\n",
    "\n",
    "OVERSAMPLE = True\n",
    "\n",
    "AUGMENT_DATA = True\n",
    "\n",
    "DATA = [\"Variance\"] # \"Variance\", \"All\", \n",
    "MODEL = \"LSTM\"    # \n"
   ]
  },
  {
   "cell_type": "markdown",
   "metadata": {},
   "source": [
    "## Loading Data"
   ]
  },
  {
   "cell_type": "markdown",
   "metadata": {},
   "source": [
    "commentaries_to_pickle.py to save commentary spreedsheet to pickle"
   ]
  },
  {
   "cell_type": "code",
   "execution_count": 423,
   "metadata": {},
   "outputs": [],
   "source": [
    "from helper_save_load import load_from_pickle\n",
    "\n",
    "df_c = load_from_pickle(\"data/Labeled_comments2.pkl\")\n",
    "#df_c.drop(columns=['Safeway'], inplace=True) # If Labeled_comments.pkl"
   ]
  },
  {
   "cell_type": "code",
   "execution_count": 424,
   "metadata": {},
   "outputs": [],
   "source": [
    "# These brands are in df_c but do not appear in the variance dataframe df_v\n",
    "ignored_brands = [\"IGNORE\",\n",
    "\"57-CAMAY BAR SOAP Brand\",\n",
    "\"71-LBP SH/CD Roll-up Brand\",\n",
    "\"72-LBP SHOWER Roll-up Brand\"]\n",
    "\n",
    "df_c = df_c[~df_c[\"Brand_1\"].isin(ignored_brands)]"
   ]
  },
  {
   "cell_type": "code",
   "execution_count": 425,
   "metadata": {},
   "outputs": [],
   "source": [
    "df_c.insert(16, \"NoComm\", df_c[\"Commentaries\"].isnull())\n",
    "df_c.insert(16, \"Other\", (df_c[['Promo', 'Phasing', 'SP&D', 'POS']].sum(axis=1) == 0) & ~df_c['NoComm'])\n",
    "df_c[\"Month\"] = pd.to_datetime(df_c[\"Month\"]).dt.strftime(\"%b_%Y\")"
   ]
  },
  {
   "cell_type": "code",
   "execution_count": 426,
   "metadata": {},
   "outputs": [],
   "source": [
    "label_cols = ['Promo', 'Phasing', 'SP&D', 'POS', 'Other', 'NoComm']\n",
    "\n",
    "territory_label_cols = df_c.columns[18:31].to_list()\n",
    "territory_labels = df_c[territory_label_cols]"
   ]
  },
  {
   "cell_type": "code",
   "execution_count": 427,
   "metadata": {},
   "outputs": [],
   "source": [
    "df_a, df_f, df_v = load_from_pickle(\"data/dataframes_Dollars.pickle\")\n",
    "del df_a, df_f"
   ]
  },
  {
   "cell_type": "code",
   "execution_count": 428,
   "metadata": {},
   "outputs": [],
   "source": [
    "territories = [territory for territory, values in df_v.groupby(['Territory']).groups.items()]"
   ]
  },
  {
   "cell_type": "markdown",
   "metadata": {},
   "source": [
    "## Pre-Filtering Data\n",
    "Including data if variance is greater than the 0.2M threshold"
   ]
  },
  {
   "cell_type": "code",
   "execution_count": 429,
   "metadata": {},
   "outputs": [
    {
     "data": {
      "text/plain": [
       "0.7415946205571565"
      ]
     },
     "execution_count": 429,
     "metadata": {},
     "output_type": "execute_result"
    }
   ],
   "source": [
    "test = df_c[(~df_c[\"Num\"].duplicated())]\n",
    "len(test[test[\"NoComm\"] == 1]) / len(test) # Fraction of number of brand-month pairs with no commentaries"
   ]
  },
  {
   "cell_type": "code",
   "execution_count": 430,
   "metadata": {},
   "outputs": [],
   "source": [
    "if PREFILTER:\n",
    "    df_c = df_c[(df_c[\"Variance\"] >= PREFILTER_THRESHOLD) | (df_c[\"Variance\"] <= -PREFILTER_THRESHOLD)]"
   ]
  },
  {
   "cell_type": "code",
   "execution_count": 431,
   "metadata": {},
   "outputs": [
    {
     "data": {
      "text/plain": [
       "0.12237762237762238"
      ]
     },
     "execution_count": 431,
     "metadata": {},
     "output_type": "execute_result"
    }
   ],
   "source": [
    "test = df_c[(~df_c[\"Num\"].duplicated())]\n",
    "len(test[test[\"NoComm\"] == 1]) / len(test) #Fraction of number of brand-month pairs with no commentaries after filtering"
   ]
  },
  {
   "cell_type": "markdown",
   "metadata": {},
   "source": [
    "## Removing multiclass labels"
   ]
  },
  {
   "cell_type": "markdown",
   "metadata": {},
   "source": [
    "Rows with multiple positive class labels are changed to a single label according to the importance of the class"
   ]
  },
  {
   "cell_type": "code",
   "execution_count": 434,
   "metadata": {},
   "outputs": [
    {
     "name": "stdout",
     "output_type": "stream",
     "text": [
      "Number of multiclass labels before: 38\n",
      "Number of multiclass labels after: 0\n"
     ]
    }
   ],
   "source": [
    "if not MULTILABEL:\n",
    "    CLASS_PRIORITY = [\"Promo\", \"SP&D\", \"Phasing\", \"POS\"] # Most important class to predict to least\n",
    "\n",
    "    print('Number of multiclass labels before:', sum(df_c[label_cols].sum(axis=1) > 1))\n",
    "\n",
    "    for idx, row in df_c[df_c[label_cols[:4]].sum(axis=1) > 1][label_cols[:4]].iterrows():\n",
    "        positive_label_idx = min([CLASS_PRIORITY.index(c) for c in row[row > 0].index])\n",
    "        negative_labels = CLASS_PRIORITY[:]\n",
    "        negative_labels.pop(positive_label_idx) # List of columns to set to zero\n",
    "        df_c.loc[idx, negative_labels] = 0\n",
    "\n",
    "    print('Number of multiclass labels after:', sum(df_c[label_cols].sum(axis=1) > 1))"
   ]
  },
  {
   "cell_type": "markdown",
   "metadata": {},
   "source": [
    "## Reshaping Data"
   ]
  },
  {
   "cell_type": "code",
   "execution_count": 435,
   "metadata": {},
   "outputs": [],
   "source": [
    "TR_BR_grouped = df_v.groupby([\"Territory\", \"Brand\"]).sum()"
   ]
  },
  {
   "cell_type": "code",
   "execution_count": 436,
   "metadata": {},
   "outputs": [],
   "source": [
    "# Relevant Territories Dictionary\n",
    "# Also Grouping LCL, Sobeys, Metro, OOH\n",
    "# METRO ONT/QUE FDS AND HPC? (23)\n",
    "# Liquidation?\n",
    "\n",
    "# territory_dict = {\"WM\":[27], \"Sobeys\":[11, 12, 13, 14], \"Sobeys W\":[14], \"SobeysQ\":[12],\n",
    "#                   \"Metro\":[8, 9, 10], \"Metro ON\":[8, 10], \"Metro Q\":[9, 10], \"SDM\":[4], \n",
    "#                   \"LCL\":[1, 2, 3], \"Costco\":[28], \"MCK\":[5], \"PJC\":[6], \"OOH\":[22, 23, 24, 25]}\n",
    "\n",
    "territory_dict = {\"WM\":[\"M7400 - WALMART\"], \n",
    "                  \"Sobeys\":[\"M5200 - SOBEYS ONT\", \"M5201 - SOBEYS QUE\", \"M5202 - SOBEYS ATL\", \"M5203 - SOBEYS WEST/SAFEWAY/THRIFTY\"],\n",
    "                  \"Sobeys W\":[\"M5203 - SOBEYS WEST/SAFEWAY/THRIFTY\"],\n",
    "                  \"SobeysQ\":[\"M5201 - SOBEYS QUE\"],\n",
    "                  \"Metro\":[\"M5100 - METRO ONT IC\", \"M5101 - METRO QUE IC\", \"M5102 - METRO ONT/QUE FDS AND HPC\"],\n",
    "                  \"Metro ON\":[\"M5100 - METRO ONT IC\"],\n",
    "                  \"Metro Q\":[\"M5101 - METRO QUE IC\"],\n",
    "                  \"SDM\":[\"M4400 - SHOPPERS D.M.\"], \n",
    "                  \"LCL\":[\"M4000 - LCL HPC\", \"M4001 - LCL FDS exclude IC\", \"M4002 - LCL IC\"],\n",
    "                  \"Costco\":[\"M7500 - CANADA COSTCO\"],\n",
    "                  \"MCK\":[\"M5000 - MCKESSON\"], \n",
    "                  \"PJC\":[\"M5001 - JEAN COUTU\"], \n",
    "                  \"OOH\":[\"M7300 - QUE OOH\", \"M7301 - ONT OOH\", \"M7303 - NATIONAL OOH MDs\", \"M7304 - ATLANTIC RETAIL AND OOH\"]}\n"
   ]
  },
  {
   "cell_type": "markdown",
   "metadata": {},
   "source": [
    "Summing variances for all associated subterritories for each labeled territory and placing them in a dictionary"
   ]
  },
  {
   "cell_type": "code",
   "execution_count": null,
   "metadata": {},
   "outputs": [],
   "source": [
    "variance_dict = {}\n",
    "for territory, subterritories in territory_dict.items():\n",
    "    summed_variance = pd.DataFrame()\n",
    "    for subterritory in subterritories:\n",
    "        summed_variance = summed_variance.add(TR_BR_grouped.loc[subterritory], fill_value=0)\n",
    "        \n",
    "    variance_dict[territory] = summed_variance"
   ]
  },
  {
   "cell_type": "code",
   "execution_count": null,
   "metadata": {},
   "outputs": [],
   "source": [
    "for t, v in variance_dict.items():\n",
    "    print(t, v.shape)"
   ]
  },
  {
   "cell_type": "code",
   "execution_count": null,
   "metadata": {},
   "outputs": [],
   "source": [
    "territory_label_cols \n",
    "# +1 for no territory associated (14 total) But what variance data to use for the final label?"
   ]
  },
  {
   "cell_type": "markdown",
   "metadata": {},
   "source": [
    "Variance time series (all months) for labeled territories. Zeros if no data for brand-territory."
   ]
  },
  {
   "cell_type": "code",
   "execution_count": 440,
   "metadata": {},
   "outputs": [
    {
     "data": {
      "text/plain": [
       "(136, 13, 34)"
      ]
     },
     "execution_count": 440,
     "metadata": {},
     "output_type": "execute_result"
    }
   ],
   "source": [
    "# Brand x territory x months\n",
    "# Row of zeros if empty\n",
    "brands = df_v[\"Brand\"].unique()\n",
    "months = df_v.columns[8:]\n",
    "\n",
    "all_brands_variance = []\n",
    "\n",
    "for brand in brands:\n",
    "    temp = []\n",
    "    for territory in territory_label_cols:\n",
    "        if brand in variance_dict[territory].index:\n",
    "            temp.append(variance_dict[territory].loc[brand].values)\n",
    "        else:\n",
    "            temp.append(np.zeros(len(months)))\n",
    "    all_brands_variance.append(temp)\n",
    "    \n",
    "all_brands_variance = np.array(all_brands_variance)\n",
    "all_brands_variance.shape"
   ]
  },
  {
   "cell_type": "markdown",
   "metadata": {},
   "source": [
    "For each unique brand-month pair (known to be unique by the \"Num\" column) we take a 12 month window of data for each labeled territory. Thus the output should have #unique brand-month pairs * 13 territories rows.\n",
    "\n",
    "The labels are generated as well. The default label for when a territory is not involved is [0, 0, 0, 0, 0]"
   ]
  },
  {
   "cell_type": "code",
   "execution_count": 441,
   "metadata": {},
   "outputs": [
    {
     "name": "stdout",
     "output_type": "stream",
     "text": [
      "X data shape: (3718, 13)\n",
      "y data shape: (3718, 6)\n"
     ]
    }
   ],
   "source": [
    "# Generates full list of 12 month timeseries windows and corresponding class labels\n",
    "# for every *unique* brand-month pair in commentary spreadsheet\n",
    "\n",
    "labels = []\n",
    "BR_TR_timeseries_windows = []\n",
    "previous_commentary_num = -1\n",
    "brand_month_labels = None\n",
    "\n",
    "for idx, row in df_c.iterrows():\n",
    "    brand_idx = np.where(brands==row[\"Brand_1\"])[0][0]\n",
    "    month_idx = np.where(months==row[\"Month\"])[0][0]\n",
    "    t_idx = np.flatnonzero(row.fillna(0)[territory_label_cols]) # Index of territory_label for this row\n",
    "    \n",
    "    # Due to splitting of commentaries we have repeated brand-month pairs in data\n",
    "    # Keeping track of which commentary so we don't repeat its timeseries\n",
    "    current_commentary_num = row[\"Num\"] \n",
    "    \n",
    "    if current_commentary_num != previous_commentary_num:\n",
    "        # First instance of brand-month pair\n",
    "        labels.append(brand_month_labels)\n",
    "        \n",
    "        brand_month_labels = np.zeros((len(territory_label_cols), len(label_cols)), dtype=int)\n",
    "        brand_month_labels[:, 5] = 1 # Default NoComm\n",
    "        \n",
    "        if t_idx.size > 0:\n",
    "            brand_month_labels[t_idx[0]] = row[label_cols].fillna(0).values\n",
    "        \n",
    "        for i in range(len(territory_label_cols)):\n",
    "\n",
    "            # Appending 12 month windows per brand per territory as input\n",
    "            if month_idx - WINDOW_SIZE < 0:\n",
    "                padding = np.zeros(WINDOW_SIZE - month_idx - 1) # pad with zeros if less than 12\n",
    "                window = np.concatenate((padding, all_brands_variance[brand_idx, i, :month_idx+1]))\n",
    "            else:\n",
    "                window = all_brands_variance[brand_idx, i, (month_idx-WINDOW_SIZE+1):month_idx+1]\n",
    "            BR_TR_timeseries_windows.append(window)\n",
    "    else:\n",
    "        # Repeated instances of brand-month pair\n",
    "        if t_idx.size > 0:\n",
    "            brand_month_labels[t_idx[0]] = row[label_cols].fillna(0).values\n",
    "\n",
    "    previous_commentary_num = current_commentary_num\n",
    "    \n",
    "labels.append(brand_month_labels) # Append the final labels\n",
    "BR_TR_timeseries_windows = np.array(BR_TR_timeseries_windows)\n",
    "BR_TR_labels = np.vstack(labels[1:])\n",
    "BR_TR_timeseries_windows /= 1e6 \n",
    "\n",
    "print(\"X data shape:\", BR_TR_timeseries_windows.shape) # 286 brand-month pairs * 13 territories, 12 months\n",
    "print(\"y data shape:\", BR_TR_labels.shape)             # 286 brand-month pairs * 13 territories, 5 labels"
   ]
  },
  {
   "cell_type": "code",
   "execution_count": 442,
   "metadata": {},
   "outputs": [
    {
     "data": {
      "text/plain": [
       "286"
      ]
     },
     "execution_count": 442,
     "metadata": {},
     "output_type": "execute_result"
    }
   ],
   "source": [
    "df_c.Num.nunique() # Number of unique brand-month pairs i.e. number of unsplit commentaries "
   ]
  },
  {
   "cell_type": "code",
   "execution_count": 443,
   "metadata": {},
   "outputs": [
    {
     "data": {
      "text/plain": [
       "array([ 131,   81,    9,   86,   28, 3383])"
      ]
     },
     "execution_count": 443,
     "metadata": {},
     "output_type": "execute_result"
    }
   ],
   "source": [
    "sum(BR_TR_labels) # Class memberships (Promo, Phasing, SP&D, POS, Other, NoComm)"
   ]
  },
  {
   "cell_type": "markdown",
   "metadata": {},
   "source": [
    "## Undersampling"
   ]
  },
  {
   "cell_type": "code",
   "execution_count": 24,
   "metadata": {},
   "outputs": [],
   "source": [
    "x = np.where((BR_TR_timeseries_windows.sum(axis=1)==0) & (BR_TR_labels[:, 5]==0)x)[0]"
   ]
  },
  {
   "cell_type": "code",
   "execution_count": 25,
   "metadata": {},
   "outputs": [],
   "source": [
    "nums = [df_c.Num.unique()[i//13] for i in x]"
   ]
  },
  {
   "cell_type": "code",
   "execution_count": null,
   "metadata": {},
   "outputs": [],
   "source": [
    "# 0 variance data but still have a comment label\n",
    "# Issue comes from Sobeys/Metro groupings\n",
    "df_c[df_c.Num.isin(nums)][[\"Num\"] + territory_label_cols]"
   ]
  },
  {
   "cell_type": "code",
   "execution_count": 454,
   "metadata": {},
   "outputs": [
    {
     "name": "stdout",
     "output_type": "stream",
     "text": [
      "Length of data: 3718\n",
      "No Comment: 3383\n",
      "With Comment: 335\n"
     ]
    }
   ],
   "source": [
    "if UNDERSAMPLE:\n",
    "    \n",
    "    print(\"Length of data:\",len(BR_TR_timeseries_windows))\n",
    "    print(\"No Comment:\", sum(BR_TR_labels[:, 5] == 1))\n",
    "    print(\"With Comment:\", sum(BR_TR_labels[:, 5] == 0))\n",
    "    \n",
    "    nonzero_data = np.where(BR_TR_timeseries_windows.sum(axis=1) != 0)\n",
    "    X = BR_TR_timeseries_windows[nonzero_data]\n",
    "    y = BR_TR_labels[nonzero_data]\n",
    "    \n",
    "    no_comment_idx = np.where(y[:, 5] == 1)[0]\n",
    "    with_comment_idx = np.where(y[:, 5] == 0)[0]\n",
    "\n",
    "    no_comment_count = sum(y[:, 5] == 1)   \n",
    "    with_comment_count = sum(y[:, 5] == 0)\n",
    "    \n",
    "    np.random.shuffle(no_comment_idx)\n",
    "    undersample_no_comment_idx = no_comment_idx[:int(with_comment_count/UNDERSAMPLE_RATIO)]\n",
    "    excluded_data_idx = no_comment_idx[int(with_comment_count/UNDERSAMPLE_RATIO):]\n",
    "    \n",
    "    \n",
    "    undersample_idx = np.concatenate((undersample_no_comment_idx, with_comment_idx))\n",
    "    undersample_idx.sort(kind='mergesort') # Preserving order of data\n",
    "    \n",
    "    excluded_data = X[excluded_data_idx]\n",
    "    excluded_labels = y[excluded_data_idx]\n",
    "    \n",
    "    X = X[undersample_idx]\n",
    "    y = y[undersample_idx]"
   ]
  },
  {
   "cell_type": "code",
   "execution_count": 445,
   "metadata": {},
   "outputs": [
    {
     "name": "stdout",
     "output_type": "stream",
     "text": [
      "Length of data: 856\n",
      "No Comment: 535\n",
      "With Comment: 321\n"
     ]
    }
   ],
   "source": [
    "print(\"Length of data:\", len(X))\n",
    "print(\"No Comment:\", sum(y[:, 5] == 1))\n",
    "print(\"With Comment:\", sum(y[:, 5] == 0))"
   ]
  },
  {
   "cell_type": "code",
   "execution_count": 446,
   "metadata": {},
   "outputs": [
    {
     "data": {
      "text/plain": [
       "(1075, 0)"
      ]
     },
     "execution_count": 446,
     "metadata": {},
     "output_type": "execute_result"
    }
   ],
   "source": [
    "# Time series with zero data Before and after\n",
    "sum(BR_TR_timeseries_windows.sum(axis=1)==0), sum(X.sum(axis=1) == 0) "
   ]
  },
  {
   "cell_type": "markdown",
   "metadata": {},
   "source": [
    "## Making a test set"
   ]
  },
  {
   "cell_type": "code",
   "execution_count": 463,
   "metadata": {},
   "outputs": [],
   "source": [
    "from sklearn.model_selection import train_test_split\n",
    "\n",
    "X_train, X_test, y_train, y_test = train_test_split(X, y, test_size=0.2)\n",
    "\n",
    "# Add data to test set that was thrown out when undersampling\n",
    "if UNDERSAMPLE:\n",
    "    X_test = np.concatenate((X_test, excluded_data[:EXTRA_TEST_DATA]))\n",
    "    y_test = np.concatenate((y_test, excluded_labels[:EXTRA_TEST_DATA]))"
   ]
  },
  {
   "cell_type": "markdown",
   "metadata": {},
   "source": [
    "## Oversampling small classes"
   ]
  },
  {
   "cell_type": "code",
   "execution_count": 464,
   "metadata": {
    "scrolled": true
   },
   "outputs": [
    {
     "name": "stdout",
     "output_type": "stream",
     "text": [
      "Class memberships before: [ 96  58   6  66  18 440]\n",
      "Class memberships after: [440 440 440 440 440 440]\n"
     ]
    }
   ],
   "source": [
    "# Naive oversampling\n",
    "if OVERSAMPLE:\n",
    "    print(\"Class memberships before:\", sum(y_train))\n",
    "#     ros = RandomOverSampler(ratio={0:300, 1:300, 2:100, 3:300, 4:50, 5:sum(y_train[:, 5])})\n",
    "    ros = RandomOverSampler()\n",
    "    X_resampled, y_resampled = ros.fit_resample(X_train, y_train)\n",
    "    print(\"Class memberships after:\", sum(y_resampled))"
   ]
  },
  {
   "cell_type": "markdown",
   "metadata": {},
   "source": [
    "## Augmenting data with noise"
   ]
  },
  {
   "cell_type": "code",
   "execution_count": 54,
   "metadata": {},
   "outputs": [],
   "source": [
    "# Adding noise to variance data to generate more samples to learn from"
   ]
  },
  {
   "cell_type": "markdown",
   "metadata": {},
   "source": [
    "## Plotting model"
   ]
  },
  {
   "cell_type": "code",
   "execution_count": 32,
   "metadata": {},
   "outputs": [],
   "source": [
    "import matplotlib.pyplot as plt\n",
    "\n",
    "%matplotlib inline\n",
    "\n",
    "def plot_model(history):\n",
    "    plt.plot(history.history['loss'])\n",
    "    plt.plot(history.history['val_loss'])\n",
    "    plt.ylabel('loss')\n",
    "    plt.xlabel('epoch')\n",
    "    plt.title('model loss')\n",
    "    plt.legend(['train', 'validation'], loc='upper right')\n",
    "    plt.show()\n",
    "\n",
    "    plt.plot(history.history['acc'])\n",
    "    plt.plot(history.history['val_acc'])\n",
    "    plt.ylabel('accuracy')\n",
    "    plt.xlabel('epoch')\n",
    "    plt.title('model accuracy')\n",
    "    plt.legend(['train', 'validation'], loc='upper left')\n",
    "    plt.show()"
   ]
  },
  {
   "cell_type": "markdown",
   "metadata": {},
   "source": [
    "## Random Forest"
   ]
  },
  {
   "cell_type": "code",
   "execution_count": 447,
   "metadata": {},
   "outputs": [],
   "source": [
    "from sklearn.ensemble import RandomForestClassifier\n",
    "from sklearn.metrics import confusion_matrix\n",
    "from sklearn.metrics import roc_curve, auc"
   ]
  },
  {
   "cell_type": "code",
   "execution_count": 465,
   "metadata": {},
   "outputs": [],
   "source": [
    "ros = RandomOverSampler()\n",
    "X_binary, y_binary = ros.fit_resample(X_train, 1 -  y_train[:, 5])"
   ]
  },
  {
   "cell_type": "code",
   "execution_count": 466,
   "metadata": {},
   "outputs": [],
   "source": [
    "pre = []\n",
    "rec = []\n",
    "fs = []\n",
    "gms = []\n",
    "wa = []\n",
    "\n",
    "for _ in range(100):\n",
    "    rf = RandomForestClassifier(200)\n",
    "    rf.fit(X_binary, y_binary) # 1 if comment, 0 if no comment\n",
    "    \n",
    "    predictions = rf.predict(X_test)\n",
    "    pre.append(precision_score(1 - y_test[:, 5], predictions))\n",
    "    rec.append(recall_score(1 - y_test[:, 5], predictions))\n",
    "    fs.append(f1_score(1 - y_test[:, 5], predictions))\n",
    "    gms.append(geometric_mean_score(1 - y_test[:, 5], predictions, average='binary'))\n",
    "    wa.append(balanced_accuracy_score(1 - y_test[:, 5], predictions))"
   ]
  },
  {
   "cell_type": "code",
   "execution_count": 467,
   "metadata": {},
   "outputs": [
    {
     "name": "stdout",
     "output_type": "stream",
     "text": [
      "0.524794521400435 0.5745454545454546 0.5482794631947523 0.6753242162822803 0.6844522144522144\n"
     ]
    }
   ],
   "source": [
    "print(np.mean(pre), np.mean(rec), np.mean(fs), np.mean(gms), np.mean(wa))"
   ]
  },
  {
   "cell_type": "code",
   "execution_count": 243,
   "metadata": {},
   "outputs": [],
   "source": [
    "predictions = rf.predict(X_test)"
   ]
  },
  {
   "cell_type": "code",
   "execution_count": 244,
   "metadata": {},
   "outputs": [
    {
     "data": {
      "text/plain": [
       "100"
      ]
     },
     "execution_count": 244,
     "metadata": {},
     "output_type": "execute_result"
    }
   ],
   "source": [
    "sum(predictions)"
   ]
  },
  {
   "cell_type": "code",
   "execution_count": 245,
   "metadata": {},
   "outputs": [
    {
     "data": {
      "text/plain": [
       "70"
      ]
     },
     "execution_count": 245,
     "metadata": {},
     "output_type": "execute_result"
    }
   ],
   "source": [
    "sum(1 - y_test[:,5])"
   ]
  },
  {
   "cell_type": "code",
   "execution_count": 246,
   "metadata": {
    "scrolled": true
   },
   "outputs": [
    {
     "data": {
      "text/plain": [
       "array([[142,  58],\n",
       "       [ 28,  42]])"
      ]
     },
     "execution_count": 246,
     "metadata": {},
     "output_type": "execute_result"
    }
   ],
   "source": [
    "conf_matrix = confusion_matrix(1 - y_test[:,5], predictions)\n",
    "conf_matrix"
   ]
  },
  {
   "cell_type": "code",
   "execution_count": 247,
   "metadata": {},
   "outputs": [],
   "source": [
    "tn, fp, fn, tp = conf_matrix.ravel()"
   ]
  },
  {
   "cell_type": "code",
   "execution_count": 248,
   "metadata": {},
   "outputs": [
    {
     "data": {
      "image/png": "[encoded data removed]",
      "text/plain": [
       "<Figure size 432x288 with 1 Axes>"
      ]
     },
     "metadata": {
      "needs_background": "light"
     },
     "output_type": "display_data"
    }
   ],
   "source": [
    "score = rf.predict_proba(X_test)[:, 1]\n",
    "\n",
    "fpr, tpr, _ = roc_curve(1 - y_test[:, 5], score, pos_label=1)\n",
    "roc_auc = auc(fpr, tpr)\n",
    "\n",
    "plt.figure()\n",
    "lw = 2\n",
    "plt.plot(fpr, tpr, color='darkorange',\n",
    "         lw=lw, label='ROC curve (area = %0.2f)' % roc_auc)\n",
    "plt.plot([0, 1], [0, 1], color='navy', lw=lw, linestyle='--')\n",
    "plt.xlim([0.0, 1.0])\n",
    "plt.ylim([0.0, 1.05])\n",
    "plt.xlabel('False Positive Rate')\n",
    "plt.ylabel('True Positive Rate')\n",
    "plt.title('ROC curve')\n",
    "plt.legend(loc=\"lower right\")\n",
    "plt.show()"
   ]
  },
  {
   "cell_type": "code",
   "execution_count": 249,
   "metadata": {},
   "outputs": [
    {
     "name": "stdout",
     "output_type": "stream",
     "text": [
      "Weighted Accuracy 0.655\n",
      "Geometric mean of recall and specificity: 0.6526867548832288 \n",
      "\n",
      "                   pre       rec       spe        f1       geo       iba       sup\n",
      "\n",
      "          0       0.84      0.71      0.60      0.77      0.65      0.43       200\n",
      "          1       0.42      0.60      0.71      0.49      0.65      0.42        70\n",
      "\n",
      "avg / total       0.73      0.68      0.63      0.70      0.65      0.43       270\n",
      "\n"
     ]
    }
   ],
   "source": [
    "print('Weighted Accuracy', balanced_accuracy_score(1 - y_test[:, 5], predictions))\n",
    "print('Geometric mean of recall and specificity:', geometric_mean_score(1 - y_test[:,5], predictions), '\\n')\n",
    "print(classification_report_imbalanced(1 - y_test[:,5], predictions))"
   ]
  },
  {
   "cell_type": "code",
   "execution_count": 250,
   "metadata": {},
   "outputs": [
    {
     "name": "stdout",
     "output_type": "stream",
     "text": [
      "0.6\n",
      "0.42\n",
      "0.49411764705882355\n",
      "0.6814814814814815\n"
     ]
    }
   ],
   "source": [
    "print(recall_score(1-y_test[:, 5], predictions))\n",
    "print(precision_score(1-y_test[:, 5], predictions))\n",
    "print(f1_score(1-y_test[:, 5], predictions))\n",
    "print(accuracy_score(1-y_test[:, 5],predictions))"
   ]
  },
  {
   "cell_type": "markdown",
   "metadata": {},
   "source": [
    "## No Comment / Comment Model"
   ]
  },
  {
   "cell_type": "code",
   "execution_count": 468,
   "metadata": {},
   "outputs": [],
   "source": [
    "X_binary = X_binary.reshape(*X_binary.shape, 1)\n",
    "X_test = X_test.reshape(*X_test.shape, 1)"
   ]
  },
  {
   "cell_type": "code",
   "execution_count": 469,
   "metadata": {
    "scrolled": true
   },
   "outputs": [],
   "source": [
    "pre = []\n",
    "rec = []\n",
    "fs = []\n",
    "gms = []\n",
    "wa = []\n",
    "\n",
    "for _ in range(10):\n",
    "# Binary Classifcation (Comment / No Comment)\n",
    "    model = Sequential()\n",
    "    model.add(LSTM(150, input_shape=(WINDOW_SIZE, 1), dropout=0.2, recurrent_dropout=0.2))\n",
    "    model.add(Dense(1, activation='sigmoid'))\n",
    "    model.compile(loss='binary_crossentropy', optimizer='adam', metrics=['accuracy'])\n",
    "\n",
    "    early_stop = EarlyStopping(monitor='val_loss', patience=20, restore_best_weights=True) # restore_best_weights available in newer keras\n",
    "    # filepath = 'models/binary_model.h5'\n",
    "    # checkpoint = ModelCheckpoint(filepath, monitor='val-loss', save_best_only=True)\n",
    "\n",
    "    model.fit(X_binary, y_binary,\n",
    "                  validation_data=(X_test, 1 - y_test[:, 5]),\n",
    "                  epochs=50, batch_size=16, verbose=0)\n",
    "\n",
    "\n",
    "    predictions = model.predict_classes(X_test)\n",
    "    pre.append(precision_score(1 - y_test[:, 5], predictions))\n",
    "    rec.append(recall_score(1 - y_test[:, 5], predictions))\n",
    "    fs.append(f1_score(1 - y_test[:, 5], predictions))\n",
    "    gms.append(geometric_mean_score(1 - y_test[:, 5], predictions, average='binary'))\n",
    "    wa.append(balanced_accuracy_score(1 - y_test[:, 5], predictions))"
   ]
  },
  {
   "cell_type": "code",
   "execution_count": 470,
   "metadata": {},
   "outputs": [
    {
     "name": "stdout",
     "output_type": "stream",
     "text": [
      "0.4306638690805267 0.522077922077922 0.46678236660506417 0.6042082958033939 0.6182184482184482\n"
     ]
    }
   ],
   "source": [
    "print(np.mean(pre), np.mean(rec), np.mean(fs), np.mean(gms), np.mean(wa))"
   ]
  },
  {
   "cell_type": "code",
   "execution_count": 229,
   "metadata": {},
   "outputs": [],
   "source": [
    "predictions = model.predict_classes(X_test)"
   ]
  },
  {
   "cell_type": "code",
   "execution_count": 230,
   "metadata": {},
   "outputs": [
    {
     "name": "stdout",
     "output_type": "stream",
     "text": [
      "Weighted Accuracy 0.6953571428571428\n",
      "Geometric mean of recall and specificity: 0.6952902785373685 \n",
      "\n",
      "                   pre       rec       spe        f1       geo       iba       sup\n",
      "\n",
      "          0       0.87      0.70      0.69      0.78      0.70      0.48       200\n",
      "          1       0.45      0.69      0.70      0.54      0.70      0.48        70\n",
      "\n",
      "avg / total       0.76      0.70      0.69      0.72      0.70      0.48       270\n",
      "\n"
     ]
    }
   ],
   "source": [
    "print('Weighted Accuracy', balanced_accuracy_score(1 - y_test[:, 5], predictions))\n",
    "print('Geometric mean of recall and specificity:', geometric_mean_score(1 - y_test[:,5], predictions), '\\n')\n",
    "print(classification_report_imbalanced(1 - y_test[:,5], predictions))"
   ]
  },
  {
   "cell_type": "code",
   "execution_count": 231,
   "metadata": {},
   "outputs": [
    {
     "name": "stdout",
     "output_type": "stream",
     "text": [
      "0.6857142857142857\n",
      "0.4485981308411215\n",
      "0.5423728813559322\n",
      "0.7\n"
     ]
    }
   ],
   "source": [
    "print(recall_score(1-y_test[:, 5], predictions))\n",
    "print(precision_score(1-y_test[:, 5], predictions))\n",
    "print(f1_score(1-y_test[:, 5], predictions))\n",
    "print(accuracy_score(1-y_test[:, 5],predictions))"
   ]
  },
  {
   "cell_type": "code",
   "execution_count": 161,
   "metadata": {},
   "outputs": [],
   "source": [
    "# from keras.models import load_model\n",
    "# model = load_model('models/binary_model.h5')"
   ]
  },
  {
   "cell_type": "code",
   "execution_count": 232,
   "metadata": {},
   "outputs": [
    {
     "data": {
      "image/png": "[encoded data removed]",
      "text/plain": [
       "<Figure size 432x288 with 1 Axes>"
      ]
     },
     "metadata": {
      "needs_background": "light"
     },
     "output_type": "display_data"
    },
    {
     "data": {
      "image/png": "[encoded data removed]",
      "text/plain": [
       "<Figure size 432x288 with 1 Axes>"
      ]
     },
     "metadata": {
      "needs_background": "light"
     },
     "output_type": "display_data"
    }
   ],
   "source": [
    "plot_model(history)"
   ]
  },
  {
   "cell_type": "markdown",
   "metadata": {},
   "source": [
    "## Dense Binary Model"
   ]
  },
  {
   "cell_type": "code",
   "execution_count": 241,
   "metadata": {},
   "outputs": [],
   "source": [
    "X_binary = X_binary.reshape(X_binary.shape[:2])\n",
    "X_test = X_test.reshape(X_test.shape[:2])"
   ]
  },
  {
   "cell_type": "code",
   "execution_count": 174,
   "metadata": {
    "scrolled": true
   },
   "outputs": [
    {
     "name": "stdout",
     "output_type": "stream",
     "text": [
      "Train on 852 samples, validate on 270 samples\n",
      "Epoch 1/50\n",
      "852/852 [==============================] - 1s 707us/step - loss: 0.6903 - acc: 0.5563 - val_loss: 0.7022 - val_acc: 0.6778\n",
      "Epoch 2/50\n",
      "852/852 [==============================] - 0s 214us/step - loss: 0.6823 - acc: 0.6232 - val_loss: 0.7117 - val_acc: 0.6704\n",
      "Epoch 3/50\n",
      "852/852 [==============================] - 0s 215us/step - loss: 0.6786 - acc: 0.6150 - val_loss: 0.7311 - val_acc: 0.5815\n",
      "Epoch 4/50\n",
      "852/852 [==============================] - 0s 212us/step - loss: 0.6788 - acc: 0.6291 - val_loss: 0.6884 - val_acc: 0.6815\n",
      "Epoch 5/50\n",
      "852/852 [==============================] - 0s 215us/step - loss: 0.6772 - acc: 0.6009 - val_loss: 0.6911 - val_acc: 0.6926\n",
      "Epoch 6/50\n",
      "852/852 [==============================] - 0s 215us/step - loss: 0.6774 - acc: 0.6268 - val_loss: 0.6984 - val_acc: 0.6889\n",
      "Epoch 7/50\n",
      "852/852 [==============================] - 0s 214us/step - loss: 0.6799 - acc: 0.6162 - val_loss: 0.7235 - val_acc: 0.6407\n",
      "Epoch 8/50\n",
      "852/852 [==============================] - 0s 217us/step - loss: 0.6762 - acc: 0.6221 - val_loss: 0.6947 - val_acc: 0.6778\n",
      "Epoch 9/50\n",
      "852/852 [==============================] - 0s 211us/step - loss: 0.6747 - acc: 0.6420 - val_loss: 0.7061 - val_acc: 0.6852\n",
      "Epoch 10/50\n",
      "852/852 [==============================] - 0s 212us/step - loss: 0.6751 - acc: 0.6350 - val_loss: 0.7009 - val_acc: 0.6815\n",
      "Epoch 11/50\n",
      "852/852 [==============================] - 0s 206us/step - loss: 0.6745 - acc: 0.6362 - val_loss: 0.7057 - val_acc: 0.6852\n",
      "Epoch 12/50\n",
      "852/852 [==============================] - 0s 206us/step - loss: 0.6738 - acc: 0.5939 - val_loss: 0.6849 - val_acc: 0.6889\n",
      "Epoch 13/50\n",
      "852/852 [==============================] - 0s 205us/step - loss: 0.6742 - acc: 0.6455 - val_loss: 0.7041 - val_acc: 0.6815\n",
      "Epoch 14/50\n",
      "852/852 [==============================] - 0s 217us/step - loss: 0.6731 - acc: 0.6467 - val_loss: 0.7003 - val_acc: 0.6704\n",
      "Epoch 15/50\n",
      "852/852 [==============================] - 0s 217us/step - loss: 0.6746 - acc: 0.6291 - val_loss: 0.7001 - val_acc: 0.6741\n",
      "Epoch 16/50\n",
      "852/852 [==============================] - 0s 213us/step - loss: 0.6730 - acc: 0.6350 - val_loss: 0.7187 - val_acc: 0.6519\n",
      "Epoch 17/50\n",
      "852/852 [==============================] - 0s 211us/step - loss: 0.6729 - acc: 0.6244 - val_loss: 0.7026 - val_acc: 0.6778\n",
      "Epoch 18/50\n",
      "852/852 [==============================] - 0s 209us/step - loss: 0.6716 - acc: 0.6408 - val_loss: 0.7031 - val_acc: 0.6815\n",
      "Epoch 19/50\n",
      "852/852 [==============================] - 0s 208us/step - loss: 0.6725 - acc: 0.6162 - val_loss: 0.6869 - val_acc: 0.6889\n",
      "Epoch 20/50\n",
      "852/852 [==============================] - 0s 208us/step - loss: 0.6734 - acc: 0.6397 - val_loss: 0.6959 - val_acc: 0.6778\n",
      "Epoch 21/50\n",
      "852/852 [==============================] - 0s 207us/step - loss: 0.6727 - acc: 0.6467 - val_loss: 0.7040 - val_acc: 0.6630\n",
      "Epoch 22/50\n",
      "852/852 [==============================] - 0s 220us/step - loss: 0.6725 - acc: 0.6397 - val_loss: 0.7032 - val_acc: 0.6667\n",
      "Epoch 23/50\n",
      "852/852 [==============================] - 0s 213us/step - loss: 0.6710 - acc: 0.6350 - val_loss: 0.7064 - val_acc: 0.6667\n",
      "Epoch 24/50\n",
      "852/852 [==============================] - 0s 212us/step - loss: 0.6714 - acc: 0.6455 - val_loss: 0.7052 - val_acc: 0.6667\n",
      "Epoch 25/50\n",
      "852/852 [==============================] - 0s 212us/step - loss: 0.6723 - acc: 0.6315 - val_loss: 0.7083 - val_acc: 0.6667\n",
      "Epoch 26/50\n",
      "852/852 [==============================] - 0s 220us/step - loss: 0.6724 - acc: 0.6444 - val_loss: 0.7086 - val_acc: 0.6630\n",
      "Epoch 27/50\n",
      "852/852 [==============================] - 0s 219us/step - loss: 0.6710 - acc: 0.6373 - val_loss: 0.7083 - val_acc: 0.6741\n",
      "Epoch 28/50\n",
      "852/852 [==============================] - 0s 213us/step - loss: 0.6706 - acc: 0.6385 - val_loss: 0.6969 - val_acc: 0.6815\n",
      "Epoch 29/50\n",
      "852/852 [==============================] - 0s 208us/step - loss: 0.6705 - acc: 0.6467 - val_loss: 0.7084 - val_acc: 0.6778\n",
      "Epoch 30/50\n",
      "852/852 [==============================] - 0s 211us/step - loss: 0.6716 - acc: 0.6491 - val_loss: 0.6942 - val_acc: 0.6926\n",
      "Epoch 31/50\n",
      "852/852 [==============================] - 0s 209us/step - loss: 0.6709 - acc: 0.6385 - val_loss: 0.7044 - val_acc: 0.6667\n",
      "Epoch 32/50\n",
      "852/852 [==============================] - 0s 215us/step - loss: 0.6706 - acc: 0.6420 - val_loss: 0.6945 - val_acc: 0.6778\n",
      "Epoch 33/50\n",
      "852/852 [==============================] - 0s 215us/step - loss: 0.6708 - acc: 0.6408 - val_loss: 0.7012 - val_acc: 0.6704\n",
      "Epoch 34/50\n",
      "852/852 [==============================] - 0s 216us/step - loss: 0.6709 - acc: 0.6373 - val_loss: 0.6966 - val_acc: 0.6778\n",
      "Epoch 35/50\n",
      "852/852 [==============================] - 0s 217us/step - loss: 0.6708 - acc: 0.6502 - val_loss: 0.6943 - val_acc: 0.6852\n",
      "Epoch 36/50\n",
      "852/852 [==============================] - 0s 216us/step - loss: 0.6707 - acc: 0.6362 - val_loss: 0.6991 - val_acc: 0.6889\n",
      "Epoch 37/50\n",
      "852/852 [==============================] - 0s 215us/step - loss: 0.6706 - acc: 0.6373 - val_loss: 0.7065 - val_acc: 0.6704\n",
      "Epoch 38/50\n",
      "852/852 [==============================] - 0s 217us/step - loss: 0.6703 - acc: 0.6408 - val_loss: 0.7085 - val_acc: 0.6704\n",
      "Epoch 39/50\n",
      "852/852 [==============================] - 0s 211us/step - loss: 0.6724 - acc: 0.6467 - val_loss: 0.7097 - val_acc: 0.6556\n",
      "Epoch 40/50\n",
      "852/852 [==============================] - 0s 213us/step - loss: 0.6701 - acc: 0.6408 - val_loss: 0.6996 - val_acc: 0.6778\n",
      "Epoch 41/50\n",
      "852/852 [==============================] - 0s 211us/step - loss: 0.6701 - acc: 0.6526 - val_loss: 0.7080 - val_acc: 0.6704\n",
      "Epoch 42/50\n",
      "852/852 [==============================] - 0s 214us/step - loss: 0.6704 - acc: 0.6479 - val_loss: 0.7087 - val_acc: 0.6741\n",
      "Epoch 43/50\n",
      "852/852 [==============================] - 0s 209us/step - loss: 0.6701 - acc: 0.6526 - val_loss: 0.7065 - val_acc: 0.6704\n",
      "Epoch 44/50\n",
      "852/852 [==============================] - 0s 211us/step - loss: 0.6695 - acc: 0.6479 - val_loss: 0.6953 - val_acc: 0.6815\n",
      "Epoch 45/50\n",
      "852/852 [==============================] - 0s 216us/step - loss: 0.6697 - acc: 0.6479 - val_loss: 0.7056 - val_acc: 0.6741\n",
      "Epoch 46/50\n",
      "852/852 [==============================] - 0s 213us/step - loss: 0.6699 - acc: 0.6467 - val_loss: 0.7123 - val_acc: 0.6704\n",
      "Epoch 47/50\n",
      "852/852 [==============================] - 0s 214us/step - loss: 0.6692 - acc: 0.6491 - val_loss: 0.6989 - val_acc: 0.6852\n",
      "Epoch 48/50\n",
      "852/852 [==============================] - 0s 217us/step - loss: 0.6701 - acc: 0.6420 - val_loss: 0.7034 - val_acc: 0.6741\n",
      "Epoch 49/50\n",
      "852/852 [==============================] - 0s 219us/step - loss: 0.6701 - acc: 0.6444 - val_loss: 0.7065 - val_acc: 0.6667\n",
      "Epoch 50/50\n",
      "852/852 [==============================] - 0s 219us/step - loss: 0.6700 - acc: 0.6455 - val_loss: 0.6989 - val_acc: 0.6778\n"
     ]
    }
   ],
   "source": [
    "# Binary Classifcation (Comment / No Comment)\n",
    "model = Sequential()\n",
    "model.add(Dense(100, input_shape=(WINDOW_SIZE,)))\n",
    "model.add(Dense(100))\n",
    "model.add(Dense(1, activation='sigmoid'))\n",
    "model.compile(loss='binary_crossentropy', optimizer='adam', metrics=['accuracy'])\n",
    "\n",
    "early_stop = EarlyStopping(monitor='val_loss', patience=20, restore_best_weights=True) \n",
    "\n",
    "history = model.fit(X_binary, y_binary,\n",
    "              validation_data=(X_test, 1 - y_test[:, 5]),\n",
    "              epochs=50, batch_size=8)"
   ]
  },
  {
   "cell_type": "code",
   "execution_count": 175,
   "metadata": {},
   "outputs": [],
   "source": [
    "predictions = model.predict_classes(X_test)"
   ]
  },
  {
   "cell_type": "code",
   "execution_count": 176,
   "metadata": {},
   "outputs": [
    {
     "name": "stdout",
     "output_type": "stream",
     "text": [
      "Weighted Accuracy 0.5407754010695187\n",
      "Geometric mean of recall and specificity: 0.46966821831386213 \n",
      "\n",
      "                   pre       rec       spe        f1       geo       iba       sup\n",
      "\n",
      "          0       0.77      0.81      0.27      0.79      0.47      0.23       204\n",
      "          1       0.32      0.27      0.81      0.29      0.47      0.21        66\n",
      "\n",
      "avg / total       0.66      0.68      0.40      0.67      0.47      0.23       270\n",
      "\n"
     ]
    }
   ],
   "source": [
    "print('Weighted Accuracy', balanced_accuracy_score(1 - y_test[:, 5], predictions))\n",
    "print('Geometric mean of recall and specificity:', geometric_mean_score(1 - y_test[:,5], predictions), '\\n')\n",
    "print(classification_report_imbalanced(1 - y_test[:,5], predictions))"
   ]
  },
  {
   "cell_type": "code",
   "execution_count": 177,
   "metadata": {},
   "outputs": [
    {
     "name": "stdout",
     "output_type": "stream",
     "text": [
      "0.2727272727272727\n",
      "0.2926829268292683\n",
      "0.6777777777777778\n"
     ]
    }
   ],
   "source": [
    "print(recall_score(1-y_test[:, 5], predictions))\n",
    "print(f1_score(1-y_test[:, 5], predictions))\n",
    "print(accuracy_score(1-y_test[:, 5],predictions))"
   ]
  },
  {
   "cell_type": "markdown",
   "metadata": {},
   "source": [
    "## No Comment / Comment Metrics"
   ]
  },
  {
   "cell_type": "code",
   "execution_count": 717,
   "metadata": {},
   "outputs": [],
   "source": [
    "predictions = model.predict_classes(X_test)\n",
    "score = model.predict(X_test)"
   ]
  },
  {
   "cell_type": "code",
   "execution_count": 719,
   "metadata": {},
   "outputs": [
    {
     "data": {
      "text/plain": [
       "array([[188,  22],\n",
       "       [ 42,  18]])"
      ]
     },
     "execution_count": 719,
     "metadata": {},
     "output_type": "execute_result"
    }
   ],
   "source": [
    "conf_matrix = confusion_matrix(1 - y_test[:,5], predictions)\n",
    "conf_matrix"
   ]
  },
  {
   "cell_type": "markdown",
   "metadata": {},
   "source": [
    "<table align='left'> \n",
    "    <tr> \n",
    "        <td>TN</td>\n",
    "        <td>FP</td>\n",
    "    </tr>\n",
    "    <tr> \n",
    "        <td>FN</td>\n",
    "        <td>TP</td>\n",
    "    </tr>    \n",
    "</table>"
   ]
  },
  {
   "cell_type": "code",
   "execution_count": 720,
   "metadata": {},
   "outputs": [
    {
     "name": "stdout",
     "output_type": "stream",
     "text": [
      "188, 22, 42, 18\n"
     ]
    }
   ],
   "source": [
    "tn, fp, fn, tp = conf_matrix.ravel()\n",
    "print(tn, fp, fn, tp, sep=', ')"
   ]
  },
  {
   "cell_type": "code",
   "execution_count": 721,
   "metadata": {},
   "outputs": [
    {
     "data": {
      "text/plain": [
       "0.45"
      ]
     },
     "execution_count": 721,
     "metadata": {},
     "output_type": "execute_result"
    }
   ],
   "source": [
    "precision = tp / (tp + fp)\n",
    "precision"
   ]
  },
  {
   "cell_type": "code",
   "execution_count": 722,
   "metadata": {},
   "outputs": [
    {
     "data": {
      "text/plain": [
       "0.3"
      ]
     },
     "execution_count": 722,
     "metadata": {},
     "output_type": "execute_result"
    }
   ],
   "source": [
    "recall = tp / (tp + fn)\n",
    "recall"
   ]
  },
  {
   "cell_type": "code",
   "execution_count": 723,
   "metadata": {},
   "outputs": [
    {
     "data": {
      "text/plain": [
       "0.36000000000000004"
      ]
     },
     "execution_count": 723,
     "metadata": {},
     "output_type": "execute_result"
    }
   ],
   "source": [
    "fscore = 2 * precision * recall / (precision + recall)\n",
    "fscore"
   ]
  },
  {
   "cell_type": "code",
   "execution_count": 724,
   "metadata": {},
   "outputs": [
    {
     "data": {
      "image/png": "[encoded data removed]",
      "text/plain": [
       "<Figure size 432x288 with 1 Axes>"
      ]
     },
     "metadata": {
      "needs_background": "light"
     },
     "output_type": "display_data"
    }
   ],
   "source": [
    "fpr, tpr, thr = roc_curve(1 - y_test[:, 5], score, pos_label=1)\n",
    "roc_auc = auc(fpr, tpr)\n",
    "\n",
    "\n",
    "plt.figure()\n",
    "lw = 2\n",
    "plt.plot(fpr, tpr, color='darkorange',\n",
    "         lw=lw, label='ROC curve (area = %0.2f)' % roc_auc)\n",
    "plt.plot([0, 1], [0, 1], color='navy', lw=lw, linestyle='--')\n",
    "plt.xlim([0.0, 1.0])\n",
    "plt.ylim([0.0, 1.05])\n",
    "plt.xlabel('False Positive Rate')\n",
    "plt.ylabel('True Positive Rate')\n",
    "plt.title('ROC curve')\n",
    "plt.legend(loc=\"lower right\")\n",
    "plt.show()"
   ]
  },
  {
   "cell_type": "code",
   "execution_count": 725,
   "metadata": {},
   "outputs": [],
   "source": [
    "best_thr = thr[np.argmin((0 - fpr)**2 + (1 - tpr)**2)] # Closest threshold to (0, 1) on ROC curve"
   ]
  },
  {
   "cell_type": "code",
   "execution_count": 726,
   "metadata": {},
   "outputs": [],
   "source": [
    "predictions = [1 if x > best_thr else 0 for x in score] # After seeing ROC curve best threshold is ~0.3"
   ]
  },
  {
   "cell_type": "code",
   "execution_count": 727,
   "metadata": {},
   "outputs": [
    {
     "data": {
      "text/plain": [
       "array([[159,  51],\n",
       "       [ 36,  24]])"
      ]
     },
     "execution_count": 727,
     "metadata": {},
     "output_type": "execute_result"
    }
   ],
   "source": [
    "conf_matrix = confusion_matrix(1 - y_test[:,5], predictions, )\n",
    "conf_matrix"
   ]
  },
  {
   "cell_type": "code",
   "execution_count": 728,
   "metadata": {},
   "outputs": [],
   "source": [
    "tn, fp, fn, tp = conf_matrix.ravel()"
   ]
  },
  {
   "cell_type": "code",
   "execution_count": 729,
   "metadata": {},
   "outputs": [
    {
     "data": {
      "text/plain": [
       "0.32"
      ]
     },
     "execution_count": 729,
     "metadata": {},
     "output_type": "execute_result"
    }
   ],
   "source": [
    "precision = tp / (tp + fp)\n",
    "precision"
   ]
  },
  {
   "cell_type": "code",
   "execution_count": 730,
   "metadata": {},
   "outputs": [
    {
     "data": {
      "text/plain": [
       "0.4"
      ]
     },
     "execution_count": 730,
     "metadata": {},
     "output_type": "execute_result"
    }
   ],
   "source": [
    "recall = tp / (tp + fn)\n",
    "recall"
   ]
  },
  {
   "cell_type": "code",
   "execution_count": 731,
   "metadata": {
    "scrolled": true
   },
   "outputs": [
    {
     "data": {
      "text/plain": [
       "0.35555555555555557"
      ]
     },
     "execution_count": 731,
     "metadata": {},
     "output_type": "execute_result"
    }
   ],
   "source": [
    "fscore = 2 * precision * recall / (precision + recall)\n",
    "fscore"
   ]
  },
  {
   "cell_type": "code",
   "execution_count": 734,
   "metadata": {},
   "outputs": [
    {
     "data": {
      "text/plain": [
       "0.762962962962963"
      ]
     },
     "execution_count": 734,
     "metadata": {},
     "output_type": "execute_result"
    }
   ],
   "source": [
    "accuracy_score(1-y_test[:, 5],predictions)"
   ]
  },
  {
   "cell_type": "markdown",
   "metadata": {},
   "source": [
    "## Multiclass Model Hyperparameter Search"
   ]
  },
  {
   "cell_type": "code",
   "execution_count": 357,
   "metadata": {},
   "outputs": [],
   "source": [
    "from sklearn.model_selection import GridSearchCV\n",
    "from keras.wrappers.scikit_learn import KerasClassifier"
   ]
  },
  {
   "cell_type": "code",
   "execution_count": 96,
   "metadata": {
    "scrolled": true
   },
   "outputs": [
    {
     "data": {
      "text/plain": [
       "array([ 1.15533981,  1.88888889, 14.875     ,  1.7761194 ,  5.40909091,\n",
       "        0.26385809])"
      ]
     },
     "execution_count": 96,
     "metadata": {},
     "output_type": "execute_result"
    }
   ],
   "source": [
    "# class_weights = class_weight.compute_class_weight('balanced', \n",
    "#                                                  np.unique(np.argmax(y_train, 1)), \n",
    "#                                                  np.argmax(y_train,1))\n",
    "# class_weights"
   ]
  },
  {
   "cell_type": "code",
   "execution_count": 479,
   "metadata": {},
   "outputs": [],
   "source": [
    "X_train, X_test, y_train, y_test = train_test_split(X, y, test_size=0.2)"
   ]
  },
  {
   "cell_type": "code",
   "execution_count": 640,
   "metadata": {},
   "outputs": [],
   "source": [
    "def create_model(hidden_size=60, dropout=0.2, recurrent_dropout=0.5):\n",
    "    model = Sequential()\n",
    "    model.add(LSTM(hidden_size, input_shape=(WINDOW_SIZE, 1),\n",
    "                  dropout=dropout, recurrent_dropout=recurrent_dropout))\n",
    "    model.add(Dense(6, activation='softmax')) \n",
    "    model.compile(loss='sparse_categorical_crossentropy',\n",
    "                  optimizer='adam')\n",
    "    return model"
   ]
  },
  {
   "cell_type": "code",
   "execution_count": 360,
   "metadata": {},
   "outputs": [],
   "source": [
    "# Custom TransformerMixin to reshape data after oversampling\n",
    "\n",
    "# from sklearn.base import TransformerMixin\n",
    "\n",
    "# class Reshape(TransformerMixin):\n",
    "\n",
    "#     def transform(self, X):\n",
    "        \n",
    "#         return X.reshape(*X.shape, 1)\n",
    "\n",
    "#     def fit(self, X, y=None, **fit_params):\n",
    "#         return self\n",
    "\n",
    "# Saved in utils.py"
   ]
  },
  {
   "cell_type": "code",
   "execution_count": 78,
   "metadata": {},
   "outputs": [],
   "source": [
    "from imblearn.metrics import geometric_mean_score\n",
    "from imblearn.metrics import classification_report_imbalanced"
   ]
  },
  {
   "cell_type": "code",
   "execution_count": 355,
   "metadata": {},
   "outputs": [],
   "source": [
    "from utils import Reshape"
   ]
  },
  {
   "cell_type": "code",
   "execution_count": null,
   "metadata": {},
   "outputs": [
    {
     "name": "stderr",
     "output_type": "stream",
     "text": [
      "/root/anaconda3/lib/python3.6/site-packages/sklearn/externals/joblib/externals/loky/process_executor.py:706: UserWarning: A worker stopped while some jobs were given to the executor. This can be caused by a too short worker timeout or by a memory leak.\n",
      "  \"timeout or by a memory leak.\", UserWarning\n"
     ]
    }
   ],
   "source": [
    "model = Pipeline([\n",
    "    ('sampling', RandomOverSampler()),# Try with SMOTE \n",
    "    ('reshape', Reshape()),\n",
    "    ('clf', KerasClassifier(create_model, verbose=0))\n",
    "])\n",
    "\n",
    "# Grid search parameters\n",
    "hidden_size = [60, 80, 100, 150]\n",
    "epochs = [30, 40, 50, 60, 70]\n",
    "batch_size = [8, 16, 32]\n",
    "dropout = [0.2, 0.5]\n",
    "recurrent_dropout = [0.2, 0.5]\n",
    "\n",
    "\n",
    "scoring={'f1_macro':'f1_macro', \n",
    "         'f1_micro':'f1_micro', \n",
    "         'gms_macro':make_scorer(geometric_mean_score, average='macro'), \n",
    "         'gms_micro':make_scorer(geometric_mean_score, average='micro')}\n",
    "\n",
    "param_grid = {'clf__hidden_size':hidden_size,\n",
    "              'clf__batch_size':batch_size,\n",
    "              'clf__epochs':epochs,\n",
    "              'clf__dropout':dropout,\n",
    "              'clf__recurrent_dropout':recurrent_dropout}\n",
    "\n",
    "grid = GridSearchCV(estimator=model, param_grid=param_grid, scoring=scoring, cv=5, n_jobs=-1, refit='f1_macro')\n",
    "\n",
    "grid_search = grid.fit(X_train, np.argmax(y_train, axis=1))\n",
    "\n",
    "\n",
    "# hyperas module for optimizing hyperparameters"
   ]
  },
  {
   "cell_type": "code",
   "execution_count": 632,
   "metadata": {},
   "outputs": [
    {
     "data": {
      "text/plain": [
       "({'clf__batch_size': 32,\n",
       "  'clf__dropout': 0.2,\n",
       "  'clf__epochs': 60,\n",
       "  'clf__hidden_size': 60,\n",
       "  'clf__recurrent_dropout': 0.5},\n",
       " 0.2319766292278518)"
      ]
     },
     "execution_count": 632,
     "metadata": {},
     "output_type": "execute_result"
    }
   ],
   "source": [
    "grid_search.best_params_, grid_search.best_score_"
   ]
  },
  {
   "cell_type": "code",
   "execution_count": 633,
   "metadata": {},
   "outputs": [],
   "source": [
    "predictions = to_categorical(grid_search.predict(X_test))"
   ]
  },
  {
   "cell_type": "code",
   "execution_count": 634,
   "metadata": {},
   "outputs": [
    {
     "data": {
      "text/plain": [
       "array([17.,  8., 26., 20., 30., 71.], dtype=float32)"
      ]
     },
     "execution_count": 634,
     "metadata": {},
     "output_type": "execute_result"
    }
   ],
   "source": [
    "sum(predictions)"
   ]
  },
  {
   "cell_type": "code",
   "execution_count": 638,
   "metadata": {
    "scrolled": true
   },
   "outputs": [
    {
     "name": "stdout",
     "output_type": "stream",
     "text": [
      "0.21265303021860948 {'clf__batch_size': 16, 'clf__dropout': 0.1, 'clf__epochs': 40, 'clf__hidden_size': 80, 'clf__recurrent_dropout': 0.5}\n",
      "0.2136637002525996 {'clf__batch_size': 16, 'clf__dropout': 0.5, 'clf__epochs': 40, 'clf__hidden_size': 60, 'clf__recurrent_dropout': 0.2}\n",
      "0.21307886293316866 {'clf__batch_size': 16, 'clf__dropout': 0.5, 'clf__epochs': 40, 'clf__hidden_size': 60, 'clf__recurrent_dropout': 0.5}\n",
      "0.2124888333981779 {'clf__batch_size': 32, 'clf__dropout': 0.1, 'clf__epochs': 30, 'clf__hidden_size': 80, 'clf__recurrent_dropout': 0.1}\n",
      "0.21593853820719175 {'clf__batch_size': 32, 'clf__dropout': 0.1, 'clf__epochs': 30, 'clf__hidden_size': 100, 'clf__recurrent_dropout': 0.5}\n",
      "0.21898960483385288 {'clf__batch_size': 32, 'clf__dropout': 0.1, 'clf__epochs': 60, 'clf__hidden_size': 80, 'clf__recurrent_dropout': 0.2}\n",
      "0.21301000999762632 {'clf__batch_size': 32, 'clf__dropout': 0.2, 'clf__epochs': 30, 'clf__hidden_size': 60, 'clf__recurrent_dropout': 0.5}\n",
      "0.21233234567020767 {'clf__batch_size': 32, 'clf__dropout': 0.2, 'clf__epochs': 50, 'clf__hidden_size': 80, 'clf__recurrent_dropout': 0.5}\n",
      "0.2319766292278518 {'clf__batch_size': 32, 'clf__dropout': 0.2, 'clf__epochs': 60, 'clf__hidden_size': 60, 'clf__recurrent_dropout': 0.5}\n",
      "0.22725693981415085 {'clf__batch_size': 32, 'clf__dropout': 0.2, 'clf__epochs': 60, 'clf__hidden_size': 80, 'clf__recurrent_dropout': 0.5}\n"
     ]
    }
   ],
   "source": [
    "scores = grid_search.cv_results_['mean_test_f1_macro']\n",
    "# f1_micro = grid_search.cv_results_['mean_test_f1_micro']\n",
    "# f1_macro = grid_search.cv_results_['mean_test_f1_macro']\n",
    "params = grid_search.cv_results_['params']\n",
    "\n",
    "for score, param in zip(scores, params):\n",
    "    if score > 0.212:\n",
    "        print(score, param)\n",
    "# [x for x in zip(grid_search.cv_results_['mean_test_score'], grid_search.cv_results_['params'])]"
   ]
  },
  {
   "cell_type": "code",
   "execution_count": 639,
   "metadata": {},
   "outputs": [
    {
     "data": {
      "text/plain": [
       "0.504833998968837"
      ]
     },
     "execution_count": 639,
     "metadata": {},
     "output_type": "execute_result"
    }
   ],
   "source": [
    "geometric_mean_score(np.argmax(y_test, 1), np.argmax(predictions, 1), average='macro')"
   ]
  },
  {
   "cell_type": "code",
   "execution_count": 577,
   "metadata": {},
   "outputs": [
    {
     "data": {
      "text/plain": [
       "0.1961044021338139"
      ]
     },
     "execution_count": 577,
     "metadata": {},
     "output_type": "execute_result"
    }
   ],
   "source": [
    "f1_score(np.argmax(y_test, 1), np.argmax(predictions, 1), average='macro')"
   ]
  },
  {
   "cell_type": "code",
   "execution_count": 585,
   "metadata": {},
   "outputs": [],
   "source": [
    "def evaluate_model(estimator, runs=10):\n",
    "    \n",
    "    metrics = ['precision_macro', 'precision_micro', 'recall_macro', 'recall_micro',\n",
    "              'f1_macro', 'f1_micro', 'gms_macro', 'gms_micro']\n",
    "    results = {m:[] for m in metrics}\n",
    "\n",
    "    for _ in range(runs):\n",
    "        model = estimator\n",
    "        model.fit(X_train, np.argmax(y_train, 1))\n",
    "        y_pred = model.predict(X_test)\n",
    "\n",
    "        results['precision_macro'].append(precision_score(np.argmax(y_test,1), y_pred, average='macro'))\n",
    "        results['precision_micro'].append(precision_score(np.argmax(y_test,1), y_pred, average='micro')) \n",
    "        results['recall_macro'].append(recall_score(np.argmax(y_test,1), y_pred, average='macro'))\n",
    "        results['recall_micro'].append(recall_score(np.argmax(y_test,1), y_pred, average='micro'))\n",
    "        results['f1_macro'].append(f1_score(np.argmax(y_test,1), y_pred, average='macro'))\n",
    "        results['f1_micro'].append(f1_score(np.argmax(y_test,1), y_pred, average='micro'))\n",
    "        results['gms_macro'].append(geometric_mean_score(np.argmax(y_test,1), y_pred, average='macro'))\n",
    "        results['gms_micro'].append(geometric_mean_score(np.argmax(y_test,1), y_pred, average='micro'))\n",
    "    \n",
    "    return results"
   ]
  },
  {
   "cell_type": "code",
   "execution_count": 655,
   "metadata": {},
   "outputs": [],
   "source": [
    "from matplotlib.colors import to_hex\n",
    "from eli5.sklearn import PermutationImportance\n",
    "import eli5\n",
    "\n",
    "def color_dataframe(row):\n",
    "    color = to_hex(plt.cm.RdBu(row.weight* 10 +0.5))\n",
    "    return pd.Series('background-color: %s' % color, row.index)\n",
    "\n",
    "def permutation_importance(estimator, runs=10):\n",
    "    weights = np.zeros(13)\n",
    "    std = np.zeros(13)\n",
    "    for _ in range(runs):\n",
    "        model = estimator\n",
    "        model.fit(X_train, np.argmax(y_train,1))\n",
    "\n",
    "        perm = PermutationImportance(model, scoring='f1_macro').fit(X_test, np.argmax(y_test, 1))\n",
    "        df = eli5.format_as_dataframe(eli5.explain_weights(perm, top=13, feature_names=[str(i) for i in range(13)]))\n",
    "        df['feature'] = pd.to_numeric(df['feature'])\n",
    "        df.sort_values(by='feature', inplace=True)\n",
    "        weights += df['weight'].values\n",
    "        std += df['std'].values\n",
    "    weights /= runs\n",
    "    std /= runs\n",
    "    features = ['Var_Month'+ str(i) for i in range(0,13)]\n",
    "\n",
    "    df_perm_importance = pd.DataFrame(data=np.vstack((weights, std)).T, columns=['weight', 'std'])\n",
    "    df_perm_importance.insert(0, 'features', features)\n",
    "    df_perm_importance.sort_values('weight', ascending=False, inplace=True)\n",
    "    df_perm_importance.reset_index(drop=True, inplace=True)\n",
    "    \n",
    "    return df_perm_importance.style.apply(color_dataframe, axis=1)\n",
    "    "
   ]
  },
  {
   "cell_type": "markdown",
   "metadata": {},
   "source": [
    "## Multiclass Model"
   ]
  },
  {
   "cell_type": "code",
   "execution_count": 472,
   "metadata": {},
   "outputs": [],
   "source": [
    "X_train = X_train.reshape(*X_train.shape, 1)\n",
    "X_test = X_test.reshape(*X_test.shape, 1)"
   ]
  },
  {
   "cell_type": "code",
   "execution_count": 473,
   "metadata": {},
   "outputs": [],
   "source": [
    "X_resampled = X_resampled.reshape(*X_resampled.shape, 1)"
   ]
  },
  {
   "cell_type": "code",
   "execution_count": 478,
   "metadata": {},
   "outputs": [],
   "source": [
    "X_test = X_test.reshape(X_test.shape[:-1]).shape"
   ]
  },
  {
   "cell_type": "code",
   "execution_count": 336,
   "metadata": {},
   "outputs": [
    {
     "data": {
      "image/png": "[encoded data removed]",
      "text/plain": [
       "<Figure size 432x288 with 1 Axes>"
      ]
     },
     "metadata": {
      "needs_background": "light"
     },
     "output_type": "display_data"
    },
    {
     "data": {
      "image/png": "[encoded data removed]",
      "text/plain": [
       "<Figure size 432x288 with 1 Axes>"
      ]
     },
     "metadata": {
      "needs_background": "light"
     },
     "output_type": "display_data"
    }
   ],
   "source": [
    "plot_model(history)"
   ]
  },
  {
   "cell_type": "code",
   "execution_count": null,
   "metadata": {},
   "outputs": [],
   "source": [
    "# from keras.models import load_model\n",
    "# model = load_model('models/binary_model.h5')"
   ]
  },
  {
   "cell_type": "code",
   "execution_count": 468,
   "metadata": {},
   "outputs": [],
   "source": [
    "predictions = to_categorical(model.predict_classes(X_test))"
   ]
  },
  {
   "cell_type": "code",
   "execution_count": 469,
   "metadata": {
    "scrolled": true
   },
   "outputs": [
    {
     "data": {
      "text/plain": [
       "array([ 48.,  22.,   5.,  50.,  17., 128.], dtype=float32)"
      ]
     },
     "execution_count": 469,
     "metadata": {},
     "output_type": "execute_result"
    }
   ],
   "source": [
    "predictions.sum(axis=0)"
   ]
  },
  {
   "cell_type": "code",
   "execution_count": 432,
   "metadata": {},
   "outputs": [
    {
     "data": {
      "text/plain": [
       "array([ 22,  21,   3,  11,   5, 208])"
      ]
     },
     "execution_count": 432,
     "metadata": {},
     "output_type": "execute_result"
    }
   ],
   "source": [
    "y_test.sum(axis=0)"
   ]
  },
  {
   "cell_type": "markdown",
   "metadata": {},
   "source": [
    "## LSTM"
   ]
  },
  {
   "cell_type": "code",
   "execution_count": 643,
   "metadata": {},
   "outputs": [
    {
     "name": "stdout",
     "output_type": "stream",
     "text": [
      "precision_macro 0.207\n",
      "precision_micro 0.41\n",
      "recall_macro 0.189\n",
      "recall_micro 0.41\n",
      "f1_macro 0.187\n",
      "f1_micro 0.41\n",
      "gms_macro 0.404\n",
      "gms_micro 0.602\n"
     ]
    }
   ],
   "source": [
    "# epochs=60, batch_size=32\n",
    "model = Pipeline([\n",
    "    ('sampling', RandomOverSampler()), \n",
    "    ('reshape', Reshape()),\n",
    "    ('clf', KerasClassifier(create_model, epochs=100, batch_size=32, verbose=0, \n",
    "                            validation_split=0.15, \n",
    "                            callbacks=[EarlyStopping(patience=50, restore_best_weights=True)]))\n",
    "])\n",
    "\n",
    "results = evaluate_model(model)\n",
    "for metric, value in results.items():\n",
    "    print(metric, np.round(np.mean(value), 3))"
   ]
  },
  {
   "cell_type": "code",
   "execution_count": null,
   "metadata": {},
   "outputs": [],
   "source": [
    "model = Pipeline([\n",
    "    ('sampling', RandomOverSampler()), \n",
    "    ('reshape', Reshape()),\n",
    "    ('clf', KerasClassifier(create_model, epochs=100, batch_size=32, verbose=0, \n",
    "                            validation_split=0.15, \n",
    "                            callbacks=[EarlyStopping(patience=50, restore_best_weights=True)]))\n",
    "])\n",
    "\n",
    "permutation_importance(model)"
   ]
  },
  {
   "cell_type": "code",
   "execution_count": null,
   "metadata": {},
   "outputs": [],
   "source": []
  },
  {
   "cell_type": "markdown",
   "metadata": {},
   "source": [
    "## Dummies"
   ]
  },
  {
   "cell_type": "code",
   "execution_count": 583,
   "metadata": {},
   "outputs": [],
   "source": [
    "from sklearn.dummy import DummyClassifier"
   ]
  },
  {
   "cell_type": "code",
   "execution_count": 595,
   "metadata": {},
   "outputs": [
    {
     "name": "stdout",
     "output_type": "stream",
     "text": [
      "precision_macro 0.168\n",
      "precision_micro 0.45\n",
      "recall_macro 0.17\n",
      "recall_micro 0.45\n",
      "f1_macro 0.166\n",
      "f1_micro 0.45\n",
      "gms_macro 0.375\n",
      "gms_micro 0.633\n"
     ]
    }
   ],
   "source": [
    "model = DummyClassifier('stratified')\n",
    "\n",
    "results = evaluate_model(model, 100)\n",
    "for metric, value in results.items():\n",
    "    print(metric, np.round(np.mean(value), 3))"
   ]
  },
  {
   "cell_type": "code",
   "execution_count": 592,
   "metadata": {},
   "outputs": [
    {
     "name": "stdout",
     "output_type": "stream",
     "text": [
      "precision_macro 0.111\n",
      "precision_micro 0.669\n",
      "recall_macro 0.167\n",
      "recall_micro 0.669\n",
      "f1_macro 0.134\n",
      "f1_micro 0.669\n",
      "gms_macro 0.373\n",
      "gms_micro 0.79\n"
     ]
    }
   ],
   "source": [
    "model = DummyClassifier('most_frequent')\n",
    "\n",
    "results = evaluate_model(model, 100)\n",
    "for metric, value in results.items():\n",
    "    print(metric, np.round(np.mean(value), 3))"
   ]
  },
  {
   "cell_type": "code",
   "execution_count": 596,
   "metadata": {},
   "outputs": [
    {
     "name": "stdout",
     "output_type": "stream",
     "text": [
      "precision_macro 0.166\n",
      "precision_micro 0.166\n",
      "recall_macro 0.166\n",
      "recall_micro 0.166\n",
      "f1_macro 0.116\n",
      "f1_micro 0.166\n",
      "gms_macro 0.364\n",
      "gms_micro 0.371\n"
     ]
    }
   ],
   "source": [
    "model = DummyClassifier('uniform')\n",
    "\n",
    "results = evaluate_model(model, 100)\n",
    "for metric, value in results.items():\n",
    "    print(metric, np.round(np.mean(value), 3))"
   ]
  },
  {
   "cell_type": "code",
   "execution_count": 594,
   "metadata": {},
   "outputs": [
    {
     "name": "stdout",
     "output_type": "stream",
     "text": [
      "precision_macro 0.164\n",
      "precision_micro 0.441\n",
      "recall_macro 0.165\n",
      "recall_micro 0.441\n",
      "f1_macro 0.161\n",
      "f1_micro 0.441\n",
      "gms_macro 0.368\n",
      "gms_micro 0.626\n"
     ]
    }
   ],
   "source": [
    "model = DummyClassifier('stratified')\n",
    "\n",
    "results = evaluate_model(model, 100)\n",
    "for metric, value in results.items():\n",
    "    print(metric, np.round(np.mean(value), 3))"
   ]
  },
  {
   "cell_type": "markdown",
   "metadata": {},
   "source": [
    "## kNN"
   ]
  },
  {
   "cell_type": "code",
   "execution_count": 497,
   "metadata": {},
   "outputs": [],
   "source": [
    "from sklearn.neighbors import KNeighborsClassifier"
   ]
  },
  {
   "cell_type": "code",
   "execution_count": 603,
   "metadata": {},
   "outputs": [
    {
     "name": "stderr",
     "output_type": "stream",
     "text": [
      "/root/anaconda3/lib/python3.6/site-packages/sklearn/model_selection/_search.py:841: DeprecationWarning: The default of the `iid` parameter will change from True to False in version 0.22 and will be removed in 0.24. This will change numeric results when test-set sizes are unequal.\n",
      "  DeprecationWarning)\n"
     ]
    }
   ],
   "source": [
    "model = Pipeline([\n",
    "    ('sampling', RandomOverSampler()),\n",
    "    ('clf', KNeighborsClassifier())\n",
    "])\n",
    "\n",
    "# Grid search parameters\n",
    "n_neighbors = list(range(1,6))\n",
    "\n",
    "scorer = make_scorer(f1_score, average='macro')\n",
    "\n",
    "param_grid = {'clf__n_neighbors':n_neighbors}\n",
    "\n",
    "grid = GridSearchCV(estimator=model, param_grid=param_grid, scoring=scorer, cv=5, n_jobs=-1)\n",
    "\n",
    "grid_search = grid.fit(X_train, np.argmax(y_train, axis=1))"
   ]
  },
  {
   "cell_type": "code",
   "execution_count": 604,
   "metadata": {},
   "outputs": [
    {
     "data": {
      "text/plain": [
       "{'clf__n_neighbors': 1}"
      ]
     },
     "execution_count": 604,
     "metadata": {},
     "output_type": "execute_result"
    }
   ],
   "source": [
    "grid_search.best_params_"
   ]
  },
  {
   "cell_type": "code",
   "execution_count": 606,
   "metadata": {},
   "outputs": [
    {
     "name": "stdout",
     "output_type": "stream",
     "text": [
      "precision_macro 0.153\n",
      "precision_micro 0.541\n",
      "recall_macro 0.162\n",
      "recall_micro 0.541\n",
      "f1_macro 0.157\n",
      "f1_micro 0.541\n",
      "gms_macro 0.373\n",
      "gms_micro 0.701\n"
     ]
    }
   ],
   "source": [
    "model = Pipeline([\n",
    "    ('sampling', RandomOverSampler()),\n",
    "    ('clf', KNeighborsClassifier(1))\n",
    "])\n",
    "\n",
    "results = evaluate_model(model, runs=100)\n",
    "for metric, value in results.items():\n",
    "    print(metric, np.round(np.mean(value), 3))"
   ]
  },
  {
   "cell_type": "code",
   "execution_count": 664,
   "metadata": {},
   "outputs": [
    {
     "data": {
      "text/html": [
       "<style  type=\"text/css\" >\n",
       "    #T_cb31743e_7342_11e9_b5db_fa163e31aa6brow0_col0 {\n",
       "            background-color:  #1b5a9c;\n",
       "        }    #T_cb31743e_7342_11e9_b5db_fa163e31aa6brow0_col1 {\n",
       "            background-color:  #1b5a9c;\n",
       "        }    #T_cb31743e_7342_11e9_b5db_fa163e31aa6brow0_col2 {\n",
       "            background-color:  #1b5a9c;\n",
       "        }    #T_cb31743e_7342_11e9_b5db_fa163e31aa6brow1_col0 {\n",
       "            background-color:  #2a71b2;\n",
       "        }    #T_cb31743e_7342_11e9_b5db_fa163e31aa6brow1_col1 {\n",
       "            background-color:  #2a71b2;\n",
       "        }    #T_cb31743e_7342_11e9_b5db_fa163e31aa6brow1_col2 {\n",
       "            background-color:  #2a71b2;\n",
       "        }    #T_cb31743e_7342_11e9_b5db_fa163e31aa6brow2_col0 {\n",
       "            background-color:  #337eb8;\n",
       "        }    #T_cb31743e_7342_11e9_b5db_fa163e31aa6brow2_col1 {\n",
       "            background-color:  #337eb8;\n",
       "        }    #T_cb31743e_7342_11e9_b5db_fa163e31aa6brow2_col2 {\n",
       "            background-color:  #337eb8;\n",
       "        }    #T_cb31743e_7342_11e9_b5db_fa163e31aa6brow3_col0 {\n",
       "            background-color:  #3681ba;\n",
       "        }    #T_cb31743e_7342_11e9_b5db_fa163e31aa6brow3_col1 {\n",
       "            background-color:  #3681ba;\n",
       "        }    #T_cb31743e_7342_11e9_b5db_fa163e31aa6brow3_col2 {\n",
       "            background-color:  #3681ba;\n",
       "        }    #T_cb31743e_7342_11e9_b5db_fa163e31aa6brow4_col0 {\n",
       "            background-color:  #569fc9;\n",
       "        }    #T_cb31743e_7342_11e9_b5db_fa163e31aa6brow4_col1 {\n",
       "            background-color:  #569fc9;\n",
       "        }    #T_cb31743e_7342_11e9_b5db_fa163e31aa6brow4_col2 {\n",
       "            background-color:  #569fc9;\n",
       "        }    #T_cb31743e_7342_11e9_b5db_fa163e31aa6brow5_col0 {\n",
       "            background-color:  #59a1ca;\n",
       "        }    #T_cb31743e_7342_11e9_b5db_fa163e31aa6brow5_col1 {\n",
       "            background-color:  #59a1ca;\n",
       "        }    #T_cb31743e_7342_11e9_b5db_fa163e31aa6brow5_col2 {\n",
       "            background-color:  #59a1ca;\n",
       "        }    #T_cb31743e_7342_11e9_b5db_fa163e31aa6brow6_col0 {\n",
       "            background-color:  #59a1ca;\n",
       "        }    #T_cb31743e_7342_11e9_b5db_fa163e31aa6brow6_col1 {\n",
       "            background-color:  #59a1ca;\n",
       "        }    #T_cb31743e_7342_11e9_b5db_fa163e31aa6brow6_col2 {\n",
       "            background-color:  #59a1ca;\n",
       "        }    #T_cb31743e_7342_11e9_b5db_fa163e31aa6brow7_col0 {\n",
       "            background-color:  #bddbea;\n",
       "        }    #T_cb31743e_7342_11e9_b5db_fa163e31aa6brow7_col1 {\n",
       "            background-color:  #bddbea;\n",
       "        }    #T_cb31743e_7342_11e9_b5db_fa163e31aa6brow7_col2 {\n",
       "            background-color:  #bddbea;\n",
       "        }    #T_cb31743e_7342_11e9_b5db_fa163e31aa6brow8_col0 {\n",
       "            background-color:  #deebf2;\n",
       "        }    #T_cb31743e_7342_11e9_b5db_fa163e31aa6brow8_col1 {\n",
       "            background-color:  #deebf2;\n",
       "        }    #T_cb31743e_7342_11e9_b5db_fa163e31aa6brow8_col2 {\n",
       "            background-color:  #deebf2;\n",
       "        }    #T_cb31743e_7342_11e9_b5db_fa163e31aa6brow9_col0 {\n",
       "            background-color:  #e1edf3;\n",
       "        }    #T_cb31743e_7342_11e9_b5db_fa163e31aa6brow9_col1 {\n",
       "            background-color:  #e1edf3;\n",
       "        }    #T_cb31743e_7342_11e9_b5db_fa163e31aa6brow9_col2 {\n",
       "            background-color:  #e1edf3;\n",
       "        }    #T_cb31743e_7342_11e9_b5db_fa163e31aa6brow10_col0 {\n",
       "            background-color:  #e4eef4;\n",
       "        }    #T_cb31743e_7342_11e9_b5db_fa163e31aa6brow10_col1 {\n",
       "            background-color:  #e4eef4;\n",
       "        }    #T_cb31743e_7342_11e9_b5db_fa163e31aa6brow10_col2 {\n",
       "            background-color:  #e4eef4;\n",
       "        }    #T_cb31743e_7342_11e9_b5db_fa163e31aa6brow11_col0 {\n",
       "            background-color:  #faeae1;\n",
       "        }    #T_cb31743e_7342_11e9_b5db_fa163e31aa6brow11_col1 {\n",
       "            background-color:  #faeae1;\n",
       "        }    #T_cb31743e_7342_11e9_b5db_fa163e31aa6brow11_col2 {\n",
       "            background-color:  #faeae1;\n",
       "        }    #T_cb31743e_7342_11e9_b5db_fa163e31aa6brow12_col0 {\n",
       "            background-color:  #fdddcb;\n",
       "        }    #T_cb31743e_7342_11e9_b5db_fa163e31aa6brow12_col1 {\n",
       "            background-color:  #fdddcb;\n",
       "        }    #T_cb31743e_7342_11e9_b5db_fa163e31aa6brow12_col2 {\n",
       "            background-color:  #fdddcb;\n",
       "        }</style><table id=\"T_cb31743e_7342_11e9_b5db_fa163e31aa6b\" ><thead>    <tr>        <th class=\"blank level0\" ></th>        <th class=\"col_heading level0 col0\" >features</th>        <th class=\"col_heading level0 col1\" >weight</th>        <th class=\"col_heading level0 col2\" >std</th>    </tr></thead><tbody>\n",
       "                <tr>\n",
       "                        <th id=\"T_cb31743e_7342_11e9_b5db_fa163e31aa6blevel0_row0\" class=\"row_heading level0 row0\" >0</th>\n",
       "                        <td id=\"T_cb31743e_7342_11e9_b5db_fa163e31aa6brow0_col0\" class=\"data row0 col0\" >Var_Month12</td>\n",
       "                        <td id=\"T_cb31743e_7342_11e9_b5db_fa163e31aa6brow0_col1\" class=\"data row0 col1\" >0.0419535</td>\n",
       "                        <td id=\"T_cb31743e_7342_11e9_b5db_fa163e31aa6brow0_col2\" class=\"data row0 col2\" >0.0176367</td>\n",
       "            </tr>\n",
       "            <tr>\n",
       "                        <th id=\"T_cb31743e_7342_11e9_b5db_fa163e31aa6blevel0_row1\" class=\"row_heading level0 row1\" >1</th>\n",
       "                        <td id=\"T_cb31743e_7342_11e9_b5db_fa163e31aa6brow1_col0\" class=\"data row1 col0\" >Var_Month5</td>\n",
       "                        <td id=\"T_cb31743e_7342_11e9_b5db_fa163e31aa6brow1_col1\" class=\"data row1 col1\" >0.037314</td>\n",
       "                        <td id=\"T_cb31743e_7342_11e9_b5db_fa163e31aa6brow1_col2\" class=\"data row1 col2\" >0.0176183</td>\n",
       "            </tr>\n",
       "            <tr>\n",
       "                        <th id=\"T_cb31743e_7342_11e9_b5db_fa163e31aa6blevel0_row2\" class=\"row_heading level0 row2\" >2</th>\n",
       "                        <td id=\"T_cb31743e_7342_11e9_b5db_fa163e31aa6brow2_col0\" class=\"data row2 col0\" >Var_Month2</td>\n",
       "                        <td id=\"T_cb31743e_7342_11e9_b5db_fa163e31aa6brow2_col1\" class=\"data row2 col1\" >0.0347209</td>\n",
       "                        <td id=\"T_cb31743e_7342_11e9_b5db_fa163e31aa6brow2_col2\" class=\"data row2 col2\" >0.0166942</td>\n",
       "            </tr>\n",
       "            <tr>\n",
       "                        <th id=\"T_cb31743e_7342_11e9_b5db_fa163e31aa6blevel0_row3\" class=\"row_heading level0 row3\" >3</th>\n",
       "                        <td id=\"T_cb31743e_7342_11e9_b5db_fa163e31aa6brow3_col0\" class=\"data row3 col0\" >Var_Month8</td>\n",
       "                        <td id=\"T_cb31743e_7342_11e9_b5db_fa163e31aa6brow3_col1\" class=\"data row3 col1\" >0.0336628</td>\n",
       "                        <td id=\"T_cb31743e_7342_11e9_b5db_fa163e31aa6brow3_col2\" class=\"data row3 col2\" >0.01591</td>\n",
       "            </tr>\n",
       "            <tr>\n",
       "                        <th id=\"T_cb31743e_7342_11e9_b5db_fa163e31aa6blevel0_row4\" class=\"row_heading level0 row4\" >4</th>\n",
       "                        <td id=\"T_cb31743e_7342_11e9_b5db_fa163e31aa6brow4_col0\" class=\"data row4 col0\" >Var_Month10</td>\n",
       "                        <td id=\"T_cb31743e_7342_11e9_b5db_fa163e31aa6brow4_col1\" class=\"data row4 col1\" >0.0274884</td>\n",
       "                        <td id=\"T_cb31743e_7342_11e9_b5db_fa163e31aa6brow4_col2\" class=\"data row4 col2\" >0.0175939</td>\n",
       "            </tr>\n",
       "            <tr>\n",
       "                        <th id=\"T_cb31743e_7342_11e9_b5db_fa163e31aa6blevel0_row5\" class=\"row_heading level0 row5\" >5</th>\n",
       "                        <td id=\"T_cb31743e_7342_11e9_b5db_fa163e31aa6brow5_col0\" class=\"data row5 col0\" >Var_Month1</td>\n",
       "                        <td id=\"T_cb31743e_7342_11e9_b5db_fa163e31aa6brow5_col1\" class=\"data row5 col1\" >0.0272326</td>\n",
       "                        <td id=\"T_cb31743e_7342_11e9_b5db_fa163e31aa6brow5_col2\" class=\"data row5 col2\" >0.0167377</td>\n",
       "            </tr>\n",
       "            <tr>\n",
       "                        <th id=\"T_cb31743e_7342_11e9_b5db_fa163e31aa6blevel0_row6\" class=\"row_heading level0 row6\" >6</th>\n",
       "                        <td id=\"T_cb31743e_7342_11e9_b5db_fa163e31aa6brow6_col0\" class=\"data row6 col0\" >Var_Month11</td>\n",
       "                        <td id=\"T_cb31743e_7342_11e9_b5db_fa163e31aa6brow6_col1\" class=\"data row6 col1\" >0.0269535</td>\n",
       "                        <td id=\"T_cb31743e_7342_11e9_b5db_fa163e31aa6brow6_col2\" class=\"data row6 col2\" >0.0186563</td>\n",
       "            </tr>\n",
       "            <tr>\n",
       "                        <th id=\"T_cb31743e_7342_11e9_b5db_fa163e31aa6blevel0_row7\" class=\"row_heading level0 row7\" >7</th>\n",
       "                        <td id=\"T_cb31743e_7342_11e9_b5db_fa163e31aa6brow7_col0\" class=\"data row7 col0\" >Var_Month7</td>\n",
       "                        <td id=\"T_cb31743e_7342_11e9_b5db_fa163e31aa6brow7_col1\" class=\"data row7 col1\" >0.0129419</td>\n",
       "                        <td id=\"T_cb31743e_7342_11e9_b5db_fa163e31aa6brow7_col2\" class=\"data row7 col2\" >0.0153399</td>\n",
       "            </tr>\n",
       "            <tr>\n",
       "                        <th id=\"T_cb31743e_7342_11e9_b5db_fa163e31aa6blevel0_row8\" class=\"row_heading level0 row8\" >8</th>\n",
       "                        <td id=\"T_cb31743e_7342_11e9_b5db_fa163e31aa6brow8_col0\" class=\"data row8 col0\" >Var_Month6</td>\n",
       "                        <td id=\"T_cb31743e_7342_11e9_b5db_fa163e31aa6brow8_col1\" class=\"data row8 col1\" >0.00639535</td>\n",
       "                        <td id=\"T_cb31743e_7342_11e9_b5db_fa163e31aa6brow8_col2\" class=\"data row8 col2\" >0.0162727</td>\n",
       "            </tr>\n",
       "            <tr>\n",
       "                        <th id=\"T_cb31743e_7342_11e9_b5db_fa163e31aa6blevel0_row9\" class=\"row_heading level0 row9\" >9</th>\n",
       "                        <td id=\"T_cb31743e_7342_11e9_b5db_fa163e31aa6brow9_col0\" class=\"data row9 col0\" >Var_Month4</td>\n",
       "                        <td id=\"T_cb31743e_7342_11e9_b5db_fa163e31aa6brow9_col1\" class=\"data row9 col1\" >0.00551163</td>\n",
       "                        <td id=\"T_cb31743e_7342_11e9_b5db_fa163e31aa6brow9_col2\" class=\"data row9 col2\" >0.0157321</td>\n",
       "            </tr>\n",
       "            <tr>\n",
       "                        <th id=\"T_cb31743e_7342_11e9_b5db_fa163e31aa6blevel0_row10\" class=\"row_heading level0 row10\" >10</th>\n",
       "                        <td id=\"T_cb31743e_7342_11e9_b5db_fa163e31aa6brow10_col0\" class=\"data row10 col0\" >Var_Month3</td>\n",
       "                        <td id=\"T_cb31743e_7342_11e9_b5db_fa163e31aa6brow10_col1\" class=\"data row10 col1\" >0.00503488</td>\n",
       "                        <td id=\"T_cb31743e_7342_11e9_b5db_fa163e31aa6brow10_col2\" class=\"data row10 col2\" >0.0133259</td>\n",
       "            </tr>\n",
       "            <tr>\n",
       "                        <th id=\"T_cb31743e_7342_11e9_b5db_fa163e31aa6blevel0_row11\" class=\"row_heading level0 row11\" >11</th>\n",
       "                        <td id=\"T_cb31743e_7342_11e9_b5db_fa163e31aa6brow11_col0\" class=\"data row11 col0\" >Var_Month9</td>\n",
       "                        <td id=\"T_cb31743e_7342_11e9_b5db_fa163e31aa6brow11_col1\" class=\"data row11 col1\" >-0.00439535</td>\n",
       "                        <td id=\"T_cb31743e_7342_11e9_b5db_fa163e31aa6brow11_col2\" class=\"data row11 col2\" >0.0150288</td>\n",
       "            </tr>\n",
       "            <tr>\n",
       "                        <th id=\"T_cb31743e_7342_11e9_b5db_fa163e31aa6blevel0_row12\" class=\"row_heading level0 row12\" >12</th>\n",
       "                        <td id=\"T_cb31743e_7342_11e9_b5db_fa163e31aa6brow12_col0\" class=\"data row12 col0\" >Var_Month0</td>\n",
       "                        <td id=\"T_cb31743e_7342_11e9_b5db_fa163e31aa6brow12_col1\" class=\"data row12 col1\" >-0.00916279</td>\n",
       "                        <td id=\"T_cb31743e_7342_11e9_b5db_fa163e31aa6brow12_col2\" class=\"data row12 col2\" >0.0146258</td>\n",
       "            </tr>\n",
       "    </tbody></table>"
      ],
      "text/plain": [
       "<pandas.io.formats.style.Styler at 0x7f711c5e7d68>"
      ]
     },
     "execution_count": 664,
     "metadata": {},
     "output_type": "execute_result"
    }
   ],
   "source": [
    "model = Pipeline([\n",
    "    ('sampling', RandomOverSampler()),\n",
    "    ('clf', KNeighborsClassifier(1))\n",
    "])\n",
    "\n",
    "permutation_importance(model, 100)"
   ]
  },
  {
   "cell_type": "markdown",
   "metadata": {},
   "source": [
    "## SVM"
   ]
  },
  {
   "cell_type": "code",
   "execution_count": 516,
   "metadata": {},
   "outputs": [],
   "source": [
    "from sklearn.svm import SVC"
   ]
  },
  {
   "cell_type": "code",
   "execution_count": 534,
   "metadata": {},
   "outputs": [
    {
     "name": "stderr",
     "output_type": "stream",
     "text": [
      "/root/anaconda3/lib/python3.6/site-packages/sklearn/model_selection/_search.py:841: DeprecationWarning: The default of the `iid` parameter will change from True to False in version 0.22 and will be removed in 0.24. This will change numeric results when test-set sizes are unequal.\n",
      "  DeprecationWarning)\n"
     ]
    }
   ],
   "source": [
    "model = Pipeline([\n",
    "    ('sampling', RandomOverSampler()),\n",
    "    ('clf', SVC())\n",
    "])\n",
    "\n",
    "# Grid search parameters\n",
    "Cs = [0.1, 1, 10, 20, 30, 50]\n",
    "gammas = [0.001, 0.01, 0.1, 1]\n",
    "\n",
    "scorer = make_scorer(f1_score, average='macro')\n",
    "\n",
    "param_grid = {'clf__C':Cs, 'clf__gamma':gammas}\n",
    "\n",
    "grid = GridSearchCV(estimator=model, param_grid=param_grid, scoring=scorer, cv=5, n_jobs=-1)\n",
    "\n",
    "grid_search = grid.fit(X_train, np.argmax(y_train, axis=1))"
   ]
  },
  {
   "cell_type": "code",
   "execution_count": 535,
   "metadata": {},
   "outputs": [
    {
     "data": {
      "text/plain": [
       "{'clf__C': 30, 'clf__gamma': 0.01}"
      ]
     },
     "execution_count": 535,
     "metadata": {},
     "output_type": "execute_result"
    }
   ],
   "source": [
    "grid_search.best_params_"
   ]
  },
  {
   "cell_type": "code",
   "execution_count": 607,
   "metadata": {},
   "outputs": [
    {
     "name": "stdout",
     "output_type": "stream",
     "text": [
      "precision_macro 0.217\n",
      "precision_micro 0.447\n",
      "recall_macro 0.181\n",
      "recall_micro 0.447\n",
      "f1_macro 0.192\n",
      "f1_micro 0.447\n",
      "gms_macro 0.396\n",
      "gms_micro 0.631\n"
     ]
    }
   ],
   "source": [
    "model = Pipeline([\n",
    "    ('sampling', RandomOverSampler()),\n",
    "    ('clf', SVC(C=30, gamma=0.01))\n",
    "])\n",
    "\n",
    "results = evaluate_model(model, runs=100)\n",
    "for metric, value in results.items():\n",
    "    print(metric, np.round(np.mean(value), 3))"
   ]
  },
  {
   "cell_type": "code",
   "execution_count": 665,
   "metadata": {},
   "outputs": [
    {
     "data": {
      "text/html": [
       "<style  type=\"text/css\" >\n",
       "    #T_05f3fe9c_7344_11e9_b5db_fa163e31aa6brow0_col0 {\n",
       "            background-color:  #3783bb;\n",
       "        }    #T_05f3fe9c_7344_11e9_b5db_fa163e31aa6brow0_col1 {\n",
       "            background-color:  #3783bb;\n",
       "        }    #T_05f3fe9c_7344_11e9_b5db_fa163e31aa6brow0_col2 {\n",
       "            background-color:  #3783bb;\n",
       "        }    #T_05f3fe9c_7344_11e9_b5db_fa163e31aa6brow1_col0 {\n",
       "            background-color:  #4f9bc7;\n",
       "        }    #T_05f3fe9c_7344_11e9_b5db_fa163e31aa6brow1_col1 {\n",
       "            background-color:  #4f9bc7;\n",
       "        }    #T_05f3fe9c_7344_11e9_b5db_fa163e31aa6brow1_col2 {\n",
       "            background-color:  #4f9bc7;\n",
       "        }    #T_05f3fe9c_7344_11e9_b5db_fa163e31aa6brow2_col0 {\n",
       "            background-color:  #59a1ca;\n",
       "        }    #T_05f3fe9c_7344_11e9_b5db_fa163e31aa6brow2_col1 {\n",
       "            background-color:  #59a1ca;\n",
       "        }    #T_05f3fe9c_7344_11e9_b5db_fa163e31aa6brow2_col2 {\n",
       "            background-color:  #59a1ca;\n",
       "        }    #T_05f3fe9c_7344_11e9_b5db_fa163e31aa6brow3_col0 {\n",
       "            background-color:  #5ca3cb;\n",
       "        }    #T_05f3fe9c_7344_11e9_b5db_fa163e31aa6brow3_col1 {\n",
       "            background-color:  #5ca3cb;\n",
       "        }    #T_05f3fe9c_7344_11e9_b5db_fa163e31aa6brow3_col2 {\n",
       "            background-color:  #5ca3cb;\n",
       "        }    #T_05f3fe9c_7344_11e9_b5db_fa163e31aa6brow4_col0 {\n",
       "            background-color:  #5fa5cd;\n",
       "        }    #T_05f3fe9c_7344_11e9_b5db_fa163e31aa6brow4_col1 {\n",
       "            background-color:  #5fa5cd;\n",
       "        }    #T_05f3fe9c_7344_11e9_b5db_fa163e31aa6brow4_col2 {\n",
       "            background-color:  #5fa5cd;\n",
       "        }    #T_05f3fe9c_7344_11e9_b5db_fa163e31aa6brow5_col0 {\n",
       "            background-color:  #aed3e6;\n",
       "        }    #T_05f3fe9c_7344_11e9_b5db_fa163e31aa6brow5_col1 {\n",
       "            background-color:  #aed3e6;\n",
       "        }    #T_05f3fe9c_7344_11e9_b5db_fa163e31aa6brow5_col2 {\n",
       "            background-color:  #aed3e6;\n",
       "        }    #T_05f3fe9c_7344_11e9_b5db_fa163e31aa6brow6_col0 {\n",
       "            background-color:  #bbdaea;\n",
       "        }    #T_05f3fe9c_7344_11e9_b5db_fa163e31aa6brow6_col1 {\n",
       "            background-color:  #bbdaea;\n",
       "        }    #T_05f3fe9c_7344_11e9_b5db_fa163e31aa6brow6_col2 {\n",
       "            background-color:  #bbdaea;\n",
       "        }    #T_05f3fe9c_7344_11e9_b5db_fa163e31aa6brow7_col0 {\n",
       "            background-color:  #cae1ee;\n",
       "        }    #T_05f3fe9c_7344_11e9_b5db_fa163e31aa6brow7_col1 {\n",
       "            background-color:  #cae1ee;\n",
       "        }    #T_05f3fe9c_7344_11e9_b5db_fa163e31aa6brow7_col2 {\n",
       "            background-color:  #cae1ee;\n",
       "        }    #T_05f3fe9c_7344_11e9_b5db_fa163e31aa6brow8_col0 {\n",
       "            background-color:  #d1e5f0;\n",
       "        }    #T_05f3fe9c_7344_11e9_b5db_fa163e31aa6brow8_col1 {\n",
       "            background-color:  #d1e5f0;\n",
       "        }    #T_05f3fe9c_7344_11e9_b5db_fa163e31aa6brow8_col2 {\n",
       "            background-color:  #d1e5f0;\n",
       "        }    #T_05f3fe9c_7344_11e9_b5db_fa163e31aa6brow9_col0 {\n",
       "            background-color:  #d8e9f1;\n",
       "        }    #T_05f3fe9c_7344_11e9_b5db_fa163e31aa6brow9_col1 {\n",
       "            background-color:  #d8e9f1;\n",
       "        }    #T_05f3fe9c_7344_11e9_b5db_fa163e31aa6brow9_col2 {\n",
       "            background-color:  #d8e9f1;\n",
       "        }    #T_05f3fe9c_7344_11e9_b5db_fa163e31aa6brow10_col0 {\n",
       "            background-color:  #e0ecf3;\n",
       "        }    #T_05f3fe9c_7344_11e9_b5db_fa163e31aa6brow10_col1 {\n",
       "            background-color:  #e0ecf3;\n",
       "        }    #T_05f3fe9c_7344_11e9_b5db_fa163e31aa6brow10_col2 {\n",
       "            background-color:  #e0ecf3;\n",
       "        }    #T_05f3fe9c_7344_11e9_b5db_fa163e31aa6brow11_col0 {\n",
       "            background-color:  #e7f0f4;\n",
       "        }    #T_05f3fe9c_7344_11e9_b5db_fa163e31aa6brow11_col1 {\n",
       "            background-color:  #e7f0f4;\n",
       "        }    #T_05f3fe9c_7344_11e9_b5db_fa163e31aa6brow11_col2 {\n",
       "            background-color:  #e7f0f4;\n",
       "        }    #T_05f3fe9c_7344_11e9_b5db_fa163e31aa6brow12_col0 {\n",
       "            background-color:  #f0f4f6;\n",
       "        }    #T_05f3fe9c_7344_11e9_b5db_fa163e31aa6brow12_col1 {\n",
       "            background-color:  #f0f4f6;\n",
       "        }    #T_05f3fe9c_7344_11e9_b5db_fa163e31aa6brow12_col2 {\n",
       "            background-color:  #f0f4f6;\n",
       "        }</style><table id=\"T_05f3fe9c_7344_11e9_b5db_fa163e31aa6b\" ><thead>    <tr>        <th class=\"blank level0\" ></th>        <th class=\"col_heading level0 col0\" >features</th>        <th class=\"col_heading level0 col1\" >weight</th>        <th class=\"col_heading level0 col2\" >std</th>    </tr></thead><tbody>\n",
       "                <tr>\n",
       "                        <th id=\"T_05f3fe9c_7344_11e9_b5db_fa163e31aa6blevel0_row0\" class=\"row_heading level0 row0\" >0</th>\n",
       "                        <td id=\"T_05f3fe9c_7344_11e9_b5db_fa163e31aa6brow0_col0\" class=\"data row0 col0\" >Var_Month9</td>\n",
       "                        <td id=\"T_05f3fe9c_7344_11e9_b5db_fa163e31aa6brow0_col1\" class=\"data row0 col1\" >0.0333256</td>\n",
       "                        <td id=\"T_05f3fe9c_7344_11e9_b5db_fa163e31aa6brow0_col2\" class=\"data row0 col2\" >0.0138782</td>\n",
       "            </tr>\n",
       "            <tr>\n",
       "                        <th id=\"T_05f3fe9c_7344_11e9_b5db_fa163e31aa6blevel0_row1\" class=\"row_heading level0 row1\" >1</th>\n",
       "                        <td id=\"T_05f3fe9c_7344_11e9_b5db_fa163e31aa6brow1_col0\" class=\"data row1 col0\" >Var_Month4</td>\n",
       "                        <td id=\"T_05f3fe9c_7344_11e9_b5db_fa163e31aa6brow1_col1\" class=\"data row1 col1\" >0.0282791</td>\n",
       "                        <td id=\"T_05f3fe9c_7344_11e9_b5db_fa163e31aa6brow1_col2\" class=\"data row1 col2\" >0.0127403</td>\n",
       "            </tr>\n",
       "            <tr>\n",
       "                        <th id=\"T_05f3fe9c_7344_11e9_b5db_fa163e31aa6blevel0_row2\" class=\"row_heading level0 row2\" >2</th>\n",
       "                        <td id=\"T_05f3fe9c_7344_11e9_b5db_fa163e31aa6brow2_col0\" class=\"data row2 col0\" >Var_Month2</td>\n",
       "                        <td id=\"T_05f3fe9c_7344_11e9_b5db_fa163e31aa6brow2_col1\" class=\"data row2 col1\" >0.0271512</td>\n",
       "                        <td id=\"T_05f3fe9c_7344_11e9_b5db_fa163e31aa6brow2_col2\" class=\"data row2 col2\" >0.0145662</td>\n",
       "            </tr>\n",
       "            <tr>\n",
       "                        <th id=\"T_05f3fe9c_7344_11e9_b5db_fa163e31aa6blevel0_row3\" class=\"row_heading level0 row3\" >3</th>\n",
       "                        <td id=\"T_05f3fe9c_7344_11e9_b5db_fa163e31aa6brow3_col0\" class=\"data row3 col0\" >Var_Month1</td>\n",
       "                        <td id=\"T_05f3fe9c_7344_11e9_b5db_fa163e31aa6brow3_col1\" class=\"data row3 col1\" >0.0268837</td>\n",
       "                        <td id=\"T_05f3fe9c_7344_11e9_b5db_fa163e31aa6brow3_col2\" class=\"data row3 col2\" >0.0143988</td>\n",
       "            </tr>\n",
       "            <tr>\n",
       "                        <th id=\"T_05f3fe9c_7344_11e9_b5db_fa163e31aa6blevel0_row4\" class=\"row_heading level0 row4\" >4</th>\n",
       "                        <td id=\"T_05f3fe9c_7344_11e9_b5db_fa163e31aa6brow4_col0\" class=\"data row4 col0\" >Var_Month3</td>\n",
       "                        <td id=\"T_05f3fe9c_7344_11e9_b5db_fa163e31aa6brow4_col1\" class=\"data row4 col1\" >0.026314</td>\n",
       "                        <td id=\"T_05f3fe9c_7344_11e9_b5db_fa163e31aa6brow4_col2\" class=\"data row4 col2\" >0.0134974</td>\n",
       "            </tr>\n",
       "            <tr>\n",
       "                        <th id=\"T_05f3fe9c_7344_11e9_b5db_fa163e31aa6blevel0_row5\" class=\"row_heading level0 row5\" >5</th>\n",
       "                        <td id=\"T_05f3fe9c_7344_11e9_b5db_fa163e31aa6brow5_col0\" class=\"data row5 col0\" >Var_Month5</td>\n",
       "                        <td id=\"T_05f3fe9c_7344_11e9_b5db_fa163e31aa6brow5_col1\" class=\"data row5 col1\" >0.0155233</td>\n",
       "                        <td id=\"T_05f3fe9c_7344_11e9_b5db_fa163e31aa6brow5_col2\" class=\"data row5 col2\" >0.0116542</td>\n",
       "            </tr>\n",
       "            <tr>\n",
       "                        <th id=\"T_05f3fe9c_7344_11e9_b5db_fa163e31aa6blevel0_row6\" class=\"row_heading level0 row6\" >6</th>\n",
       "                        <td id=\"T_05f3fe9c_7344_11e9_b5db_fa163e31aa6brow6_col0\" class=\"data row6 col0\" >Var_Month0</td>\n",
       "                        <td id=\"T_05f3fe9c_7344_11e9_b5db_fa163e31aa6brow6_col1\" class=\"data row6 col1\" >0.0135465</td>\n",
       "                        <td id=\"T_05f3fe9c_7344_11e9_b5db_fa163e31aa6brow6_col2\" class=\"data row6 col2\" >0.0128958</td>\n",
       "            </tr>\n",
       "            <tr>\n",
       "                        <th id=\"T_05f3fe9c_7344_11e9_b5db_fa163e31aa6blevel0_row7\" class=\"row_heading level0 row7\" >7</th>\n",
       "                        <td id=\"T_05f3fe9c_7344_11e9_b5db_fa163e31aa6brow7_col0\" class=\"data row7 col0\" >Var_Month6</td>\n",
       "                        <td id=\"T_05f3fe9c_7344_11e9_b5db_fa163e31aa6brow7_col1\" class=\"data row7 col1\" >0.0109419</td>\n",
       "                        <td id=\"T_05f3fe9c_7344_11e9_b5db_fa163e31aa6brow7_col2\" class=\"data row7 col2\" >0.0111337</td>\n",
       "            </tr>\n",
       "            <tr>\n",
       "                        <th id=\"T_05f3fe9c_7344_11e9_b5db_fa163e31aa6blevel0_row8\" class=\"row_heading level0 row8\" >8</th>\n",
       "                        <td id=\"T_05f3fe9c_7344_11e9_b5db_fa163e31aa6brow8_col0\" class=\"data row8 col0\" >Var_Month10</td>\n",
       "                        <td id=\"T_05f3fe9c_7344_11e9_b5db_fa163e31aa6brow8_col1\" class=\"data row8 col1\" >0.00996512</td>\n",
       "                        <td id=\"T_05f3fe9c_7344_11e9_b5db_fa163e31aa6brow8_col2\" class=\"data row8 col2\" >0.0135422</td>\n",
       "            </tr>\n",
       "            <tr>\n",
       "                        <th id=\"T_05f3fe9c_7344_11e9_b5db_fa163e31aa6blevel0_row9\" class=\"row_heading level0 row9\" >9</th>\n",
       "                        <td id=\"T_05f3fe9c_7344_11e9_b5db_fa163e31aa6brow9_col0\" class=\"data row9 col0\" >Var_Month8</td>\n",
       "                        <td id=\"T_05f3fe9c_7344_11e9_b5db_fa163e31aa6brow9_col1\" class=\"data row9 col1\" >0.00793023</td>\n",
       "                        <td id=\"T_05f3fe9c_7344_11e9_b5db_fa163e31aa6brow9_col2\" class=\"data row9 col2\" >0.0144103</td>\n",
       "            </tr>\n",
       "            <tr>\n",
       "                        <th id=\"T_05f3fe9c_7344_11e9_b5db_fa163e31aa6blevel0_row10\" class=\"row_heading level0 row10\" >10</th>\n",
       "                        <td id=\"T_05f3fe9c_7344_11e9_b5db_fa163e31aa6brow10_col0\" class=\"data row10 col0\" >Var_Month7</td>\n",
       "                        <td id=\"T_05f3fe9c_7344_11e9_b5db_fa163e31aa6brow10_col1\" class=\"data row10 col1\" >0.00586047</td>\n",
       "                        <td id=\"T_05f3fe9c_7344_11e9_b5db_fa163e31aa6brow10_col2\" class=\"data row10 col2\" >0.012817</td>\n",
       "            </tr>\n",
       "            <tr>\n",
       "                        <th id=\"T_05f3fe9c_7344_11e9_b5db_fa163e31aa6blevel0_row11\" class=\"row_heading level0 row11\" >11</th>\n",
       "                        <td id=\"T_05f3fe9c_7344_11e9_b5db_fa163e31aa6brow11_col0\" class=\"data row11 col0\" >Var_Month11</td>\n",
       "                        <td id=\"T_05f3fe9c_7344_11e9_b5db_fa163e31aa6brow11_col1\" class=\"data row11 col1\" >0.00396512</td>\n",
       "                        <td id=\"T_05f3fe9c_7344_11e9_b5db_fa163e31aa6brow11_col2\" class=\"data row11 col2\" >0.0141943</td>\n",
       "            </tr>\n",
       "            <tr>\n",
       "                        <th id=\"T_05f3fe9c_7344_11e9_b5db_fa163e31aa6blevel0_row12\" class=\"row_heading level0 row12\" >12</th>\n",
       "                        <td id=\"T_05f3fe9c_7344_11e9_b5db_fa163e31aa6brow12_col0\" class=\"data row12 col0\" >Var_Month12</td>\n",
       "                        <td id=\"T_05f3fe9c_7344_11e9_b5db_fa163e31aa6brow12_col1\" class=\"data row12 col1\" >0.00173256</td>\n",
       "                        <td id=\"T_05f3fe9c_7344_11e9_b5db_fa163e31aa6brow12_col2\" class=\"data row12 col2\" >0.014381</td>\n",
       "            </tr>\n",
       "    </tbody></table>"
      ],
      "text/plain": [
       "<pandas.io.formats.style.Styler at 0x7f711c597908>"
      ]
     },
     "execution_count": 665,
     "metadata": {},
     "output_type": "execute_result"
    }
   ],
   "source": [
    "model = Pipeline([\n",
    "    ('sampling', RandomOverSampler()),\n",
    "    ('clf', SVC(C=30, gamma=0.01))\n",
    "])\n",
    "\n",
    "permutation_importance(model, 100)"
   ]
  },
  {
   "cell_type": "markdown",
   "metadata": {},
   "source": [
    "## Gradient Boost"
   ]
  },
  {
   "cell_type": "code",
   "execution_count": 616,
   "metadata": {},
   "outputs": [],
   "source": [
    "from sklearn.ensemble import GradientBoostingClassifier"
   ]
  },
  {
   "cell_type": "code",
   "execution_count": 621,
   "metadata": {},
   "outputs": [
    {
     "name": "stderr",
     "output_type": "stream",
     "text": [
      "/root/anaconda3/lib/python3.6/site-packages/sklearn/model_selection/_search.py:841: DeprecationWarning: The default of the `iid` parameter will change from True to False in version 0.22 and will be removed in 0.24. This will change numeric results when test-set sizes are unequal.\n",
      "  DeprecationWarning)\n"
     ]
    },
    {
     "data": {
      "text/plain": [
       "GridSearchCV(cv=5, error_score='raise-deprecating',\n",
       "       estimator=Pipeline(memory=None,\n",
       "     steps=[('sampling', RandomOverSampler(random_state=None, ratio=None, return_indices=False,\n",
       "         sampling_strategy='auto')), ('clf', GradientBoostingClassifier(criterion='friedman_mse', init=None,\n",
       "              learning_rate=0.1, loss='deviance', max_depth=3,\n",
       "              max_features=None, max_...    subsample=1.0, tol=0.0001, validation_fraction=0.1,\n",
       "              verbose=0, warm_start=False))]),\n",
       "       fit_params=None, iid='warn', n_jobs=-1,\n",
       "       param_grid={'clf__learning_rate': [0.01, 0.025, 0.05, 0.075, 0.1, 0.15, 0.2], 'clf__min_samples_split': array([0.1    , 0.13636, 0.17273, 0.20909, 0.24545, 0.28182, 0.31818,\n",
       "       0.35455, 0.39091, 0.42727, 0.46364, 0.5    ]), 'clf__min_samples_leaf': array([0.1    , 0.13636, 0.17273, 0.20909, 0.24545, 0.28182, 0.31818,\n",
       "       0.35455, 0.39091, 0.42727, 0.46364, 0.5    ]), 'clf__max_depth': [3, 5, 8, None]},\n",
       "       pre_dispatch='2*n_jobs', refit=True, return_train_score='warn',\n",
       "       scoring='f1_macro', verbose=0)"
      ]
     },
     "execution_count": 621,
     "metadata": {},
     "output_type": "execute_result"
    }
   ],
   "source": [
    "model = Pipeline([\n",
    "    ('sampling', RandomOverSampler()),\n",
    "    ('clf', GradientBoostingClassifier())\n",
    "])\n",
    "\n",
    "parameters = {\n",
    "    \"clf__learning_rate\": [0.01, 0.025, 0.05, 0.075, 0.1, 0.15, 0.2],\n",
    "    \"clf__min_samples_split\": np.linspace(0.1, 0.5, 12),\n",
    "    \"clf__min_samples_leaf\": np.linspace(0.1, 0.5, 12),\n",
    "    \"clf__max_depth\":[3,5,8, None]\n",
    "    }\n",
    "\n",
    "clf = GridSearchCV(model, parameters, scoring='f1_macro', cv=5, n_jobs=-1)\n",
    "clf.fit(X_train, np.argmax(y_train,1))\n"
   ]
  },
  {
   "cell_type": "code",
   "execution_count": 627,
   "metadata": {},
   "outputs": [
    {
     "data": {
      "text/plain": [
       "{'clf__learning_rate': 0.075,\n",
       " 'clf__max_depth': 5,\n",
       " 'clf__min_samples_leaf': 0.13636363636363638,\n",
       " 'clf__min_samples_split': 0.390909090909091}"
      ]
     },
     "execution_count": 627,
     "metadata": {},
     "output_type": "execute_result"
    }
   ],
   "source": [
    "clf.best_params_"
   ]
  },
  {
   "cell_type": "code",
   "execution_count": 630,
   "metadata": {
    "scrolled": true
   },
   "outputs": [
    {
     "name": "stderr",
     "output_type": "stream",
     "text": [
      "/root/anaconda3/lib/python3.6/site-packages/sklearn/metrics/classification.py:1143: UndefinedMetricWarning: Precision is ill-defined and being set to 0.0 in labels with no predicted samples.\n",
      "  'precision', 'predicted', average, warn_for)\n",
      "/root/anaconda3/lib/python3.6/site-packages/sklearn/metrics/classification.py:1143: UndefinedMetricWarning: F-score is ill-defined and being set to 0.0 in labels with no predicted samples.\n",
      "  'precision', 'predicted', average, warn_for)\n",
      "/root/anaconda3/lib/python3.6/site-packages/sklearn/metrics/classification.py:1143: UndefinedMetricWarning: Precision is ill-defined and being set to 0.0 in labels with no predicted samples.\n",
      "  'precision', 'predicted', average, warn_for)\n",
      "/root/anaconda3/lib/python3.6/site-packages/sklearn/metrics/classification.py:1143: UndefinedMetricWarning: F-score is ill-defined and being set to 0.0 in labels with no predicted samples.\n",
      "  'precision', 'predicted', average, warn_for)\n",
      "/root/anaconda3/lib/python3.6/site-packages/sklearn/metrics/classification.py:1143: UndefinedMetricWarning: Precision is ill-defined and being set to 0.0 in labels with no predicted samples.\n",
      "  'precision', 'predicted', average, warn_for)\n",
      "/root/anaconda3/lib/python3.6/site-packages/sklearn/metrics/classification.py:1143: UndefinedMetricWarning: F-score is ill-defined and being set to 0.0 in labels with no predicted samples.\n",
      "  'precision', 'predicted', average, warn_for)\n",
      "/root/anaconda3/lib/python3.6/site-packages/sklearn/metrics/classification.py:1143: UndefinedMetricWarning: Precision is ill-defined and being set to 0.0 in labels with no predicted samples.\n",
      "  'precision', 'predicted', average, warn_for)\n",
      "/root/anaconda3/lib/python3.6/site-packages/sklearn/metrics/classification.py:1143: UndefinedMetricWarning: F-score is ill-defined and being set to 0.0 in labels with no predicted samples.\n",
      "  'precision', 'predicted', average, warn_for)\n",
      "/root/anaconda3/lib/python3.6/site-packages/sklearn/metrics/classification.py:1143: UndefinedMetricWarning: Precision is ill-defined and being set to 0.0 in labels with no predicted samples.\n",
      "  'precision', 'predicted', average, warn_for)\n",
      "/root/anaconda3/lib/python3.6/site-packages/sklearn/metrics/classification.py:1143: UndefinedMetricWarning: F-score is ill-defined and being set to 0.0 in labels with no predicted samples.\n",
      "  'precision', 'predicted', average, warn_for)\n",
      "/root/anaconda3/lib/python3.6/site-packages/sklearn/metrics/classification.py:1143: UndefinedMetricWarning: Precision is ill-defined and being set to 0.0 in labels with no predicted samples.\n",
      "  'precision', 'predicted', average, warn_for)\n",
      "/root/anaconda3/lib/python3.6/site-packages/sklearn/metrics/classification.py:1143: UndefinedMetricWarning: F-score is ill-defined and being set to 0.0 in labels with no predicted samples.\n",
      "  'precision', 'predicted', average, warn_for)\n",
      "/root/anaconda3/lib/python3.6/site-packages/sklearn/metrics/classification.py:1143: UndefinedMetricWarning: Precision is ill-defined and being set to 0.0 in labels with no predicted samples.\n",
      "  'precision', 'predicted', average, warn_for)\n",
      "/root/anaconda3/lib/python3.6/site-packages/sklearn/metrics/classification.py:1143: UndefinedMetricWarning: F-score is ill-defined and being set to 0.0 in labels with no predicted samples.\n",
      "  'precision', 'predicted', average, warn_for)\n",
      "/root/anaconda3/lib/python3.6/site-packages/sklearn/metrics/classification.py:1143: UndefinedMetricWarning: Precision is ill-defined and being set to 0.0 in labels with no predicted samples.\n",
      "  'precision', 'predicted', average, warn_for)\n",
      "/root/anaconda3/lib/python3.6/site-packages/sklearn/metrics/classification.py:1143: UndefinedMetricWarning: F-score is ill-defined and being set to 0.0 in labels with no predicted samples.\n",
      "  'precision', 'predicted', average, warn_for)\n",
      "/root/anaconda3/lib/python3.6/site-packages/sklearn/metrics/classification.py:1143: UndefinedMetricWarning: Precision is ill-defined and being set to 0.0 in labels with no predicted samples.\n",
      "  'precision', 'predicted', average, warn_for)\n",
      "/root/anaconda3/lib/python3.6/site-packages/sklearn/metrics/classification.py:1143: UndefinedMetricWarning: F-score is ill-defined and being set to 0.0 in labels with no predicted samples.\n",
      "  'precision', 'predicted', average, warn_for)\n"
     ]
    },
    {
     "name": "stdout",
     "output_type": "stream",
     "text": [
      "precision_macro 0.209\n",
      "precision_micro 0.558\n",
      "recall_macro 0.219\n",
      "recall_micro 0.558\n",
      "f1_macro 0.212\n",
      "f1_micro 0.558\n",
      "gms_macro 0.438\n",
      "gms_micro 0.713\n"
     ]
    },
    {
     "name": "stderr",
     "output_type": "stream",
     "text": [
      "/root/anaconda3/lib/python3.6/site-packages/sklearn/metrics/classification.py:1143: UndefinedMetricWarning: Precision is ill-defined and being set to 0.0 in labels with no predicted samples.\n",
      "  'precision', 'predicted', average, warn_for)\n",
      "/root/anaconda3/lib/python3.6/site-packages/sklearn/metrics/classification.py:1143: UndefinedMetricWarning: F-score is ill-defined and being set to 0.0 in labels with no predicted samples.\n",
      "  'precision', 'predicted', average, warn_for)\n"
     ]
    }
   ],
   "source": [
    "model = Pipeline([\n",
    "    ('sampling', RandomOverSampler()),\n",
    "    ('clf', GradientBoostingClassifier())\n",
    "])\n",
    "\n",
    "results = evaluate_model(model, runs=10)\n",
    "for metric, value in results.items():\n",
    "    print(metric, np.round(np.mean(value), 3))"
   ]
  },
  {
   "cell_type": "code",
   "execution_count": 662,
   "metadata": {},
   "outputs": [
    {
     "data": {
      "text/plain": [
       "<BarContainer object of 13 artists>"
      ]
     },
     "execution_count": 662,
     "metadata": {},
     "output_type": "execute_result"
    },
    {
     "data": {
      "image/png": "[encoded data removed]",
      "text/plain": [
       "<Figure size 432x288 with 1 Axes>"
      ]
     },
     "metadata": {
      "needs_background": "light"
     },
     "output_type": "display_data"
    }
   ],
   "source": [
    "model = Pipeline([\n",
    "    ('sampling', RandomOverSampler()),\n",
    "    ('clf', GradientBoostingClassifier())\n",
    "])\n",
    "model.fit(X_train, np.argmax(y_train,1))\n",
    "\n",
    "plt.bar(range(13), model.steps[1][1].feature_importances_)"
   ]
  },
  {
   "cell_type": "code",
   "execution_count": 666,
   "metadata": {},
   "outputs": [
    {
     "data": {
      "text/html": [
       "<style  type=\"text/css\" >\n",
       "    #T_937b4a9a_7344_11e9_b5db_fa163e31aa6brow0_col0 {\n",
       "            background-color:  #053061;\n",
       "        }    #T_937b4a9a_7344_11e9_b5db_fa163e31aa6brow0_col1 {\n",
       "            background-color:  #053061;\n",
       "        }    #T_937b4a9a_7344_11e9_b5db_fa163e31aa6brow0_col2 {\n",
       "            background-color:  #053061;\n",
       "        }    #T_937b4a9a_7344_11e9_b5db_fa163e31aa6brow1_col0 {\n",
       "            background-color:  #a5cee3;\n",
       "        }    #T_937b4a9a_7344_11e9_b5db_fa163e31aa6brow1_col1 {\n",
       "            background-color:  #a5cee3;\n",
       "        }    #T_937b4a9a_7344_11e9_b5db_fa163e31aa6brow1_col2 {\n",
       "            background-color:  #a5cee3;\n",
       "        }    #T_937b4a9a_7344_11e9_b5db_fa163e31aa6brow2_col0 {\n",
       "            background-color:  #cae1ee;\n",
       "        }    #T_937b4a9a_7344_11e9_b5db_fa163e31aa6brow2_col1 {\n",
       "            background-color:  #cae1ee;\n",
       "        }    #T_937b4a9a_7344_11e9_b5db_fa163e31aa6brow2_col2 {\n",
       "            background-color:  #cae1ee;\n",
       "        }    #T_937b4a9a_7344_11e9_b5db_fa163e31aa6brow3_col0 {\n",
       "            background-color:  #d8e9f1;\n",
       "        }    #T_937b4a9a_7344_11e9_b5db_fa163e31aa6brow3_col1 {\n",
       "            background-color:  #d8e9f1;\n",
       "        }    #T_937b4a9a_7344_11e9_b5db_fa163e31aa6brow3_col2 {\n",
       "            background-color:  #d8e9f1;\n",
       "        }    #T_937b4a9a_7344_11e9_b5db_fa163e31aa6brow4_col0 {\n",
       "            background-color:  #d8e9f1;\n",
       "        }    #T_937b4a9a_7344_11e9_b5db_fa163e31aa6brow4_col1 {\n",
       "            background-color:  #d8e9f1;\n",
       "        }    #T_937b4a9a_7344_11e9_b5db_fa163e31aa6brow4_col2 {\n",
       "            background-color:  #d8e9f1;\n",
       "        }    #T_937b4a9a_7344_11e9_b5db_fa163e31aa6brow5_col0 {\n",
       "            background-color:  #e3edf3;\n",
       "        }    #T_937b4a9a_7344_11e9_b5db_fa163e31aa6brow5_col1 {\n",
       "            background-color:  #e3edf3;\n",
       "        }    #T_937b4a9a_7344_11e9_b5db_fa163e31aa6brow5_col2 {\n",
       "            background-color:  #e3edf3;\n",
       "        }    #T_937b4a9a_7344_11e9_b5db_fa163e31aa6brow6_col0 {\n",
       "            background-color:  #e3edf3;\n",
       "        }    #T_937b4a9a_7344_11e9_b5db_fa163e31aa6brow6_col1 {\n",
       "            background-color:  #e3edf3;\n",
       "        }    #T_937b4a9a_7344_11e9_b5db_fa163e31aa6brow6_col2 {\n",
       "            background-color:  #e3edf3;\n",
       "        }    #T_937b4a9a_7344_11e9_b5db_fa163e31aa6brow7_col0 {\n",
       "            background-color:  #e3edf3;\n",
       "        }    #T_937b4a9a_7344_11e9_b5db_fa163e31aa6brow7_col1 {\n",
       "            background-color:  #e3edf3;\n",
       "        }    #T_937b4a9a_7344_11e9_b5db_fa163e31aa6brow7_col2 {\n",
       "            background-color:  #e3edf3;\n",
       "        }    #T_937b4a9a_7344_11e9_b5db_fa163e31aa6brow8_col0 {\n",
       "            background-color:  #e4eef4;\n",
       "        }    #T_937b4a9a_7344_11e9_b5db_fa163e31aa6brow8_col1 {\n",
       "            background-color:  #e4eef4;\n",
       "        }    #T_937b4a9a_7344_11e9_b5db_fa163e31aa6brow8_col2 {\n",
       "            background-color:  #e4eef4;\n",
       "        }    #T_937b4a9a_7344_11e9_b5db_fa163e31aa6brow9_col0 {\n",
       "            background-color:  #eff3f5;\n",
       "        }    #T_937b4a9a_7344_11e9_b5db_fa163e31aa6brow9_col1 {\n",
       "            background-color:  #eff3f5;\n",
       "        }    #T_937b4a9a_7344_11e9_b5db_fa163e31aa6brow9_col2 {\n",
       "            background-color:  #eff3f5;\n",
       "        }    #T_937b4a9a_7344_11e9_b5db_fa163e31aa6brow10_col0 {\n",
       "            background-color:  #f2f5f6;\n",
       "        }    #T_937b4a9a_7344_11e9_b5db_fa163e31aa6brow10_col1 {\n",
       "            background-color:  #f2f5f6;\n",
       "        }    #T_937b4a9a_7344_11e9_b5db_fa163e31aa6brow10_col2 {\n",
       "            background-color:  #f2f5f6;\n",
       "        }    #T_937b4a9a_7344_11e9_b5db_fa163e31aa6brow11_col0 {\n",
       "            background-color:  #f6f7f7;\n",
       "        }    #T_937b4a9a_7344_11e9_b5db_fa163e31aa6brow11_col1 {\n",
       "            background-color:  #f6f7f7;\n",
       "        }    #T_937b4a9a_7344_11e9_b5db_fa163e31aa6brow11_col2 {\n",
       "            background-color:  #f6f7f7;\n",
       "        }    #T_937b4a9a_7344_11e9_b5db_fa163e31aa6brow12_col0 {\n",
       "            background-color:  #fbe5d8;\n",
       "        }    #T_937b4a9a_7344_11e9_b5db_fa163e31aa6brow12_col1 {\n",
       "            background-color:  #fbe5d8;\n",
       "        }    #T_937b4a9a_7344_11e9_b5db_fa163e31aa6brow12_col2 {\n",
       "            background-color:  #fbe5d8;\n",
       "        }</style><table id=\"T_937b4a9a_7344_11e9_b5db_fa163e31aa6b\" ><thead>    <tr>        <th class=\"blank level0\" ></th>        <th class=\"col_heading level0 col0\" >features</th>        <th class=\"col_heading level0 col1\" >weight</th>        <th class=\"col_heading level0 col2\" >std</th>    </tr></thead><tbody>\n",
       "                <tr>\n",
       "                        <th id=\"T_937b4a9a_7344_11e9_b5db_fa163e31aa6blevel0_row0\" class=\"row_heading level0 row0\" >0</th>\n",
       "                        <td id=\"T_937b4a9a_7344_11e9_b5db_fa163e31aa6brow0_col0\" class=\"data row0 col0\" >Var_Month12</td>\n",
       "                        <td id=\"T_937b4a9a_7344_11e9_b5db_fa163e31aa6brow0_col1\" class=\"data row0 col1\" >0.0610698</td>\n",
       "                        <td id=\"T_937b4a9a_7344_11e9_b5db_fa163e31aa6brow0_col2\" class=\"data row0 col2\" >0.0194242</td>\n",
       "            </tr>\n",
       "            <tr>\n",
       "                        <th id=\"T_937b4a9a_7344_11e9_b5db_fa163e31aa6blevel0_row1\" class=\"row_heading level0 row1\" >1</th>\n",
       "                        <td id=\"T_937b4a9a_7344_11e9_b5db_fa163e31aa6brow1_col0\" class=\"data row1 col0\" >Var_Month10</td>\n",
       "                        <td id=\"T_937b4a9a_7344_11e9_b5db_fa163e31aa6brow1_col1\" class=\"data row1 col1\" >0.0168953</td>\n",
       "                        <td id=\"T_937b4a9a_7344_11e9_b5db_fa163e31aa6brow1_col2\" class=\"data row1 col2\" >0.0122272</td>\n",
       "            </tr>\n",
       "            <tr>\n",
       "                        <th id=\"T_937b4a9a_7344_11e9_b5db_fa163e31aa6blevel0_row2\" class=\"row_heading level0 row2\" >2</th>\n",
       "                        <td id=\"T_937b4a9a_7344_11e9_b5db_fa163e31aa6brow2_col0\" class=\"data row2 col0\" >Var_Month5</td>\n",
       "                        <td id=\"T_937b4a9a_7344_11e9_b5db_fa163e31aa6brow2_col1\" class=\"data row2 col1\" >0.0109767</td>\n",
       "                        <td id=\"T_937b4a9a_7344_11e9_b5db_fa163e31aa6brow2_col2\" class=\"data row2 col2\" >0.0107203</td>\n",
       "            </tr>\n",
       "            <tr>\n",
       "                        <th id=\"T_937b4a9a_7344_11e9_b5db_fa163e31aa6blevel0_row3\" class=\"row_heading level0 row3\" >3</th>\n",
       "                        <td id=\"T_937b4a9a_7344_11e9_b5db_fa163e31aa6brow3_col0\" class=\"data row3 col0\" >Var_Month3</td>\n",
       "                        <td id=\"T_937b4a9a_7344_11e9_b5db_fa163e31aa6brow3_col1\" class=\"data row3 col1\" >0.008</td>\n",
       "                        <td id=\"T_937b4a9a_7344_11e9_b5db_fa163e31aa6brow3_col2\" class=\"data row3 col2\" >0.0128344</td>\n",
       "            </tr>\n",
       "            <tr>\n",
       "                        <th id=\"T_937b4a9a_7344_11e9_b5db_fa163e31aa6blevel0_row4\" class=\"row_heading level0 row4\" >4</th>\n",
       "                        <td id=\"T_937b4a9a_7344_11e9_b5db_fa163e31aa6brow4_col0\" class=\"data row4 col0\" >Var_Month6</td>\n",
       "                        <td id=\"T_937b4a9a_7344_11e9_b5db_fa163e31aa6brow4_col1\" class=\"data row4 col1\" >0.00797674</td>\n",
       "                        <td id=\"T_937b4a9a_7344_11e9_b5db_fa163e31aa6brow4_col2\" class=\"data row4 col2\" >0.013167</td>\n",
       "            </tr>\n",
       "            <tr>\n",
       "                        <th id=\"T_937b4a9a_7344_11e9_b5db_fa163e31aa6blevel0_row5\" class=\"row_heading level0 row5\" >5</th>\n",
       "                        <td id=\"T_937b4a9a_7344_11e9_b5db_fa163e31aa6brow5_col0\" class=\"data row5 col0\" >Var_Month8</td>\n",
       "                        <td id=\"T_937b4a9a_7344_11e9_b5db_fa163e31aa6brow5_col1\" class=\"data row5 col1\" >0.00543023</td>\n",
       "                        <td id=\"T_937b4a9a_7344_11e9_b5db_fa163e31aa6brow5_col2\" class=\"data row5 col2\" >0.0106056</td>\n",
       "            </tr>\n",
       "            <tr>\n",
       "                        <th id=\"T_937b4a9a_7344_11e9_b5db_fa163e31aa6blevel0_row6\" class=\"row_heading level0 row6\" >6</th>\n",
       "                        <td id=\"T_937b4a9a_7344_11e9_b5db_fa163e31aa6brow6_col0\" class=\"data row6 col0\" >Var_Month9</td>\n",
       "                        <td id=\"T_937b4a9a_7344_11e9_b5db_fa163e31aa6brow6_col1\" class=\"data row6 col1\" >0.00522093</td>\n",
       "                        <td id=\"T_937b4a9a_7344_11e9_b5db_fa163e31aa6brow6_col2\" class=\"data row6 col2\" >0.0100123</td>\n",
       "            </tr>\n",
       "            <tr>\n",
       "                        <th id=\"T_937b4a9a_7344_11e9_b5db_fa163e31aa6blevel0_row7\" class=\"row_heading level0 row7\" >7</th>\n",
       "                        <td id=\"T_937b4a9a_7344_11e9_b5db_fa163e31aa6brow7_col0\" class=\"data row7 col0\" >Var_Month0</td>\n",
       "                        <td id=\"T_937b4a9a_7344_11e9_b5db_fa163e31aa6brow7_col1\" class=\"data row7 col1\" >0.00512791</td>\n",
       "                        <td id=\"T_937b4a9a_7344_11e9_b5db_fa163e31aa6brow7_col2\" class=\"data row7 col2\" >0.0104671</td>\n",
       "            </tr>\n",
       "            <tr>\n",
       "                        <th id=\"T_937b4a9a_7344_11e9_b5db_fa163e31aa6blevel0_row8\" class=\"row_heading level0 row8\" >8</th>\n",
       "                        <td id=\"T_937b4a9a_7344_11e9_b5db_fa163e31aa6brow8_col0\" class=\"data row8 col0\" >Var_Month11</td>\n",
       "                        <td id=\"T_937b4a9a_7344_11e9_b5db_fa163e31aa6brow8_col1\" class=\"data row8 col1\" >0.00480233</td>\n",
       "                        <td id=\"T_937b4a9a_7344_11e9_b5db_fa163e31aa6brow8_col2\" class=\"data row8 col2\" >0.0146452</td>\n",
       "            </tr>\n",
       "            <tr>\n",
       "                        <th id=\"T_937b4a9a_7344_11e9_b5db_fa163e31aa6blevel0_row9\" class=\"row_heading level0 row9\" >9</th>\n",
       "                        <td id=\"T_937b4a9a_7344_11e9_b5db_fa163e31aa6brow9_col0\" class=\"data row9 col0\" >Var_Month1</td>\n",
       "                        <td id=\"T_937b4a9a_7344_11e9_b5db_fa163e31aa6brow9_col1\" class=\"data row9 col1\" >0.00201163</td>\n",
       "                        <td id=\"T_937b4a9a_7344_11e9_b5db_fa163e31aa6brow9_col2\" class=\"data row9 col2\" >0.0113239</td>\n",
       "            </tr>\n",
       "            <tr>\n",
       "                        <th id=\"T_937b4a9a_7344_11e9_b5db_fa163e31aa6blevel0_row10\" class=\"row_heading level0 row10\" >10</th>\n",
       "                        <td id=\"T_937b4a9a_7344_11e9_b5db_fa163e31aa6brow10_col0\" class=\"data row10 col0\" >Var_Month2</td>\n",
       "                        <td id=\"T_937b4a9a_7344_11e9_b5db_fa163e31aa6brow10_col1\" class=\"data row10 col1\" >0.00151163</td>\n",
       "                        <td id=\"T_937b4a9a_7344_11e9_b5db_fa163e31aa6brow10_col2\" class=\"data row10 col2\" >0.0101842</td>\n",
       "            </tr>\n",
       "            <tr>\n",
       "                        <th id=\"T_937b4a9a_7344_11e9_b5db_fa163e31aa6blevel0_row11\" class=\"row_heading level0 row11\" >11</th>\n",
       "                        <td id=\"T_937b4a9a_7344_11e9_b5db_fa163e31aa6brow11_col0\" class=\"data row11 col0\" >Var_Month4</td>\n",
       "                        <td id=\"T_937b4a9a_7344_11e9_b5db_fa163e31aa6brow11_col1\" class=\"data row11 col1\" >0.000348837</td>\n",
       "                        <td id=\"T_937b4a9a_7344_11e9_b5db_fa163e31aa6brow11_col2\" class=\"data row11 col2\" >0.0127137</td>\n",
       "            </tr>\n",
       "            <tr>\n",
       "                        <th id=\"T_937b4a9a_7344_11e9_b5db_fa163e31aa6blevel0_row12\" class=\"row_heading level0 row12\" >12</th>\n",
       "                        <td id=\"T_937b4a9a_7344_11e9_b5db_fa163e31aa6brow12_col0\" class=\"data row12 col0\" >Var_Month7</td>\n",
       "                        <td id=\"T_937b4a9a_7344_11e9_b5db_fa163e31aa6brow12_col1\" class=\"data row12 col1\" >-0.00662791</td>\n",
       "                        <td id=\"T_937b4a9a_7344_11e9_b5db_fa163e31aa6brow12_col2\" class=\"data row12 col2\" >0.0116452</td>\n",
       "            </tr>\n",
       "    </tbody></table>"
      ],
      "text/plain": [
       "<pandas.io.formats.style.Styler at 0x7f711c40a828>"
      ]
     },
     "execution_count": 666,
     "metadata": {},
     "output_type": "execute_result"
    }
   ],
   "source": [
    "model = Pipeline([\n",
    "    ('sampling', RandomOverSampler()),\n",
    "    ('clf', GradientBoostingClassifier())\n",
    "])\n",
    "\n",
    "permutation_importance(model, 100)"
   ]
  },
  {
   "cell_type": "markdown",
   "metadata": {},
   "source": [
    "## Multiclass Baseline (RandomForest)"
   ]
  },
  {
   "cell_type": "code",
   "execution_count": 612,
   "metadata": {},
   "outputs": [
    {
     "name": "stderr",
     "output_type": "stream",
     "text": [
      "/root/anaconda3/lib/python3.6/site-packages/sklearn/model_selection/_search.py:841: DeprecationWarning: The default of the `iid` parameter will change from True to False in version 0.22 and will be removed in 0.24. This will change numeric results when test-set sizes are unequal.\n",
      "  DeprecationWarning)\n"
     ]
    }
   ],
   "source": [
    "model = Pipeline([\n",
    "    ('sampling', RandomOverSampler()),\n",
    "    ('clf', RandomForestClassifier())\n",
    "])\n",
    "\n",
    "# Grid search parameters\n",
    "n_estimators = [10, 50, 100, 150, 200]\n",
    "max_depth = [3, 5, 7, 9, 11, 13, 15, None]\n",
    "\n",
    "scorer = make_scorer(f1_score, average='macro')\n",
    "\n",
    "param_grid = {'clf__n_estimators':n_estimators, 'clf__max_depth':max_depth}\n",
    "\n",
    "grid = GridSearchCV(estimator=model, param_grid=param_grid, scoring=scorer, cv=5, n_jobs=-1)\n",
    "\n",
    "grid_search = grid.fit(X_train, np.argmax(y_train, axis=1))"
   ]
  },
  {
   "cell_type": "code",
   "execution_count": 613,
   "metadata": {},
   "outputs": [
    {
     "data": {
      "text/plain": [
       "{'clf__max_depth': 5, 'clf__n_estimators': 100}"
      ]
     },
     "execution_count": 613,
     "metadata": {},
     "output_type": "execute_result"
    }
   ],
   "source": [
    "grid_search.best_params_"
   ]
  },
  {
   "cell_type": "code",
   "execution_count": 615,
   "metadata": {},
   "outputs": [
    {
     "name": "stdout",
     "output_type": "stream",
     "text": [
      "precision_macro 0.215\n",
      "precision_micro 0.488\n",
      "recall_macro 0.213\n",
      "recall_micro 0.488\n",
      "f1_macro 0.203\n",
      "f1_micro 0.488\n",
      "gms_macro 0.432\n",
      "gms_micro 0.662\n"
     ]
    }
   ],
   "source": [
    "model = Pipeline([\n",
    "    ('sampling', RandomOverSampler()),\n",
    "    ('clf', RandomForestClassifier(150, max_depth=5))\n",
    "])\n",
    "\n",
    "results = evaluate_model(model, runs=100)\n",
    "for metric, value in results.items():\n",
    "    print(metric, np.round(np.mean(value), 3))"
   ]
  },
  {
   "cell_type": "code",
   "execution_count": 559,
   "metadata": {
    "scrolled": true
   },
   "outputs": [
    {
     "data": {
      "text/plain": [
       "<BarContainer object of 13 artists>"
      ]
     },
     "execution_count": 559,
     "metadata": {},
     "output_type": "execute_result"
    },
    {
     "data": {
      "image/png": "[encoded data removed]",
      "text/plain": [
       "<Figure size 432x288 with 1 Axes>"
      ]
     },
     "metadata": {
      "needs_background": "light"
     },
     "output_type": "display_data"
    }
   ],
   "source": [
    "plt.bar(range(13), grid_search.best_estimator_.steps[1][1].feature_importances_)"
   ]
  },
  {
   "cell_type": "code",
   "execution_count": 667,
   "metadata": {},
   "outputs": [
    {
     "data": {
      "text/html": [
       "<style  type=\"text/css\" >\n",
       "    #T_f0d9e9c6_7344_11e9_b5db_fa163e31aa6brow0_col0 {\n",
       "            background-color:  #15508d;\n",
       "        }    #T_f0d9e9c6_7344_11e9_b5db_fa163e31aa6brow0_col1 {\n",
       "            background-color:  #15508d;\n",
       "        }    #T_f0d9e9c6_7344_11e9_b5db_fa163e31aa6brow0_col2 {\n",
       "            background-color:  #15508d;\n",
       "        }    #T_f0d9e9c6_7344_11e9_b5db_fa163e31aa6brow1_col0 {\n",
       "            background-color:  #3e8cbf;\n",
       "        }    #T_f0d9e9c6_7344_11e9_b5db_fa163e31aa6brow1_col1 {\n",
       "            background-color:  #3e8cbf;\n",
       "        }    #T_f0d9e9c6_7344_11e9_b5db_fa163e31aa6brow1_col2 {\n",
       "            background-color:  #3e8cbf;\n",
       "        }    #T_f0d9e9c6_7344_11e9_b5db_fa163e31aa6brow2_col0 {\n",
       "            background-color:  #a7d0e4;\n",
       "        }    #T_f0d9e9c6_7344_11e9_b5db_fa163e31aa6brow2_col1 {\n",
       "            background-color:  #a7d0e4;\n",
       "        }    #T_f0d9e9c6_7344_11e9_b5db_fa163e31aa6brow2_col2 {\n",
       "            background-color:  #a7d0e4;\n",
       "        }    #T_f0d9e9c6_7344_11e9_b5db_fa163e31aa6brow3_col0 {\n",
       "            background-color:  #acd2e5;\n",
       "        }    #T_f0d9e9c6_7344_11e9_b5db_fa163e31aa6brow3_col1 {\n",
       "            background-color:  #acd2e5;\n",
       "        }    #T_f0d9e9c6_7344_11e9_b5db_fa163e31aa6brow3_col2 {\n",
       "            background-color:  #acd2e5;\n",
       "        }    #T_f0d9e9c6_7344_11e9_b5db_fa163e31aa6brow4_col0 {\n",
       "            background-color:  #cce2ef;\n",
       "        }    #T_f0d9e9c6_7344_11e9_b5db_fa163e31aa6brow4_col1 {\n",
       "            background-color:  #cce2ef;\n",
       "        }    #T_f0d9e9c6_7344_11e9_b5db_fa163e31aa6brow4_col2 {\n",
       "            background-color:  #cce2ef;\n",
       "        }    #T_f0d9e9c6_7344_11e9_b5db_fa163e31aa6brow5_col0 {\n",
       "            background-color:  #d4e6f1;\n",
       "        }    #T_f0d9e9c6_7344_11e9_b5db_fa163e31aa6brow5_col1 {\n",
       "            background-color:  #d4e6f1;\n",
       "        }    #T_f0d9e9c6_7344_11e9_b5db_fa163e31aa6brow5_col2 {\n",
       "            background-color:  #d4e6f1;\n",
       "        }    #T_f0d9e9c6_7344_11e9_b5db_fa163e31aa6brow6_col0 {\n",
       "            background-color:  #ddebf2;\n",
       "        }    #T_f0d9e9c6_7344_11e9_b5db_fa163e31aa6brow6_col1 {\n",
       "            background-color:  #ddebf2;\n",
       "        }    #T_f0d9e9c6_7344_11e9_b5db_fa163e31aa6brow6_col2 {\n",
       "            background-color:  #ddebf2;\n",
       "        }    #T_f0d9e9c6_7344_11e9_b5db_fa163e31aa6brow7_col0 {\n",
       "            background-color:  #e1edf3;\n",
       "        }    #T_f0d9e9c6_7344_11e9_b5db_fa163e31aa6brow7_col1 {\n",
       "            background-color:  #e1edf3;\n",
       "        }    #T_f0d9e9c6_7344_11e9_b5db_fa163e31aa6brow7_col2 {\n",
       "            background-color:  #e1edf3;\n",
       "        }    #T_f0d9e9c6_7344_11e9_b5db_fa163e31aa6brow8_col0 {\n",
       "            background-color:  #e4eef4;\n",
       "        }    #T_f0d9e9c6_7344_11e9_b5db_fa163e31aa6brow8_col1 {\n",
       "            background-color:  #e4eef4;\n",
       "        }    #T_f0d9e9c6_7344_11e9_b5db_fa163e31aa6brow8_col2 {\n",
       "            background-color:  #e4eef4;\n",
       "        }    #T_f0d9e9c6_7344_11e9_b5db_fa163e31aa6brow9_col0 {\n",
       "            background-color:  #f0f4f6;\n",
       "        }    #T_f0d9e9c6_7344_11e9_b5db_fa163e31aa6brow9_col1 {\n",
       "            background-color:  #f0f4f6;\n",
       "        }    #T_f0d9e9c6_7344_11e9_b5db_fa163e31aa6brow9_col2 {\n",
       "            background-color:  #f0f4f6;\n",
       "        }    #T_f0d9e9c6_7344_11e9_b5db_fa163e31aa6brow10_col0 {\n",
       "            background-color:  #f0f4f6;\n",
       "        }    #T_f0d9e9c6_7344_11e9_b5db_fa163e31aa6brow10_col1 {\n",
       "            background-color:  #f0f4f6;\n",
       "        }    #T_f0d9e9c6_7344_11e9_b5db_fa163e31aa6brow10_col2 {\n",
       "            background-color:  #f0f4f6;\n",
       "        }    #T_f0d9e9c6_7344_11e9_b5db_fa163e31aa6brow11_col0 {\n",
       "            background-color:  #f7f6f6;\n",
       "        }    #T_f0d9e9c6_7344_11e9_b5db_fa163e31aa6brow11_col1 {\n",
       "            background-color:  #f7f6f6;\n",
       "        }    #T_f0d9e9c6_7344_11e9_b5db_fa163e31aa6brow11_col2 {\n",
       "            background-color:  #f7f6f6;\n",
       "        }    #T_f0d9e9c6_7344_11e9_b5db_fa163e31aa6brow12_col0 {\n",
       "            background-color:  #fae7dc;\n",
       "        }    #T_f0d9e9c6_7344_11e9_b5db_fa163e31aa6brow12_col1 {\n",
       "            background-color:  #fae7dc;\n",
       "        }    #T_f0d9e9c6_7344_11e9_b5db_fa163e31aa6brow12_col2 {\n",
       "            background-color:  #fae7dc;\n",
       "        }</style><table id=\"T_f0d9e9c6_7344_11e9_b5db_fa163e31aa6b\" ><thead>    <tr>        <th class=\"blank level0\" ></th>        <th class=\"col_heading level0 col0\" >features</th>        <th class=\"col_heading level0 col1\" >weight</th>        <th class=\"col_heading level0 col2\" >std</th>    </tr></thead><tbody>\n",
       "                <tr>\n",
       "                        <th id=\"T_f0d9e9c6_7344_11e9_b5db_fa163e31aa6blevel0_row0\" class=\"row_heading level0 row0\" >0</th>\n",
       "                        <td id=\"T_f0d9e9c6_7344_11e9_b5db_fa163e31aa6brow0_col0\" class=\"data row0 col0\" >Var_Month12</td>\n",
       "                        <td id=\"T_f0d9e9c6_7344_11e9_b5db_fa163e31aa6brow0_col1\" class=\"data row0 col1\" >0.044</td>\n",
       "                        <td id=\"T_f0d9e9c6_7344_11e9_b5db_fa163e31aa6brow0_col2\" class=\"data row0 col2\" >0.014625</td>\n",
       "            </tr>\n",
       "            <tr>\n",
       "                        <th id=\"T_f0d9e9c6_7344_11e9_b5db_fa163e31aa6blevel0_row1\" class=\"row_heading level0 row1\" >1</th>\n",
       "                        <td id=\"T_f0d9e9c6_7344_11e9_b5db_fa163e31aa6brow1_col0\" class=\"data row1 col0\" >Var_Month9</td>\n",
       "                        <td id=\"T_f0d9e9c6_7344_11e9_b5db_fa163e31aa6brow1_col1\" class=\"data row1 col1\" >0.0316163</td>\n",
       "                        <td id=\"T_f0d9e9c6_7344_11e9_b5db_fa163e31aa6brow1_col2\" class=\"data row1 col2\" >0.0148163</td>\n",
       "            </tr>\n",
       "            <tr>\n",
       "                        <th id=\"T_f0d9e9c6_7344_11e9_b5db_fa163e31aa6blevel0_row2\" class=\"row_heading level0 row2\" >2</th>\n",
       "                        <td id=\"T_f0d9e9c6_7344_11e9_b5db_fa163e31aa6brow2_col0\" class=\"data row2 col0\" >Var_Month5</td>\n",
       "                        <td id=\"T_f0d9e9c6_7344_11e9_b5db_fa163e31aa6brow2_col1\" class=\"data row2 col1\" >0.0167326</td>\n",
       "                        <td id=\"T_f0d9e9c6_7344_11e9_b5db_fa163e31aa6brow2_col2\" class=\"data row2 col2\" >0.010357</td>\n",
       "            </tr>\n",
       "            <tr>\n",
       "                        <th id=\"T_f0d9e9c6_7344_11e9_b5db_fa163e31aa6blevel0_row3\" class=\"row_heading level0 row3\" >3</th>\n",
       "                        <td id=\"T_f0d9e9c6_7344_11e9_b5db_fa163e31aa6brow3_col0\" class=\"data row3 col0\" >Var_Month6</td>\n",
       "                        <td id=\"T_f0d9e9c6_7344_11e9_b5db_fa163e31aa6brow3_col1\" class=\"data row3 col1\" >0.0159884</td>\n",
       "                        <td id=\"T_f0d9e9c6_7344_11e9_b5db_fa163e31aa6brow3_col2\" class=\"data row3 col2\" >0.0139383</td>\n",
       "            </tr>\n",
       "            <tr>\n",
       "                        <th id=\"T_f0d9e9c6_7344_11e9_b5db_fa163e31aa6blevel0_row4\" class=\"row_heading level0 row4\" >4</th>\n",
       "                        <td id=\"T_f0d9e9c6_7344_11e9_b5db_fa163e31aa6brow4_col0\" class=\"data row4 col0\" >Var_Month0</td>\n",
       "                        <td id=\"T_f0d9e9c6_7344_11e9_b5db_fa163e31aa6brow4_col1\" class=\"data row4 col1\" >0.0108721</td>\n",
       "                        <td id=\"T_f0d9e9c6_7344_11e9_b5db_fa163e31aa6brow4_col2\" class=\"data row4 col2\" >0.0127376</td>\n",
       "            </tr>\n",
       "            <tr>\n",
       "                        <th id=\"T_f0d9e9c6_7344_11e9_b5db_fa163e31aa6blevel0_row5\" class=\"row_heading level0 row5\" >5</th>\n",
       "                        <td id=\"T_f0d9e9c6_7344_11e9_b5db_fa163e31aa6brow5_col0\" class=\"data row5 col0\" >Var_Month7</td>\n",
       "                        <td id=\"T_f0d9e9c6_7344_11e9_b5db_fa163e31aa6brow5_col1\" class=\"data row5 col1\" >0.00917442</td>\n",
       "                        <td id=\"T_f0d9e9c6_7344_11e9_b5db_fa163e31aa6brow5_col2\" class=\"data row5 col2\" >0.0103353</td>\n",
       "            </tr>\n",
       "            <tr>\n",
       "                        <th id=\"T_f0d9e9c6_7344_11e9_b5db_fa163e31aa6blevel0_row6\" class=\"row_heading level0 row6\" >6</th>\n",
       "                        <td id=\"T_f0d9e9c6_7344_11e9_b5db_fa163e31aa6brow6_col0\" class=\"data row6 col0\" >Var_Month10</td>\n",
       "                        <td id=\"T_f0d9e9c6_7344_11e9_b5db_fa163e31aa6brow6_col1\" class=\"data row6 col1\" >0.0069186</td>\n",
       "                        <td id=\"T_f0d9e9c6_7344_11e9_b5db_fa163e31aa6brow6_col2\" class=\"data row6 col2\" >0.0109385</td>\n",
       "            </tr>\n",
       "            <tr>\n",
       "                        <th id=\"T_f0d9e9c6_7344_11e9_b5db_fa163e31aa6blevel0_row7\" class=\"row_heading level0 row7\" >7</th>\n",
       "                        <td id=\"T_f0d9e9c6_7344_11e9_b5db_fa163e31aa6brow7_col0\" class=\"data row7 col0\" >Var_Month11</td>\n",
       "                        <td id=\"T_f0d9e9c6_7344_11e9_b5db_fa163e31aa6brow7_col1\" class=\"data row7 col1\" >0.0055</td>\n",
       "                        <td id=\"T_f0d9e9c6_7344_11e9_b5db_fa163e31aa6brow7_col2\" class=\"data row7 col2\" >0.00996137</td>\n",
       "            </tr>\n",
       "            <tr>\n",
       "                        <th id=\"T_f0d9e9c6_7344_11e9_b5db_fa163e31aa6blevel0_row8\" class=\"row_heading level0 row8\" >8</th>\n",
       "                        <td id=\"T_f0d9e9c6_7344_11e9_b5db_fa163e31aa6brow8_col0\" class=\"data row8 col0\" >Var_Month2</td>\n",
       "                        <td id=\"T_f0d9e9c6_7344_11e9_b5db_fa163e31aa6brow8_col1\" class=\"data row8 col1\" >0.00496512</td>\n",
       "                        <td id=\"T_f0d9e9c6_7344_11e9_b5db_fa163e31aa6brow8_col2\" class=\"data row8 col2\" >0.0109927</td>\n",
       "            </tr>\n",
       "            <tr>\n",
       "                        <th id=\"T_f0d9e9c6_7344_11e9_b5db_fa163e31aa6blevel0_row9\" class=\"row_heading level0 row9\" >9</th>\n",
       "                        <td id=\"T_f0d9e9c6_7344_11e9_b5db_fa163e31aa6brow9_col0\" class=\"data row9 col0\" >Var_Month3</td>\n",
       "                        <td id=\"T_f0d9e9c6_7344_11e9_b5db_fa163e31aa6brow9_col1\" class=\"data row9 col1\" >0.00190698</td>\n",
       "                        <td id=\"T_f0d9e9c6_7344_11e9_b5db_fa163e31aa6brow9_col2\" class=\"data row9 col2\" >0.00770147</td>\n",
       "            </tr>\n",
       "            <tr>\n",
       "                        <th id=\"T_f0d9e9c6_7344_11e9_b5db_fa163e31aa6blevel0_row10\" class=\"row_heading level0 row10\" >10</th>\n",
       "                        <td id=\"T_f0d9e9c6_7344_11e9_b5db_fa163e31aa6brow10_col0\" class=\"data row10 col0\" >Var_Month4</td>\n",
       "                        <td id=\"T_f0d9e9c6_7344_11e9_b5db_fa163e31aa6brow10_col1\" class=\"data row10 col1\" >0.00167442</td>\n",
       "                        <td id=\"T_f0d9e9c6_7344_11e9_b5db_fa163e31aa6brow10_col2\" class=\"data row10 col2\" >0.00891435</td>\n",
       "            </tr>\n",
       "            <tr>\n",
       "                        <th id=\"T_f0d9e9c6_7344_11e9_b5db_fa163e31aa6blevel0_row11\" class=\"row_heading level0 row11\" >11</th>\n",
       "                        <td id=\"T_f0d9e9c6_7344_11e9_b5db_fa163e31aa6brow11_col0\" class=\"data row11 col0\" >Var_Month1</td>\n",
       "                        <td id=\"T_f0d9e9c6_7344_11e9_b5db_fa163e31aa6brow11_col1\" class=\"data row11 col1\" >-3.48837e-05</td>\n",
       "                        <td id=\"T_f0d9e9c6_7344_11e9_b5db_fa163e31aa6brow11_col2\" class=\"data row11 col2\" >0.00914255</td>\n",
       "            </tr>\n",
       "            <tr>\n",
       "                        <th id=\"T_f0d9e9c6_7344_11e9_b5db_fa163e31aa6blevel0_row12\" class=\"row_heading level0 row12\" >12</th>\n",
       "                        <td id=\"T_f0d9e9c6_7344_11e9_b5db_fa163e31aa6brow12_col0\" class=\"data row12 col0\" >Var_Month8</td>\n",
       "                        <td id=\"T_f0d9e9c6_7344_11e9_b5db_fa163e31aa6brow12_col1\" class=\"data row12 col1\" >-0.0055</td>\n",
       "                        <td id=\"T_f0d9e9c6_7344_11e9_b5db_fa163e31aa6brow12_col2\" class=\"data row12 col2\" >0.0111358</td>\n",
       "            </tr>\n",
       "    </tbody></table>"
      ],
      "text/plain": [
       "<pandas.io.formats.style.Styler at 0x7f711c5e4ac8>"
      ]
     },
     "execution_count": 667,
     "metadata": {},
     "output_type": "execute_result"
    }
   ],
   "source": [
    "model = Pipeline([\n",
    "    ('sampling', RandomOverSampler()),\n",
    "    ('clf', RandomForestClassifier(150, max_depth=5))\n",
    "])\n",
    "\n",
    "permutation_importance(model, 100)"
   ]
  },
  {
   "cell_type": "markdown",
   "metadata": {},
   "source": [
    "## tslearn"
   ]
  },
  {
   "cell_type": "code",
   "execution_count": null,
   "metadata": {},
   "outputs": [],
   "source": [
    "import ts"
   ]
  },
  {
   "cell_type": "code",
   "execution_count": null,
   "metadata": {},
   "outputs": [],
   "source": []
  },
  {
   "cell_type": "code",
   "execution_count": null,
   "metadata": {},
   "outputs": [],
   "source": []
  },
  {
   "cell_type": "code",
   "execution_count": 387,
   "metadata": {},
   "outputs": [],
   "source": [
    "X_resampled = X_resampled.reshape(*X_resampled.shape[:2])\n",
    "X_train = X_train.reshape(*X_train.shape[:2])\n",
    "X_test = X_test.reshape(*X_test.shape[:2])"
   ]
  },
  {
   "cell_type": "code",
   "execution_count": 388,
   "metadata": {},
   "outputs": [
    {
     "data": {
      "text/plain": [
       "(2580, 13)"
      ]
     },
     "execution_count": 388,
     "metadata": {},
     "output_type": "execute_result"
    }
   ],
   "source": [
    "X_resampled.shape"
   ]
  },
  {
   "cell_type": "code",
   "execution_count": 422,
   "metadata": {},
   "outputs": [],
   "source": [
    "def plot_feature_importances(model, ax):\n",
    "    n_features = WINDOW_SIZE\n",
    "    ax.barh(range(n_features), model.feature_importances_, align='center')\n",
    "#     ax.yticks(np.arange(n_features))\n",
    "#     ax.setxlabel(\"Feature importance\")\n",
    "#     ax.ylabel(\"Feature\")\n",
    "#     ax.ylim(-1, n_features)"
   ]
  },
  {
   "cell_type": "code",
   "execution_count": 409,
   "metadata": {},
   "outputs": [
    {
     "data": {
      "text/plain": [
       "<BarContainer object of 13 artists>"
      ]
     },
     "execution_count": 409,
     "metadata": {},
     "output_type": "execute_result"
    },
    {
     "data": {
      "image/png": "[encoded data removed]",
      "text/plain": [
       "<Figure size 2160x2160 with 25 Axes>"
      ]
     },
     "metadata": {
      "needs_background": "light"
     },
     "output_type": "display_data"
    }
   ],
   "source": [
    "fig, axs = plt.subplots(5,5, figsize=(30,30))\n",
    "\n",
    "axs = axs.ravel()\n",
    "\n",
    "average_feature_importance = np.zeros(WINDOW_SIZE)\n",
    "for i in range(1, 25):\n",
    "    rf = RandomForestClassifier(200)\n",
    "    rf.fit(X_resampled, np.argmax(y_resampled, 1))\n",
    "    average_feature_importance += rf.feature_importances_\n",
    "    plot_feature_importances(rf, axs[i])\n",
    "average_feature_importance /= 24\n",
    "axs[0].barh(range(WINDOW_SIZE), average_feature_importance, align='center', color='r')"
   ]
  },
  {
   "cell_type": "markdown",
   "metadata": {},
   "source": [
    "## tslearn"
   ]
  },
  {
   "cell_type": "code",
   "execution_count": 718,
   "metadata": {},
   "outputs": [],
   "source": [
    "from tslearn.shapelets import ShapeletModel, grabocka_params_to_shapelet_size_dict\n",
    "from keras.optimizers import Adagrad"
   ]
  },
  {
   "cell_type": "code",
   "execution_count": 769,
   "metadata": {},
   "outputs": [],
   "source": [
    "\n",
    "shapelet_sizes = grabocka_params_to_shapelet_size_dict(n_ts=X_resampled.shape[0],\n",
    "                                                       ts_sz=X_resampled.shape[1],\n",
    "                                                       n_classes=6,\n",
    "                                                       l=0.3,\n",
    "                                                       r=2)"
   ]
  },
  {
   "cell_type": "code",
   "execution_count": 770,
   "metadata": {},
   "outputs": [
    {
     "data": {
      "text/plain": [
       "ShapeletModel(batch_size=256, max_iter=50, n_shapelets_per_size={3: 5, 6: 5},\n",
       "       optimizer=<keras.optimizers.Adagrad object at 0x7f728a94c9e8>,\n",
       "       random_state=None, verbose_level=0, weight_regularizer=0.01)"
      ]
     },
     "execution_count": 770,
     "metadata": {},
     "output_type": "execute_result"
    }
   ],
   "source": [
    "shp_clf = ShapeletModel(n_shapelets_per_size=shapelet_sizes,\n",
    "                        optimizer=Adagrad(lr=.1),\n",
    "                        weight_regularizer=.01,\n",
    "                        max_iter=50,\n",
    "                        verbose_level=0)\n",
    "shp_clf.fit(X_resampled.reshape(*X_resampled.shape, 1), np.argmax(y_resampled,1))"
   ]
  },
  {
   "cell_type": "code",
   "execution_count": 771,
   "metadata": {},
   "outputs": [
    {
     "data": {
      "text/plain": [
       "0.18047832060896404"
      ]
     },
     "execution_count": 771,
     "metadata": {},
     "output_type": "execute_result"
    }
   ],
   "source": [
    "f1_score(shp_clf.predict(X_test.reshape(*X_test.shape, 1)), np.argmax(y_test,1), average='macro')"
   ]
  },
  {
   "cell_type": "code",
   "execution_count": 772,
   "metadata": {},
   "outputs": [
    {
     "data": {
      "text/plain": [
       "array([[ 2,  0,  0,  1,  0,  3],\n",
       "       [ 2,  2,  0,  3,  4,  8],\n",
       "       [ 5,  1,  0,  2,  0, 14],\n",
       "       [ 1,  0,  0,  1,  1,  3],\n",
       "       [10,  2,  1,  4,  1, 22],\n",
       "       [ 3,  5,  0,  4,  2, 65]])"
      ]
     },
     "execution_count": 772,
     "metadata": {},
     "output_type": "execute_result"
    }
   ],
   "source": [
    "confusion_matrix(shp_clf.predict(X_test.reshape(*X_test.shape, 1)), np.argmax(y_test,1))"
   ]
  },
  {
   "cell_type": "code",
   "execution_count": 775,
   "metadata": {},
   "outputs": [],
   "source": [
    "predicted_locations = shp_clf.locate(X_test)"
   ]
  },
  {
   "cell_type": "code",
   "execution_count": 778,
   "metadata": {},
   "outputs": [
    {
     "data": {
      "image/png": "[encoded data removed]",
      "text/plain": [
       "<Figure size 432x288 with 1 Axes>"
      ]
     },
     "metadata": {
      "needs_background": "light"
     },
     "output_type": "display_data"
    }
   ],
   "source": [
    "\n",
    "test_ts_id = 20\n",
    "plt.figure()\n",
    "plt.title(\"Example locations of shapelet matches (%d shapelets extracted)\" % sum(shapelet_sizes.values()))\n",
    "plt.plot(X_test[test_ts_id].ravel())\n",
    "for idx_shp, shp in enumerate(shp_clf.shapelets_):\n",
    "    t0 = predicted_locations[test_ts_id, idx_shp]\n",
    "    plt.plot(np.arange(t0, t0 + len(shp)), shp, linewidth=2)\n",
    "\n",
    "plt.tight_layout()\n",
    "plt.show()"
   ]
  },
  {
   "cell_type": "code",
   "execution_count": 780,
   "metadata": {},
   "outputs": [
    {
     "data": {
      "text/plain": [
       "0.1868386652906777"
      ]
     },
     "execution_count": 780,
     "metadata": {},
     "output_type": "execute_result"
    }
   ],
   "source": [
    "from tslearn.neighbors import KNeighborsTimeSeriesClassifier\n",
    "knn_clf = KNeighborsTimeSeriesClassifier(n_neighbors=3, metric=\"dtw\")\n",
    "knn_clf.fit(X_resampled, y_resampled)\n",
    "predicted_labels = knn_clf.predict(X_test)\n",
    "f1_score(predicted_labels, y_test, average='macro')"
   ]
  },
  {
   "cell_type": "code",
   "execution_count": 779,
   "metadata": {},
   "outputs": [
    {
     "data": {
      "text/plain": [
       "0.1535036778939218"
      ]
     },
     "execution_count": 779,
     "metadata": {},
     "output_type": "execute_result"
    }
   ],
   "source": [
    "knn_clf = KNeighborsTimeSeriesClassifier(n_neighbors=3, metric=\"euclidean\")\n",
    "knn_clf.fit(X_resampled, y_resampled)\n",
    "predicted_labels = knn_clf.predict(X_test)\n",
    "f1_score(predicted_labels, y_test, average='macro')"
   ]
  },
  {
   "cell_type": "code",
   "execution_count": null,
   "metadata": {},
   "outputs": [],
   "source": []
  },
  {
   "cell_type": "code",
   "execution_count": null,
   "metadata": {},
   "outputs": [],
   "source": []
  }
 ],
 "metadata": {
  "kernelspec": {
   "display_name": "Python 3",
   "language": "python",
   "name": "python3"
  },
  "language_info": {
   "codemirror_mode": {
    "name": "ipython",
    "version": 3
   },
   "file_extension": ".py",
   "mimetype": "text/x-python",
   "name": "python",
   "nbconvert_exporter": "python",
   "pygments_lexer": "ipython3",
   "version": "3.6.6"
  }
 },
 "nbformat": 4,
 "nbformat_minor": 2
}
