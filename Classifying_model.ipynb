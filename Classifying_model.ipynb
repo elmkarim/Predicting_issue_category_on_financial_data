{
 "cells": [
  {
   "cell_type": "code",
   "execution_count": 1,
   "metadata": {},
   "outputs": [],
   "source": [
    "import numpy as np\n",
    "import pandas as pd"
   ]
  },
  {
   "cell_type": "code",
   "execution_count": 2,
   "metadata": {},
   "outputs": [
    {
     "name": "stderr",
     "output_type": "stream",
     "text": [
      "Using TensorFlow backend.\n"
     ]
    }
   ],
   "source": [
    "from keras.preprocessing.text import Tokenizer\n",
    "from keras.preprocessing.sequence import pad_sequences\n",
    "\n",
    "from keras.models import Model\n",
    "from keras.models import Sequential\n",
    "from keras.layers import LSTM, Dense, Embedding, Input, Dropout\n",
    "\n",
    "from keras.layers import concatenate\n",
    "from keras.utils import to_categorical"
   ]
  },
  {
   "cell_type": "code",
   "execution_count": 46,
   "metadata": {},
   "outputs": [],
   "source": [
    "import matplotlib.pyplot as plt\n",
    "%matplotlib inline"
   ]
  },
  {
   "cell_type": "markdown",
   "metadata": {},
   "source": [
    "## Loading Data"
   ]
  },
  {
   "cell_type": "code",
   "execution_count": 2,
   "metadata": {},
   "outputs": [],
   "source": [
    "# import helper_save_load\n",
    "# df = helper_save_load.load_excel_spreadsheet(\"../Commentaries_labeled_v2.xlsm\", \"SplitComments\")\n",
    "\n",
    "\n",
    "# brands_df = helper_save_load.load_excel_spreadsheet(\"../brands-categories-totals-updated.xlsx\", \"Brands-processed\")\n",
    "# brands_df.rename(columns={\"Brands in Commentaries file\":\"Brand\"}, inplace=True)\n",
    "\n",
    "# # Merges on Brand but also gets rid of all Total category rows\n",
    "# df = df.merge(brands_df[[\"Brand\", \"Brand_1\", \"Brand_2\", \"Brand_3\"]], on=[\"Brand\"])\n",
    "# df.sort_values(by=[\"Num\"], inplace=True)\n",
    "# helper_save_load.save_to_pickle(\"Labeled_comments.pkl\", df)"
   ]
  },
  {
   "cell_type": "code",
   "execution_count": 86,
   "metadata": {},
   "outputs": [],
   "source": [
    "from helper_save_load import load_from_pickle\n",
    "\n",
    "df_c = load_from_pickle(\"Labeled_comments.pkl\")\n",
    "#dfc.dropna(subset=['Brand'], inplace=True)"
   ]
  },
  {
   "cell_type": "code",
   "execution_count": 79,
   "metadata": {},
   "outputs": [],
   "source": [
    "ignored_brands = [\"57-CAMAY BAR SOAP Brand\",\n",
    "\"IGNORE\",\n",
    "\"71-LBP SH/CD Roll-up Brand\",\n",
    "\"72-LBP SHOWER Roll-up Brand\"]\n",
    "\n",
    "df_c = df_c[~df_c[\"Brand_1\"].isin(ignored_brands)]"
   ]
  },
  {
   "cell_type": "code",
   "execution_count": 80,
   "metadata": {},
   "outputs": [],
   "source": [
    "label_cols = df_c.columns[12:16] # Don't include Baseline for now\n",
    "\n",
    "territory_label_cols = df_c.columns[17:]\n",
    "territory_labels = df_c[territory_label_cols]"
   ]
  },
  {
   "cell_type": "code",
   "execution_count": 63,
   "metadata": {},
   "outputs": [],
   "source": [
    "# Undersample\n",
    "no_label = df_c[label_cols].sum(axis=1) == 0\n",
    "\n",
    "df_class_0 = df_c[no_label]\n",
    "df_class_1 = df_c[~no_label]\n",
    "\n",
    "count_class_0 = len(df_class_0)\n",
    "count_class_1 = len(df_class_1)\n",
    "\n",
    "df_class_0_under = df_class_0.sample(count_class_1)\n",
    "df_test_under = pd.concat([df_class_0_under, df_class_1], axis=0)\n",
    "\n",
    "df_c = df_test_under.sort_values(by='Num').reset_index(drop=True)"
   ]
  },
  {
   "cell_type": "code",
   "execution_count": 81,
   "metadata": {},
   "outputs": [],
   "source": [
    "labels = df_c[label_cols] "
   ]
  },
  {
   "cell_type": "code",
   "execution_count": 51,
   "metadata": {},
   "outputs": [],
   "source": [
    "df_a, df_f, df_v = load_from_pickle(\"dataframes_Dollars.pickle\")\n",
    "del df_a, df_f"
   ]
  },
  {
   "cell_type": "markdown",
   "metadata": {},
   "source": [
    "## Preparing Data"
   ]
  },
  {
   "cell_type": "code",
   "execution_count": 2,
   "metadata": {},
   "outputs": [],
   "source": [
    "df_c[\"Month\"] = pd.to_datetime(df_c[\"Month\"]).dt.strftime(\"%b_%Y\")\n",
    "\n",
    "df_c[\"Commentaries\"] = df_c[\"Commentaries\"].str.replace(\"\\$?[0-9\\.]+[MK]\",\"[#]\")\n",
    "df_c[\"Commentaries\"] = df_c[\"Commentaries\"].str.replace(\"[,/]\", \" \")\n",
    "df_c[\"Commentaries\"] = df_c[\"Commentaries\"].str.replace('[!\"$%&\\'()*:;<=>?@\\\\.^_`{|}~]', '')\n",
    "df_c[\"Commentaries\"] = df_c[\"Commentaries\"].str.lower()\n",
    "\n",
    "commentaries = \"[SOS] \" + df_c[\"Commentaries\"] + \" [EOS]\"\n",
    "commentaries.fillna(\"[SOS] [EOS]\", inplace=True)\n",
    "commentaries.head(7)"
   ]
  },
  {
   "cell_type": "code",
   "execution_count": 1,
   "metadata": {},
   "outputs": [],
   "source": [
    "df_c.head()"
   ]
  },
  {
   "cell_type": "code",
   "execution_count": 10,
   "metadata": {},
   "outputs": [],
   "source": [
    "territories = [territory for territory, values in df_v.groupby(['Territory']).groups.items()]"
   ]
  },
  {
   "cell_type": "code",
   "execution_count": 11,
   "metadata": {},
   "outputs": [],
   "source": [
    "empty_df = pd.DataFrame(0.0, index=[0], columns=territories)\n",
    "varv_length = len(empty_df.columns)"
   ]
  },
  {
   "cell_type": "code",
   "execution_count": 12,
   "metadata": {},
   "outputs": [
    {
     "data": {
      "text/html": [
       "<div>\n",
       "<style scoped>\n",
       "    .dataframe tbody tr th:only-of-type {\n",
       "        vertical-align: middle;\n",
       "    }\n",
       "\n",
       "    .dataframe tbody tr th {\n",
       "        vertical-align: top;\n",
       "    }\n",
       "\n",
       "    .dataframe thead th {\n",
       "        text-align: right;\n",
       "    }\n",
       "</style>\n",
       "<table border=\"1\" class=\"dataframe\">\n",
       "  <thead>\n",
       "    <tr style=\"text-align: right;\">\n",
       "      <th></th>\n",
       "      <th>M1000 - E-COMMERCE</th>\n",
       "      <th>M4000 - LCL HPC</th>\n",
       "      <th>M4001 - LCL FDS exclude IC</th>\n",
       "      <th>M4002 - LCL IC</th>\n",
       "      <th>M4400 - SHOPPERS D.M.</th>\n",
       "      <th>M5000 - MCKESSON</th>\n",
       "      <th>M5001 - JEAN COUTU</th>\n",
       "      <th>M5002 - FAMILIPRIX</th>\n",
       "      <th>M5100 - METRO ONT IC</th>\n",
       "      <th>M5101 - METRO QUE IC</th>\n",
       "      <th>...</th>\n",
       "      <th>M7303 - NATIONAL OOH MDs</th>\n",
       "      <th>M7304 - ATLANTIC RETAIL AND OOH</th>\n",
       "      <th>M7305 - COUCHE TARD</th>\n",
       "      <th>M7400 - WALMART</th>\n",
       "      <th>M7500 - CANADA COSTCO</th>\n",
       "      <th>M7600 - GIANT TIGER</th>\n",
       "      <th>M7601 - DOLLAR VALUE</th>\n",
       "      <th>M7602 - LONGOS</th>\n",
       "      <th>M7603 - ALTERNATIVE CHANNELS</th>\n",
       "      <th>M7700 - ONT/WEST FIELD</th>\n",
       "    </tr>\n",
       "  </thead>\n",
       "  <tbody>\n",
       "    <tr>\n",
       "      <th>05-AXE SA Brand</th>\n",
       "      <td>0.002027</td>\n",
       "      <td>0.001381</td>\n",
       "      <td>0.0</td>\n",
       "      <td>0.0</td>\n",
       "      <td>-0.000094</td>\n",
       "      <td>0.01371</td>\n",
       "      <td>-0.000699</td>\n",
       "      <td>-0.001275</td>\n",
       "      <td>0.0</td>\n",
       "      <td>0.0</td>\n",
       "      <td>...</td>\n",
       "      <td>0.0</td>\n",
       "      <td>0.0</td>\n",
       "      <td>0.0</td>\n",
       "      <td>0.005972</td>\n",
       "      <td>0.0</td>\n",
       "      <td>0.0</td>\n",
       "      <td>0.0</td>\n",
       "      <td>0.0</td>\n",
       "      <td>0.0</td>\n",
       "      <td>-0.000208</td>\n",
       "    </tr>\n",
       "  </tbody>\n",
       "</table>\n",
       "<p>1 rows × 34 columns</p>\n",
       "</div>"
      ],
      "text/plain": [
       "                 M1000 - E-COMMERCE  M4000 - LCL HPC  \\\n",
       "05-AXE SA Brand            0.002027         0.001381   \n",
       "\n",
       "                 M4001 - LCL FDS exclude IC  M4002 - LCL IC  \\\n",
       "05-AXE SA Brand                         0.0             0.0   \n",
       "\n",
       "                 M4400 - SHOPPERS D.M.  M5000 - MCKESSON  M5001 - JEAN COUTU  \\\n",
       "05-AXE SA Brand              -0.000094           0.01371           -0.000699   \n",
       "\n",
       "                 M5002 - FAMILIPRIX  M5100 - METRO ONT IC  \\\n",
       "05-AXE SA Brand           -0.001275                   0.0   \n",
       "\n",
       "                 M5101 - METRO QUE IC  ...  M7303 - NATIONAL OOH MDs  \\\n",
       "05-AXE SA Brand                   0.0  ...                       0.0   \n",
       "\n",
       "                 M7304 - ATLANTIC RETAIL AND OOH  M7305 - COUCHE TARD  \\\n",
       "05-AXE SA Brand                              0.0                  0.0   \n",
       "\n",
       "                 M7400 - WALMART  M7500 - CANADA COSTCO  M7600 - GIANT TIGER  \\\n",
       "05-AXE SA Brand         0.005972                    0.0                  0.0   \n",
       "\n",
       "                 M7601 - DOLLAR VALUE  M7602 - LONGOS  \\\n",
       "05-AXE SA Brand                   0.0             0.0   \n",
       "\n",
       "                 M7603 - ALTERNATIVE CHANNELS  M7700 - ONT/WEST FIELD  \n",
       "05-AXE SA Brand                           0.0               -0.000208  \n",
       "\n",
       "[1 rows x 34 columns]"
      ]
     },
     "execution_count": 12,
     "metadata": {},
     "output_type": "execute_result"
    }
   ],
   "source": [
    "#return pivot table for the required month in Millions of $\n",
    "def get_pivot_month_Territory_by_brand(month, brand, flatten=1):\n",
    "    #Group by Territory and Brand\n",
    "    df_group_Br_Tr = df_v[df_v['Brand'] == brand].groupby(['Brand', 'Territory']).sum()\n",
    "    result = pd.pivot_table(df_group_Br_Tr, values=[month], index=['Brand'], \n",
    "                            columns=['Territory'], aggfunc=np.sum, fill_value=0) / 1e6\n",
    "    result.columns = result.columns.droplevel()  #drop month level as there is only one month\n",
    "    if len(result.index)>0:   #if no data is available, return a zero vector\n",
    "    #Align with empty_df that includes all territories\n",
    "        result = empty_df.append(result, sort=True).fillna(0)      \n",
    "        result.drop(0, inplace=True)  #drop line 0 of empty_df\n",
    "    else:\n",
    "        result = empty_df \n",
    "    if (flatten==1): result = result.values.flatten()\n",
    "    return (result)  \n",
    "\n",
    "get_pivot_month_Territory_by_brand('Jan_2018', '05-AXE SA Brand', 0)"
   ]
  },
  {
   "cell_type": "markdown",
   "metadata": {},
   "source": [
    "# Update for single Territory input"
   ]
  },
  {
   "cell_type": "markdown",
   "metadata": {},
   "source": [
    "## Reshaping Data"
   ]
  },
  {
   "cell_type": "code",
   "execution_count": 14,
   "metadata": {},
   "outputs": [],
   "source": [
    "# We want a 12 month window of variance data for each commentary\n",
    "\n",
    "# Get full time series for each brand.\n",
    "# -> Lookup month-brand for your commentary and append\n",
    "\n",
    "brands = df_v[\"Brand\"].unique()\n",
    "months = np.array(df_v.columns[8:])\n",
    "\n",
    "var_timeseries = []\n",
    "\n",
    "for brand in brands:\n",
    "    temp = []\n",
    "    for month in months:\n",
    "        temp.append(get_pivot_month_Territory_by_brand(month, brand))\n",
    "                        \n",
    "    var_timeseries.append(temp)\n",
    "\n",
    "var_timeseries = np.array(var_timeseries)"
   ]
  },
  {
   "cell_type": "code",
   "execution_count": 15,
   "metadata": {},
   "outputs": [
    {
     "data": {
      "text/plain": [
       "(136, 34, 34)"
      ]
     },
     "execution_count": 15,
     "metadata": {},
     "output_type": "execute_result"
    }
   ],
   "source": [
    "var_timeseries.shape # Brands by month by territory. LSTM will be fed month rows for the brand involved"
   ]
  },
  {
   "cell_type": "code",
   "execution_count": 16,
   "metadata": {},
   "outputs": [],
   "source": [
    "# Function to choose data from 1 year window per commentary. Pad with zeros if data not available.\n",
    "\n",
    "# Needs rework?\n",
    "timeseries_windows = []\n",
    "for (index, row) in df_c[[\"Month\", \"Brand_1\"]].iterrows():\n",
    "    brand_idx = np.where(brands==row[\"Brand_1\"])[0][0]\n",
    "    month_idx = np.where(months==row[\"Month\"])[0][0]\n",
    "    \n",
    "    if month_idx - 12 < 0:\n",
    "        # Maybe pad with something other than zeros??\n",
    "        padding = np.zeros(((12 - month_idx), len(territories)))\n",
    "        window = np.concatenate((padding, var_timeseries[brand_idx, :month_idx, :]))\n",
    "    else:\n",
    "        window = var_timeseries[brand_idx, (month_idx-12):month_idx, :]\n",
    "    \n",
    "    timeseries_windows.append(window)\n",
    "    \n",
    "timeseries_windows = np.array(timeseries_windows)"
   ]
  },
  {
   "cell_type": "code",
   "execution_count": 134,
   "metadata": {},
   "outputs": [
    {
     "data": {
      "text/plain": [
       "(1294, 12, 34)"
      ]
     },
     "execution_count": 134,
     "metadata": {},
     "output_type": "execute_result"
    }
   ],
   "source": [
    "timeseries_windows.shape # 1294 commentaries x 12 months x 34 territories"
   ]
  },
  {
   "cell_type": "markdown",
   "metadata": {},
   "source": [
    "## Build the Model"
   ]
  },
  {
   "cell_type": "code",
   "execution_count": 135,
   "metadata": {
    "collapsed": true
   },
   "outputs": [],
   "source": [
    "def show_image(imagefile, w, h):\n",
    "    %pylab inline\n",
    "    import matplotlib.pyplot as plt\n",
    "    import matplotlib.image as mpimg\n",
    "    img=mpimg.imread(imagefile)\n",
    "    plt.figure(figsize=(w, h))\n",
    "    imgplot = plt.imshow(img);\n",
    "    plt.show();\n",
    "\n",
    "def show_model(model, w, h):\n",
    "    from keras.utils.vis_utils import plot_model\n",
    "    plot_model(model, to_file='model_plot.png', show_shapes=True, show_layer_names=True);\n",
    "    show_image('model_plot.png', w, h)"
   ]
  },
  {
   "cell_type": "code",
   "execution_count": 136,
   "metadata": {},
   "outputs": [
    {
     "name": "stdout",
     "output_type": "stream",
     "text": [
      "_________________________________________________________________\n",
      "Layer (type)                 Output Shape              Param #   \n",
      "=================================================================\n",
      "BrandVarianceWindows (InputL (None, 12, 34)            0         \n",
      "_________________________________________________________________\n",
      "VarianceLSTM (LSTM)          (None, 200)               188000    \n",
      "_________________________________________________________________\n",
      "ClassOutputs (Dense)         (None, 4)                 804       \n",
      "=================================================================\n",
      "Total params: 188,804\n",
      "Trainable params: 188,804\n",
      "Non-trainable params: 0\n",
      "_________________________________________________________________\n",
      "None\n",
      "Populating the interactive namespace from numpy and matplotlib\n"
     ]
    },
    {
     "data": {
      "image/png": "[encoded data removed]",
      "text/plain": [
       "<matplotlib.figure.Figure at 0x13507feb8>"
      ]
     },
     "metadata": {},
     "output_type": "display_data"
    }
   ],
   "source": [
    "# LSTM that takes windowed time series of variance by brand per commentary\n",
    "\n",
    "inputs = Input(shape=(12,34), name=\"BrandVarianceWindows\")\n",
    "lstm = LSTM(200, name=\"VarianceLSTM\")\n",
    "lstm_outputs = lstm(inputs)\n",
    "\n",
    "class_outputs = Dense(4, activation='sigmoid', name=\"ClassOutputs\")(lstm_outputs)\n",
    "\n",
    "model = Model(inputs, class_outputs)\n",
    "\n",
    "model.compile(optimizer='rmsprop', loss='binary_crossentropy', metrics=['accuracy'])\n",
    "\n",
    "print(model.summary())\n",
    "show_model(model, 10, 10)"
   ]
  },
  {
   "cell_type": "code",
   "execution_count": 137,
   "metadata": {},
   "outputs": [
    {
     "name": "stderr",
     "output_type": "stream",
     "text": [
      "/Library/Frameworks/Python.framework/Versions/3.5/lib/python3.5/site-packages/pandas/core/frame.py:4034: SettingWithCopyWarning: \n",
      "A value is trying to be set on a copy of a slice from a DataFrame\n",
      "\n",
      "See the caveats in the documentation: http://pandas.pydata.org/pandas-docs/stable/indexing.html#indexing-view-versus-copy\n",
      "  downcast=downcast, **kwargs)\n"
     ]
    }
   ],
   "source": [
    "labels.fillna(0, inplace=True)\n",
    "targets = labels.values"
   ]
  },
  {
   "cell_type": "code",
   "execution_count": 138,
   "metadata": {
    "scrolled": true
   },
   "outputs": [
    {
     "name": "stdout",
     "output_type": "stream",
     "text": [
      "Epoch 1/10\n",
      "1294/1294 [==============================] - 3s 2ms/step - loss: 0.2451 - acc: 0.9436\n",
      "Epoch 2/10\n",
      "1294/1294 [==============================] - 1s 911us/step - loss: 0.1776 - acc: 0.9529\n",
      "Epoch 3/10\n",
      "1294/1294 [==============================] - 1s 940us/step - loss: 0.1741 - acc: 0.9536\n",
      "Epoch 4/10\n",
      "1294/1294 [==============================] - 1s 942us/step - loss: 0.1724 - acc: 0.9538 1s - loss: 0.\n",
      "Epoch 5/10\n",
      "1294/1294 [==============================] - 1s 881us/step - loss: 0.1698 - acc: 0.9521\n",
      "Epoch 6/10\n",
      "1294/1294 [==============================] - 1s 892us/step - loss: 0.1695 - acc: 0.9534\n",
      "Epoch 7/10\n",
      "1294/1294 [==============================] - 1s 889us/step - loss: 0.1664 - acc: 0.9531\n",
      "Epoch 8/10\n",
      "1294/1294 [==============================] - 1s 905us/step - loss: 0.1649 - acc: 0.9540\n",
      "Epoch 9/10\n",
      "1294/1294 [==============================] - 1s 880us/step - loss: 0.1629 - acc: 0.9542\n",
      "Epoch 10/10\n",
      "1294/1294 [==============================] - 1s 950us/step - loss: 0.1619 - acc: 0.9536\n"
     ]
    }
   ],
   "source": [
    "# nonzero_idx = np.nonzero(targets)[0]\n",
    "\n",
    "history = model.fit(x=timeseries_windows[:], y=targets[:], epochs=10)\n",
    "#history = model.fit(x=timeseries_windows[:], y=targets[:], epochs=10, batch_size=32, validation_split=0.2)"
   ]
  },
  {
   "cell_type": "code",
   "execution_count": 139,
   "metadata": {},
   "outputs": [
    {
     "ename": "KeyError",
     "evalue": "'val_loss'",
     "output_type": "error",
     "traceback": [
      "\u001b[0;31m---------------------------------------------------------------------------\u001b[0m",
      "\u001b[0;31mKeyError\u001b[0m                                  Traceback (most recent call last)",
      "\u001b[0;32m<ipython-input-139-c432abd41f14>\u001b[0m in \u001b[0;36m<module>\u001b[0;34m()\u001b[0m\n\u001b[1;32m      4\u001b[0m \u001b[0;34m\u001b[0m\u001b[0m\n\u001b[1;32m      5\u001b[0m \u001b[0mplt\u001b[0m\u001b[0;34m.\u001b[0m\u001b[0mplot\u001b[0m\u001b[0;34m(\u001b[0m\u001b[0mhistory\u001b[0m\u001b[0;34m.\u001b[0m\u001b[0mhistory\u001b[0m\u001b[0;34m[\u001b[0m\u001b[0;34m'loss'\u001b[0m\u001b[0;34m]\u001b[0m\u001b[0;34m)\u001b[0m\u001b[0;34m\u001b[0m\u001b[0m\n\u001b[0;32m----> 6\u001b[0;31m \u001b[0mplt\u001b[0m\u001b[0;34m.\u001b[0m\u001b[0mplot\u001b[0m\u001b[0;34m(\u001b[0m\u001b[0mhistory\u001b[0m\u001b[0;34m.\u001b[0m\u001b[0mhistory\u001b[0m\u001b[0;34m[\u001b[0m\u001b[0;34m'val_loss'\u001b[0m\u001b[0;34m]\u001b[0m\u001b[0;34m)\u001b[0m\u001b[0;34m\u001b[0m\u001b[0m\n\u001b[0m\u001b[1;32m      7\u001b[0m \u001b[0mplt\u001b[0m\u001b[0;34m.\u001b[0m\u001b[0mylabel\u001b[0m\u001b[0;34m(\u001b[0m\u001b[0;34m'loss'\u001b[0m\u001b[0;34m)\u001b[0m\u001b[0;34m\u001b[0m\u001b[0m\n\u001b[1;32m      8\u001b[0m \u001b[0mplt\u001b[0m\u001b[0;34m.\u001b[0m\u001b[0mxlabel\u001b[0m\u001b[0;34m(\u001b[0m\u001b[0;34m'epoch'\u001b[0m\u001b[0;34m)\u001b[0m\u001b[0;34m\u001b[0m\u001b[0m\n",
      "\u001b[0;31mKeyError\u001b[0m: 'val_loss'"
     ]
    },
    {
     "data": {
      "image/png": "[encoded data removed]",
      "text/plain": [
       "<matplotlib.figure.Figure at 0x128d04048>"
      ]
     },
     "metadata": {},
     "output_type": "display_data"
    }
   ],
   "source": [
    "import matplotlib.pyplot as plt\n",
    "\n",
    "%matplotlib inline\n",
    "\n",
    "plt.plot(history.history['loss'])\n",
    "plt.plot(history.history['val_loss'])\n",
    "plt.ylabel('loss')\n",
    "plt.xlabel('epoch')\n",
    "plt.title('model loss')\n",
    "plt.legend(['train', 'validation'], loc='upper right')\n",
    "plt.show()\n",
    "\n",
    "plt.plot(history.history['acc'])\n",
    "plt.plot(history.history['val_acc'])\n",
    "plt.ylabel('accuracy')\n",
    "plt.xlabel('epoch')\n",
    "plt.title('model accuracy')\n",
    "plt.legend(['train', 'validation'], loc='upper left')\n",
    "plt.show()"
   ]
  },
  {
   "cell_type": "code",
   "execution_count": 140,
   "metadata": {
    "collapsed": true
   },
   "outputs": [],
   "source": [
    "def prediction_accuracy(var_test, test_labels):\n",
    "    predictions = model.predict(var_test)\n",
    "    \n",
    "    correct = sum(np.all(np.equal(np.round(predictions),test_labels), axis=1))\n",
    "    \n",
    "    return correct/len(test_labels)"
   ]
  },
  {
   "cell_type": "code",
   "execution_count": 141,
   "metadata": {},
   "outputs": [
    {
     "data": {
      "text/plain": [
       "(1294, 4)"
      ]
     },
     "execution_count": 141,
     "metadata": {},
     "output_type": "execute_result"
    }
   ],
   "source": [
    "targets.shape"
   ]
  },
  {
   "cell_type": "code",
   "execution_count": 142,
   "metadata": {},
   "outputs": [
    {
     "data": {
      "text/plain": [
       "0.8431221020092736"
      ]
     },
     "execution_count": 142,
     "metadata": {},
     "output_type": "execute_result"
    }
   ],
   "source": [
    "prediction_accuracy(timeseries_windows, targets)"
   ]
  },
  {
   "cell_type": "code",
   "execution_count": 143,
   "metadata": {},
   "outputs": [],
   "source": [
    "test = model.predict(timeseries_windows)"
   ]
  },
  {
   "cell_type": "code",
   "execution_count": 144,
   "metadata": {},
   "outputs": [],
   "source": [
    "nonzero_idx = np.nonzero(targets)[0]"
   ]
  },
  {
   "cell_type": "code",
   "execution_count": 145,
   "metadata": {},
   "outputs": [
    {
     "data": {
      "text/plain": [
       "array([ 88., 112.,  22.,  18.])"
      ]
     },
     "execution_count": 145,
     "metadata": {},
     "output_type": "execute_result"
    }
   ],
   "source": [
    "np.sum(targets, axis=0)"
   ]
  },
  {
   "cell_type": "code",
   "execution_count": 146,
   "metadata": {},
   "outputs": [
    {
     "data": {
      "text/plain": [
       "array([33.,  3.,  0.,  0.], dtype=float32)"
      ]
     },
     "execution_count": 146,
     "metadata": {},
     "output_type": "execute_result"
    }
   ],
   "source": [
    "np.sum(np.round(test), axis=0)"
   ]
  },
  {
   "cell_type": "code",
   "execution_count": 39,
   "metadata": {},
   "outputs": [
    {
     "data": {
      "text/plain": [
       "Index(['Promo', 'Phasing', 'SP&D', 'POS'], dtype='object')"
      ]
     },
     "execution_count": 39,
     "metadata": {},
     "output_type": "execute_result"
    }
   ],
   "source": [
    "label_cols"
   ]
  },
  {
   "cell_type": "markdown",
   "metadata": {},
   "source": [
    "## Exploration"
   ]
  },
  {
   "cell_type": "code",
   "execution_count": 3,
   "metadata": {},
   "outputs": [],
   "source": [
    "df_c[df_c[\"Commentaries\"].str.contains(\"phas\", na=False)]"
   ]
  },
  {
   "cell_type": "code",
   "execution_count": 4,
   "metadata": {},
   "outputs": [],
   "source": [
    "df_c[(df_c[\"WM\"] == 1) & (df_c[\"Commentaries\"].str.contains(\"phas\", na=False))][[\"Month\", \"Brand_1\", \"Variance\", \"Commentaries\"]]"
   ]
  },
  {
   "cell_type": "code",
   "execution_count": 5,
   "metadata": {},
   "outputs": [],
   "source": [
    "df_c[(df_c[\"WM\"] == 1) & (df_c[\"Brand_1\"] == \"JK-DOVE HS-SA Brand\")][[\"Month\", \"Brand_1\", \"Commentaries\"]]"
   ]
  },
  {
   "cell_type": "code",
   "execution_count": 85,
   "metadata": {},
   "outputs": [],
   "source": [
    "wm_actual = df_a.groupby([\"Territory\", \"Brand\"]).sum().loc[\"M7400 - WALMART\"]\n",
    "wm_forecast=df_f.groupby([\"Territory\", \"Brand\"]).sum().loc[\"M7400 - WALMART\"]\n",
    "wm_actual.columns = wm_by_brand.columns\n",
    "wm_forecast.columns = wm_by_brand.columns"
   ]
  },
  {
   "cell_type": "code",
   "execution_count": 34,
   "metadata": {},
   "outputs": [],
   "source": [
    "df_group_Tr_Br = df_v.groupby([\"Territory\", \"Brand\"]).sum()"
   ]
  },
  {
   "cell_type": "code",
   "execution_count": 49,
   "metadata": {},
   "outputs": [],
   "source": [
    "wm_by_brand = df_group_Tr_Br.loc[\"M7400 - WALMART\"]"
   ]
  },
  {
   "cell_type": "code",
   "execution_count": null,
   "metadata": {},
   "outputs": [],
   "source": [
    "plt.figure(figsize=(30,10))\n",
    "plt.plot(wm_actual.loc[\"JK-DOVE HS-SA Brand\"], label=\"Actual\")\n",
    "plt.plot(wm_forecast.loc[\"JK-DOVE HS-SA Brand\"], label=\"Forecast\")\n",
    "plt.xticks(rotation=90, fontsize=18)\n",
    "plt.yticks(fontsize=18)\n",
    "plt.title(wm_actual.loc[\"JK-DOVE HS-SA Brand\"].name, fontsize=24)\n",
    "plt.grid(axis='x')\n",
    "\n",
    "plt.legend(fontsize=18)\n",
    "plt.show()\n"
   ]
  },
  {
   "cell_type": "code",
   "execution_count": null,
   "metadata": {},
   "outputs": [],
   "source": [
    "plt.figure(figsize=(30,10))\n",
    "plt.plot(wm_by_brand.loc[\"JK-DOVE HS-SA Brand\"])\n",
    "\n",
    "plt.xticks(rotation=90, fontsize=18)\n",
    "plt.yticks(fontsize=18)\n",
    "plt.title(wm_by_brand.loc[\"JK-DOVE HS-SA Brand\"].name, fontsize=24)\n",
    "plt.grid()\n",
    "\n",
    "plt.show()\n",
    "\n",
    "\n",
    "# plt.figure(figsize=(30,10))\n",
    "\n",
    "# plt.xticks(rotation=90, fontsize=18)\n",
    "# plt.yticks(fontsize=18)\n",
    "# plt.title(wm_actual.loc[\"JK-DOVE HS-SA Brand\"].name, fontsize=24)\n",
    "\n",
    "# plt.plot(wm_actual.loc[\"JK-DOVE HS-SA Brand\"])\n",
    "# plt.show()\n",
    "\n",
    "# plt.figure(figsize=(30,10))\n",
    "\n",
    "# plt.xticks(rotation=90, fontsize=18)\n",
    "# plt.yticks(fontsize=18)\n",
    "# plt.title(wm_forecast.loc[\"JK-DOVE HS-SA Brand\"].name, fontsize=24)\n",
    "\n",
    "# plt.plot(wm_forecast.loc[\"JK-DOVE HS-SA Brand\"])\n",
    "# plt.show()"
   ]
  },
  {
   "cell_type": "code",
   "execution_count": null,
   "metadata": {},
   "outputs": [],
   "source": []
  }
 ],
 "metadata": {
  "kernelspec": {
   "display_name": "Python 3",
   "language": "python",
   "name": "python3"
  },
  "language_info": {
   "codemirror_mode": {
    "name": "ipython",
    "version": 3
   },
   "file_extension": ".py",
   "mimetype": "text/x-python",
   "name": "python",
   "nbconvert_exporter": "python",
   "pygments_lexer": "ipython3",
   "version": "3.6.6"
  }
 },
 "nbformat": 4,
 "nbformat_minor": 2
}
