{
 "cells": [
  {
   "cell_type": "code",
   "execution_count": 1,
   "metadata": {},
   "outputs": [],
   "source": [
    "import numpy as np\n",
    "import pandas as pd"
   ]
  },
  {
   "cell_type": "code",
   "execution_count": 2,
   "metadata": {},
   "outputs": [
    {
     "name": "stderr",
     "output_type": "stream",
     "text": [
      "Using TensorFlow backend.\n"
     ]
    }
   ],
   "source": [
    "from keras.models import Model\n",
    "from keras.models import Sequential\n",
    "from keras.layers import LSTM, Dense, Embedding, Input, Dropout\n",
    "from keras.callbacks import ModelCheckpoint\n",
    "from keras.callbacks import EarlyStopping\n",
    "\n",
    "from keras.layers import concatenate"
   ]
  },
  {
   "cell_type": "markdown",
   "metadata": {},
   "source": [
    "## Parameters"
   ]
  },
  {
   "cell_type": "code",
   "execution_count": 3,
   "metadata": {},
   "outputs": [],
   "source": [
    "PREFILTER = True\n",
    "PREFILTER_THRESHOLD = 0.2 # Data excluded if Brand variance greather than 0.2M or less than -0.2M\n",
    "\n",
    "UNDERSAMPLE = True\n",
    "UNDERSAMPLE_RATIO = 0.6 #  Amount of data with no comment =  Amount of data with comment / UNDERSAMPLE_RATIO\n",
    "EXTRA_TEST_DATA = 100 # Amount of data thrown out when undersampling to include in the test set\n",
    "\n",
    "AUGMENT_DATA = True\n",
    "\n",
    "DATA = [\"Variance\"] # \"Variance\", \"All\", \n",
    "MODEL = \"LSTM\"    # \n"
   ]
  },
  {
   "cell_type": "markdown",
   "metadata": {},
   "source": [
    "## Loading Data"
   ]
  },
  {
   "cell_type": "markdown",
   "metadata": {},
   "source": [
    "commentaries_to_pickle.py to save commentary spreedsheet to pickle"
   ]
  },
  {
   "cell_type": "code",
   "execution_count": 4,
   "metadata": {},
   "outputs": [],
   "source": [
    "from helper_save_load import load_from_pickle\n",
    "\n",
    "df_c = load_from_pickle(\"data/Labeled_comments2.pkl\")"
   ]
  },
  {
   "cell_type": "code",
   "execution_count": 5,
   "metadata": {},
   "outputs": [],
   "source": [
    "# These brands are in df_c but do not appear in the variance dataframe df_v\n",
    "ignored_brands = [\"IGNORE\",\n",
    "\"57-CAMAY BAR SOAP Brand\",\n",
    "\"71-LBP SH/CD Roll-up Brand\",\n",
    "\"72-LBP SHOWER Roll-up Brand\"]\n",
    "\n",
    "df_c = df_c[~df_c[\"Brand_1\"].isin(ignored_brands)]"
   ]
  },
  {
   "cell_type": "code",
   "execution_count": 6,
   "metadata": {},
   "outputs": [],
   "source": [
    "df_c.insert(16, \"WithComm\", ~df_c[\"Commentaries\"].isnull())\n",
    "df_c.insert(17, \"Other\", (df_c[['Promo', 'Phasing', 'SP&D', 'POS']].sum(axis=1) == 0) & df_c['WithComm'])\n",
    "df_c[\"Month\"] = pd.to_datetime(df_c[\"Month\"]).dt.strftime(\"%b_%Y\")"
   ]
  },
  {
   "cell_type": "code",
   "execution_count": 7,
   "metadata": {},
   "outputs": [],
   "source": [
    "label_cols = ['Promo', 'Phasing', 'SP&D', 'POS', 'Other', 'WithComm']\n",
    "\n",
    "territory_label_cols = df_c.columns[18:31].to_list()\n",
    "territory_labels = df_c[territory_label_cols]"
   ]
  },
  {
   "cell_type": "code",
   "execution_count": 8,
   "metadata": {},
   "outputs": [],
   "source": [
    "df_a, df_f, df_v = load_from_pickle(\"data/dataframes_Dollars.pickle\")\n",
    "del df_a, df_f"
   ]
  },
  {
   "cell_type": "code",
   "execution_count": 9,
   "metadata": {},
   "outputs": [],
   "source": [
    "territories = [territory for territory, values in df_v.groupby(['Territory']).groups.items()]"
   ]
  },
  {
   "cell_type": "code",
   "execution_count": null,
   "metadata": {},
   "outputs": [],
   "source": [
    "df_pos = load_from_pickle(\"data/pos_with_brands.pickle\")"
   ]
  },
  {
   "cell_type": "markdown",
   "metadata": {},
   "source": [
    "## Pre-Filtering Data\n",
    "Including data if variance is greater than the 0.2M threshold"
   ]
  },
  {
   "cell_type": "code",
   "execution_count": 10,
   "metadata": {},
   "outputs": [
    {
     "data": {
      "text/plain": [
       "0.7415946205571565"
      ]
     },
     "execution_count": 10,
     "metadata": {},
     "output_type": "execute_result"
    }
   ],
   "source": [
    "test = df_c[(~df_c[\"Num\"].duplicated())]\n",
    "len(test[test[\"WithComm\"] == 0]) / len(test) # Fraction of number of brand-month pairs with no commentaries"
   ]
  },
  {
   "cell_type": "code",
   "execution_count": 11,
   "metadata": {},
   "outputs": [],
   "source": [
    "if PREFILTER:\n",
    "    df_c = df_c[(df_c[\"Variance\"] >= PREFILTER_THRESHOLD) | (df_c[\"Variance\"] <= -PREFILTER_THRESHOLD)]"
   ]
  },
  {
   "cell_type": "code",
   "execution_count": 12,
   "metadata": {},
   "outputs": [
    {
     "data": {
      "text/plain": [
       "0.12237762237762238"
      ]
     },
     "execution_count": 12,
     "metadata": {},
     "output_type": "execute_result"
    }
   ],
   "source": [
    "test = df_c[(~df_c[\"Num\"].duplicated())]\n",
    "len(test[test[\"WithComm\"] == 0]) / len(test) #Fraction of number of brand-month pairs with no commentaries after filtering"
   ]
  },
  {
   "cell_type": "markdown",
   "metadata": {},
   "source": [
    "## Removing multiclass labels"
   ]
  },
  {
   "cell_type": "markdown",
   "metadata": {},
   "source": [
    "Rows with multiple positive class labels are changed to a single label according to the importance of the class"
   ]
  },
  {
   "cell_type": "code",
   "execution_count": 13,
   "metadata": {},
   "outputs": [
    {
     "name": "stdout",
     "output_type": "stream",
     "text": [
      "Number of multiclass labels before: 38\n",
      "Number of multiclass labels after: 0\n"
     ]
    }
   ],
   "source": [
    "CLASS_PRIORITY = [\"Promo\", \"SP&D\", \"Phasing\", \"POS\"] # Most important class to predict to least\n",
    "\n",
    "print('Number of multiclass labels before:', sum(df_c[label_cols[:4]].sum(axis=1) > 1))\n",
    "      \n",
    "for idx, row in df_c[df_c[label_cols[:4]].sum(axis=1) > 1][label_cols[:4]].iterrows():\n",
    "    positive_label_idx = min([CLASS_PRIORITY.index(c) for c in row[row > 0].index])\n",
    "    negative_labels = CLASS_PRIORITY[:]\n",
    "    negative_labels.pop(positive_label_idx) # List of columns to set to zero\n",
    "    df_c.loc[idx, negative_labels] = 0\n",
    "\n",
    "print('Number of multiclass labels after:', sum(df_c[label_cols[:4]].sum(axis=1) > 1))"
   ]
  },
  {
   "cell_type": "code",
   "execution_count": null,
   "metadata": {},
   "outputs": [],
   "source": []
  }
 ],
 "metadata": {
  "kernelspec": {
   "display_name": "Python 3",
   "language": "python",
   "name": "python3"
  },
  "language_info": {
   "codemirror_mode": {
    "name": "ipython",
    "version": 3
   },
   "file_extension": ".py",
   "mimetype": "text/x-python",
   "name": "python",
   "nbconvert_exporter": "python",
   "pygments_lexer": "ipython3",
   "version": "3.6.7"
  }
 },
 "nbformat": 4,
 "nbformat_minor": 2
}
