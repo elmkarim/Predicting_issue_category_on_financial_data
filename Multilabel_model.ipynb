{
 "cells": [
  {
   "cell_type": "code",
   "execution_count": 1,
   "metadata": {},
   "outputs": [],
   "source": [
    "import numpy as np\n",
    "import pandas as pd\n",
    "import matplotlib.pyplot as plt\n",
    "\n",
    "%matplotlib inline"
   ]
  },
  {
   "cell_type": "code",
   "execution_count": 2,
   "metadata": {},
   "outputs": [
    {
     "name": "stderr",
     "output_type": "stream",
     "text": [
      "Using TensorFlow backend.\n"
     ]
    }
   ],
   "source": [
    "from keras.utils import to_categorical\n",
    "from keras.models import Model\n",
    "from keras.models import Sequential\n",
    "from keras.layers import LSTM, Dense, Embedding, Input, Dropout\n",
    "from keras.callbacks import ModelCheckpoint, EarlyStopping\n",
    "\n",
    "from keras.layers import concatenate"
   ]
  },
  {
   "cell_type": "code",
   "execution_count": 136,
   "metadata": {},
   "outputs": [],
   "source": [
    "from sklearn.metrics import f1_score, confusion_matrix, recall_score, precision_score, make_scorer\n",
    "\n",
    "from sklearn.metrics import hamming_loss\n",
    "from sklearn.multiclass import OneVsRestClassifier\n",
    "\n",
    "from sklearn.model_selection import KFold, cross_validate\n",
    "\n",
    "from imblearn.metrics import geometric_mean_score\n",
    "from imblearn.over_sampling import RandomOverSampler, SMOTE\n",
    "from imblearn.pipeline import Pipeline\n",
    "\n"
   ]
  },
  {
   "cell_type": "code",
   "execution_count": 113,
   "metadata": {},
   "outputs": [],
   "source": [
    "from sklearn.ensemble import RandomForestClassifier\n",
    "from sklearn.neighbors import KNeighborsClassifier\n",
    "from sklearn.ensemble import GradientBoostingClassifier\n",
    "from sklearn.svm import SVC"
   ]
  },
  {
   "cell_type": "markdown",
   "metadata": {},
   "source": [
    "## Parameters"
   ]
  },
  {
   "cell_type": "code",
   "execution_count": 4,
   "metadata": {},
   "outputs": [],
   "source": [
    "PREFILTER = True\n",
    "PREFILTER_THRESHOLD = 0.2 # Data excluded if Brand variance greather than 0.2M or less than -0.2M\n",
    "\n",
    "WINDOW_SIZE = 13 # Timeseries window size in months\n",
    "\n",
    "MULTILABEL = True\n",
    "\n",
    "UNDERSAMPLE = True\n",
    "UNDERSAMPLE_RATIO = 0.6 #  Amount of data with no comment =  Amount of data with comment / UNDERSAMPLE_RATIO\n",
    "EXTRA_TEST_DATA = 100 # Amount of data thrown out when undersampling to include in the test set\n",
    "\n",
    "OVERSAMPLE = True\n",
    "\n",
    "# AUGMENT_DATA = True\n",
    "\n",
    "# DATA = [\"Variance\"] # \"Variance\", \"All\", \n",
    "# MODEL = \"LSTM\"    # \n"
   ]
  },
  {
   "cell_type": "markdown",
   "metadata": {},
   "source": [
    "## Loading Data"
   ]
  },
  {
   "cell_type": "markdown",
   "metadata": {},
   "source": [
    "commentaries_to_pickle.py to save commentary excel spreedsheet to pickle"
   ]
  },
  {
   "cell_type": "code",
   "execution_count": 190,
   "metadata": {},
   "outputs": [],
   "source": [
    "from helper_save_load import load_from_pickle\n",
    "\n",
    "df_c = load_from_pickle(\"data/Labeled_comments3.pkl\")"
   ]
  },
  {
   "cell_type": "code",
   "execution_count": 192,
   "metadata": {},
   "outputs": [],
   "source": [
    "# Inserting NoCommentary column\n",
    "df_c.insert(16, \"NoComm\", df_c[\"Commentaries\"].isnull())\n",
    "\n",
    "# Inserting Other column where there is a commentary but it does not belong to a class\n",
    "df_c.insert(16, \"Other\", (df_c[['Promo', 'Phasing', 'SP&D', 'POS']].sum(axis=1) == 0) & ~df_c['NoComm'])\n",
    "\n",
    "df_c[\"Month\"] = pd.to_datetime(df_c[\"Month\"]).dt.strftime(\"%b_%Y\")"
   ]
  },
  {
   "cell_type": "code",
   "execution_count": 193,
   "metadata": {},
   "outputs": [],
   "source": [
    "label_cols = ['Promo', 'Phasing', 'SP&D', 'POS', 'Other', 'NoComm']\n",
    "\n",
    "territory_label_cols = df_c.columns[18:31].to_list()"
   ]
  },
  {
   "cell_type": "code",
   "execution_count": 194,
   "metadata": {},
   "outputs": [],
   "source": [
    "# Load variance data\n",
    "df_a, df_f, df_v = load_from_pickle(\"data/dataframes_Dollars.pickle\")\n",
    "del df_a, df_f"
   ]
  },
  {
   "cell_type": "markdown",
   "metadata": {},
   "source": [
    "## Pre-Filtering Data\n",
    "Including data if variance on the brand is greater than the 0.2M threshold"
   ]
  },
  {
   "cell_type": "code",
   "execution_count": 196,
   "metadata": {},
   "outputs": [
    {
     "data": {
      "text/plain": [
       "0.7415946205571565"
      ]
     },
     "execution_count": 196,
     "metadata": {},
     "output_type": "execute_result"
    }
   ],
   "source": [
    "test = df_c[(~df_c[\"Num\"].duplicated())]\n",
    "len(test[test[\"NoComm\"] == 1]) / len(test) # Fraction of number of brand-month pairs with no commentaries"
   ]
  },
  {
   "cell_type": "code",
   "execution_count": 197,
   "metadata": {},
   "outputs": [],
   "source": [
    "if PREFILTER:\n",
    "    df_c = df_c[(df_c[\"Variance\"] >= PREFILTER_THRESHOLD) | (df_c[\"Variance\"] <= -PREFILTER_THRESHOLD)]"
   ]
  },
  {
   "cell_type": "code",
   "execution_count": 198,
   "metadata": {},
   "outputs": [
    {
     "data": {
      "text/plain": [
       "0.12237762237762238"
      ]
     },
     "execution_count": 198,
     "metadata": {},
     "output_type": "execute_result"
    }
   ],
   "source": [
    "test = df_c[(~df_c[\"Num\"].duplicated())]\n",
    "len(test[test[\"NoComm\"] == 1]) / len(test) #Fraction of number of brand-month pairs with no commentaries after filtering"
   ]
  },
  {
   "cell_type": "markdown",
   "metadata": {},
   "source": [
    "## Reshaping Data"
   ]
  },
  {
   "cell_type": "code",
   "execution_count": 199,
   "metadata": {},
   "outputs": [],
   "source": [
    "# variances grouped by territory and brand\n",
    "TR_BR_grouped = df_v.groupby([\"Territory\", \"Brand\"]).sum()"
   ]
  },
  {
   "cell_type": "raw",
   "metadata": {},
   "source": [
    "# Relevant Territories Dictionary\n",
    "# Dict that defines all territories whose data is considered\n",
    "# Data from the list of subterritories will be summed \n",
    "\n",
    "territory_dict = {\"WM\":[\"M7400 - WALMART\"], \n",
    "                  \"Sobeys\":[\"M5200 - SOBEYS ONT\", \"M5201 - SOBEYS QUE\", \"M5202 - SOBEYS ATL\", \"M5203 - SOBEYS WEST/SAFEWAY/THRIFTY\"],\n",
    "                  \"Sobeys W\":[\"M5203 - SOBEYS WEST/SAFEWAY/THRIFTY\"],\n",
    "                  \"SobeysQ\":[\"M5201 - SOBEYS QUE\"],\n",
    "                  \"Metro\":[\"M5100 - METRO ONT IC\", \"M5101 - METRO QUE IC\", \"M5102 - METRO ONT/QUE FDS AND HPC\"],\n",
    "                  \"Metro ON\":[\"M5100 - METRO ONT IC\"],\n",
    "                  \"Metro Q\":[\"M5101 - METRO QUE IC\"],\n",
    "                  \"SDM\":[\"M4400 - SHOPPERS D.M.\"], \n",
    "                  \"LCL\":[\"M4000 - LCL HPC\", \"M4001 - LCL FDS exclude IC\", \"M4002 - LCL IC\"],\n",
    "                  \"Costco\":[\"M7500 - CANADA COSTCO\"],\n",
    "                  \"MCK\":[\"M5000 - MCKESSON\"], \n",
    "                  \"PJC\":[\"M5001 - JEAN COUTU\"], \n",
    "                  \"OOH\":[\"M7300 - QUE OOH\", \"M7301 - ONT OOH\", \"M7303 - NATIONAL OOH MDs\", \"M7304 - ATLANTIC RETAIL AND OOH\"]}\n"
   ]
  },
  {
   "cell_type": "markdown",
   "metadata": {},
   "source": [
    "Summing variances for all associated subterritories for each labeled territory and placing them in a dictionary"
   ]
  },
  {
   "cell_type": "code",
   "execution_count": 201,
   "metadata": {},
   "outputs": [],
   "source": [
    "# Summed variances aggregated by the territory_dict\n",
    "variance_dict = {}\n",
    "for territory, subterritories in territory_dict.items():\n",
    "    summed_variance = pd.DataFrame()\n",
    "    for subterritory in subterritories:\n",
    "        summed_variance = summed_variance.add(TR_BR_grouped.loc[subterritory], fill_value=0)\n",
    "        \n",
    "    variance_dict[territory] = summed_variance"
   ]
  },
  {
   "cell_type": "code",
   "execution_count": null,
   "metadata": {},
   "outputs": [],
   "source": [
    "# Brand count sold by each territory\n",
    "for t, v in variance_dict.items():\n",
    "    print(t, v.shape[0])"
   ]
  },
  {
   "cell_type": "markdown",
   "metadata": {},
   "source": [
    "Variance time series (all months) for labeled territories. Zeros if no data for brand-territory."
   ]
  },
  {
   "cell_type": "code",
   "execution_count": 204,
   "metadata": {},
   "outputs": [
    {
     "data": {
      "text/plain": [
       "(136, 13, 34)"
      ]
     },
     "execution_count": 204,
     "metadata": {},
     "output_type": "execute_result"
    }
   ],
   "source": [
    "# Brand x territory x months\n",
    "# Row of zeros if empty\n",
    "brands = df_v[\"Brand\"].unique()\n",
    "months = df_v.columns[8:]\n",
    "\n",
    "all_brands_variance = []\n",
    "\n",
    "for brand in brands:\n",
    "    temp = []\n",
    "    for territory in territory_label_cols:\n",
    "        if brand in variance_dict[territory].index:\n",
    "            temp.append(variance_dict[territory].loc[brand].values)\n",
    "        else:\n",
    "            temp.append(np.zeros(len(months)))\n",
    "    all_brands_variance.append(temp)\n",
    "    \n",
    "all_brands_variance = np.array(all_brands_variance)\n",
    "all_brands_variance.shape"
   ]
  },
  {
   "cell_type": "markdown",
   "metadata": {},
   "source": [
    "For each unique brand-month pair (known to be unique by the \"Num\" column) we take a 12 month window of data for each labeled territory. Thus the output should have #unique brand-month pairs * 13 territories rows.\n",
    "\n",
    "The labels are generated as well. The default label for when a territory is not involved is [0, 0, 0, 0, 0]"
   ]
  },
  {
   "cell_type": "code",
   "execution_count": 278,
   "metadata": {},
   "outputs": [
    {
     "name": "stdout",
     "output_type": "stream",
     "text": [
      "X data shape: (3718, 13)\n",
      "y data shape: (3718, 6)\n"
     ]
    }
   ],
   "source": [
    "# Generates full list of 12 month timeseries windows and corresponding class labels\n",
    "# for every *unique* brand-month pair in commentary spreadsheet\n",
    "# Uniqueness is determined by the Num column\n",
    "\n",
    "labels = []\n",
    "BR_TR_timeseries_windows = []\n",
    "previous_commentary_num = -1\n",
    "brand_month_labels = None\n",
    "\n",
    "for idx, row in df_c.iterrows():\n",
    "    brand_idx = np.where(brands==row[\"Brand_1\"])[0][0] # Index in the brands list for this row\n",
    "    month_idx = np.where(months==row[\"Month\"])[0][0]   # Index in the months list for this row\n",
    "    t_idx = np.flatnonzero(row.fillna(0)[territory_label_cols]) # Index of the territory label for this row\n",
    "    \n",
    "    # Due to splitting of commentaries we have repeated brand-month pairs in data\n",
    "    # Keeping track of which commentary so we don't repeat its timeseries\n",
    "    current_commentary_num = row[\"Num\"] \n",
    "    \n",
    "    if current_commentary_num != previous_commentary_num:\n",
    "        # First instance of brand-month pair\n",
    "        labels.append(brand_month_labels)\n",
    "        \n",
    "        brand_month_labels = np.zeros((len(territory_label_cols), len(label_cols)), dtype=int)\n",
    "        brand_month_labels[:, 5] = 1 # Default NoComm\n",
    "        \n",
    "        if t_idx.size > 0:\n",
    "            brand_month_labels[t_idx[0]] = row[label_cols].fillna(0).values\n",
    "        \n",
    "        for i in range(len(territory_label_cols)):\n",
    "\n",
    "            # Appending WINDOW_SIZE length month windows per brand per territory as input\n",
    "            if month_idx - WINDOW_SIZE < 0:\n",
    "                padding = np.zeros(WINDOW_SIZE - month_idx-1) # pad with zeros if less than WINDOW_SIZE\n",
    "                window = np.concatenate((padding, all_brands_variance[brand_idx, i, :month_idx+1]))\n",
    "            else:\n",
    "                window = all_brands_variance[brand_idx, i, (month_idx-WINDOW_SIZE+1):month_idx+1]\n",
    "            BR_TR_timeseries_windows.append(window)\n",
    "    else:\n",
    "        # Repeated instances of brand-month pair (Num is the same)\n",
    "        if t_idx.size > 0:\n",
    "            brand_month_labels[t_idx[0]] = row[label_cols].fillna(0).values\n",
    "\n",
    "    previous_commentary_num = current_commentary_num\n",
    "    \n",
    "labels.append(brand_month_labels) # Append the final labels\n",
    "BR_TR_timeseries_windows = np.array(BR_TR_timeseries_windows)\n",
    "BR_TR_labels = np.vstack(labels[1:])\n",
    "BR_TR_timeseries_windows /= 1e6 \n",
    "\n",
    "print(\"X data shape:\", BR_TR_timeseries_windows.shape) # 286 brand-month pairs * 13 territories, 12 months\n",
    "print(\"y data shape:\", BR_TR_labels.shape)             # 286 brand-month pairs * 13 territories, 5 labels"
   ]
  },
  {
   "cell_type": "code",
   "execution_count": 206,
   "metadata": {},
   "outputs": [
    {
     "data": {
      "text/plain": [
       "286"
      ]
     },
     "execution_count": 206,
     "metadata": {},
     "output_type": "execute_result"
    }
   ],
   "source": [
    "df_c.Num.nunique() # Number of unique brand-month pairs i.e. number of unsplit commentaries "
   ]
  },
  {
   "cell_type": "code",
   "execution_count": 279,
   "metadata": {},
   "outputs": [
    {
     "data": {
      "text/plain": [
       "array([ 139,  112,   13,  108,   28, 3383])"
      ]
     },
     "execution_count": 279,
     "metadata": {},
     "output_type": "execute_result"
    }
   ],
   "source": [
    "sum(BR_TR_labels) # Class memberships (Promo, Phasing, SP&D, POS, Other, NoComm)"
   ]
  },
  {
   "cell_type": "markdown",
   "metadata": {},
   "source": [
    "## Multi-label Characterizing Measures\n",
    "\n",
    "Need to decide on which columns are actually considered as labels"
   ]
  },
  {
   "cell_type": "code",
   "execution_count": 303,
   "metadata": {},
   "outputs": [
    {
     "name": "stdout",
     "output_type": "stream",
     "text": [
      "All label cols: 1.017\n",
      "No NoComm: 0.108\n",
      "No NoComm and No other: 0.1\n"
     ]
    }
   ],
   "source": [
    "# Label Cardinality\n",
    "# The average number of labels of the examples in our data \n",
    "\n",
    "print('All label cols:',np.round(np.mean(BR_TR_labels.sum(axis=1)), 3))\n",
    "print('No NoComm:', np.round(np.mean(BR_TR_labels[:, :-1].sum(axis=1)), 3))\n",
    "print('No NoComm and No other:', np.round(np.mean(BR_TR_labels[:, :-2].sum(axis=1)), 3))"
   ]
  },
  {
   "cell_type": "code",
   "execution_count": 304,
   "metadata": {},
   "outputs": [
    {
     "name": "stdout",
     "output_type": "stream",
     "text": [
      "All label cols: 0.17\n",
      "No NoComm: 0.018\n",
      "No NoComm and No other: 0.017\n"
     ]
    }
   ],
   "source": [
    "# Label Cardinality Density\n",
    "# Label Cardinality over number of classes\n",
    "print('All label cols:',np.round(np.mean(BR_TR_labels.sum(axis=1)/len(label_cols)), 3))\n",
    "print('No NoComm:', np.round(np.mean(BR_TR_labels[:, :-1].sum(axis=1)/len(label_cols)), 3))\n",
    "print('No NoComm and No other:', np.round(np.mean(BR_TR_labels[:, :-2].sum(axis=1)/len(label_cols)), 3)) "
   ]
  },
  {
   "cell_type": "code",
   "execution_count": 535,
   "metadata": {},
   "outputs": [
    {
     "name": "stdout",
     "output_type": "stream",
     "text": [
      "All label cols: 86.376\n",
      "No NoComm: 101.631\n",
      "No NoComm and No other: 94.093\n"
     ]
    }
   ],
   "source": [
    "# Imbalance Ratio. Zhang et al.\n",
    "def imbalance_ratio(y):\n",
    "    positives = sum(y)\n",
    "    negatives = len(y) - sum(y)\n",
    "\n",
    "    imbalance_ratios = [max(pos, neg) / min(pos, neg) for (pos, neg) in zip(positives, negatives)]\n",
    "    return np.mean(imbalance_ratios)\n",
    "\n",
    "print('All label cols:',np.round(imbalance_ratio(BR_TR_labels), 3))\n",
    "print('No NoComm:', np.round(imbalance_ratio(BR_TR_labels[:, :-1]), 3))\n",
    "print('No NoComm and No other:', np.round(imbalance_ratio(BR_TR_labels[:, :-2]), 3)) "
   ]
  },
  {
   "cell_type": "code",
   "execution_count": 544,
   "metadata": {},
   "outputs": [
    {
     "name": "stdout",
     "output_type": "stream",
     "text": [
      "All label cols: 77.987\n",
      "No NoComm: 3.837\n",
      "No NoComm and No other: 3.555\n"
     ]
    }
   ],
   "source": [
    "# Charte et al.\n",
    "def mean_imbalance_ratio(y):\n",
    "    majority = max(sum(y))\n",
    "    label_sums = sum(y)\n",
    "    \n",
    "    imbalance_ratios_per_label = majority / label_sums\n",
    "    return np.mean(imbalance_ratios_per_label)\n",
    "\n",
    "print('All label cols:',np.round(mean_imbalance_ratio(BR_TR_labels), 3))\n",
    "print('No NoComm:', np.round(mean_imbalance_ratio(BR_TR_labels[:, :-1]), 3))\n",
    "print('No NoComm and No other:', np.round(mean_imbalance_ratio(BR_TR_labels[:, :-2]), 3))"
   ]
  },
  {
   "cell_type": "code",
   "execution_count": 547,
   "metadata": {},
   "outputs": [
    {
     "name": "stdout",
     "output_type": "stream",
     "text": [
      "All label cols: 3.605\n",
      "No NoComm: 0.137\n",
      "No NoComm and No other: 0.135\n"
     ]
    }
   ],
   "source": [
    "# coefficient of variation of imbalance ratio per label. Charte et al.\n",
    "def cvir(y):\n",
    "    majority = max(sum(y))\n",
    "    label_sums = sum(y)\n",
    "    \n",
    "    imbalance_ratios_per_label = majority / label_sums\n",
    "    mean_imbalance_ratio = np.mean(imbalance_ratios_per_label)\n",
    "    \n",
    "    return np.sqrt(sum((imbalance_ratios_per_label - mean_imbalance_ratio)**2)/(len(y)-1))\n",
    "\n",
    "print('All label cols:',np.round(cvir(BR_TR_labels), 3))\n",
    "print('No NoComm:', np.round(cvir(BR_TR_labels[:, :-1]), 3))\n",
    "print('No NoComm and No other:', np.round(cvir(BR_TR_labels[:, :-2]), 3))"
   ]
  },
  {
   "cell_type": "markdown",
   "metadata": {},
   "source": [
    "## Undersampling\n",
    "\n",
    "Throwing out some of the No Comment data including timeseries with 0 for all values."
   ]
  },
  {
   "cell_type": "code",
   "execution_count": 280,
   "metadata": {},
   "outputs": [
    {
     "name": "stdout",
     "output_type": "stream",
     "text": [
      "Length of data: 3718\n",
      "No Comment: 3383\n",
      "With Comment: 335\n"
     ]
    }
   ],
   "source": [
    "if UNDERSAMPLE:\n",
    "    \n",
    "    print(\"Length of data:\",len(BR_TR_timeseries_windows))\n",
    "    print(\"No Comment:\", sum(BR_TR_labels[:, 5] == 1))\n",
    "    print(\"With Comment:\", sum(BR_TR_labels[:, 5] == 0))\n",
    "    \n",
    "    nonzero_data = np.where(BR_TR_timeseries_windows.sum(axis=1) != 0)\n",
    "    X = BR_TR_timeseries_windows[nonzero_data]\n",
    "    y = BR_TR_labels[nonzero_data]\n",
    "    \n",
    "    no_comment_idx = np.where(y[:, 5] == 1)[0]\n",
    "    with_comment_idx = np.where(y[:, 5] == 0)[0]\n",
    "\n",
    "    no_comment_count = sum(y[:, 5] == 1)   \n",
    "    with_comment_count = sum(y[:, 5] == 0)\n",
    "    \n",
    "    np.random.shuffle(no_comment_idx)\n",
    "    undersample_no_comment_idx = no_comment_idx[:int(with_comment_count/UNDERSAMPLE_RATIO)]\n",
    "    excluded_data_idx = no_comment_idx[int(with_comment_count/UNDERSAMPLE_RATIO):]\n",
    "    \n",
    "    \n",
    "    undersample_idx = np.concatenate((undersample_no_comment_idx, with_comment_idx))\n",
    "    undersample_idx.sort(kind='mergesort') # Preserving order of data\n",
    "    \n",
    "    excluded_data = X[excluded_data_idx]\n",
    "    excluded_labels = y[excluded_data_idx]\n",
    "    \n",
    "    X = X[undersample_idx]\n",
    "    y = y[undersample_idx]"
   ]
  },
  {
   "cell_type": "code",
   "execution_count": 281,
   "metadata": {},
   "outputs": [
    {
     "name": "stdout",
     "output_type": "stream",
     "text": [
      "Length of data: 856\n",
      "No Comment: 535\n",
      "With Comment: 321\n"
     ]
    }
   ],
   "source": [
    "print(\"Length of data:\", len(X))\n",
    "print(\"No Comment:\", sum(y[:, 5] == 1))\n",
    "print(\"With Comment:\", sum(y[:, 5] == 0))"
   ]
  },
  {
   "cell_type": "code",
   "execution_count": 282,
   "metadata": {},
   "outputs": [
    {
     "data": {
      "text/plain": [
       "(1075, 0)"
      ]
     },
     "execution_count": 282,
     "metadata": {},
     "output_type": "execute_result"
    }
   ],
   "source": [
    "# Time series with zero data Before and after\n",
    "sum(BR_TR_timeseries_windows.sum(axis=1)==0), sum(X.sum(axis=1) == 0) "
   ]
  },
  {
   "cell_type": "code",
   "execution_count": 536,
   "metadata": {},
   "outputs": [
    {
     "name": "stdout",
     "output_type": "stream",
     "text": [
      "All label cols: 19.683\n",
      "No NoComm: 23.286\n",
      "No NoComm and No other: 21.127\n"
     ]
    }
   ],
   "source": [
    "# Imbalance ratios after throwing out some no comment data\n",
    "print('All label cols:',np.round(imbalance_ratio(y), 3))\n",
    "print('No NoComm:', np.round(imbalance_ratio(y[:, :-1]), 3))\n",
    "print('No NoComm and No other:', np.round(imbalance_ratio(y[:, :-2]), 3)) "
   ]
  },
  {
   "cell_type": "markdown",
   "metadata": {},
   "source": [
    "## Making a test set"
   ]
  },
  {
   "cell_type": "code",
   "execution_count": 283,
   "metadata": {},
   "outputs": [],
   "source": [
    "from sklearn.model_selection import train_test_split\n",
    "\n",
    "# Not necessarily a good way to split as the classes are so imbalanced\n",
    "X_train, X_test, y_train, y_test = train_test_split(X, y, test_size=0.2)\n",
    "\n",
    "# Add data to test set that was thrown out when undersampling\n",
    "if UNDERSAMPLE:\n",
    "    X_test = np.concatenate((X_test, excluded_data[:EXTRA_TEST_DATA]))\n",
    "    y_test = np.concatenate((y_test, excluded_labels[:EXTRA_TEST_DATA]))"
   ]
  },
  {
   "cell_type": "markdown",
   "metadata": {},
   "source": [
    "## Oversampling small classes"
   ]
  },
  {
   "cell_type": "code",
   "execution_count": 284,
   "metadata": {
    "scrolled": true
   },
   "outputs": [
    {
     "name": "stdout",
     "output_type": "stream",
     "text": [
      "Class memberships before: [102  89  11  87  21 422]\n",
      "Class memberships after: [422 422 422 422 422 422]\n"
     ]
    }
   ],
   "source": [
    "# This does not work with multilabel\n",
    "\n",
    "\n",
    "\n",
    "# Naive oversampling\n",
    "if OVERSAMPLE:\n",
    "    print(\"Class memberships before:\", sum(y_train))\n",
    "    ros = RandomOverSampler()\n",
    "    X_resampled, y_resampled = ros.fit_resample(X_train, y_train)\n",
    "    print(\"Class memberships after:\", sum(y_resampled))"
   ]
  },
  {
   "cell_type": "markdown",
   "metadata": {},
   "source": [
    "## Augmenting data with noise"
   ]
  },
  {
   "cell_type": "code",
   "execution_count": 54,
   "metadata": {},
   "outputs": [],
   "source": [
    "# Adding noise to variance data to generate more samples to learn from"
   ]
  },
  {
   "cell_type": "markdown",
   "metadata": {},
   "source": [
    "## Plotting model"
   ]
  },
  {
   "cell_type": "code",
   "execution_count": 57,
   "metadata": {},
   "outputs": [],
   "source": [
    "import matplotlib.pyplot as plt\n",
    "\n",
    "%matplotlib inline\n",
    "\n",
    "def plot_model(history):\n",
    "    plt.plot(history.history['loss'])\n",
    "    plt.plot(history.history['val_loss'])\n",
    "    plt.ylabel('loss')\n",
    "    plt.xlabel('epoch')\n",
    "    plt.title('model loss')\n",
    "    plt.legend(['train', 'validation'], loc='upper right')\n",
    "    plt.show()\n",
    "\n",
    "    plt.plot(history.history['acc'])\n",
    "    plt.plot(history.history['val_acc'])\n",
    "    plt.ylabel('accuracy')\n",
    "    plt.xlabel('epoch')\n",
    "    plt.title('model accuracy')\n",
    "    plt.legend(['train', 'validation'], loc='upper left')\n",
    "    plt.show()"
   ]
  },
  {
   "cell_type": "markdown",
   "metadata": {},
   "source": [
    "## Binary Relevance Pipeline\n",
    "\n",
    "Basic transformation method. Considers a binary classifier for each class."
   ]
  },
  {
   "cell_type": "code",
   "execution_count": 214,
   "metadata": {},
   "outputs": [],
   "source": [
    "def binary_relevance_classification(estimator, sampling='ros'):\n",
    "    if sampling == 'ros':\n",
    "        oversampler = RandomOverSampler()\n",
    "    elif sampling == 'smote':\n",
    "        oversampler = SMOTE()\n",
    "    else:\n",
    "        return OneVsRestClassifier(estimator)\n",
    "    \n",
    "    # Pipeline is wrong. Try like labelpowerset .\n",
    "    \n",
    "    binary_pipe = Pipeline([('oversampler', oversampler), ('clf', estimator)])\n",
    "    return OneVsRestClassifier(binary_pipe)"
   ]
  },
  {
   "cell_type": "code",
   "execution_count": 320,
   "metadata": {},
   "outputs": [],
   "source": [
    "# With skmultilearn instead. These are equivalent\n",
    "from skmultilearn.problem_transform import BinaryRelevance\n",
    "\n",
    "def binary_relevance_classification(estimator, sampling='ros'):\n",
    "    if sampling == 'ros':\n",
    "        oversampler = RandomOverSampler()\n",
    "    elif sampling == 'smote':\n",
    "        oversampler = SMOTE()\n",
    "    else:\n",
    "        return BinaryRelevance(estimator)\n",
    "    \n",
    "    # Is oversampling happening before the splitting or after?\n",
    "        \n",
    "    binary_pipe = Pipeline([('oversampler', oversampler), ('clf', estimator)])\n",
    "    return BinaryRelevance(binary_pipe)"
   ]
  },
  {
   "cell_type": "markdown",
   "metadata": {},
   "source": [
    "## Label power set pipeline"
   ]
  },
  {
   "cell_type": "code",
   "execution_count": 508,
   "metadata": {},
   "outputs": [],
   "source": [
    "from skmultilearn.problem_transform import LabelPowerset\n",
    "from imblearn import FunctionSampler\n",
    "from sklearn.utils import shuffle\n",
    "\n",
    "# Error with oversampling somewhere in this pipeline\n",
    "\n",
    "# Need to keep lp to invert transform after prediction\n",
    "\n",
    "def oversample_powerset(X, y, oversampler):\n",
    "    #https://github.com/scikit-learn-contrib/imbalanced-learn/issues/340\n",
    "    lp = LabelPowerset()\n",
    "    yt = lp.transform(y)\n",
    "    \n",
    "    Xr, yr = oversampler.fit_resample(X, yt)\n",
    "    \n",
    "    return Xr, yr, lp\n",
    "    \n",
    "def label_powerset_classification(estimator, sampling='ros'):\n",
    "    \n",
    "    if sampling == 'ros':\n",
    "        oversampler = FunctionSampler(func=oversample_powerset, kw_args={'oversampler':RandomOverSampler()})\n",
    "    elif sampling == 'smote':\n",
    "        oversampler = FunctionSampler(func=oversample_powerset, kw_args={'oversampler':SMOTE()})\n",
    "    else:\n",
    "        oversampler = FunctionSampler(func=oversample_powerset, kw_args={'oversampler':sampling})\n",
    "        \n",
    "    powerset_pipe = Pipeline([('oversampler', oversampler), ('clf', estimator)])\n",
    "    \n",
    "    return LabelPowerset(powerset_pipe)"
   ]
  },
  {
   "cell_type": "code",
   "execution_count": null,
   "metadata": {},
   "outputs": [],
   "source": [
    "Xr, yr, lp = oversample_powerset(X_train, y_train, SMOTE())"
   ]
  },
  {
   "cell_type": "code",
   "execution_count": 522,
   "metadata": {},
   "outputs": [
    {
     "data": {
      "text/plain": [
       "array([ 28,  17,   2,  20,   5, 213])"
      ]
     },
     "execution_count": 522,
     "metadata": {},
     "output_type": "execute_result"
    }
   ],
   "source": [
    "sum(y_test)"
   ]
  },
  {
   "cell_type": "code",
   "execution_count": 520,
   "metadata": {},
   "outputs": [
    {
     "data": {
      "text/plain": [
       "array([  5,   4,   1,   9,   0, 255])"
      ]
     },
     "execution_count": 520,
     "metadata": {},
     "output_type": "execute_result"
    }
   ],
   "source": [
    "sum(lp.inverse_transform(rf.predict(X_test)).toarray())"
   ]
  },
  {
   "cell_type": "code",
   "execution_count": 523,
   "metadata": {},
   "outputs": [
    {
     "name": "stderr",
     "output_type": "stream",
     "text": [
      "/root/anaconda3/lib/python3.6/site-packages/sklearn/metrics/classification.py:1143: UndefinedMetricWarning: Precision is ill-defined and being set to 0.0 in labels with no predicted samples.\n",
      "  'precision', 'predicted', average, warn_for)\n",
      "/root/anaconda3/lib/python3.6/site-packages/sklearn/metrics/classification.py:1143: UndefinedMetricWarning: F-score is ill-defined and being set to 0.0 in labels with no predicted samples.\n",
      "  'precision', 'predicted', average, warn_for)\n"
     ]
    },
    {
     "data": {
      "text/plain": [
       "{'hamming_loss': 0.09681372549019608,\n",
       " 'precision_macro': 0.1446360153256705,\n",
       " 'precision_micro': 0.8628571428571429,\n",
       " 'recall_macro': 0.11815336463223787,\n",
       " 'recall_micro': 0.5298245614035088,\n",
       " 'f1_score_macro': 0.13006029285099055,\n",
       " 'f1_score_micro': 0.6565217391304348}"
      ]
     },
     "execution_count": 523,
     "metadata": {},
     "output_type": "execute_result"
    }
   ],
   "source": [
    "rf = RandomForestClassifier(100).fit(X_train, y_train)\n",
    "evaluate_prediction(y_test, rf.predict(X_test))"
   ]
  },
  {
   "cell_type": "code",
   "execution_count": 515,
   "metadata": {},
   "outputs": [
    {
     "name": "stderr",
     "output_type": "stream",
     "text": [
      "/root/anaconda3/lib/python3.6/site-packages/sklearn/metrics/classification.py:1143: UndefinedMetricWarning: Precision is ill-defined and being set to 0.0 in labels with no predicted samples.\n",
      "  'precision', 'predicted', average, warn_for)\n",
      "/root/anaconda3/lib/python3.6/site-packages/sklearn/metrics/classification.py:1143: UndefinedMetricWarning: F-score is ill-defined and being set to 0.0 in labels with no predicted samples.\n",
      "  'precision', 'predicted', average, warn_for)\n"
     ]
    },
    {
     "data": {
      "text/plain": [
       "{'hamming_loss': 0.08884803921568628,\n",
       " 'precision_macro': 0.18888888888888888,\n",
       " 'precision_micro': 0.7554744525547445,\n",
       " 'recall_macro': 0.1846244131455399,\n",
       " 'recall_micro': 0.7263157894736842,\n",
       " 'f1_score_macro': 0.17978190391983495,\n",
       " 'f1_score_micro': 0.740608228980322}"
      ]
     },
     "execution_count": 515,
     "metadata": {},
     "output_type": "execute_result"
    }
   ],
   "source": [
    "rf = RandomForestClassifier(100).fit(Xr, yr)\n",
    "evaluate_prediction(y_test, lp.inverse_transform(rf.predict(X_test)))"
   ]
  },
  {
   "cell_type": "code",
   "execution_count": 481,
   "metadata": {},
   "outputs": [
    {
     "data": {
      "text/plain": [
       "LabelPowerset(classifier=Pipeline(memory=None,\n",
       "     steps=[('oversampler', FunctionSampler(accept_sparse=True,\n",
       "        func=<function oversample_powerset at 0x7f800026c048>,\n",
       "        kw_args={'oversampler': RandomOverSampler(random_state=None, ratio=None, return_indices=False,\n",
       "         sampling_strategy='auto')})), ('clf', RandomForestClassifier(boots...obs=None,\n",
       "            oob_score=False, random_state=None, verbose=0,\n",
       "            warm_start=False))]),\n",
       "       require_dense=[True, True])"
      ]
     },
     "execution_count": 481,
     "metadata": {},
     "output_type": "execute_result"
    }
   ],
   "source": [
    "lp = label_powerset_classification(RandomForestClassifier(200, max_depth=6))\n",
    "lp.fit(X_train, y_train)"
   ]
  },
  {
   "cell_type": "code",
   "execution_count": 482,
   "metadata": {},
   "outputs": [
    {
     "data": {
      "text/plain": [
       "array([  0,  93,   0,   0,   0, 179])"
      ]
     },
     "execution_count": 482,
     "metadata": {},
     "output_type": "execute_result"
    }
   ],
   "source": [
    "sum(lp.predict(X_test).toarray())"
   ]
  },
  {
   "cell_type": "code",
   "execution_count": 455,
   "metadata": {},
   "outputs": [
    {
     "data": {
      "text/plain": [
       "{'hamming_loss': 0.14767156862745098,\n",
       " 'precision_macro': 0.1607511628355818,\n",
       " 'precision_micro': 0.5808823529411765,\n",
       " 'recall_macro': 0.21384516247813679,\n",
       " 'recall_micro': 0.5543859649122806,\n",
       " 'f1_score_macro': 0.1567208097928437,\n",
       " 'f1_score_micro': 0.5673249551166966}"
      ]
     },
     "execution_count": 455,
     "metadata": {},
     "output_type": "execute_result"
    }
   ],
   "source": [
    "evaluate_prediction(y_test,lp.predict(X_test))"
   ]
  },
  {
   "cell_type": "code",
   "execution_count": 347,
   "metadata": {},
   "outputs": [
    {
     "data": {
      "text/plain": [
       "BinaryRelevance(classifier=Pipeline(memory=None,\n",
       "     steps=[('oversampler', RandomOverSampler(random_state=None, ratio=None, return_indices=False,\n",
       "         sampling_strategy='auto')), ('clf', RandomForestClassifier(bootstrap=True, class_weight=None, criterion='gini',\n",
       "            max_depth=None, max_features='auto', max_leaf_nodes=None,\n",
       "            min...obs=None,\n",
       "            oob_score=False, random_state=None, verbose=0,\n",
       "            warm_start=False))]),\n",
       "        require_dense=[True, True])"
      ]
     },
     "execution_count": 347,
     "metadata": {},
     "output_type": "execute_result"
    }
   ],
   "source": [
    "br = binary_relevance_classification(RandomForestClassifier(100))\n",
    "br.fit(X_train, y_train)"
   ]
  },
  {
   "cell_type": "markdown",
   "metadata": {},
   "source": [
    "## Defining Multilabel Metrics"
   ]
  },
  {
   "cell_type": "code",
   "execution_count": 309,
   "metadata": {},
   "outputs": [],
   "source": [
    "def evaluate_prediction(y_true, y_pred, averaging='macro'):\n",
    "    results = {}\n",
    "    \n",
    "    results['hamming_loss'] = hamming_loss(y_true, y_pred)\n",
    "    results['precision_macro'] = precision_score(y_true, y_pred, average='macro')\n",
    "    results['precision_micro'] = precision_score(y_true, y_pred, average='micro')\n",
    "    results['recall_macro'] = recall_score(y_true, y_pred, average='macro')\n",
    "    results['recall_micro'] = recall_score(y_true, y_pred, average='micro')\n",
    "    results['f1_score_macro'] = f1_score(y_true, y_pred, average='macro')\n",
    "    results['f1_score_micro'] = f1_score(y_true, y_pred, average='micro')\n",
    "    \n",
    "#     print(\"Hamming Loss:\", hamming_loss(y_true, y_pred))\n",
    "#     print(\"Precision:\", precision_score(y_true, y_pred, average=averaging))\n",
    "#     print(\"Recall:\", recall_score(y_true, y_pred, average=averaging))\n",
    "#     print(\"F1-score:\", f1_score(y_true, y_pred, average=averaging))\n",
    "    \n",
    "    return results"
   ]
  },
  {
   "cell_type": "code",
   "execution_count": 323,
   "metadata": {},
   "outputs": [],
   "source": [
    "def evaluate_model(estimator, X, y, transform='binary_relevance'):\n",
    "    pre = []\n",
    "    rec = []\n",
    "    fs = []\n",
    "    hl = []\n",
    "\n",
    "    for _ in range(10):\n",
    "\n",
    "        cv = KFold(n_splits=5, shuffle=True)\n",
    "\n",
    "        scoring = {'precision': make_scorer(precision_score, average='macro'),\n",
    "                   'recall': make_scorer(recall_score, average='macro'),\n",
    "                   'f1': make_scorer(f1_score, average='macro'),\n",
    "                  'hamming_loss': make_scorer(hamming_loss)}\n",
    "\n",
    "        if transform == 'binary_relevance':\n",
    "            clf = binary_relevance_classification(estimator)\n",
    "        elif transform == 'label_powerset':\n",
    "            clf = LabelPowerset(estimator)\n",
    "        else:\n",
    "            raise ValueError('transform options: binary_relevance, label_powerset')\n",
    "        scores = cross_validate(clf, X, y, cv=cv, scoring=scoring, n_jobs=-1)\n",
    "\n",
    "        pre.append(np.mean(scores['test_precision']))\n",
    "        rec.append(np.mean(scores['test_recall'])) \n",
    "        fs.append(np.mean(scores['test_f1']))    \n",
    "        hl.append(np.mean(scores['test_hamming_loss']))\n",
    "    \n",
    "    print('Precision: %.4f' % np.mean(pre), end='  ')\n",
    "    print('Recall: %.4f' % np.mean(rec), end='  ')\n",
    "    print('F1-score: %.4f' % np.mean(fs), end='  ')\n",
    "    print('Hamming loss: %.4f' % np.mean(hl))\n",
    "    return np.mean(hl)"
   ]
  },
  {
   "cell_type": "code",
   "execution_count": 263,
   "metadata": {},
   "outputs": [],
   "source": [
    "y_5 = y[:, :-1] # Not considering NoComm as a class\n",
    "y_4 = y[:, :-2] # Not considering NoComm or Other as classes"
   ]
  },
  {
   "cell_type": "markdown",
   "metadata": {},
   "source": [
    "## Random Forest"
   ]
  },
  {
   "cell_type": "code",
   "execution_count": 305,
   "metadata": {},
   "outputs": [
    {
     "name": "stdout",
     "output_type": "stream",
     "text": [
      "depth = 6\n",
      "Precision: 0.2359  Recall: 0.2082  F1-score: 0.2180  Hamming loss: 0.1606\n",
      "depth = 8\n",
      "Precision: 0.2342  Recall: 0.1565  F1-score: 0.1755  Hamming loss: 0.1385\n",
      "depth = 10\n",
      "Precision: 0.2143  Recall: 0.1385  F1-score: 0.1513  Hamming loss: 0.1305\n",
      "depth = 12\n",
      "Precision: 0.1953  Recall: 0.1306  F1-score: 0.1405  Hamming loss: 0.1299\n",
      "depth = 14\n",
      "Precision: 0.2204  Recall: 0.1314  F1-score: 0.1429  Hamming loss: 0.1278\n",
      "depth = 16\n",
      "Precision: 0.1992  Recall: 0.1274  F1-score: 0.1376  Hamming loss: 0.1281\n",
      "depth = None\n",
      "Precision: 0.2090  Recall: 0.1300  F1-score: 0.1410  Hamming loss: 0.1273\n"
     ]
    }
   ],
   "source": [
    "# Try different n_estimators as well (Grid search)\n",
    "h_loss = []\n",
    "\n",
    "for depth in [6, 8, 10, 12, 14, 16, None]:\n",
    "    print('depth =', depth)\n",
    "    h_loss.append(evaluate_model(RandomForestClassifier(100, max_depth=depth), X, y))"
   ]
  },
  {
   "cell_type": "code",
   "execution_count": 306,
   "metadata": {},
   "outputs": [
    {
     "data": {
      "image/png": "[encoded data removed]",
      "text/plain": [
       "<Figure size 432x288 with 1 Axes>"
      ]
     },
     "metadata": {
      "needs_background": "light"
     },
     "output_type": "display_data"
    }
   ],
   "source": [
    "# Fscore is decreasing however\n",
    "plt.plot(h_loss)\n",
    "plt.ylabel('Hamming Loss')\n",
    "plt.xlabel('Max Tree Depth')\n",
    "plt.xticks(range(7), ['6', '8', '10', '12', '14', '16', 'None'])\n",
    "plt.show()"
   ]
  },
  {
   "cell_type": "markdown",
   "metadata": {},
   "source": [
    "## kNN"
   ]
  },
  {
   "cell_type": "code",
   "execution_count": 275,
   "metadata": {},
   "outputs": [
    {
     "name": "stdout",
     "output_type": "stream",
     "text": [
      "\n",
      "k = 1\n",
      "Precision: 0.1256  Recall: 0.0997  F1-score: 0.1084  Hamming loss: 0.1623\n",
      "\n",
      "k = 2\n",
      "Precision: 0.1272  Recall: 0.1070  F1-score: 0.1127  Hamming loss: 0.1620\n",
      "\n",
      "k = 3\n",
      "Precision: 0.1387  Recall: 0.2085  F1-score: 0.1642  Hamming loss: 0.2050\n",
      "\n",
      "k = 4\n",
      "Precision: 0.1356  Recall: 0.2004  F1-score: 0.1591  Hamming loss: 0.2046\n",
      "\n",
      "k = 5\n",
      "Precision: 0.1385  Recall: 0.2780  F1-score: 0.1812  Hamming loss: 0.2416\n"
     ]
    }
   ],
   "source": [
    "h_loss = []\n",
    "for k in range(1, 6):\n",
    "    print('\\nk =', k)\n",
    "    h_loss.append(evaluate_model(KNeighborsClassifier(k), X, y_4))"
   ]
  },
  {
   "cell_type": "code",
   "execution_count": 218,
   "metadata": {},
   "outputs": [
    {
     "data": {
      "image/png": "[encoded data removed]",
      "text/plain": [
       "<Figure size 432x288 with 1 Axes>"
      ]
     },
     "metadata": {
      "needs_background": "light"
     },
     "output_type": "display_data"
    }
   ],
   "source": [
    "plt.plot(range(1,6), h_loss)\n",
    "plt.ylabel('Hamming Loss')\n",
    "plt.xlabel('# neighbours')\n",
    "plt.show()"
   ]
  },
  {
   "cell_type": "markdown",
   "metadata": {},
   "source": [
    "## Gradient Boost"
   ]
  },
  {
   "cell_type": "code",
   "execution_count": 324,
   "metadata": {},
   "outputs": [
    {
     "name": "stdout",
     "output_type": "stream",
     "text": [
      "Precision: 0.2374  Recall: 0.2047  F1-score: 0.2011  Hamming loss: 0.1467\n"
     ]
    },
    {
     "data": {
      "text/plain": [
       "0.14674883267600528"
      ]
     },
     "execution_count": 324,
     "metadata": {},
     "output_type": "execute_result"
    }
   ],
   "source": [
    "evaluate_model(GradientBoostingClassifier(), X, y, 'label_powerset')"
   ]
  },
  {
   "cell_type": "markdown",
   "metadata": {},
   "source": [
    "## SVM"
   ]
  },
  {
   "cell_type": "code",
   "execution_count": 319,
   "metadata": {},
   "outputs": [
    {
     "name": "stdout",
     "output_type": "stream",
     "text": [
      "Precision: 0.2260  Recall: 0.2903  F1-score: 0.2473  Hamming loss: 0.1988\n"
     ]
    },
    {
     "data": {
      "text/plain": [
       "0.19875526995784035"
      ]
     },
     "execution_count": 319,
     "metadata": {},
     "output_type": "execute_result"
    }
   ],
   "source": [
    "evaluate_model(SVC(C=1000), X, y)"
   ]
  },
  {
   "cell_type": "markdown",
   "metadata": {},
   "source": [
    "## MLP"
   ]
  },
  {
   "cell_type": "code",
   "execution_count": 189,
   "metadata": {},
   "outputs": [
    {
     "name": "stdout",
     "output_type": "stream",
     "text": [
      "Precision: 0.2137  Recall: 0.2720  F1-score: 0.2345  Hamming loss: 0.1974\n"
     ]
    },
    {
     "data": {
      "text/plain": [
       "0.1973675600417682"
      ]
     },
     "execution_count": 189,
     "metadata": {},
     "output_type": "execute_result"
    }
   ],
   "source": [
    "from sklearn.neural_network import MLPClassifier\n",
    "evaluate_model(MLPClassifier(), X, y)"
   ]
  },
  {
   "cell_type": "code",
   "execution_count": null,
   "metadata": {},
   "outputs": [],
   "source": [
    "# Can consider Time series classification algorithms as well\n",
    "# https://tslearn.readthedocs.io/en/latest/gettingstarted.html"
   ]
  },
  {
   "cell_type": "markdown",
   "metadata": {},
   "source": [
    "## Naive Baselines"
   ]
  },
  {
   "cell_type": "code",
   "execution_count": 312,
   "metadata": {},
   "outputs": [
    {
     "data": {
      "text/plain": [
       "array([[0., 0., 0., 0., 0., 1.],\n",
       "       [0., 0., 0., 0., 0., 1.],\n",
       "       [0., 0., 0., 0., 0., 1.],\n",
       "       ...,\n",
       "       [0., 0., 0., 0., 0., 1.],\n",
       "       [0., 0., 0., 0., 0., 1.],\n",
       "       [0., 0., 0., 0., 0., 1.]])"
      ]
     },
     "execution_count": 312,
     "metadata": {},
     "output_type": "execute_result"
    }
   ],
   "source": [
    "no_comm = np.zeros(y.shape)\n",
    "no_comm[:, -1] = 1\n",
    "no_comm"
   ]
  },
  {
   "cell_type": "code",
   "execution_count": 313,
   "metadata": {},
   "outputs": [
    {
     "name": "stderr",
     "output_type": "stream",
     "text": [
      "/root/anaconda3/lib/python3.6/site-packages/sklearn/metrics/classification.py:1143: UndefinedMetricWarning: Precision is ill-defined and being set to 0.0 in labels with no predicted samples.\n",
      "  'precision', 'predicted', average, warn_for)\n",
      "/root/anaconda3/lib/python3.6/site-packages/sklearn/metrics/classification.py:1143: UndefinedMetricWarning: F-score is ill-defined and being set to 0.0 in labels with no predicted samples.\n",
      "  'precision', 'predicted', average, warn_for)\n"
     ]
    },
    {
     "data": {
      "text/plain": [
       "{'hamming_loss': 0.13687694704049844,\n",
       " 'precision_macro': 0.10416666666666667,\n",
       " 'precision_micro': 0.625,\n",
       " 'recall_macro': 0.16666666666666666,\n",
       " 'recall_micro': 0.5834242093784079,\n",
       " 'f1_score_macro': 0.12820512820512822,\n",
       " 'f1_score_micro': 0.6034968979131415}"
      ]
     },
     "execution_count": 313,
     "metadata": {},
     "output_type": "execute_result"
    }
   ],
   "source": [
    "# Guess No Comment every time\n",
    "evaluate_prediction(y, no_comm)"
   ]
  },
  {
   "cell_type": "code",
   "execution_count": 314,
   "metadata": {},
   "outputs": [
    {
     "data": {
      "text/plain": [
       "{'hamming_loss': 0.5,\n",
       " 'precision_macro': 0.17411804804706976,\n",
       " 'precision_micro': 0.17766497461928935,\n",
       " 'recall_macro': 0.47808485818536955,\n",
       " 'recall_micro': 0.4961832061068702,\n",
       " 'f1_score_macro': 0.20647730777421602,\n",
       " 'f1_score_micro': 0.261644623346751}"
      ]
     },
     "execution_count": 314,
     "metadata": {},
     "output_type": "execute_result"
    }
   ],
   "source": [
    "# Random Guessing each label\n",
    "random_y = np.random.randint(2, size=y.shape)\n",
    "evaluate_prediction(y, random_y)"
   ]
  },
  {
   "cell_type": "code",
   "execution_count": 239,
   "metadata": {},
   "outputs": [
    {
     "data": {
      "text/plain": [
       "array([[0, 0, 0, 1, 0, 1],\n",
       "       [1, 0, 0, 0, 0, 0],\n",
       "       [1, 1, 1, 1, 0, 1],\n",
       "       ...,\n",
       "       [0, 1, 1, 0, 0, 1],\n",
       "       [1, 0, 1, 1, 1, 0],\n",
       "       [0, 1, 1, 0, 1, 1]])"
      ]
     },
     "execution_count": 239,
     "metadata": {},
     "output_type": "execute_result"
    }
   ],
   "source": [
    "random_y"
   ]
  },
  {
   "cell_type": "code",
   "execution_count": 310,
   "metadata": {},
   "outputs": [
    {
     "data": {
      "text/plain": [
       "{'hamming_loss': 0.28407320872274144,\n",
       " 'precision_macro': 0.17295497330552104,\n",
       " 'precision_micro': 0.18341121495327103,\n",
       " 'recall_macro': 0.126826544407218,\n",
       " 'recall_micro': 0.17121046892039257,\n",
       " 'f1_score_macro': 0.12468046848935743,\n",
       " 'f1_score_micro': 0.17710095882684715}"
      ]
     },
     "execution_count": 310,
     "metadata": {},
     "output_type": "execute_result"
    }
   ],
   "source": [
    "# Random guessing a single class\n",
    "random_single_class = to_categorical(np.random.randint(6, size=len(y)), dtype=int)\n",
    "evaluate_prediction(y, random_single_class)"
   ]
  },
  {
   "cell_type": "code",
   "execution_count": 258,
   "metadata": {},
   "outputs": [
    {
     "data": {
      "text/plain": [
       "array([[0, 0, 1, 0, 0, 0],\n",
       "       [0, 0, 0, 1, 0, 0],\n",
       "       [0, 0, 0, 1, 0, 0],\n",
       "       ...,\n",
       "       [0, 0, 0, 0, 0, 1],\n",
       "       [0, 0, 1, 0, 0, 0],\n",
       "       [1, 0, 0, 0, 0, 0]])"
      ]
     },
     "execution_count": 258,
     "metadata": {},
     "output_type": "execute_result"
    }
   ],
   "source": [
    "random_single_class"
   ]
  },
  {
   "cell_type": "code",
   "execution_count": null,
   "metadata": {},
   "outputs": [],
   "source": []
  },
  {
   "cell_type": "code",
   "execution_count": null,
   "metadata": {},
   "outputs": [],
   "source": [
    "import skmultilearn."
   ]
  },
  {
   "cell_type": "code",
   "execution_count": null,
   "metadata": {},
   "outputs": [],
   "source": []
  },
  {
   "cell_type": "code",
   "execution_count": null,
   "metadata": {},
   "outputs": [],
   "source": []
  },
  {
   "cell_type": "code",
   "execution_count": null,
   "metadata": {},
   "outputs": [],
   "source": []
  },
  {
   "cell_type": "code",
   "execution_count": null,
   "metadata": {},
   "outputs": [],
   "source": []
  },
  {
   "cell_type": "code",
   "execution_count": null,
   "metadata": {},
   "outputs": [],
   "source": []
  },
  {
   "cell_type": "code",
   "execution_count": null,
   "metadata": {},
   "outputs": [],
   "source": []
  },
  {
   "cell_type": "code",
   "execution_count": null,
   "metadata": {},
   "outputs": [],
   "source": []
  },
  {
   "cell_type": "code",
   "execution_count": null,
   "metadata": {},
   "outputs": [],
   "source": []
  },
  {
   "cell_type": "code",
   "execution_count": null,
   "metadata": {},
   "outputs": [],
   "source": []
  },
  {
   "cell_type": "code",
   "execution_count": null,
   "metadata": {},
   "outputs": [],
   "source": []
  },
  {
   "cell_type": "code",
   "execution_count": null,
   "metadata": {},
   "outputs": [],
   "source": []
  },
  {
   "cell_type": "code",
   "execution_count": null,
   "metadata": {},
   "outputs": [],
   "source": []
  },
  {
   "cell_type": "code",
   "execution_count": null,
   "metadata": {},
   "outputs": [],
   "source": []
  },
  {
   "cell_type": "code",
   "execution_count": null,
   "metadata": {},
   "outputs": [],
   "source": []
  },
  {
   "cell_type": "code",
   "execution_count": null,
   "metadata": {},
   "outputs": [],
   "source": []
  },
  {
   "cell_type": "markdown",
   "metadata": {},
   "source": [
    "## Random Forest"
   ]
  },
  {
   "cell_type": "code",
   "execution_count": 58,
   "metadata": {},
   "outputs": [],
   "source": [
    "from sklearn.metrics import roc_curve, auc"
   ]
  },
  {
   "cell_type": "code",
   "execution_count": 212,
   "metadata": {},
   "outputs": [],
   "source": [
    "ros = RandomOverSampler()\n",
    "X_binary, y_binary = ros.fit_resample(X_train, 1 -  y_train[:, 5])"
   ]
  },
  {
   "cell_type": "code",
   "execution_count": 298,
   "metadata": {},
   "outputs": [],
   "source": [
    "pre = []\n",
    "rec = []\n",
    "fs = []\n",
    "gms = []\n",
    "wa = []\n",
    "\n",
    "for _ in range(100):\n",
    "    rf = RandomForestClassifier(200)\n",
    "    rf.fit(X_binary, y_binary) # 1 if comment, 0 if no comment\n",
    "    \n",
    "    predictions = rf.predict(X_test)\n",
    "    pre.append(precision_score(1 - y_test[:, 5], predictions))\n",
    "    rec.append(recall_score(1 - y_test[:, 5], predictions))\n",
    "    fs.append(f1_score(1 - y_test[:, 5], predictions))\n",
    "    gms.append(geometric_mean_score(1 - y_test[:, 5], predictions, average='binary'))\n",
    "    wa.append(balanced_accuracy_score(1 - y_test[:, 5], predictions))"
   ]
  },
  {
   "cell_type": "code",
   "execution_count": 299,
   "metadata": {},
   "outputs": [
    {
     "name": "stdout",
     "output_type": "stream",
     "text": [
      "0.4077695532059648 0.5868571428571429 0.4810383685973719 0.6414360415628743 0.6443035714285714\n"
     ]
    }
   ],
   "source": [
    "print(np.mean(pre), np.mean(rec), np.mean(fs), np.mean(gms), np.mean(wa))"
   ]
  },
  {
   "cell_type": "code",
   "execution_count": 243,
   "metadata": {},
   "outputs": [],
   "source": [
    "predictions = rf.predict(X_test)"
   ]
  },
  {
   "cell_type": "code",
   "execution_count": 244,
   "metadata": {},
   "outputs": [
    {
     "data": {
      "text/plain": [
       "100"
      ]
     },
     "execution_count": 244,
     "metadata": {},
     "output_type": "execute_result"
    }
   ],
   "source": [
    "sum(predictions)"
   ]
  },
  {
   "cell_type": "code",
   "execution_count": 245,
   "metadata": {},
   "outputs": [
    {
     "data": {
      "text/plain": [
       "70"
      ]
     },
     "execution_count": 245,
     "metadata": {},
     "output_type": "execute_result"
    }
   ],
   "source": [
    "sum(1 - y_test[:,5])"
   ]
  },
  {
   "cell_type": "code",
   "execution_count": 246,
   "metadata": {
    "scrolled": true
   },
   "outputs": [
    {
     "data": {
      "text/plain": [
       "array([[142,  58],\n",
       "       [ 28,  42]])"
      ]
     },
     "execution_count": 246,
     "metadata": {},
     "output_type": "execute_result"
    }
   ],
   "source": [
    "conf_matrix = confusion_matrix(1 - y_test[:,5], predictions)\n",
    "conf_matrix"
   ]
  },
  {
   "cell_type": "code",
   "execution_count": 247,
   "metadata": {},
   "outputs": [],
   "source": [
    "tn, fp, fn, tp = conf_matrix.ravel()"
   ]
  },
  {
   "cell_type": "code",
   "execution_count": 248,
   "metadata": {},
   "outputs": [
    {
     "data": {
      "image/png": "[encoded data removed]",
      "text/plain": [
       "<Figure size 432x288 with 1 Axes>"
      ]
     },
     "metadata": {
      "needs_background": "light"
     },
     "output_type": "display_data"
    }
   ],
   "source": [
    "score = rf.predict_proba(X_test)[:, 1]\n",
    "\n",
    "fpr, tpr, _ = roc_curve(1 - y_test[:, 5], score, pos_label=1)\n",
    "roc_auc = auc(fpr, tpr)\n",
    "\n",
    "plt.figure()\n",
    "lw = 2\n",
    "plt.plot(fpr, tpr, color='darkorange',\n",
    "         lw=lw, label='ROC curve (area = %0.2f)' % roc_auc)\n",
    "plt.plot([0, 1], [0, 1], color='navy', lw=lw, linestyle='--')\n",
    "plt.xlim([0.0, 1.0])\n",
    "plt.ylim([0.0, 1.05])\n",
    "plt.xlabel('False Positive Rate')\n",
    "plt.ylabel('True Positive Rate')\n",
    "plt.title('ROC curve')\n",
    "plt.legend(loc=\"lower right\")\n",
    "plt.show()"
   ]
  },
  {
   "cell_type": "code",
   "execution_count": 249,
   "metadata": {},
   "outputs": [
    {
     "name": "stdout",
     "output_type": "stream",
     "text": [
      "Weighted Accuracy 0.655\n",
      "Geometric mean of recall and specificity: 0.6526867548832288 \n",
      "\n",
      "                   pre       rec       spe        f1       geo       iba       sup\n",
      "\n",
      "          0       0.84      0.71      0.60      0.77      0.65      0.43       200\n",
      "          1       0.42      0.60      0.71      0.49      0.65      0.42        70\n",
      "\n",
      "avg / total       0.73      0.68      0.63      0.70      0.65      0.43       270\n",
      "\n"
     ]
    }
   ],
   "source": [
    "print('Weighted Accuracy', balanced_accuracy_score(1 - y_test[:, 5], predictions))\n",
    "print('Geometric mean of recall and specificity:', geometric_mean_score(1 - y_test[:,5], predictions), '\\n')\n",
    "print(classification_report_imbalanced(1 - y_test[:,5], predictions))"
   ]
  },
  {
   "cell_type": "code",
   "execution_count": 250,
   "metadata": {},
   "outputs": [
    {
     "name": "stdout",
     "output_type": "stream",
     "text": [
      "0.6\n",
      "0.42\n",
      "0.49411764705882355\n",
      "0.6814814814814815\n"
     ]
    }
   ],
   "source": [
    "print(recall_score(1-y_test[:, 5], predictions))\n",
    "print(precision_score(1-y_test[:, 5], predictions))\n",
    "print(f1_score(1-y_test[:, 5], predictions))\n",
    "print(accuracy_score(1-y_test[:, 5],predictions))"
   ]
  },
  {
   "cell_type": "markdown",
   "metadata": {},
   "source": [
    "## No Comment / Comment Model"
   ]
  },
  {
   "cell_type": "code",
   "execution_count": 222,
   "metadata": {},
   "outputs": [],
   "source": [
    "X_binary = X_binary.reshape(*X_binary.shape, 1)\n",
    "X_test = X_test.reshape(*X_test.shape, 1)"
   ]
  },
  {
   "cell_type": "code",
   "execution_count": 238,
   "metadata": {
    "scrolled": true
   },
   "outputs": [],
   "source": [
    "pre = []\n",
    "rec = []\n",
    "fs = []\n",
    "gms = []\n",
    "wa = []\n",
    "\n",
    "for _ in range(10):\n",
    "# Binary Classifcation (Comment / No Comment)\n",
    "    model = Sequential()\n",
    "    model.add(LSTM(150, input_shape=(WINDOW_SIZE, 1), dropout=0.2, recurrent_dropout=0.2))\n",
    "    model.add(Dense(1, activation='sigmoid'))\n",
    "    model.compile(loss='binary_crossentropy', optimizer='adam', metrics=['accuracy'])\n",
    "\n",
    "    early_stop = EarlyStopping(monitor='val_loss', patience=20, restore_best_weights=True) # restore_best_weights available in newer keras\n",
    "    # filepath = 'models/binary_model.h5'\n",
    "    # checkpoint = ModelCheckpoint(filepath, monitor='val-loss', save_best_only=True)\n",
    "\n",
    "    model.fit(X_binary, y_binary,\n",
    "                  validation_data=(X_test, 1 - y_test[:, 5]),\n",
    "                  epochs=50, batch_size=16, verbose=0)\n",
    "\n",
    "\n",
    "    predictions = model.predict_classes(X_test)\n",
    "    pre.append(precision_score(1 - y_test[:, 5], predictions))\n",
    "    rec.append(recall_score(1 - y_test[:, 5], predictions))\n",
    "    fs.append(f1_score(1 - y_test[:, 5], predictions))\n",
    "    gms.append(geometric_mean_score(1 - y_test[:, 5], predictions, average='binary'))\n",
    "    wa.append(balanced_accuracy_score(1 - y_test[:, 5], predictions))"
   ]
  },
  {
   "cell_type": "code",
   "execution_count": 239,
   "metadata": {},
   "outputs": [
    {
     "name": "stdout",
     "output_type": "stream",
     "text": [
      "0.4708875311999935 0.5814285714285714 0.5180145329129167 0.6669679820365884 0.6759642857142858\n"
     ]
    }
   ],
   "source": [
    "print(np.mean(pre), np.mean(rec), np.mean(fs), np.mean(gms), np.mean(wa))"
   ]
  },
  {
   "cell_type": "code",
   "execution_count": 229,
   "metadata": {},
   "outputs": [],
   "source": [
    "predictions = model.predict_classes(X_test)"
   ]
  },
  {
   "cell_type": "code",
   "execution_count": 230,
   "metadata": {},
   "outputs": [
    {
     "name": "stdout",
     "output_type": "stream",
     "text": [
      "Weighted Accuracy 0.6953571428571428\n",
      "Geometric mean of recall and specificity: 0.6952902785373685 \n",
      "\n",
      "                   pre       rec       spe        f1       geo       iba       sup\n",
      "\n",
      "          0       0.87      0.70      0.69      0.78      0.70      0.48       200\n",
      "          1       0.45      0.69      0.70      0.54      0.70      0.48        70\n",
      "\n",
      "avg / total       0.76      0.70      0.69      0.72      0.70      0.48       270\n",
      "\n"
     ]
    }
   ],
   "source": [
    "print('Weighted Accuracy', balanced_accuracy_score(1 - y_test[:, 5], predictions))\n",
    "print('Geometric mean of recall and specificity:', geometric_mean_score(1 - y_test[:,5], predictions), '\\n')\n",
    "print(classification_report_imbalanced(1 - y_test[:,5], predictions))"
   ]
  },
  {
   "cell_type": "code",
   "execution_count": 231,
   "metadata": {},
   "outputs": [
    {
     "name": "stdout",
     "output_type": "stream",
     "text": [
      "0.6857142857142857\n",
      "0.4485981308411215\n",
      "0.5423728813559322\n",
      "0.7\n"
     ]
    }
   ],
   "source": [
    "print(recall_score(1-y_test[:, 5], predictions))\n",
    "print(precision_score(1-y_test[:, 5], predictions))\n",
    "print(f1_score(1-y_test[:, 5], predictions))\n",
    "print(accuracy_score(1-y_test[:, 5],predictions))"
   ]
  },
  {
   "cell_type": "code",
   "execution_count": 161,
   "metadata": {},
   "outputs": [],
   "source": [
    "# from keras.models import load_model\n",
    "# model = load_model('models/binary_model.h5')"
   ]
  },
  {
   "cell_type": "code",
   "execution_count": 232,
   "metadata": {},
   "outputs": [
    {
     "data": {
      "image/png": "[encoded data removed]",
      "text/plain": [
       "<Figure size 432x288 with 1 Axes>"
      ]
     },
     "metadata": {
      "needs_background": "light"
     },
     "output_type": "display_data"
    },
    {
     "data": {
      "image/png": "[encoded data removed]",
      "text/plain": [
       "<Figure size 432x288 with 1 Axes>"
      ]
     },
     "metadata": {
      "needs_background": "light"
     },
     "output_type": "display_data"
    }
   ],
   "source": [
    "plot_model(history)"
   ]
  },
  {
   "cell_type": "markdown",
   "metadata": {},
   "source": [
    "## Dense Binary Model"
   ]
  },
  {
   "cell_type": "code",
   "execution_count": 241,
   "metadata": {},
   "outputs": [],
   "source": [
    "X_binary = X_binary.reshape(X_binary.shape[:2])\n",
    "X_test = X_test.reshape(X_test.shape[:2])"
   ]
  },
  {
   "cell_type": "code",
   "execution_count": 174,
   "metadata": {
    "scrolled": true
   },
   "outputs": [
    {
     "name": "stdout",
     "output_type": "stream",
     "text": [
      "Train on 852 samples, validate on 270 samples\n",
      "Epoch 1/50\n",
      "852/852 [==============================] - 1s 707us/step - loss: 0.6903 - acc: 0.5563 - val_loss: 0.7022 - val_acc: 0.6778\n",
      "Epoch 2/50\n",
      "852/852 [==============================] - 0s 214us/step - loss: 0.6823 - acc: 0.6232 - val_loss: 0.7117 - val_acc: 0.6704\n",
      "Epoch 3/50\n",
      "852/852 [==============================] - 0s 215us/step - loss: 0.6786 - acc: 0.6150 - val_loss: 0.7311 - val_acc: 0.5815\n",
      "Epoch 4/50\n",
      "852/852 [==============================] - 0s 212us/step - loss: 0.6788 - acc: 0.6291 - val_loss: 0.6884 - val_acc: 0.6815\n",
      "Epoch 5/50\n",
      "852/852 [==============================] - 0s 215us/step - loss: 0.6772 - acc: 0.6009 - val_loss: 0.6911 - val_acc: 0.6926\n",
      "Epoch 6/50\n",
      "852/852 [==============================] - 0s 215us/step - loss: 0.6774 - acc: 0.6268 - val_loss: 0.6984 - val_acc: 0.6889\n",
      "Epoch 7/50\n",
      "852/852 [==============================] - 0s 214us/step - loss: 0.6799 - acc: 0.6162 - val_loss: 0.7235 - val_acc: 0.6407\n",
      "Epoch 8/50\n",
      "852/852 [==============================] - 0s 217us/step - loss: 0.6762 - acc: 0.6221 - val_loss: 0.6947 - val_acc: 0.6778\n",
      "Epoch 9/50\n",
      "852/852 [==============================] - 0s 211us/step - loss: 0.6747 - acc: 0.6420 - val_loss: 0.7061 - val_acc: 0.6852\n",
      "Epoch 10/50\n",
      "852/852 [==============================] - 0s 212us/step - loss: 0.6751 - acc: 0.6350 - val_loss: 0.7009 - val_acc: 0.6815\n",
      "Epoch 11/50\n",
      "852/852 [==============================] - 0s 206us/step - loss: 0.6745 - acc: 0.6362 - val_loss: 0.7057 - val_acc: 0.6852\n",
      "Epoch 12/50\n",
      "852/852 [==============================] - 0s 206us/step - loss: 0.6738 - acc: 0.5939 - val_loss: 0.6849 - val_acc: 0.6889\n",
      "Epoch 13/50\n",
      "852/852 [==============================] - 0s 205us/step - loss: 0.6742 - acc: 0.6455 - val_loss: 0.7041 - val_acc: 0.6815\n",
      "Epoch 14/50\n",
      "852/852 [==============================] - 0s 217us/step - loss: 0.6731 - acc: 0.6467 - val_loss: 0.7003 - val_acc: 0.6704\n",
      "Epoch 15/50\n",
      "852/852 [==============================] - 0s 217us/step - loss: 0.6746 - acc: 0.6291 - val_loss: 0.7001 - val_acc: 0.6741\n",
      "Epoch 16/50\n",
      "852/852 [==============================] - 0s 213us/step - loss: 0.6730 - acc: 0.6350 - val_loss: 0.7187 - val_acc: 0.6519\n",
      "Epoch 17/50\n",
      "852/852 [==============================] - 0s 211us/step - loss: 0.6729 - acc: 0.6244 - val_loss: 0.7026 - val_acc: 0.6778\n",
      "Epoch 18/50\n",
      "852/852 [==============================] - 0s 209us/step - loss: 0.6716 - acc: 0.6408 - val_loss: 0.7031 - val_acc: 0.6815\n",
      "Epoch 19/50\n",
      "852/852 [==============================] - 0s 208us/step - loss: 0.6725 - acc: 0.6162 - val_loss: 0.6869 - val_acc: 0.6889\n",
      "Epoch 20/50\n",
      "852/852 [==============================] - 0s 208us/step - loss: 0.6734 - acc: 0.6397 - val_loss: 0.6959 - val_acc: 0.6778\n",
      "Epoch 21/50\n",
      "852/852 [==============================] - 0s 207us/step - loss: 0.6727 - acc: 0.6467 - val_loss: 0.7040 - val_acc: 0.6630\n",
      "Epoch 22/50\n",
      "852/852 [==============================] - 0s 220us/step - loss: 0.6725 - acc: 0.6397 - val_loss: 0.7032 - val_acc: 0.6667\n",
      "Epoch 23/50\n",
      "852/852 [==============================] - 0s 213us/step - loss: 0.6710 - acc: 0.6350 - val_loss: 0.7064 - val_acc: 0.6667\n",
      "Epoch 24/50\n",
      "852/852 [==============================] - 0s 212us/step - loss: 0.6714 - acc: 0.6455 - val_loss: 0.7052 - val_acc: 0.6667\n",
      "Epoch 25/50\n",
      "852/852 [==============================] - 0s 212us/step - loss: 0.6723 - acc: 0.6315 - val_loss: 0.7083 - val_acc: 0.6667\n",
      "Epoch 26/50\n",
      "852/852 [==============================] - 0s 220us/step - loss: 0.6724 - acc: 0.6444 - val_loss: 0.7086 - val_acc: 0.6630\n",
      "Epoch 27/50\n",
      "852/852 [==============================] - 0s 219us/step - loss: 0.6710 - acc: 0.6373 - val_loss: 0.7083 - val_acc: 0.6741\n",
      "Epoch 28/50\n",
      "852/852 [==============================] - 0s 213us/step - loss: 0.6706 - acc: 0.6385 - val_loss: 0.6969 - val_acc: 0.6815\n",
      "Epoch 29/50\n",
      "852/852 [==============================] - 0s 208us/step - loss: 0.6705 - acc: 0.6467 - val_loss: 0.7084 - val_acc: 0.6778\n",
      "Epoch 30/50\n",
      "852/852 [==============================] - 0s 211us/step - loss: 0.6716 - acc: 0.6491 - val_loss: 0.6942 - val_acc: 0.6926\n",
      "Epoch 31/50\n",
      "852/852 [==============================] - 0s 209us/step - loss: 0.6709 - acc: 0.6385 - val_loss: 0.7044 - val_acc: 0.6667\n",
      "Epoch 32/50\n",
      "852/852 [==============================] - 0s 215us/step - loss: 0.6706 - acc: 0.6420 - val_loss: 0.6945 - val_acc: 0.6778\n",
      "Epoch 33/50\n",
      "852/852 [==============================] - 0s 215us/step - loss: 0.6708 - acc: 0.6408 - val_loss: 0.7012 - val_acc: 0.6704\n",
      "Epoch 34/50\n",
      "852/852 [==============================] - 0s 216us/step - loss: 0.6709 - acc: 0.6373 - val_loss: 0.6966 - val_acc: 0.6778\n",
      "Epoch 35/50\n",
      "852/852 [==============================] - 0s 217us/step - loss: 0.6708 - acc: 0.6502 - val_loss: 0.6943 - val_acc: 0.6852\n",
      "Epoch 36/50\n",
      "852/852 [==============================] - 0s 216us/step - loss: 0.6707 - acc: 0.6362 - val_loss: 0.6991 - val_acc: 0.6889\n",
      "Epoch 37/50\n",
      "852/852 [==============================] - 0s 215us/step - loss: 0.6706 - acc: 0.6373 - val_loss: 0.7065 - val_acc: 0.6704\n",
      "Epoch 38/50\n",
      "852/852 [==============================] - 0s 217us/step - loss: 0.6703 - acc: 0.6408 - val_loss: 0.7085 - val_acc: 0.6704\n",
      "Epoch 39/50\n",
      "852/852 [==============================] - 0s 211us/step - loss: 0.6724 - acc: 0.6467 - val_loss: 0.7097 - val_acc: 0.6556\n",
      "Epoch 40/50\n",
      "852/852 [==============================] - 0s 213us/step - loss: 0.6701 - acc: 0.6408 - val_loss: 0.6996 - val_acc: 0.6778\n",
      "Epoch 41/50\n",
      "852/852 [==============================] - 0s 211us/step - loss: 0.6701 - acc: 0.6526 - val_loss: 0.7080 - val_acc: 0.6704\n",
      "Epoch 42/50\n",
      "852/852 [==============================] - 0s 214us/step - loss: 0.6704 - acc: 0.6479 - val_loss: 0.7087 - val_acc: 0.6741\n",
      "Epoch 43/50\n",
      "852/852 [==============================] - 0s 209us/step - loss: 0.6701 - acc: 0.6526 - val_loss: 0.7065 - val_acc: 0.6704\n",
      "Epoch 44/50\n",
      "852/852 [==============================] - 0s 211us/step - loss: 0.6695 - acc: 0.6479 - val_loss: 0.6953 - val_acc: 0.6815\n",
      "Epoch 45/50\n",
      "852/852 [==============================] - 0s 216us/step - loss: 0.6697 - acc: 0.6479 - val_loss: 0.7056 - val_acc: 0.6741\n",
      "Epoch 46/50\n",
      "852/852 [==============================] - 0s 213us/step - loss: 0.6699 - acc: 0.6467 - val_loss: 0.7123 - val_acc: 0.6704\n",
      "Epoch 47/50\n",
      "852/852 [==============================] - 0s 214us/step - loss: 0.6692 - acc: 0.6491 - val_loss: 0.6989 - val_acc: 0.6852\n",
      "Epoch 48/50\n",
      "852/852 [==============================] - 0s 217us/step - loss: 0.6701 - acc: 0.6420 - val_loss: 0.7034 - val_acc: 0.6741\n",
      "Epoch 49/50\n",
      "852/852 [==============================] - 0s 219us/step - loss: 0.6701 - acc: 0.6444 - val_loss: 0.7065 - val_acc: 0.6667\n",
      "Epoch 50/50\n",
      "852/852 [==============================] - 0s 219us/step - loss: 0.6700 - acc: 0.6455 - val_loss: 0.6989 - val_acc: 0.6778\n"
     ]
    }
   ],
   "source": [
    "# Binary Classifcation (Comment / No Comment)\n",
    "model = Sequential()\n",
    "model.add(Dense(100, input_shape=(WINDOW_SIZE,)))\n",
    "model.add(Dense(100))\n",
    "model.add(Dense(1, activation='sigmoid'))\n",
    "model.compile(loss='binary_crossentropy', optimizer='adam', metrics=['accuracy'])\n",
    "\n",
    "early_stop = EarlyStopping(monitor='val_loss', patience=20, restore_best_weights=True) \n",
    "\n",
    "history = model.fit(X_binary, y_binary,\n",
    "              validation_data=(X_test, 1 - y_test[:, 5]),\n",
    "              epochs=50, batch_size=8)"
   ]
  },
  {
   "cell_type": "code",
   "execution_count": 175,
   "metadata": {},
   "outputs": [],
   "source": [
    "predictions = model.predict_classes(X_test)"
   ]
  },
  {
   "cell_type": "code",
   "execution_count": 176,
   "metadata": {},
   "outputs": [
    {
     "name": "stdout",
     "output_type": "stream",
     "text": [
      "Weighted Accuracy 0.5407754010695187\n",
      "Geometric mean of recall and specificity: 0.46966821831386213 \n",
      "\n",
      "                   pre       rec       spe        f1       geo       iba       sup\n",
      "\n",
      "          0       0.77      0.81      0.27      0.79      0.47      0.23       204\n",
      "          1       0.32      0.27      0.81      0.29      0.47      0.21        66\n",
      "\n",
      "avg / total       0.66      0.68      0.40      0.67      0.47      0.23       270\n",
      "\n"
     ]
    }
   ],
   "source": [
    "print('Weighted Accuracy', balanced_accuracy_score(1 - y_test[:, 5], predictions))\n",
    "print('Geometric mean of recall and specificity:', geometric_mean_score(1 - y_test[:,5], predictions), '\\n')\n",
    "print(classification_report_imbalanced(1 - y_test[:,5], predictions))"
   ]
  },
  {
   "cell_type": "code",
   "execution_count": 177,
   "metadata": {},
   "outputs": [
    {
     "name": "stdout",
     "output_type": "stream",
     "text": [
      "0.2727272727272727\n",
      "0.2926829268292683\n",
      "0.6777777777777778\n"
     ]
    }
   ],
   "source": [
    "print(recall_score(1-y_test[:, 5], predictions))\n",
    "print(f1_score(1-y_test[:, 5], predictions))\n",
    "print(accuracy_score(1-y_test[:, 5],predictions))"
   ]
  },
  {
   "cell_type": "markdown",
   "metadata": {},
   "source": [
    "## No Comment / Comment Metrics"
   ]
  },
  {
   "cell_type": "code",
   "execution_count": 717,
   "metadata": {},
   "outputs": [],
   "source": [
    "predictions = model.predict_classes(X_test)\n",
    "score = model.predict(X_test)"
   ]
  },
  {
   "cell_type": "code",
   "execution_count": 719,
   "metadata": {},
   "outputs": [
    {
     "data": {
      "text/plain": [
       "array([[188,  22],\n",
       "       [ 42,  18]])"
      ]
     },
     "execution_count": 719,
     "metadata": {},
     "output_type": "execute_result"
    }
   ],
   "source": [
    "conf_matrix = confusion_matrix(1 - y_test[:,5], predictions)\n",
    "conf_matrix"
   ]
  },
  {
   "cell_type": "markdown",
   "metadata": {},
   "source": [
    "<table align='left'> \n",
    "    <tr> \n",
    "        <td>TN</td>\n",
    "        <td>FP</td>\n",
    "    </tr>\n",
    "    <tr> \n",
    "        <td>FN</td>\n",
    "        <td>TP</td>\n",
    "    </tr>    \n",
    "</table>"
   ]
  },
  {
   "cell_type": "code",
   "execution_count": 720,
   "metadata": {},
   "outputs": [
    {
     "name": "stdout",
     "output_type": "stream",
     "text": [
      "188, 22, 42, 18\n"
     ]
    }
   ],
   "source": [
    "tn, fp, fn, tp = conf_matrix.ravel()\n",
    "print(tn, fp, fn, tp, sep=', ')"
   ]
  },
  {
   "cell_type": "code",
   "execution_count": 721,
   "metadata": {},
   "outputs": [
    {
     "data": {
      "text/plain": [
       "0.45"
      ]
     },
     "execution_count": 721,
     "metadata": {},
     "output_type": "execute_result"
    }
   ],
   "source": [
    "precision = tp / (tp + fp)\n",
    "precision"
   ]
  },
  {
   "cell_type": "code",
   "execution_count": 722,
   "metadata": {},
   "outputs": [
    {
     "data": {
      "text/plain": [
       "0.3"
      ]
     },
     "execution_count": 722,
     "metadata": {},
     "output_type": "execute_result"
    }
   ],
   "source": [
    "recall = tp / (tp + fn)\n",
    "recall"
   ]
  },
  {
   "cell_type": "code",
   "execution_count": 723,
   "metadata": {},
   "outputs": [
    {
     "data": {
      "text/plain": [
       "0.36000000000000004"
      ]
     },
     "execution_count": 723,
     "metadata": {},
     "output_type": "execute_result"
    }
   ],
   "source": [
    "fscore = 2 * precision * recall / (precision + recall)\n",
    "fscore"
   ]
  },
  {
   "cell_type": "code",
   "execution_count": 724,
   "metadata": {},
   "outputs": [
    {
     "data": {
      "image/png": "[encoded data removed]",
      "text/plain": [
       "<Figure size 432x288 with 1 Axes>"
      ]
     },
     "metadata": {
      "needs_background": "light"
     },
     "output_type": "display_data"
    }
   ],
   "source": [
    "fpr, tpr, thr = roc_curve(1 - y_test[:, 5], score, pos_label=1)\n",
    "roc_auc = auc(fpr, tpr)\n",
    "\n",
    "\n",
    "plt.figure()\n",
    "lw = 2\n",
    "plt.plot(fpr, tpr, color='darkorange',\n",
    "         lw=lw, label='ROC curve (area = %0.2f)' % roc_auc)\n",
    "plt.plot([0, 1], [0, 1], color='navy', lw=lw, linestyle='--')\n",
    "plt.xlim([0.0, 1.0])\n",
    "plt.ylim([0.0, 1.05])\n",
    "plt.xlabel('False Positive Rate')\n",
    "plt.ylabel('True Positive Rate')\n",
    "plt.title('ROC curve')\n",
    "plt.legend(loc=\"lower right\")\n",
    "plt.show()"
   ]
  },
  {
   "cell_type": "code",
   "execution_count": 725,
   "metadata": {},
   "outputs": [],
   "source": [
    "best_thr = thr[np.argmin((0 - fpr)**2 + (1 - tpr)**2)] # Closest threshold to (0, 1) on ROC curve"
   ]
  },
  {
   "cell_type": "code",
   "execution_count": 726,
   "metadata": {},
   "outputs": [],
   "source": [
    "predictions = [1 if x > best_thr else 0 for x in score] # After seeing ROC curve best threshold is ~0.3"
   ]
  },
  {
   "cell_type": "code",
   "execution_count": 727,
   "metadata": {},
   "outputs": [
    {
     "data": {
      "text/plain": [
       "array([[159,  51],\n",
       "       [ 36,  24]])"
      ]
     },
     "execution_count": 727,
     "metadata": {},
     "output_type": "execute_result"
    }
   ],
   "source": [
    "conf_matrix = confusion_matrix(1 - y_test[:,5], predictions, )\n",
    "conf_matrix"
   ]
  },
  {
   "cell_type": "code",
   "execution_count": 728,
   "metadata": {},
   "outputs": [],
   "source": [
    "tn, fp, fn, tp = conf_matrix.ravel()"
   ]
  },
  {
   "cell_type": "code",
   "execution_count": 729,
   "metadata": {},
   "outputs": [
    {
     "data": {
      "text/plain": [
       "0.32"
      ]
     },
     "execution_count": 729,
     "metadata": {},
     "output_type": "execute_result"
    }
   ],
   "source": [
    "precision = tp / (tp + fp)\n",
    "precision"
   ]
  },
  {
   "cell_type": "code",
   "execution_count": 730,
   "metadata": {},
   "outputs": [
    {
     "data": {
      "text/plain": [
       "0.4"
      ]
     },
     "execution_count": 730,
     "metadata": {},
     "output_type": "execute_result"
    }
   ],
   "source": [
    "recall = tp / (tp + fn)\n",
    "recall"
   ]
  },
  {
   "cell_type": "code",
   "execution_count": 731,
   "metadata": {
    "scrolled": true
   },
   "outputs": [
    {
     "data": {
      "text/plain": [
       "0.35555555555555557"
      ]
     },
     "execution_count": 731,
     "metadata": {},
     "output_type": "execute_result"
    }
   ],
   "source": [
    "fscore = 2 * precision * recall / (precision + recall)\n",
    "fscore"
   ]
  },
  {
   "cell_type": "code",
   "execution_count": 734,
   "metadata": {},
   "outputs": [
    {
     "data": {
      "text/plain": [
       "0.762962962962963"
      ]
     },
     "execution_count": 734,
     "metadata": {},
     "output_type": "execute_result"
    }
   ],
   "source": [
    "accuracy_score(1-y_test[:, 5],predictions)"
   ]
  },
  {
   "cell_type": "markdown",
   "metadata": {},
   "source": [
    "|Model| Precision | Recall | F-score | \n",
    "| --- | --- | --- | --- |\n",
    "|Random Forest|  |  | |\n",
    "|LSTM |  |  |  |"
   ]
  },
  {
   "cell_type": "markdown",
   "metadata": {},
   "source": [
    "## Multiclass Model Hyperparameter Search"
   ]
  },
  {
   "cell_type": "code",
   "execution_count": 357,
   "metadata": {},
   "outputs": [],
   "source": [
    "from sklearn.model_selection import GridSearchCV\n",
    "from keras.wrappers.scikit_learn import KerasClassifier"
   ]
  },
  {
   "cell_type": "code",
   "execution_count": 96,
   "metadata": {
    "scrolled": true
   },
   "outputs": [
    {
     "data": {
      "text/plain": [
       "array([ 1.15533981,  1.88888889, 14.875     ,  1.7761194 ,  5.40909091,\n",
       "        0.26385809])"
      ]
     },
     "execution_count": 96,
     "metadata": {},
     "output_type": "execute_result"
    }
   ],
   "source": [
    "# class_weights = class_weight.compute_class_weight('balanced', \n",
    "#                                                  np.unique(np.argmax(y_train, 1)), \n",
    "#                                                  np.argmax(y_train,1))\n",
    "# class_weights"
   ]
  },
  {
   "cell_type": "code",
   "execution_count": 375,
   "metadata": {},
   "outputs": [],
   "source": [
    "X_train, X_test, y_train, y_test = train_test_split(X, y, test_size=0.2)"
   ]
  },
  {
   "cell_type": "code",
   "execution_count": 359,
   "metadata": {},
   "outputs": [],
   "source": [
    "def create_model(hidden_size=150, dropout=0.2, recurrent_dropout=0.2):\n",
    "    model = Sequential()\n",
    "    model.add(LSTM(hidden_size, input_shape=(WINDOW_SIZE, 1),\n",
    "                  dropout=dropout, recurrent_dropout=recurrent_dropout))\n",
    "    model.add(Dense(6, activation='softmax')) \n",
    "    model.compile(loss='sparse_categorical_crossentropy',\n",
    "                  optimizer='adam')\n",
    "    return model"
   ]
  },
  {
   "cell_type": "code",
   "execution_count": 360,
   "metadata": {},
   "outputs": [],
   "source": [
    "# Custom TransformerMixin to reshape data after oversampling\n",
    "\n",
    "# from sklearn.base import TransformerMixin\n",
    "\n",
    "# class Reshape(TransformerMixin):\n",
    "\n",
    "#     def transform(self, X):\n",
    "        \n",
    "#         return X.reshape(*X.shape, 1)\n",
    "\n",
    "#     def fit(self, X, y=None, **fit_params):\n",
    "#         return self\n",
    "\n",
    "# Saved in utils.py"
   ]
  },
  {
   "cell_type": "code",
   "execution_count": 78,
   "metadata": {},
   "outputs": [],
   "source": [
    "from imblearn.metrics import geometric_mean_score\n",
    "from imblearn.metrics import classification_report_imbalanced"
   ]
  },
  {
   "cell_type": "code",
   "execution_count": 355,
   "metadata": {},
   "outputs": [],
   "source": [
    "from utils import Reshape"
   ]
  },
  {
   "cell_type": "code",
   "execution_count": 398,
   "metadata": {},
   "outputs": [
    {
     "name": "stderr",
     "output_type": "stream",
     "text": [
      "/root/anaconda3/lib/python3.6/site-packages/sklearn/externals/joblib/externals/loky/process_executor.py:706: UserWarning: A worker stopped while some jobs were given to the executor. This can be caused by a too short worker timeout or by a memory leak.\n",
      "  \"timeout or by a memory leak.\", UserWarning\n",
      "/root/anaconda3/lib/python3.6/site-packages/sklearn/model_selection/_search.py:841: DeprecationWarning: The default of the `iid` parameter will change from True to False in version 0.22 and will be removed in 0.24. This will change numeric results when test-set sizes are unequal.\n",
      "  DeprecationWarning)\n"
     ]
    }
   ],
   "source": [
    "model = Pipeline([\n",
    "    ('sampling', RandomOverSampler()),# Try with SMOTE \n",
    "    ('reshape', Reshape()),\n",
    "    ('clf', KerasClassifier(create_model, verbose=0))\n",
    "])\n",
    "\n",
    "# Grid search parameters\n",
    "hidden_size = [60, 80, 100, 150]\n",
    "epochs = [30, 40, 50, 60, 70]\n",
    "batch_size = [8, 16, 32]\n",
    "dropout = [0.2, 0.5]\n",
    "recurrent_dropout = [0.2, 0.5]\n",
    "\n",
    "scorer = make_scorer(geometric_mean_score, average='micro')\n",
    "\n",
    "param_grid = {'clf__hidden_size':hidden_size,\n",
    "              'clf__batch_size':batch_size,\n",
    "              'clf__epochs':epochs,\n",
    "              'clf__dropout':dropout,\n",
    "              'clf__recurrent_dropout':recurrent_dropout}\n",
    "\n",
    "grid = GridSearchCV(estimator=model, param_grid=param_grid, scoring=scorer, cv=5, n_jobs=-1)\n",
    "#'balanced_accuracy'\n",
    "#                     scoring={'f1_micro':'f1_micro', 'f1_macro':'f1_micro'}, refit='f1_macro')\n",
    "\n",
    "grid_search = grid.fit(X_train, np.argmax(y_train, axis=1))\n",
    "\n",
    "\n",
    "# hyperas module for optimizing hyperparameters"
   ]
  },
  {
   "cell_type": "code",
   "execution_count": 399,
   "metadata": {},
   "outputs": [
    {
     "data": {
      "text/plain": [
       "({'clf__batch_size': 16,\n",
       "  'clf__dropout': 0.2,\n",
       "  'clf__epochs': 70,\n",
       "  'clf__hidden_size': 150,\n",
       "  'clf__recurrent_dropout': 0.2},\n",
       " 0.6403939840480054)"
      ]
     },
     "execution_count": 399,
     "metadata": {},
     "output_type": "execute_result"
    }
   ],
   "source": [
    "grid_search.best_params_, grid_search.best_score_"
   ]
  },
  {
   "cell_type": "code",
   "execution_count": 400,
   "metadata": {},
   "outputs": [],
   "source": [
    "predictions = to_categorical(grid_search.predict(X_test))"
   ]
  },
  {
   "cell_type": "code",
   "execution_count": 401,
   "metadata": {},
   "outputs": [
    {
     "data": {
      "text/plain": [
       "array([ 32.,  13.,   4.,  49.,  18., 154.], dtype=float32)"
      ]
     },
     "execution_count": 401,
     "metadata": {},
     "output_type": "execute_result"
    }
   ],
   "source": [
    "sum(predictions)"
   ]
  },
  {
   "cell_type": "code",
   "execution_count": 405,
   "metadata": {
    "scrolled": true
   },
   "outputs": [
    {
     "name": "stdout",
     "output_type": "stream",
     "text": [
      "0.6120495228035486 {'clf__batch_size': 8, 'clf__dropout': 0.2, 'clf__epochs': 30, 'clf__hidden_size': 150, 'clf__recurrent_dropout': 0.2}\n",
      "0.6056122893295801 {'clf__batch_size': 8, 'clf__dropout': 0.2, 'clf__epochs': 40, 'clf__hidden_size': 100, 'clf__recurrent_dropout': 0.2}\n",
      "0.6179301352638126 {'clf__batch_size': 8, 'clf__dropout': 0.2, 'clf__epochs': 40, 'clf__hidden_size': 150, 'clf__recurrent_dropout': 0.2}\n",
      "0.6306636759236092 {'clf__batch_size': 8, 'clf__dropout': 0.2, 'clf__epochs': 50, 'clf__hidden_size': 150, 'clf__recurrent_dropout': 0.2}\n",
      "0.6213344342762661 {'clf__batch_size': 8, 'clf__dropout': 0.2, 'clf__epochs': 60, 'clf__hidden_size': 80, 'clf__recurrent_dropout': 0.2}\n",
      "0.614920169844267 {'clf__batch_size': 8, 'clf__dropout': 0.2, 'clf__epochs': 60, 'clf__hidden_size': 100, 'clf__recurrent_dropout': 0.2}\n",
      "0.6028896799586745 {'clf__batch_size': 8, 'clf__dropout': 0.2, 'clf__epochs': 60, 'clf__hidden_size': 150, 'clf__recurrent_dropout': 0.2}\n",
      "0.6117682581475774 {'clf__batch_size': 8, 'clf__dropout': 0.2, 'clf__epochs': 70, 'clf__hidden_size': 80, 'clf__recurrent_dropout': 0.2}\n",
      "0.6022181913915491 {'clf__batch_size': 8, 'clf__dropout': 0.2, 'clf__epochs': 70, 'clf__hidden_size': 100, 'clf__recurrent_dropout': 0.2}\n",
      "0.608104884114541 {'clf__batch_size': 8, 'clf__dropout': 0.2, 'clf__epochs': 70, 'clf__hidden_size': 150, 'clf__recurrent_dropout': 0.2}\n",
      "0.6010982963803858 {'clf__batch_size': 8, 'clf__dropout': 0.5, 'clf__epochs': 70, 'clf__hidden_size': 150, 'clf__recurrent_dropout': 0.2}\n",
      "0.614560912557636 {'clf__batch_size': 16, 'clf__dropout': 0.2, 'clf__epochs': 40, 'clf__hidden_size': 80, 'clf__recurrent_dropout': 0.5}\n",
      "0.6006099645268895 {'clf__batch_size': 16, 'clf__dropout': 0.2, 'clf__epochs': 40, 'clf__hidden_size': 100, 'clf__recurrent_dropout': 0.5}\n",
      "0.6091789540752383 {'clf__batch_size': 16, 'clf__dropout': 0.2, 'clf__epochs': 50, 'clf__hidden_size': 150, 'clf__recurrent_dropout': 0.2}\n",
      "0.6396481353026089 {'clf__batch_size': 16, 'clf__dropout': 0.2, 'clf__epochs': 60, 'clf__hidden_size': 150, 'clf__recurrent_dropout': 0.2}\n",
      "0.6072864094581866 {'clf__batch_size': 16, 'clf__dropout': 0.2, 'clf__epochs': 70, 'clf__hidden_size': 100, 'clf__recurrent_dropout': 0.2}\n",
      "0.6403939840480054 {'clf__batch_size': 16, 'clf__dropout': 0.2, 'clf__epochs': 70, 'clf__hidden_size': 150, 'clf__recurrent_dropout': 0.2}\n",
      "0.6055823763384016 {'clf__batch_size': 32, 'clf__dropout': 0.2, 'clf__epochs': 60, 'clf__hidden_size': 150, 'clf__recurrent_dropout': 0.2}\n",
      "0.6029608352432764 {'clf__batch_size': 32, 'clf__dropout': 0.2, 'clf__epochs': 70, 'clf__hidden_size': 150, 'clf__recurrent_dropout': 0.2}\n"
     ]
    }
   ],
   "source": [
    "scores = grid_search.cv_results_['mean_test_score']\n",
    "# f1_micro = grid_search.cv_results_['mean_test_f1_micro']\n",
    "# f1_macro = grid_search.cv_results_['mean_test_f1_macro']\n",
    "params = grid_search.cv_results_['params']\n",
    "\n",
    "for score, param in zip(scores, params):\n",
    "    if score > 0.6:\n",
    "        print(score, param)\n",
    "# [x for x in zip(grid_search.cv_results_['mean_test_score'], grid_search.cv_results_['params'])]"
   ]
  },
  {
   "cell_type": "code",
   "execution_count": 410,
   "metadata": {},
   "outputs": [
    {
     "data": {
      "text/plain": [
       "array([ 32.,  13.,   4.,  49.,  18., 154.], dtype=float32)"
      ]
     },
     "execution_count": 410,
     "metadata": {},
     "output_type": "execute_result"
    }
   ],
   "source": [
    "sum(predictions)"
   ]
  },
  {
   "cell_type": "code",
   "execution_count": 411,
   "metadata": {},
   "outputs": [
    {
     "data": {
      "text/plain": [
       "array([ 22,  21,   3,  11,   5, 208])"
      ]
     },
     "execution_count": 411,
     "metadata": {},
     "output_type": "execute_result"
    }
   ],
   "source": [
    "sum(y_test)"
   ]
  },
  {
   "cell_type": "code",
   "execution_count": 412,
   "metadata": {},
   "outputs": [
    {
     "data": {
      "text/plain": [
       "0.6763271259858703"
      ]
     },
     "execution_count": 412,
     "metadata": {},
     "output_type": "execute_result"
    }
   ],
   "source": [
    "geometric_mean_score(np.argmax(y_test, 1), np.argmax(predictions, 1), average='micro')"
   ]
  },
  {
   "cell_type": "markdown",
   "metadata": {},
   "source": [
    "## Multiclass Model"
   ]
  },
  {
   "cell_type": "code",
   "execution_count": 330,
   "metadata": {},
   "outputs": [],
   "source": [
    "X_train = X_train.reshape(*X_train.shape, 1)\n",
    "X_test = X_test.reshape(*X_test.shape, 1)"
   ]
  },
  {
   "cell_type": "code",
   "execution_count": 331,
   "metadata": {},
   "outputs": [],
   "source": [
    "X_resampled = X_resampled.reshape(*X_resampled.shape, 1)"
   ]
  },
  {
   "cell_type": "code",
   "execution_count": 333,
   "metadata": {
    "scrolled": true
   },
   "outputs": [],
   "source": [
    "pre = []\n",
    "rec = []\n",
    "fs = []\n",
    "gms = []\n",
    "wa = []\n",
    "\n",
    "for _ in range(10):\n",
    "# Bidirectional LSTM\n",
    "\n",
    "    model = Sequential()\n",
    "    model.add(LSTM(150, input_shape=(WINDOW_SIZE, 1),\n",
    "                   dropout=0.2, recurrent_dropout=0.2))\n",
    "    model.add(Dense(6, activation='softmax')) \n",
    "    model.compile(loss='categorical_crossentropy', optimizer='adam', metrics=['accuracy'])\n",
    "\n",
    "    # early_stop = EarlyStopping(monitor='val_loss', patience=20, restore_best_weights=True) \n",
    "    # filepath = 'models/multiclass_model.h5'\n",
    "    # checkpoint = ModelCheckpoint(filepath, monitor='val-loss', verbose=1, save_best_only=True)\n",
    "\n",
    "    history = model.fit(X_resampled, y_resampled,\n",
    "                  validation_data=(X_test, y_test),\n",
    "                  epochs=50, batch_size=16, verbose=0)\n",
    "    predictions = model.predict_classes(X_test)\n",
    "    pre.append(precision_score(np.argmax(y_test, 1), predictions, average='weighted'))\n",
    "    rec.append(recall_score(np.argmax(y_test, 1), predictions, average='weighted'))\n",
    "    fs.append(f1_score(np.argmax(y_test, 1), predictions, average='weighted'))\n",
    "    gms.append(geometric_mean_score(np.argmax(y_test, 1), predictions, average='weighted'))\n",
    "    wa.append(balanced_accuracy_score(np.argmax(y_test, 1), predictions))\n",
    "    "
   ]
  },
  {
   "cell_type": "code",
   "execution_count": 361,
   "metadata": {},
   "outputs": [],
   "source": [
    "pre = []\n",
    "rec = []\n",
    "fs = []\n",
    "gms = []\n",
    "\n",
    "for _ in range(10):\n",
    "    \n",
    "    cv = KFold(n_splits=5, shuffle=True)\n",
    "    \n",
    "    model = Pipeline([\n",
    "        ('sampling', RandomOverSampler()), \n",
    "        ('reshape', Reshape()),\n",
    "        ('clf', KerasClassifier(create_model, epochs=60, batch_size=8, verbose=0))\n",
    "    ])\n",
    "\n",
    "    scoring = {'precision': make_scorer(precision_score, average='weighted'),\n",
    "               'recall': make_scorer(recall_score, average='weighted'),\n",
    "               'f1': make_scorer(f1_score, average='weighted'),\n",
    "              'geom': make_scorer(geometric_mean_score , average='weighted')}\n",
    "\n",
    "    scores = cross_validate(model, X, np.argmax(y, 1), cv=cv, scoring=scoring, n_jobs=-1)\n",
    "    pre.append(np.mean(scores['test_precision']))\n",
    "    rec.append(np.mean(scores['test_recall'])) \n",
    "    fs.append(np.mean(scores['test_f1']))    \n",
    "    gms.append(np.mean(scores['test_geom']))\n"
   ]
  },
  {
   "cell_type": "code",
   "execution_count": 363,
   "metadata": {},
   "outputs": [
    {
     "name": "stdout",
     "output_type": "stream",
     "text": [
      "0.5105276774857808 0.4607281587191089 0.48096592192151916 0.567618237739593\n"
     ]
    }
   ],
   "source": [
    "print(np.mean(pre), np.mean(rec), np.mean(fs), np.mean(gms))"
   ]
  },
  {
   "cell_type": "code",
   "execution_count": 338,
   "metadata": {
    "scrolled": true
   },
   "outputs": [
    {
     "name": "stdout",
     "output_type": "stream",
     "text": [
      "Train on 2580 samples, validate on 270 samples\n",
      "Epoch 1/50\n",
      "2580/2580 [==============================] - 8s 3ms/step - loss: 1.7902 - acc: 0.1783 - val_loss: 1.8245 - val_acc: 0.0296\n",
      "Epoch 2/50\n",
      "2580/2580 [==============================] - 3s 1ms/step - loss: 1.7777 - acc: 0.1934 - val_loss: 1.7958 - val_acc: 0.0370\n",
      "Epoch 3/50\n",
      "2580/2580 [==============================] - 3s 1ms/step - loss: 1.7668 - acc: 0.2043 - val_loss: 1.8010 - val_acc: 0.0926\n",
      "Epoch 4/50\n",
      "2580/2580 [==============================] - 3s 1ms/step - loss: 1.7596 - acc: 0.2054 - val_loss: 1.7604 - val_acc: 0.4889\n",
      "Epoch 5/50\n",
      "2580/2580 [==============================] - 3s 1ms/step - loss: 1.7527 - acc: 0.2178 - val_loss: 1.7914 - val_acc: 0.3593\n",
      "Epoch 6/50\n",
      "2580/2580 [==============================] - 3s 1ms/step - loss: 1.7479 - acc: 0.2194 - val_loss: 1.8301 - val_acc: 0.0926\n",
      "Epoch 7/50\n",
      "2580/2580 [==============================] - 3s 1ms/step - loss: 1.7287 - acc: 0.2291 - val_loss: 1.8040 - val_acc: 0.3444\n",
      "Epoch 8/50\n",
      "2580/2580 [==============================] - 3s 1ms/step - loss: 1.7159 - acc: 0.2446 - val_loss: 1.7356 - val_acc: 0.4926\n",
      "Epoch 9/50\n",
      "2580/2580 [==============================] - 3s 1ms/step - loss: 1.7083 - acc: 0.2558 - val_loss: 1.7831 - val_acc: 0.5185\n",
      "Epoch 10/50\n",
      "2580/2580 [==============================] - 3s 1ms/step - loss: 1.7112 - acc: 0.2504 - val_loss: 1.7956 - val_acc: 0.1481\n",
      "Epoch 11/50\n",
      "2580/2580 [==============================] - 3s 1ms/step - loss: 1.6977 - acc: 0.2488 - val_loss: 1.8418 - val_acc: 0.3704\n",
      "Epoch 12/50\n",
      "2580/2580 [==============================] - 3s 1ms/step - loss: 1.6897 - acc: 0.2477 - val_loss: 1.7709 - val_acc: 0.4852\n",
      "Epoch 13/50\n",
      "2580/2580 [==============================] - 3s 1ms/step - loss: 1.6877 - acc: 0.2535 - val_loss: 1.7397 - val_acc: 0.5444\n",
      "Epoch 14/50\n",
      "2580/2580 [==============================] - 3s 1ms/step - loss: 1.6690 - acc: 0.2775 - val_loss: 1.7957 - val_acc: 0.4370\n",
      "Epoch 15/50\n",
      "2580/2580 [==============================] - 3s 1ms/step - loss: 1.6554 - acc: 0.2895 - val_loss: 1.7462 - val_acc: 0.5185\n",
      "Epoch 16/50\n",
      "2580/2580 [==============================] - 3s 1ms/step - loss: 1.6603 - acc: 0.2713 - val_loss: 1.7324 - val_acc: 0.4963\n",
      "Epoch 17/50\n",
      "2580/2580 [==============================] - 3s 1ms/step - loss: 1.6374 - acc: 0.2946 - val_loss: 1.7077 - val_acc: 0.5333\n",
      "Epoch 18/50\n",
      "2580/2580 [==============================] - 3s 1ms/step - loss: 1.6268 - acc: 0.2930 - val_loss: 1.7721 - val_acc: 0.4963\n",
      "Epoch 19/50\n",
      "2580/2580 [==============================] - 3s 1ms/step - loss: 1.6261 - acc: 0.2907 - val_loss: 1.7383 - val_acc: 0.5296\n",
      "Epoch 20/50\n",
      "2580/2580 [==============================] - 3s 1ms/step - loss: 1.5926 - acc: 0.3136 - val_loss: 1.8357 - val_acc: 0.4444\n",
      "Epoch 21/50\n",
      "2580/2580 [==============================] - 3s 1ms/step - loss: 1.5969 - acc: 0.3081 - val_loss: 1.7769 - val_acc: 0.5111\n",
      "Epoch 22/50\n",
      "2580/2580 [==============================] - 3s 1ms/step - loss: 1.5846 - acc: 0.3209 - val_loss: 1.7712 - val_acc: 0.4778\n",
      "Epoch 23/50\n",
      "2580/2580 [==============================] - 3s 1ms/step - loss: 1.5908 - acc: 0.3081 - val_loss: 1.7618 - val_acc: 0.5000\n",
      "Epoch 24/50\n",
      "2580/2580 [==============================] - 3s 1ms/step - loss: 1.5547 - acc: 0.3318 - val_loss: 1.7993 - val_acc: 0.4704\n",
      "Epoch 25/50\n",
      "2580/2580 [==============================] - 3s 1ms/step - loss: 1.5544 - acc: 0.3314 - val_loss: 1.8171 - val_acc: 0.4000\n",
      "Epoch 26/50\n",
      "2580/2580 [==============================] - 3s 1ms/step - loss: 1.5351 - acc: 0.3395 - val_loss: 1.8457 - val_acc: 0.4667\n",
      "Epoch 27/50\n",
      "2580/2580 [==============================] - 3s 1ms/step - loss: 1.5353 - acc: 0.3333 - val_loss: 1.8172 - val_acc: 0.4259\n",
      "Epoch 28/50\n",
      "2580/2580 [==============================] - 3s 1ms/step - loss: 1.5244 - acc: 0.3376 - val_loss: 1.8026 - val_acc: 0.4889\n",
      "Epoch 29/50\n",
      "2580/2580 [==============================] - 3s 1ms/step - loss: 1.5065 - acc: 0.3527 - val_loss: 1.8390 - val_acc: 0.5000\n",
      "Epoch 30/50\n",
      "2580/2580 [==============================] - 3s 1ms/step - loss: 1.5021 - acc: 0.3430 - val_loss: 1.8069 - val_acc: 0.4481\n",
      "Epoch 31/50\n",
      "2580/2580 [==============================] - 3s 1ms/step - loss: 1.4867 - acc: 0.3678 - val_loss: 1.8699 - val_acc: 0.4259\n",
      "Epoch 32/50\n",
      "2580/2580 [==============================] - 3s 1ms/step - loss: 1.4809 - acc: 0.3733 - val_loss: 1.8043 - val_acc: 0.4444\n",
      "Epoch 33/50\n",
      "2580/2580 [==============================] - 3s 1ms/step - loss: 1.4855 - acc: 0.3616 - val_loss: 1.7976 - val_acc: 0.4741\n",
      "Epoch 34/50\n",
      "2580/2580 [==============================] - 3s 1ms/step - loss: 1.4557 - acc: 0.3733 - val_loss: 1.8662 - val_acc: 0.3889\n",
      "Epoch 35/50\n",
      "2580/2580 [==============================] - 3s 1ms/step - loss: 1.4926 - acc: 0.3516 - val_loss: 1.8082 - val_acc: 0.3630\n",
      "Epoch 36/50\n",
      "2580/2580 [==============================] - 3s 1ms/step - loss: 1.4292 - acc: 0.3841 - val_loss: 1.8131 - val_acc: 0.4333\n",
      "Epoch 37/50\n",
      "2580/2580 [==============================] - 3s 1ms/step - loss: 1.4265 - acc: 0.3911 - val_loss: 1.8655 - val_acc: 0.3556\n",
      "Epoch 38/50\n",
      "2580/2580 [==============================] - 3s 1ms/step - loss: 1.4298 - acc: 0.3752 - val_loss: 1.8285 - val_acc: 0.3741\n",
      "Epoch 39/50\n",
      "2580/2580 [==============================] - 3s 1ms/step - loss: 1.4147 - acc: 0.3810 - val_loss: 1.8457 - val_acc: 0.4370\n",
      "Epoch 40/50\n",
      "2580/2580 [==============================] - 3s 1ms/step - loss: 1.4096 - acc: 0.3946 - val_loss: 1.8531 - val_acc: 0.4370\n",
      "Epoch 41/50\n",
      "2580/2580 [==============================] - 3s 1ms/step - loss: 1.4202 - acc: 0.3911 - val_loss: 1.8710 - val_acc: 0.3444\n",
      "Epoch 42/50\n",
      "2580/2580 [==============================] - 3s 1ms/step - loss: 1.4297 - acc: 0.3764 - val_loss: 1.8438 - val_acc: 0.3481\n",
      "Epoch 43/50\n",
      "2580/2580 [==============================] - 3s 1ms/step - loss: 1.4064 - acc: 0.3841 - val_loss: 1.8222 - val_acc: 0.4333\n",
      "Epoch 44/50\n",
      "2580/2580 [==============================] - 3s 1ms/step - loss: 1.3752 - acc: 0.4147 - val_loss: 1.8614 - val_acc: 0.3741\n",
      "Epoch 45/50\n",
      "2580/2580 [==============================] - 3s 1ms/step - loss: 1.4075 - acc: 0.3876 - val_loss: 1.8458 - val_acc: 0.3481\n",
      "Epoch 46/50\n",
      "2580/2580 [==============================] - 3s 1ms/step - loss: 1.3816 - acc: 0.4074 - val_loss: 1.8578 - val_acc: 0.3667\n",
      "Epoch 47/50\n",
      "2580/2580 [==============================] - 3s 1ms/step - loss: 1.3827 - acc: 0.3950 - val_loss: 1.9225 - val_acc: 0.2815\n",
      "Epoch 48/50\n",
      "2580/2580 [==============================] - 3s 1ms/step - loss: 1.3564 - acc: 0.4167 - val_loss: 1.8853 - val_acc: 0.3667\n",
      "Epoch 49/50\n",
      "2580/2580 [==============================] - 3s 1ms/step - loss: 1.3556 - acc: 0.4221 - val_loss: 1.9067 - val_acc: 0.3667\n",
      "Epoch 50/50\n",
      "2580/2580 [==============================] - 3s 1ms/step - loss: 1.3412 - acc: 0.4171 - val_loss: 1.8838 - val_acc: 0.3704\n"
     ]
    }
   ],
   "source": [
    "model = Sequential()\n",
    "model.add(LSTM(150, input_shape=(WINDOW_SIZE, 1),\n",
    "               dropout=0.5, recurrent_dropout=0.5))\n",
    "model.add(Dense(6, activation='softmax')) \n",
    "model.compile(loss='categorical_crossentropy', optimizer='adam', metrics=['accuracy'])\n",
    "\n",
    "# early_stop = EarlyStopping(monitor='val_loss', patience=20, restore_best_weights=True) \n",
    "# filepath = 'models/multiclass_model.h5'\n",
    "# checkpoint = ModelCheckpoint(filepath, monitor='val-loss', verbose=1, save_best_only=True)\n",
    "\n",
    "history = model.fit(X_resampled, y_resampled,\n",
    "              validation_data=(X_test, y_test),\n",
    "              epochs=50, batch_size=16, verbose=1)"
   ]
  },
  {
   "cell_type": "code",
   "execution_count": 336,
   "metadata": {},
   "outputs": [
    {
     "data": {
      "image/png": "[encoded data removed]",
      "text/plain": [
       "<Figure size 432x288 with 1 Axes>"
      ]
     },
     "metadata": {
      "needs_background": "light"
     },
     "output_type": "display_data"
    },
    {
     "data": {
      "image/png": "[encoded data removed]",
      "text/plain": [
       "<Figure size 432x288 with 1 Axes>"
      ]
     },
     "metadata": {
      "needs_background": "light"
     },
     "output_type": "display_data"
    }
   ],
   "source": [
    "plot_model(history)"
   ]
  },
  {
   "cell_type": "code",
   "execution_count": null,
   "metadata": {},
   "outputs": [],
   "source": [
    "# from keras.models import load_model\n",
    "# model = load_model('models/binary_model.h5')"
   ]
  },
  {
   "cell_type": "code",
   "execution_count": 468,
   "metadata": {},
   "outputs": [],
   "source": [
    "predictions = to_categorical(model.predict_classes(X_test))"
   ]
  },
  {
   "cell_type": "code",
   "execution_count": 469,
   "metadata": {
    "scrolled": true
   },
   "outputs": [
    {
     "data": {
      "text/plain": [
       "array([ 48.,  22.,   5.,  50.,  17., 128.], dtype=float32)"
      ]
     },
     "execution_count": 469,
     "metadata": {},
     "output_type": "execute_result"
    }
   ],
   "source": [
    "predictions.sum(axis=0)"
   ]
  },
  {
   "cell_type": "code",
   "execution_count": 432,
   "metadata": {},
   "outputs": [
    {
     "data": {
      "text/plain": [
       "array([ 22,  21,   3,  11,   5, 208])"
      ]
     },
     "execution_count": 432,
     "metadata": {},
     "output_type": "execute_result"
    }
   ],
   "source": [
    "y_test.sum(axis=0)"
   ]
  },
  {
   "cell_type": "code",
   "execution_count": 472,
   "metadata": {},
   "outputs": [],
   "source": [
    "tp = np.zeros(6)\n",
    "fn = np.zeros(6)\n",
    "fp = np.zeros(6)\n",
    "tn = np.zeros(6)\n",
    "\n",
    "for i in range(y_test.shape[1]):\n",
    "    for j in range(y_test.shape[0]):\n",
    "        if y_test[j, i] == 1:\n",
    "            if predictions[j, i] == 1:\n",
    "                tp[i] += 1\n",
    "            else:\n",
    "                fn[i] += 1\n",
    "        else:\n",
    "            if predictions[j, i] == 1:\n",
    "                fp[i] += 1\n",
    "            else:\n",
    "                tn[i] += 1"
   ]
  },
  {
   "cell_type": "code",
   "execution_count": 473,
   "metadata": {
    "scrolled": false
   },
   "outputs": [
    {
     "name": "stdout",
     "output_type": "stream",
     "text": [
      "TP\tFP\n",
      "FN\tTN\n",
      "\n",
      "\n",
      "Promo\n",
      "10\t38\n",
      "12\t210\n",
      "\n",
      "\n",
      "Phasing\n",
      "3\t19\n",
      "18\t230\n",
      "\n",
      "\n",
      "SP&D\n",
      "0\t5\n",
      "3\t262\n",
      "\n",
      "\n",
      "POS\n",
      "2\t48\n",
      "9\t211\n",
      "\n",
      "\n",
      "Other\n",
      "0\t17\n",
      "5\t248\n",
      "\n",
      "\n",
      "NoComm\n",
      "112\t16\n",
      "96\t46\n",
      "\n",
      "\n"
     ]
    }
   ],
   "source": [
    "print('TP\\tFP')\n",
    "print('FN\\tTN')\n",
    "print(\"\\n\")\n",
    "for i in range(6):\n",
    "    print(label_cols[i])\n",
    "    print(\"%d\\t%d\" % (tp[i], fp[i]))\n",
    "    print(\"%d\\t%d\" % (fn[i], tn[i]))    \n",
    "    print(\"\\n\")"
   ]
  },
  {
   "cell_type": "code",
   "execution_count": 474,
   "metadata": {
    "scrolled": true
   },
   "outputs": [
    {
     "data": {
      "text/plain": [
       "array([[ 10,   2,   0,   5,   2,   3],\n",
       "       [  4,   3,   0,   5,   2,   7],\n",
       "       [  2,   0,   0,   1,   0,   0],\n",
       "       [  3,   2,   0,   2,   0,   4],\n",
       "       [  2,   0,   0,   1,   0,   2],\n",
       "       [ 27,  15,   5,  36,  13, 112]])"
      ]
     },
     "execution_count": 474,
     "metadata": {},
     "output_type": "execute_result"
    }
   ],
   "source": [
    "conf_matrix = confusion_matrix(np.argmax(y_test, axis=1), np.argmax(predictions, axis=1))\n",
    "conf_matrix"
   ]
  },
  {
   "cell_type": "code",
   "execution_count": 475,
   "metadata": {},
   "outputs": [
    {
     "data": {
      "text/plain": [
       "array([0.20833333, 0.13636364, 0.        , 0.04      , 0.        ,\n",
       "       0.875     ])"
      ]
     },
     "execution_count": 475,
     "metadata": {},
     "output_type": "execute_result"
    }
   ],
   "source": [
    "precision = tp / (tp + fp)\n",
    "precision = np.nan_to_num(precision)\n",
    "precision"
   ]
  },
  {
   "cell_type": "code",
   "execution_count": 476,
   "metadata": {},
   "outputs": [
    {
     "data": {
      "text/plain": [
       "array([0.45454545, 0.14285714, 0.        , 0.18181818, 0.        ,\n",
       "       0.53846154])"
      ]
     },
     "execution_count": 476,
     "metadata": {},
     "output_type": "execute_result"
    }
   ],
   "source": [
    "recall = tp / (tp + fn)\n",
    "recall"
   ]
  },
  {
   "cell_type": "code",
   "execution_count": 477,
   "metadata": {},
   "outputs": [
    {
     "name": "stderr",
     "output_type": "stream",
     "text": [
      "/root/anaconda3/lib/python3.6/site-packages/ipykernel_launcher.py:1: RuntimeWarning: invalid value encountered in true_divide\n",
      "  \"\"\"Entry point for launching an IPython kernel.\n"
     ]
    },
    {
     "data": {
      "text/plain": [
       "array([0.28571429, 0.13953488, 0.        , 0.06557377, 0.        ,\n",
       "       0.66666667])"
      ]
     },
     "execution_count": 477,
     "metadata": {},
     "output_type": "execute_result"
    }
   ],
   "source": [
    "fscore = 2 * precision * recall / (precision + recall)\n",
    "fscore = np.nan_to_num(fscore)\n",
    "fscore"
   ]
  },
  {
   "cell_type": "code",
   "execution_count": 478,
   "metadata": {},
   "outputs": [
    {
     "data": {
      "text/plain": [
       "0.192914934432281"
      ]
     },
     "execution_count": 478,
     "metadata": {},
     "output_type": "execute_result"
    }
   ],
   "source": [
    "macro_fscore = fscore.mean()\n",
    "macro_fscore"
   ]
  },
  {
   "cell_type": "code",
   "execution_count": 479,
   "metadata": {},
   "outputs": [
    {
     "data": {
      "text/plain": [
       "0.192914934432281"
      ]
     },
     "execution_count": 479,
     "metadata": {},
     "output_type": "execute_result"
    }
   ],
   "source": [
    "from sklearn.metrics import f1_score\n",
    "\n",
    "f1_score(y_test, predictions, average='macro')"
   ]
  },
  {
   "cell_type": "code",
   "execution_count": 480,
   "metadata": {},
   "outputs": [
    {
     "data": {
      "text/plain": [
       "0.4703703703703704"
      ]
     },
     "execution_count": 480,
     "metadata": {},
     "output_type": "execute_result"
    }
   ],
   "source": [
    "micro_precision = sum(tp) / (sum(tp) + sum(fp))\n",
    "micro_recall = sum(tp) / (sum(tp) + sum(fn))\n",
    "micro_fscore = 2 * micro_precision * micro_recall / (micro_precision + micro_recall)\n",
    "micro_fscore"
   ]
  },
  {
   "cell_type": "code",
   "execution_count": 481,
   "metadata": {},
   "outputs": [
    {
     "data": {
      "text/plain": [
       "0.4703703703703704"
      ]
     },
     "execution_count": 481,
     "metadata": {},
     "output_type": "execute_result"
    }
   ],
   "source": [
    "f1_score(y_test, predictions, average='micro')"
   ]
  },
  {
   "cell_type": "code",
   "execution_count": 482,
   "metadata": {},
   "outputs": [
    {
     "name": "stdout",
     "output_type": "stream",
     "text": [
      "                   pre       rec       spe        f1       geo       iba       sup\n",
      "\n",
      "          0       0.21      0.45      0.85      0.29      0.62      0.37        22\n",
      "          1       0.14      0.14      0.92      0.14      0.36      0.12        21\n",
      "          2       0.00      0.00      0.98      0.00      0.00      0.00         3\n",
      "          3       0.04      0.18      0.81      0.07      0.38      0.14        11\n",
      "          4       0.00      0.00      0.94      0.00      0.00      0.00         5\n",
      "          5       0.88      0.54      0.74      0.67      0.63      0.39       208\n",
      "\n",
      "avg / total       0.70      0.47      0.77      0.55      0.58      0.35       270\n",
      "\n"
     ]
    }
   ],
   "source": [
    "print(classification_report_imbalanced(np.argmax(y_test, 1), np.argmax(predictions, 1)))"
   ]
  },
  {
   "cell_type": "markdown",
   "metadata": {},
   "source": [
    "## Multiclass Baseline (RandomForest)"
   ]
  },
  {
   "cell_type": "code",
   "execution_count": 387,
   "metadata": {},
   "outputs": [],
   "source": [
    "X_resampled = X_resampled.reshape(*X_resampled.shape[:2])\n",
    "X_train = X_train.reshape(*X_train.shape[:2])\n",
    "X_test = X_test.reshape(*X_test.shape[:2])"
   ]
  },
  {
   "cell_type": "code",
   "execution_count": 388,
   "metadata": {},
   "outputs": [
    {
     "data": {
      "text/plain": [
       "(2580, 13)"
      ]
     },
     "execution_count": 388,
     "metadata": {},
     "output_type": "execute_result"
    }
   ],
   "source": [
    "X_resampled.shape"
   ]
  },
  {
   "cell_type": "code",
   "execution_count": null,
   "metadata": {},
   "outputs": [],
   "source": [
    "df_c.head()"
   ]
  },
  {
   "cell_type": "code",
   "execution_count": 286,
   "metadata": {},
   "outputs": [],
   "source": [
    "def plot_feature_importances(model, ax):\n",
    "    n_features = WINDOW_SIZE\n",
    "    ax.barh(range(n_features), model.feature_importances_, align='center')\n",
    "#     ax.yticks(np.arange(n_features))\n",
    "#     ax.setxlabel(\"Feature importance\")\n",
    "#     ax.ylabel(\"Feature\")\n",
    "#     ax.ylim(-1, n_features)"
   ]
  },
  {
   "cell_type": "code",
   "execution_count": 287,
   "metadata": {},
   "outputs": [
    {
     "data": {
      "text/plain": [
       "<BarContainer object of 13 artists>"
      ]
     },
     "execution_count": 287,
     "metadata": {},
     "output_type": "execute_result"
    },
    {
     "data": {
      "image/png": "[encoded data removed]",
      "text/plain": [
       "<Figure size 2160x2160 with 25 Axes>"
      ]
     },
     "metadata": {
      "needs_background": "light"
     },
     "output_type": "display_data"
    }
   ],
   "source": [
    "fig, axs = plt.subplots(5,5, figsize=(30,30))\n",
    "\n",
    "axs = axs.ravel()\n",
    "\n",
    "average_feature_importance = np.zeros(WINDOW_SIZE)\n",
    "for i in range(1, 25):\n",
    "    rf = RandomForestClassifier(200)\n",
    "    rf.fit(X_resampled, np.argmax(y_resampled, 1))\n",
    "    average_feature_importance += rf.feature_importances_\n",
    "    plot_feature_importances(rf, axs[i])\n",
    "average_feature_importance /= 24\n",
    "axs[0].barh(range(WINDOW_SIZE), average_feature_importance, align='center', color='r')"
   ]
  },
  {
   "cell_type": "code",
   "execution_count": 328,
   "metadata": {
    "scrolled": true
   },
   "outputs": [
    {
     "name": "stderr",
     "output_type": "stream",
     "text": [
      "/root/anaconda3/lib/python3.6/site-packages/sklearn/metrics/classification.py:1143: UndefinedMetricWarning: Precision is ill-defined and being set to 0.0 in labels with no predicted samples.\n",
      "  'precision', 'predicted', average, warn_for)\n",
      "/root/anaconda3/lib/python3.6/site-packages/sklearn/metrics/classification.py:1143: UndefinedMetricWarning: F-score is ill-defined and being set to 0.0 in labels with no predicted samples.\n",
      "  'precision', 'predicted', average, warn_for)\n",
      "/root/anaconda3/lib/python3.6/site-packages/sklearn/metrics/classification.py:1143: UndefinedMetricWarning: Precision is ill-defined and being set to 0.0 in labels with no predicted samples.\n",
      "  'precision', 'predicted', average, warn_for)\n",
      "/root/anaconda3/lib/python3.6/site-packages/sklearn/metrics/classification.py:1143: UndefinedMetricWarning: F-score is ill-defined and being set to 0.0 in labels with no predicted samples.\n",
      "  'precision', 'predicted', average, warn_for)\n",
      "/root/anaconda3/lib/python3.6/site-packages/sklearn/metrics/classification.py:1143: UndefinedMetricWarning: Precision is ill-defined and being set to 0.0 in labels with no predicted samples.\n",
      "  'precision', 'predicted', average, warn_for)\n",
      "/root/anaconda3/lib/python3.6/site-packages/sklearn/metrics/classification.py:1143: UndefinedMetricWarning: F-score is ill-defined and being set to 0.0 in labels with no predicted samples.\n",
      "  'precision', 'predicted', average, warn_for)\n",
      "/root/anaconda3/lib/python3.6/site-packages/sklearn/metrics/classification.py:1143: UndefinedMetricWarning: Precision is ill-defined and being set to 0.0 in labels with no predicted samples.\n",
      "  'precision', 'predicted', average, warn_for)\n",
      "/root/anaconda3/lib/python3.6/site-packages/sklearn/metrics/classification.py:1143: UndefinedMetricWarning: F-score is ill-defined and being set to 0.0 in labels with no predicted samples.\n",
      "  'precision', 'predicted', average, warn_for)\n",
      "/root/anaconda3/lib/python3.6/site-packages/sklearn/metrics/classification.py:1143: UndefinedMetricWarning: Precision is ill-defined and being set to 0.0 in labels with no predicted samples.\n",
      "  'precision', 'predicted', average, warn_for)\n",
      "/root/anaconda3/lib/python3.6/site-packages/sklearn/metrics/classification.py:1143: UndefinedMetricWarning: F-score is ill-defined and being set to 0.0 in labels with no predicted samples.\n",
      "  'precision', 'predicted', average, warn_for)\n",
      "/root/anaconda3/lib/python3.6/site-packages/sklearn/metrics/classification.py:1143: UndefinedMetricWarning: Precision is ill-defined and being set to 0.0 in labels with no predicted samples.\n",
      "  'precision', 'predicted', average, warn_for)\n",
      "/root/anaconda3/lib/python3.6/site-packages/sklearn/metrics/classification.py:1143: UndefinedMetricWarning: F-score is ill-defined and being set to 0.0 in labels with no predicted samples.\n",
      "  'precision', 'predicted', average, warn_for)\n",
      "/root/anaconda3/lib/python3.6/site-packages/sklearn/metrics/classification.py:1143: UndefinedMetricWarning: Precision is ill-defined and being set to 0.0 in labels with no predicted samples.\n",
      "  'precision', 'predicted', average, warn_for)\n",
      "/root/anaconda3/lib/python3.6/site-packages/sklearn/metrics/classification.py:1143: UndefinedMetricWarning: F-score is ill-defined and being set to 0.0 in labels with no predicted samples.\n",
      "  'precision', 'predicted', average, warn_for)\n",
      "/root/anaconda3/lib/python3.6/site-packages/sklearn/metrics/classification.py:1143: UndefinedMetricWarning: Precision is ill-defined and being set to 0.0 in labels with no predicted samples.\n",
      "  'precision', 'predicted', average, warn_for)\n",
      "/root/anaconda3/lib/python3.6/site-packages/sklearn/metrics/classification.py:1143: UndefinedMetricWarning: F-score is ill-defined and being set to 0.0 in labels with no predicted samples.\n",
      "  'precision', 'predicted', average, warn_for)\n",
      "/root/anaconda3/lib/python3.6/site-packages/sklearn/metrics/classification.py:1143: UndefinedMetricWarning: Precision is ill-defined and being set to 0.0 in labels with no predicted samples.\n",
      "  'precision', 'predicted', average, warn_for)\n",
      "/root/anaconda3/lib/python3.6/site-packages/sklearn/metrics/classification.py:1143: UndefinedMetricWarning: F-score is ill-defined and being set to 0.0 in labels with no predicted samples.\n",
      "  'precision', 'predicted', average, warn_for)\n",
      "/root/anaconda3/lib/python3.6/site-packages/sklearn/metrics/classification.py:1143: UndefinedMetricWarning: Precision is ill-defined and being set to 0.0 in labels with no predicted samples.\n",
      "  'precision', 'predicted', average, warn_for)\n",
      "/root/anaconda3/lib/python3.6/site-packages/sklearn/metrics/classification.py:1143: UndefinedMetricWarning: F-score is ill-defined and being set to 0.0 in labels with no predicted samples.\n",
      "  'precision', 'predicted', average, warn_for)\n",
      "/root/anaconda3/lib/python3.6/site-packages/sklearn/metrics/classification.py:1143: UndefinedMetricWarning: Precision is ill-defined and being set to 0.0 in labels with no predicted samples.\n",
      "  'precision', 'predicted', average, warn_for)\n",
      "/root/anaconda3/lib/python3.6/site-packages/sklearn/metrics/classification.py:1143: UndefinedMetricWarning: F-score is ill-defined and being set to 0.0 in labels with no predicted samples.\n",
      "  'precision', 'predicted', average, warn_for)\n",
      "/root/anaconda3/lib/python3.6/site-packages/sklearn/metrics/classification.py:1143: UndefinedMetricWarning: Precision is ill-defined and being set to 0.0 in labels with no predicted samples.\n",
      "  'precision', 'predicted', average, warn_for)\n",
      "/root/anaconda3/lib/python3.6/site-packages/sklearn/metrics/classification.py:1143: UndefinedMetricWarning: F-score is ill-defined and being set to 0.0 in labels with no predicted samples.\n",
      "  'precision', 'predicted', average, warn_for)\n",
      "/root/anaconda3/lib/python3.6/site-packages/sklearn/metrics/classification.py:1143: UndefinedMetricWarning: Precision is ill-defined and being set to 0.0 in labels with no predicted samples.\n",
      "  'precision', 'predicted', average, warn_for)\n",
      "/root/anaconda3/lib/python3.6/site-packages/sklearn/metrics/classification.py:1143: UndefinedMetricWarning: F-score is ill-defined and being set to 0.0 in labels with no predicted samples.\n",
      "  'precision', 'predicted', average, warn_for)\n",
      "/root/anaconda3/lib/python3.6/site-packages/sklearn/metrics/classification.py:1143: UndefinedMetricWarning: Precision is ill-defined and being set to 0.0 in labels with no predicted samples.\n",
      "  'precision', 'predicted', average, warn_for)\n",
      "/root/anaconda3/lib/python3.6/site-packages/sklearn/metrics/classification.py:1143: UndefinedMetricWarning: F-score is ill-defined and being set to 0.0 in labels with no predicted samples.\n",
      "  'precision', 'predicted', average, warn_for)\n",
      "/root/anaconda3/lib/python3.6/site-packages/sklearn/metrics/classification.py:1143: UndefinedMetricWarning: Precision is ill-defined and being set to 0.0 in labels with no predicted samples.\n",
      "  'precision', 'predicted', average, warn_for)\n",
      "/root/anaconda3/lib/python3.6/site-packages/sklearn/metrics/classification.py:1143: UndefinedMetricWarning: F-score is ill-defined and being set to 0.0 in labels with no predicted samples.\n",
      "  'precision', 'predicted', average, warn_for)\n",
      "/root/anaconda3/lib/python3.6/site-packages/sklearn/metrics/classification.py:1143: UndefinedMetricWarning: Precision is ill-defined and being set to 0.0 in labels with no predicted samples.\n",
      "  'precision', 'predicted', average, warn_for)\n",
      "/root/anaconda3/lib/python3.6/site-packages/sklearn/metrics/classification.py:1143: UndefinedMetricWarning: F-score is ill-defined and being set to 0.0 in labels with no predicted samples.\n",
      "  'precision', 'predicted', average, warn_for)\n",
      "/root/anaconda3/lib/python3.6/site-packages/sklearn/metrics/classification.py:1143: UndefinedMetricWarning: Precision is ill-defined and being set to 0.0 in labels with no predicted samples.\n",
      "  'precision', 'predicted', average, warn_for)\n",
      "/root/anaconda3/lib/python3.6/site-packages/sklearn/metrics/classification.py:1143: UndefinedMetricWarning: F-score is ill-defined and being set to 0.0 in labels with no predicted samples.\n",
      "  'precision', 'predicted', average, warn_for)\n",
      "/root/anaconda3/lib/python3.6/site-packages/sklearn/metrics/classification.py:1143: UndefinedMetricWarning: Precision is ill-defined and being set to 0.0 in labels with no predicted samples.\n",
      "  'precision', 'predicted', average, warn_for)\n",
      "/root/anaconda3/lib/python3.6/site-packages/sklearn/metrics/classification.py:1143: UndefinedMetricWarning: F-score is ill-defined and being set to 0.0 in labels with no predicted samples.\n",
      "  'precision', 'predicted', average, warn_for)\n"
     ]
    },
    {
     "name": "stderr",
     "output_type": "stream",
     "text": [
      "/root/anaconda3/lib/python3.6/site-packages/sklearn/metrics/classification.py:1143: UndefinedMetricWarning: Precision is ill-defined and being set to 0.0 in labels with no predicted samples.\n",
      "  'precision', 'predicted', average, warn_for)\n",
      "/root/anaconda3/lib/python3.6/site-packages/sklearn/metrics/classification.py:1143: UndefinedMetricWarning: F-score is ill-defined and being set to 0.0 in labels with no predicted samples.\n",
      "  'precision', 'predicted', average, warn_for)\n",
      "/root/anaconda3/lib/python3.6/site-packages/sklearn/metrics/classification.py:1143: UndefinedMetricWarning: Precision is ill-defined and being set to 0.0 in labels with no predicted samples.\n",
      "  'precision', 'predicted', average, warn_for)\n",
      "/root/anaconda3/lib/python3.6/site-packages/sklearn/metrics/classification.py:1143: UndefinedMetricWarning: F-score is ill-defined and being set to 0.0 in labels with no predicted samples.\n",
      "  'precision', 'predicted', average, warn_for)\n",
      "/root/anaconda3/lib/python3.6/site-packages/sklearn/metrics/classification.py:1143: UndefinedMetricWarning: Precision is ill-defined and being set to 0.0 in labels with no predicted samples.\n",
      "  'precision', 'predicted', average, warn_for)\n",
      "/root/anaconda3/lib/python3.6/site-packages/sklearn/metrics/classification.py:1143: UndefinedMetricWarning: F-score is ill-defined and being set to 0.0 in labels with no predicted samples.\n",
      "  'precision', 'predicted', average, warn_for)\n",
      "/root/anaconda3/lib/python3.6/site-packages/sklearn/metrics/classification.py:1143: UndefinedMetricWarning: Precision is ill-defined and being set to 0.0 in labels with no predicted samples.\n",
      "  'precision', 'predicted', average, warn_for)\n",
      "/root/anaconda3/lib/python3.6/site-packages/sklearn/metrics/classification.py:1143: UndefinedMetricWarning: F-score is ill-defined and being set to 0.0 in labels with no predicted samples.\n",
      "  'precision', 'predicted', average, warn_for)\n",
      "/root/anaconda3/lib/python3.6/site-packages/sklearn/metrics/classification.py:1143: UndefinedMetricWarning: Precision is ill-defined and being set to 0.0 in labels with no predicted samples.\n",
      "  'precision', 'predicted', average, warn_for)\n",
      "/root/anaconda3/lib/python3.6/site-packages/sklearn/metrics/classification.py:1143: UndefinedMetricWarning: F-score is ill-defined and being set to 0.0 in labels with no predicted samples.\n",
      "  'precision', 'predicted', average, warn_for)\n",
      "/root/anaconda3/lib/python3.6/site-packages/sklearn/metrics/classification.py:1143: UndefinedMetricWarning: Precision is ill-defined and being set to 0.0 in labels with no predicted samples.\n",
      "  'precision', 'predicted', average, warn_for)\n",
      "/root/anaconda3/lib/python3.6/site-packages/sklearn/metrics/classification.py:1143: UndefinedMetricWarning: F-score is ill-defined and being set to 0.0 in labels with no predicted samples.\n",
      "  'precision', 'predicted', average, warn_for)\n",
      "/root/anaconda3/lib/python3.6/site-packages/sklearn/metrics/classification.py:1143: UndefinedMetricWarning: Precision is ill-defined and being set to 0.0 in labels with no predicted samples.\n",
      "  'precision', 'predicted', average, warn_for)\n",
      "/root/anaconda3/lib/python3.6/site-packages/sklearn/metrics/classification.py:1143: UndefinedMetricWarning: F-score is ill-defined and being set to 0.0 in labels with no predicted samples.\n",
      "  'precision', 'predicted', average, warn_for)\n",
      "/root/anaconda3/lib/python3.6/site-packages/sklearn/metrics/classification.py:1143: UndefinedMetricWarning: Precision is ill-defined and being set to 0.0 in labels with no predicted samples.\n",
      "  'precision', 'predicted', average, warn_for)\n",
      "/root/anaconda3/lib/python3.6/site-packages/sklearn/metrics/classification.py:1143: UndefinedMetricWarning: F-score is ill-defined and being set to 0.0 in labels with no predicted samples.\n",
      "  'precision', 'predicted', average, warn_for)\n",
      "/root/anaconda3/lib/python3.6/site-packages/sklearn/metrics/classification.py:1143: UndefinedMetricWarning: Precision is ill-defined and being set to 0.0 in labels with no predicted samples.\n",
      "  'precision', 'predicted', average, warn_for)\n",
      "/root/anaconda3/lib/python3.6/site-packages/sklearn/metrics/classification.py:1143: UndefinedMetricWarning: F-score is ill-defined and being set to 0.0 in labels with no predicted samples.\n",
      "  'precision', 'predicted', average, warn_for)\n",
      "/root/anaconda3/lib/python3.6/site-packages/sklearn/metrics/classification.py:1143: UndefinedMetricWarning: Precision is ill-defined and being set to 0.0 in labels with no predicted samples.\n",
      "  'precision', 'predicted', average, warn_for)\n",
      "/root/anaconda3/lib/python3.6/site-packages/sklearn/metrics/classification.py:1143: UndefinedMetricWarning: F-score is ill-defined and being set to 0.0 in labels with no predicted samples.\n",
      "  'precision', 'predicted', average, warn_for)\n",
      "/root/anaconda3/lib/python3.6/site-packages/sklearn/metrics/classification.py:1143: UndefinedMetricWarning: Precision is ill-defined and being set to 0.0 in labels with no predicted samples.\n",
      "  'precision', 'predicted', average, warn_for)\n",
      "/root/anaconda3/lib/python3.6/site-packages/sklearn/metrics/classification.py:1143: UndefinedMetricWarning: F-score is ill-defined and being set to 0.0 in labels with no predicted samples.\n",
      "  'precision', 'predicted', average, warn_for)\n",
      "/root/anaconda3/lib/python3.6/site-packages/sklearn/metrics/classification.py:1143: UndefinedMetricWarning: Precision is ill-defined and being set to 0.0 in labels with no predicted samples.\n",
      "  'precision', 'predicted', average, warn_for)\n",
      "/root/anaconda3/lib/python3.6/site-packages/sklearn/metrics/classification.py:1143: UndefinedMetricWarning: F-score is ill-defined and being set to 0.0 in labels with no predicted samples.\n",
      "  'precision', 'predicted', average, warn_for)\n",
      "/root/anaconda3/lib/python3.6/site-packages/sklearn/metrics/classification.py:1143: UndefinedMetricWarning: Precision is ill-defined and being set to 0.0 in labels with no predicted samples.\n",
      "  'precision', 'predicted', average, warn_for)\n",
      "/root/anaconda3/lib/python3.6/site-packages/sklearn/metrics/classification.py:1143: UndefinedMetricWarning: F-score is ill-defined and being set to 0.0 in labels with no predicted samples.\n",
      "  'precision', 'predicted', average, warn_for)\n",
      "/root/anaconda3/lib/python3.6/site-packages/sklearn/metrics/classification.py:1143: UndefinedMetricWarning: Precision is ill-defined and being set to 0.0 in labels with no predicted samples.\n",
      "  'precision', 'predicted', average, warn_for)\n",
      "/root/anaconda3/lib/python3.6/site-packages/sklearn/metrics/classification.py:1143: UndefinedMetricWarning: F-score is ill-defined and being set to 0.0 in labels with no predicted samples.\n",
      "  'precision', 'predicted', average, warn_for)\n",
      "/root/anaconda3/lib/python3.6/site-packages/sklearn/metrics/classification.py:1143: UndefinedMetricWarning: Precision is ill-defined and being set to 0.0 in labels with no predicted samples.\n",
      "  'precision', 'predicted', average, warn_for)\n",
      "/root/anaconda3/lib/python3.6/site-packages/sklearn/metrics/classification.py:1143: UndefinedMetricWarning: F-score is ill-defined and being set to 0.0 in labels with no predicted samples.\n",
      "  'precision', 'predicted', average, warn_for)\n",
      "/root/anaconda3/lib/python3.6/site-packages/sklearn/metrics/classification.py:1143: UndefinedMetricWarning: Precision is ill-defined and being set to 0.0 in labels with no predicted samples.\n",
      "  'precision', 'predicted', average, warn_for)\n",
      "/root/anaconda3/lib/python3.6/site-packages/sklearn/metrics/classification.py:1143: UndefinedMetricWarning: F-score is ill-defined and being set to 0.0 in labels with no predicted samples.\n",
      "  'precision', 'predicted', average, warn_for)\n",
      "/root/anaconda3/lib/python3.6/site-packages/sklearn/metrics/classification.py:1143: UndefinedMetricWarning: Precision is ill-defined and being set to 0.0 in labels with no predicted samples.\n",
      "  'precision', 'predicted', average, warn_for)\n",
      "/root/anaconda3/lib/python3.6/site-packages/sklearn/metrics/classification.py:1143: UndefinedMetricWarning: F-score is ill-defined and being set to 0.0 in labels with no predicted samples.\n",
      "  'precision', 'predicted', average, warn_for)\n",
      "/root/anaconda3/lib/python3.6/site-packages/sklearn/metrics/classification.py:1143: UndefinedMetricWarning: Precision is ill-defined and being set to 0.0 in labels with no predicted samples.\n",
      "  'precision', 'predicted', average, warn_for)\n",
      "/root/anaconda3/lib/python3.6/site-packages/sklearn/metrics/classification.py:1143: UndefinedMetricWarning: F-score is ill-defined and being set to 0.0 in labels with no predicted samples.\n",
      "  'precision', 'predicted', average, warn_for)\n"
     ]
    },
    {
     "name": "stderr",
     "output_type": "stream",
     "text": [
      "/root/anaconda3/lib/python3.6/site-packages/sklearn/metrics/classification.py:1143: UndefinedMetricWarning: Precision is ill-defined and being set to 0.0 in labels with no predicted samples.\n",
      "  'precision', 'predicted', average, warn_for)\n",
      "/root/anaconda3/lib/python3.6/site-packages/sklearn/metrics/classification.py:1143: UndefinedMetricWarning: F-score is ill-defined and being set to 0.0 in labels with no predicted samples.\n",
      "  'precision', 'predicted', average, warn_for)\n",
      "/root/anaconda3/lib/python3.6/site-packages/sklearn/metrics/classification.py:1143: UndefinedMetricWarning: Precision is ill-defined and being set to 0.0 in labels with no predicted samples.\n",
      "  'precision', 'predicted', average, warn_for)\n",
      "/root/anaconda3/lib/python3.6/site-packages/sklearn/metrics/classification.py:1143: UndefinedMetricWarning: F-score is ill-defined and being set to 0.0 in labels with no predicted samples.\n",
      "  'precision', 'predicted', average, warn_for)\n",
      "/root/anaconda3/lib/python3.6/site-packages/sklearn/metrics/classification.py:1143: UndefinedMetricWarning: Precision is ill-defined and being set to 0.0 in labels with no predicted samples.\n",
      "  'precision', 'predicted', average, warn_for)\n",
      "/root/anaconda3/lib/python3.6/site-packages/sklearn/metrics/classification.py:1143: UndefinedMetricWarning: F-score is ill-defined and being set to 0.0 in labels with no predicted samples.\n",
      "  'precision', 'predicted', average, warn_for)\n",
      "/root/anaconda3/lib/python3.6/site-packages/sklearn/metrics/classification.py:1143: UndefinedMetricWarning: Precision is ill-defined and being set to 0.0 in labels with no predicted samples.\n",
      "  'precision', 'predicted', average, warn_for)\n",
      "/root/anaconda3/lib/python3.6/site-packages/sklearn/metrics/classification.py:1143: UndefinedMetricWarning: F-score is ill-defined and being set to 0.0 in labels with no predicted samples.\n",
      "  'precision', 'predicted', average, warn_for)\n",
      "/root/anaconda3/lib/python3.6/site-packages/sklearn/metrics/classification.py:1143: UndefinedMetricWarning: Precision is ill-defined and being set to 0.0 in labels with no predicted samples.\n",
      "  'precision', 'predicted', average, warn_for)\n",
      "/root/anaconda3/lib/python3.6/site-packages/sklearn/metrics/classification.py:1143: UndefinedMetricWarning: F-score is ill-defined and being set to 0.0 in labels with no predicted samples.\n",
      "  'precision', 'predicted', average, warn_for)\n",
      "/root/anaconda3/lib/python3.6/site-packages/sklearn/metrics/classification.py:1143: UndefinedMetricWarning: Precision is ill-defined and being set to 0.0 in labels with no predicted samples.\n",
      "  'precision', 'predicted', average, warn_for)\n",
      "/root/anaconda3/lib/python3.6/site-packages/sklearn/metrics/classification.py:1143: UndefinedMetricWarning: F-score is ill-defined and being set to 0.0 in labels with no predicted samples.\n",
      "  'precision', 'predicted', average, warn_for)\n",
      "/root/anaconda3/lib/python3.6/site-packages/sklearn/metrics/classification.py:1143: UndefinedMetricWarning: Precision is ill-defined and being set to 0.0 in labels with no predicted samples.\n",
      "  'precision', 'predicted', average, warn_for)\n",
      "/root/anaconda3/lib/python3.6/site-packages/sklearn/metrics/classification.py:1143: UndefinedMetricWarning: F-score is ill-defined and being set to 0.0 in labels with no predicted samples.\n",
      "  'precision', 'predicted', average, warn_for)\n",
      "/root/anaconda3/lib/python3.6/site-packages/sklearn/metrics/classification.py:1143: UndefinedMetricWarning: Precision is ill-defined and being set to 0.0 in labels with no predicted samples.\n",
      "  'precision', 'predicted', average, warn_for)\n",
      "/root/anaconda3/lib/python3.6/site-packages/sklearn/metrics/classification.py:1143: UndefinedMetricWarning: F-score is ill-defined and being set to 0.0 in labels with no predicted samples.\n",
      "  'precision', 'predicted', average, warn_for)\n",
      "/root/anaconda3/lib/python3.6/site-packages/sklearn/metrics/classification.py:1143: UndefinedMetricWarning: Precision is ill-defined and being set to 0.0 in labels with no predicted samples.\n",
      "  'precision', 'predicted', average, warn_for)\n",
      "/root/anaconda3/lib/python3.6/site-packages/sklearn/metrics/classification.py:1143: UndefinedMetricWarning: F-score is ill-defined and being set to 0.0 in labels with no predicted samples.\n",
      "  'precision', 'predicted', average, warn_for)\n",
      "/root/anaconda3/lib/python3.6/site-packages/sklearn/metrics/classification.py:1143: UndefinedMetricWarning: Precision is ill-defined and being set to 0.0 in labels with no predicted samples.\n",
      "  'precision', 'predicted', average, warn_for)\n",
      "/root/anaconda3/lib/python3.6/site-packages/sklearn/metrics/classification.py:1143: UndefinedMetricWarning: F-score is ill-defined and being set to 0.0 in labels with no predicted samples.\n",
      "  'precision', 'predicted', average, warn_for)\n",
      "/root/anaconda3/lib/python3.6/site-packages/sklearn/metrics/classification.py:1143: UndefinedMetricWarning: Precision is ill-defined and being set to 0.0 in labels with no predicted samples.\n",
      "  'precision', 'predicted', average, warn_for)\n",
      "/root/anaconda3/lib/python3.6/site-packages/sklearn/metrics/classification.py:1143: UndefinedMetricWarning: F-score is ill-defined and being set to 0.0 in labels with no predicted samples.\n",
      "  'precision', 'predicted', average, warn_for)\n",
      "/root/anaconda3/lib/python3.6/site-packages/sklearn/metrics/classification.py:1143: UndefinedMetricWarning: Precision is ill-defined and being set to 0.0 in labels with no predicted samples.\n",
      "  'precision', 'predicted', average, warn_for)\n",
      "/root/anaconda3/lib/python3.6/site-packages/sklearn/metrics/classification.py:1143: UndefinedMetricWarning: F-score is ill-defined and being set to 0.0 in labels with no predicted samples.\n",
      "  'precision', 'predicted', average, warn_for)\n",
      "/root/anaconda3/lib/python3.6/site-packages/sklearn/metrics/classification.py:1143: UndefinedMetricWarning: Precision is ill-defined and being set to 0.0 in labels with no predicted samples.\n",
      "  'precision', 'predicted', average, warn_for)\n",
      "/root/anaconda3/lib/python3.6/site-packages/sklearn/metrics/classification.py:1143: UndefinedMetricWarning: F-score is ill-defined and being set to 0.0 in labels with no predicted samples.\n",
      "  'precision', 'predicted', average, warn_for)\n",
      "/root/anaconda3/lib/python3.6/site-packages/sklearn/metrics/classification.py:1143: UndefinedMetricWarning: Precision is ill-defined and being set to 0.0 in labels with no predicted samples.\n",
      "  'precision', 'predicted', average, warn_for)\n",
      "/root/anaconda3/lib/python3.6/site-packages/sklearn/metrics/classification.py:1143: UndefinedMetricWarning: F-score is ill-defined and being set to 0.0 in labels with no predicted samples.\n",
      "  'precision', 'predicted', average, warn_for)\n",
      "/root/anaconda3/lib/python3.6/site-packages/sklearn/metrics/classification.py:1143: UndefinedMetricWarning: Precision is ill-defined and being set to 0.0 in labels with no predicted samples.\n",
      "  'precision', 'predicted', average, warn_for)\n",
      "/root/anaconda3/lib/python3.6/site-packages/sklearn/metrics/classification.py:1143: UndefinedMetricWarning: F-score is ill-defined and being set to 0.0 in labels with no predicted samples.\n",
      "  'precision', 'predicted', average, warn_for)\n",
      "/root/anaconda3/lib/python3.6/site-packages/sklearn/metrics/classification.py:1143: UndefinedMetricWarning: Precision is ill-defined and being set to 0.0 in labels with no predicted samples.\n",
      "  'precision', 'predicted', average, warn_for)\n",
      "/root/anaconda3/lib/python3.6/site-packages/sklearn/metrics/classification.py:1143: UndefinedMetricWarning: F-score is ill-defined and being set to 0.0 in labels with no predicted samples.\n",
      "  'precision', 'predicted', average, warn_for)\n",
      "/root/anaconda3/lib/python3.6/site-packages/sklearn/metrics/classification.py:1143: UndefinedMetricWarning: Precision is ill-defined and being set to 0.0 in labels with no predicted samples.\n",
      "  'precision', 'predicted', average, warn_for)\n",
      "/root/anaconda3/lib/python3.6/site-packages/sklearn/metrics/classification.py:1143: UndefinedMetricWarning: F-score is ill-defined and being set to 0.0 in labels with no predicted samples.\n",
      "  'precision', 'predicted', average, warn_for)\n",
      "/root/anaconda3/lib/python3.6/site-packages/sklearn/metrics/classification.py:1143: UndefinedMetricWarning: Precision is ill-defined and being set to 0.0 in labels with no predicted samples.\n",
      "  'precision', 'predicted', average, warn_for)\n",
      "/root/anaconda3/lib/python3.6/site-packages/sklearn/metrics/classification.py:1143: UndefinedMetricWarning: F-score is ill-defined and being set to 0.0 in labels with no predicted samples.\n",
      "  'precision', 'predicted', average, warn_for)\n"
     ]
    },
    {
     "name": "stderr",
     "output_type": "stream",
     "text": [
      "/root/anaconda3/lib/python3.6/site-packages/sklearn/metrics/classification.py:1143: UndefinedMetricWarning: Precision is ill-defined and being set to 0.0 in labels with no predicted samples.\n",
      "  'precision', 'predicted', average, warn_for)\n",
      "/root/anaconda3/lib/python3.6/site-packages/sklearn/metrics/classification.py:1143: UndefinedMetricWarning: F-score is ill-defined and being set to 0.0 in labels with no predicted samples.\n",
      "  'precision', 'predicted', average, warn_for)\n",
      "/root/anaconda3/lib/python3.6/site-packages/sklearn/metrics/classification.py:1143: UndefinedMetricWarning: Precision is ill-defined and being set to 0.0 in labels with no predicted samples.\n",
      "  'precision', 'predicted', average, warn_for)\n",
      "/root/anaconda3/lib/python3.6/site-packages/sklearn/metrics/classification.py:1143: UndefinedMetricWarning: F-score is ill-defined and being set to 0.0 in labels with no predicted samples.\n",
      "  'precision', 'predicted', average, warn_for)\n",
      "/root/anaconda3/lib/python3.6/site-packages/sklearn/metrics/classification.py:1143: UndefinedMetricWarning: Precision is ill-defined and being set to 0.0 in labels with no predicted samples.\n",
      "  'precision', 'predicted', average, warn_for)\n",
      "/root/anaconda3/lib/python3.6/site-packages/sklearn/metrics/classification.py:1143: UndefinedMetricWarning: F-score is ill-defined and being set to 0.0 in labels with no predicted samples.\n",
      "  'precision', 'predicted', average, warn_for)\n",
      "/root/anaconda3/lib/python3.6/site-packages/sklearn/metrics/classification.py:1143: UndefinedMetricWarning: Precision is ill-defined and being set to 0.0 in labels with no predicted samples.\n",
      "  'precision', 'predicted', average, warn_for)\n",
      "/root/anaconda3/lib/python3.6/site-packages/sklearn/metrics/classification.py:1143: UndefinedMetricWarning: F-score is ill-defined and being set to 0.0 in labels with no predicted samples.\n",
      "  'precision', 'predicted', average, warn_for)\n",
      "/root/anaconda3/lib/python3.6/site-packages/sklearn/metrics/classification.py:1143: UndefinedMetricWarning: Precision is ill-defined and being set to 0.0 in labels with no predicted samples.\n",
      "  'precision', 'predicted', average, warn_for)\n",
      "/root/anaconda3/lib/python3.6/site-packages/sklearn/metrics/classification.py:1143: UndefinedMetricWarning: F-score is ill-defined and being set to 0.0 in labels with no predicted samples.\n",
      "  'precision', 'predicted', average, warn_for)\n",
      "/root/anaconda3/lib/python3.6/site-packages/sklearn/metrics/classification.py:1143: UndefinedMetricWarning: Precision is ill-defined and being set to 0.0 in labels with no predicted samples.\n",
      "  'precision', 'predicted', average, warn_for)\n",
      "/root/anaconda3/lib/python3.6/site-packages/sklearn/metrics/classification.py:1143: UndefinedMetricWarning: F-score is ill-defined and being set to 0.0 in labels with no predicted samples.\n",
      "  'precision', 'predicted', average, warn_for)\n",
      "/root/anaconda3/lib/python3.6/site-packages/sklearn/metrics/classification.py:1143: UndefinedMetricWarning: Precision is ill-defined and being set to 0.0 in labels with no predicted samples.\n",
      "  'precision', 'predicted', average, warn_for)\n",
      "/root/anaconda3/lib/python3.6/site-packages/sklearn/metrics/classification.py:1143: UndefinedMetricWarning: F-score is ill-defined and being set to 0.0 in labels with no predicted samples.\n",
      "  'precision', 'predicted', average, warn_for)\n",
      "/root/anaconda3/lib/python3.6/site-packages/sklearn/metrics/classification.py:1143: UndefinedMetricWarning: Precision is ill-defined and being set to 0.0 in labels with no predicted samples.\n",
      "  'precision', 'predicted', average, warn_for)\n",
      "/root/anaconda3/lib/python3.6/site-packages/sklearn/metrics/classification.py:1143: UndefinedMetricWarning: F-score is ill-defined and being set to 0.0 in labels with no predicted samples.\n",
      "  'precision', 'predicted', average, warn_for)\n",
      "/root/anaconda3/lib/python3.6/site-packages/sklearn/metrics/classification.py:1143: UndefinedMetricWarning: Precision is ill-defined and being set to 0.0 in labels with no predicted samples.\n",
      "  'precision', 'predicted', average, warn_for)\n",
      "/root/anaconda3/lib/python3.6/site-packages/sklearn/metrics/classification.py:1143: UndefinedMetricWarning: F-score is ill-defined and being set to 0.0 in labels with no predicted samples.\n",
      "  'precision', 'predicted', average, warn_for)\n",
      "/root/anaconda3/lib/python3.6/site-packages/sklearn/metrics/classification.py:1143: UndefinedMetricWarning: Precision is ill-defined and being set to 0.0 in labels with no predicted samples.\n",
      "  'precision', 'predicted', average, warn_for)\n",
      "/root/anaconda3/lib/python3.6/site-packages/sklearn/metrics/classification.py:1143: UndefinedMetricWarning: F-score is ill-defined and being set to 0.0 in labels with no predicted samples.\n",
      "  'precision', 'predicted', average, warn_for)\n",
      "/root/anaconda3/lib/python3.6/site-packages/sklearn/metrics/classification.py:1143: UndefinedMetricWarning: Precision is ill-defined and being set to 0.0 in labels with no predicted samples.\n",
      "  'precision', 'predicted', average, warn_for)\n",
      "/root/anaconda3/lib/python3.6/site-packages/sklearn/metrics/classification.py:1143: UndefinedMetricWarning: F-score is ill-defined and being set to 0.0 in labels with no predicted samples.\n",
      "  'precision', 'predicted', average, warn_for)\n",
      "/root/anaconda3/lib/python3.6/site-packages/sklearn/metrics/classification.py:1143: UndefinedMetricWarning: Precision is ill-defined and being set to 0.0 in labels with no predicted samples.\n",
      "  'precision', 'predicted', average, warn_for)\n",
      "/root/anaconda3/lib/python3.6/site-packages/sklearn/metrics/classification.py:1143: UndefinedMetricWarning: F-score is ill-defined and being set to 0.0 in labels with no predicted samples.\n",
      "  'precision', 'predicted', average, warn_for)\n",
      "/root/anaconda3/lib/python3.6/site-packages/sklearn/metrics/classification.py:1143: UndefinedMetricWarning: Precision is ill-defined and being set to 0.0 in labels with no predicted samples.\n",
      "  'precision', 'predicted', average, warn_for)\n",
      "/root/anaconda3/lib/python3.6/site-packages/sklearn/metrics/classification.py:1143: UndefinedMetricWarning: F-score is ill-defined and being set to 0.0 in labels with no predicted samples.\n",
      "  'precision', 'predicted', average, warn_for)\n",
      "/root/anaconda3/lib/python3.6/site-packages/sklearn/metrics/classification.py:1143: UndefinedMetricWarning: Precision is ill-defined and being set to 0.0 in labels with no predicted samples.\n",
      "  'precision', 'predicted', average, warn_for)\n",
      "/root/anaconda3/lib/python3.6/site-packages/sklearn/metrics/classification.py:1143: UndefinedMetricWarning: F-score is ill-defined and being set to 0.0 in labels with no predicted samples.\n",
      "  'precision', 'predicted', average, warn_for)\n",
      "/root/anaconda3/lib/python3.6/site-packages/sklearn/metrics/classification.py:1143: UndefinedMetricWarning: Precision is ill-defined and being set to 0.0 in labels with no predicted samples.\n",
      "  'precision', 'predicted', average, warn_for)\n",
      "/root/anaconda3/lib/python3.6/site-packages/sklearn/metrics/classification.py:1143: UndefinedMetricWarning: F-score is ill-defined and being set to 0.0 in labels with no predicted samples.\n",
      "  'precision', 'predicted', average, warn_for)\n",
      "/root/anaconda3/lib/python3.6/site-packages/sklearn/metrics/classification.py:1143: UndefinedMetricWarning: Precision is ill-defined and being set to 0.0 in labels with no predicted samples.\n",
      "  'precision', 'predicted', average, warn_for)\n",
      "/root/anaconda3/lib/python3.6/site-packages/sklearn/metrics/classification.py:1143: UndefinedMetricWarning: F-score is ill-defined and being set to 0.0 in labels with no predicted samples.\n",
      "  'precision', 'predicted', average, warn_for)\n",
      "/root/anaconda3/lib/python3.6/site-packages/sklearn/metrics/classification.py:1143: UndefinedMetricWarning: Precision is ill-defined and being set to 0.0 in labels with no predicted samples.\n",
      "  'precision', 'predicted', average, warn_for)\n",
      "/root/anaconda3/lib/python3.6/site-packages/sklearn/metrics/classification.py:1143: UndefinedMetricWarning: F-score is ill-defined and being set to 0.0 in labels with no predicted samples.\n",
      "  'precision', 'predicted', average, warn_for)\n",
      "/root/anaconda3/lib/python3.6/site-packages/sklearn/metrics/classification.py:1143: UndefinedMetricWarning: Precision is ill-defined and being set to 0.0 in labels with no predicted samples.\n",
      "  'precision', 'predicted', average, warn_for)\n",
      "/root/anaconda3/lib/python3.6/site-packages/sklearn/metrics/classification.py:1143: UndefinedMetricWarning: F-score is ill-defined and being set to 0.0 in labels with no predicted samples.\n",
      "  'precision', 'predicted', average, warn_for)\n"
     ]
    },
    {
     "name": "stderr",
     "output_type": "stream",
     "text": [
      "/root/anaconda3/lib/python3.6/site-packages/sklearn/metrics/classification.py:1143: UndefinedMetricWarning: Precision is ill-defined and being set to 0.0 in labels with no predicted samples.\n",
      "  'precision', 'predicted', average, warn_for)\n",
      "/root/anaconda3/lib/python3.6/site-packages/sklearn/metrics/classification.py:1143: UndefinedMetricWarning: F-score is ill-defined and being set to 0.0 in labels with no predicted samples.\n",
      "  'precision', 'predicted', average, warn_for)\n",
      "/root/anaconda3/lib/python3.6/site-packages/sklearn/metrics/classification.py:1143: UndefinedMetricWarning: Precision is ill-defined and being set to 0.0 in labels with no predicted samples.\n",
      "  'precision', 'predicted', average, warn_for)\n",
      "/root/anaconda3/lib/python3.6/site-packages/sklearn/metrics/classification.py:1143: UndefinedMetricWarning: F-score is ill-defined and being set to 0.0 in labels with no predicted samples.\n",
      "  'precision', 'predicted', average, warn_for)\n",
      "/root/anaconda3/lib/python3.6/site-packages/sklearn/metrics/classification.py:1143: UndefinedMetricWarning: Precision is ill-defined and being set to 0.0 in labels with no predicted samples.\n",
      "  'precision', 'predicted', average, warn_for)\n",
      "/root/anaconda3/lib/python3.6/site-packages/sklearn/metrics/classification.py:1143: UndefinedMetricWarning: F-score is ill-defined and being set to 0.0 in labels with no predicted samples.\n",
      "  'precision', 'predicted', average, warn_for)\n",
      "/root/anaconda3/lib/python3.6/site-packages/sklearn/metrics/classification.py:1143: UndefinedMetricWarning: Precision is ill-defined and being set to 0.0 in labels with no predicted samples.\n",
      "  'precision', 'predicted', average, warn_for)\n",
      "/root/anaconda3/lib/python3.6/site-packages/sklearn/metrics/classification.py:1143: UndefinedMetricWarning: F-score is ill-defined and being set to 0.0 in labels with no predicted samples.\n",
      "  'precision', 'predicted', average, warn_for)\n",
      "/root/anaconda3/lib/python3.6/site-packages/sklearn/metrics/classification.py:1143: UndefinedMetricWarning: Precision is ill-defined and being set to 0.0 in labels with no predicted samples.\n",
      "  'precision', 'predicted', average, warn_for)\n",
      "/root/anaconda3/lib/python3.6/site-packages/sklearn/metrics/classification.py:1143: UndefinedMetricWarning: F-score is ill-defined and being set to 0.0 in labels with no predicted samples.\n",
      "  'precision', 'predicted', average, warn_for)\n",
      "/root/anaconda3/lib/python3.6/site-packages/sklearn/metrics/classification.py:1143: UndefinedMetricWarning: Precision is ill-defined and being set to 0.0 in labels with no predicted samples.\n",
      "  'precision', 'predicted', average, warn_for)\n",
      "/root/anaconda3/lib/python3.6/site-packages/sklearn/metrics/classification.py:1143: UndefinedMetricWarning: F-score is ill-defined and being set to 0.0 in labels with no predicted samples.\n",
      "  'precision', 'predicted', average, warn_for)\n",
      "/root/anaconda3/lib/python3.6/site-packages/sklearn/metrics/classification.py:1143: UndefinedMetricWarning: Precision is ill-defined and being set to 0.0 in labels with no predicted samples.\n",
      "  'precision', 'predicted', average, warn_for)\n",
      "/root/anaconda3/lib/python3.6/site-packages/sklearn/metrics/classification.py:1143: UndefinedMetricWarning: F-score is ill-defined and being set to 0.0 in labels with no predicted samples.\n",
      "  'precision', 'predicted', average, warn_for)\n",
      "/root/anaconda3/lib/python3.6/site-packages/sklearn/metrics/classification.py:1143: UndefinedMetricWarning: Precision is ill-defined and being set to 0.0 in labels with no predicted samples.\n",
      "  'precision', 'predicted', average, warn_for)\n",
      "/root/anaconda3/lib/python3.6/site-packages/sklearn/metrics/classification.py:1143: UndefinedMetricWarning: F-score is ill-defined and being set to 0.0 in labels with no predicted samples.\n",
      "  'precision', 'predicted', average, warn_for)\n",
      "/root/anaconda3/lib/python3.6/site-packages/sklearn/metrics/classification.py:1143: UndefinedMetricWarning: Precision is ill-defined and being set to 0.0 in labels with no predicted samples.\n",
      "  'precision', 'predicted', average, warn_for)\n",
      "/root/anaconda3/lib/python3.6/site-packages/sklearn/metrics/classification.py:1143: UndefinedMetricWarning: F-score is ill-defined and being set to 0.0 in labels with no predicted samples.\n",
      "  'precision', 'predicted', average, warn_for)\n",
      "/root/anaconda3/lib/python3.6/site-packages/sklearn/metrics/classification.py:1143: UndefinedMetricWarning: Precision is ill-defined and being set to 0.0 in labels with no predicted samples.\n",
      "  'precision', 'predicted', average, warn_for)\n",
      "/root/anaconda3/lib/python3.6/site-packages/sklearn/metrics/classification.py:1143: UndefinedMetricWarning: F-score is ill-defined and being set to 0.0 in labels with no predicted samples.\n",
      "  'precision', 'predicted', average, warn_for)\n",
      "/root/anaconda3/lib/python3.6/site-packages/sklearn/metrics/classification.py:1143: UndefinedMetricWarning: Precision is ill-defined and being set to 0.0 in labels with no predicted samples.\n",
      "  'precision', 'predicted', average, warn_for)\n",
      "/root/anaconda3/lib/python3.6/site-packages/sklearn/metrics/classification.py:1143: UndefinedMetricWarning: F-score is ill-defined and being set to 0.0 in labels with no predicted samples.\n",
      "  'precision', 'predicted', average, warn_for)\n",
      "/root/anaconda3/lib/python3.6/site-packages/sklearn/metrics/classification.py:1143: UndefinedMetricWarning: Precision is ill-defined and being set to 0.0 in labels with no predicted samples.\n",
      "  'precision', 'predicted', average, warn_for)\n",
      "/root/anaconda3/lib/python3.6/site-packages/sklearn/metrics/classification.py:1143: UndefinedMetricWarning: F-score is ill-defined and being set to 0.0 in labels with no predicted samples.\n",
      "  'precision', 'predicted', average, warn_for)\n",
      "/root/anaconda3/lib/python3.6/site-packages/sklearn/metrics/classification.py:1143: UndefinedMetricWarning: Precision is ill-defined and being set to 0.0 in labels with no predicted samples.\n",
      "  'precision', 'predicted', average, warn_for)\n",
      "/root/anaconda3/lib/python3.6/site-packages/sklearn/metrics/classification.py:1143: UndefinedMetricWarning: F-score is ill-defined and being set to 0.0 in labels with no predicted samples.\n",
      "  'precision', 'predicted', average, warn_for)\n",
      "/root/anaconda3/lib/python3.6/site-packages/sklearn/metrics/classification.py:1143: UndefinedMetricWarning: Precision is ill-defined and being set to 0.0 in labels with no predicted samples.\n",
      "  'precision', 'predicted', average, warn_for)\n",
      "/root/anaconda3/lib/python3.6/site-packages/sklearn/metrics/classification.py:1143: UndefinedMetricWarning: F-score is ill-defined and being set to 0.0 in labels with no predicted samples.\n",
      "  'precision', 'predicted', average, warn_for)\n",
      "/root/anaconda3/lib/python3.6/site-packages/sklearn/metrics/classification.py:1143: UndefinedMetricWarning: Precision is ill-defined and being set to 0.0 in labels with no predicted samples.\n",
      "  'precision', 'predicted', average, warn_for)\n",
      "/root/anaconda3/lib/python3.6/site-packages/sklearn/metrics/classification.py:1143: UndefinedMetricWarning: F-score is ill-defined and being set to 0.0 in labels with no predicted samples.\n",
      "  'precision', 'predicted', average, warn_for)\n",
      "/root/anaconda3/lib/python3.6/site-packages/sklearn/metrics/classification.py:1143: UndefinedMetricWarning: Precision is ill-defined and being set to 0.0 in labels with no predicted samples.\n",
      "  'precision', 'predicted', average, warn_for)\n",
      "/root/anaconda3/lib/python3.6/site-packages/sklearn/metrics/classification.py:1143: UndefinedMetricWarning: F-score is ill-defined and being set to 0.0 in labels with no predicted samples.\n",
      "  'precision', 'predicted', average, warn_for)\n",
      "/root/anaconda3/lib/python3.6/site-packages/sklearn/metrics/classification.py:1143: UndefinedMetricWarning: Precision is ill-defined and being set to 0.0 in labels with no predicted samples.\n",
      "  'precision', 'predicted', average, warn_for)\n",
      "/root/anaconda3/lib/python3.6/site-packages/sklearn/metrics/classification.py:1143: UndefinedMetricWarning: F-score is ill-defined and being set to 0.0 in labels with no predicted samples.\n",
      "  'precision', 'predicted', average, warn_for)\n",
      "/root/anaconda3/lib/python3.6/site-packages/sklearn/metrics/classification.py:1143: UndefinedMetricWarning: Precision is ill-defined and being set to 0.0 in labels with no predicted samples.\n",
      "  'precision', 'predicted', average, warn_for)\n",
      "/root/anaconda3/lib/python3.6/site-packages/sklearn/metrics/classification.py:1143: UndefinedMetricWarning: F-score is ill-defined and being set to 0.0 in labels with no predicted samples.\n",
      "  'precision', 'predicted', average, warn_for)\n"
     ]
    },
    {
     "name": "stderr",
     "output_type": "stream",
     "text": [
      "/root/anaconda3/lib/python3.6/site-packages/sklearn/metrics/classification.py:1143: UndefinedMetricWarning: Precision is ill-defined and being set to 0.0 in labels with no predicted samples.\n",
      "  'precision', 'predicted', average, warn_for)\n",
      "/root/anaconda3/lib/python3.6/site-packages/sklearn/metrics/classification.py:1143: UndefinedMetricWarning: F-score is ill-defined and being set to 0.0 in labels with no predicted samples.\n",
      "  'precision', 'predicted', average, warn_for)\n",
      "/root/anaconda3/lib/python3.6/site-packages/sklearn/metrics/classification.py:1143: UndefinedMetricWarning: Precision is ill-defined and being set to 0.0 in labels with no predicted samples.\n",
      "  'precision', 'predicted', average, warn_for)\n",
      "/root/anaconda3/lib/python3.6/site-packages/sklearn/metrics/classification.py:1143: UndefinedMetricWarning: F-score is ill-defined and being set to 0.0 in labels with no predicted samples.\n",
      "  'precision', 'predicted', average, warn_for)\n",
      "/root/anaconda3/lib/python3.6/site-packages/sklearn/metrics/classification.py:1143: UndefinedMetricWarning: Precision is ill-defined and being set to 0.0 in labels with no predicted samples.\n",
      "  'precision', 'predicted', average, warn_for)\n",
      "/root/anaconda3/lib/python3.6/site-packages/sklearn/metrics/classification.py:1143: UndefinedMetricWarning: F-score is ill-defined and being set to 0.0 in labels with no predicted samples.\n",
      "  'precision', 'predicted', average, warn_for)\n",
      "/root/anaconda3/lib/python3.6/site-packages/sklearn/metrics/classification.py:1143: UndefinedMetricWarning: Precision is ill-defined and being set to 0.0 in labels with no predicted samples.\n",
      "  'precision', 'predicted', average, warn_for)\n",
      "/root/anaconda3/lib/python3.6/site-packages/sklearn/metrics/classification.py:1143: UndefinedMetricWarning: F-score is ill-defined and being set to 0.0 in labels with no predicted samples.\n",
      "  'precision', 'predicted', average, warn_for)\n",
      "/root/anaconda3/lib/python3.6/site-packages/sklearn/metrics/classification.py:1143: UndefinedMetricWarning: Precision is ill-defined and being set to 0.0 in labels with no predicted samples.\n",
      "  'precision', 'predicted', average, warn_for)\n",
      "/root/anaconda3/lib/python3.6/site-packages/sklearn/metrics/classification.py:1143: UndefinedMetricWarning: F-score is ill-defined and being set to 0.0 in labels with no predicted samples.\n",
      "  'precision', 'predicted', average, warn_for)\n",
      "/root/anaconda3/lib/python3.6/site-packages/sklearn/metrics/classification.py:1143: UndefinedMetricWarning: Precision is ill-defined and being set to 0.0 in labels with no predicted samples.\n",
      "  'precision', 'predicted', average, warn_for)\n",
      "/root/anaconda3/lib/python3.6/site-packages/sklearn/metrics/classification.py:1143: UndefinedMetricWarning: F-score is ill-defined and being set to 0.0 in labels with no predicted samples.\n",
      "  'precision', 'predicted', average, warn_for)\n",
      "/root/anaconda3/lib/python3.6/site-packages/sklearn/metrics/classification.py:1143: UndefinedMetricWarning: Precision is ill-defined and being set to 0.0 in labels with no predicted samples.\n",
      "  'precision', 'predicted', average, warn_for)\n",
      "/root/anaconda3/lib/python3.6/site-packages/sklearn/metrics/classification.py:1143: UndefinedMetricWarning: F-score is ill-defined and being set to 0.0 in labels with no predicted samples.\n",
      "  'precision', 'predicted', average, warn_for)\n",
      "/root/anaconda3/lib/python3.6/site-packages/sklearn/metrics/classification.py:1143: UndefinedMetricWarning: Precision is ill-defined and being set to 0.0 in labels with no predicted samples.\n",
      "  'precision', 'predicted', average, warn_for)\n",
      "/root/anaconda3/lib/python3.6/site-packages/sklearn/metrics/classification.py:1143: UndefinedMetricWarning: F-score is ill-defined and being set to 0.0 in labels with no predicted samples.\n",
      "  'precision', 'predicted', average, warn_for)\n",
      "/root/anaconda3/lib/python3.6/site-packages/sklearn/metrics/classification.py:1143: UndefinedMetricWarning: Precision is ill-defined and being set to 0.0 in labels with no predicted samples.\n",
      "  'precision', 'predicted', average, warn_for)\n",
      "/root/anaconda3/lib/python3.6/site-packages/sklearn/metrics/classification.py:1143: UndefinedMetricWarning: F-score is ill-defined and being set to 0.0 in labels with no predicted samples.\n",
      "  'precision', 'predicted', average, warn_for)\n",
      "/root/anaconda3/lib/python3.6/site-packages/sklearn/metrics/classification.py:1143: UndefinedMetricWarning: Precision is ill-defined and being set to 0.0 in labels with no predicted samples.\n",
      "  'precision', 'predicted', average, warn_for)\n",
      "/root/anaconda3/lib/python3.6/site-packages/sklearn/metrics/classification.py:1143: UndefinedMetricWarning: F-score is ill-defined and being set to 0.0 in labels with no predicted samples.\n",
      "  'precision', 'predicted', average, warn_for)\n"
     ]
    }
   ],
   "source": [
    "pre = []\n",
    "rec = []\n",
    "fs = []\n",
    "gms = []\n",
    "wa = []\n",
    "for _ in range(100):\n",
    "    rf = RandomForestClassifier(200)\n",
    "    rf.fit(X_resampled, np.argmax(y_resampled, 1))\n",
    "    predictions = rf.predict(X_test)\n",
    "\n",
    "    pre.append(precision_score(np.argmax(y_test, 1), predictions, average='weighted'))\n",
    "    rec.append(recall_score(np.argmax(y_test, 1), predictions, average='weighted'))\n",
    "    fs.append(f1_score(np.argmax(y_test, 1), predictions, average='weighted'))\n",
    "    gms.append(geometric_mean_score(np.argmax(y_test, 1), predictions, average='weighted'))\n",
    "    wa.append(balanced_accuracy_score(np.argmax(y_test, 1), predictions))"
   ]
  },
  {
   "cell_type": "code",
   "execution_count": 378,
   "metadata": {},
   "outputs": [
    {
     "data": {
      "text/plain": [
       "array([ 27,  18,   2,  18,   5, 200])"
      ]
     },
     "execution_count": 378,
     "metadata": {},
     "output_type": "execute_result"
    }
   ],
   "source": [
    "from sklearn import metrics\n",
    "metrics.precision_recall_fscore_support(np.argmax(y_test, 1), rf_predictions)[3]"
   ]
  },
  {
   "cell_type": "code",
   "execution_count": 380,
   "metadata": {},
   "outputs": [
    {
     "name": "stderr",
     "output_type": "stream",
     "text": [
      "/root/anaconda3/lib/python3.6/site-packages/sklearn/metrics/classification.py:1143: UndefinedMetricWarning: Precision is ill-defined and being set to 0.0 in labels with no predicted samples.\n",
      "  'precision', 'predicted', average, warn_for)\n"
     ]
    },
    {
     "data": {
      "text/plain": [
       "0.654516711833785"
      ]
     },
     "execution_count": 380,
     "metadata": {},
     "output_type": "execute_result"
    }
   ],
   "source": [
    "precision_score(np.argmax(y_test, 1), rf_predictions, average='weighted')"
   ]
  },
  {
   "cell_type": "code",
   "execution_count": null,
   "metadata": {},
   "outputs": [],
   "source": [
    "def custom_weighted_scorer(y_true, y_pred, scorer):\n",
    "    _, _, _, supports = metrics.precision_recall_fscore_support(y_true, y_pred)\n",
    "    \n",
    "    if scorer == 'precision':\n",
    "        scores = precision_score(y_true, y_pred)\n",
    "    precision_tuple = precision_tuple[1:]\n",
    "    support_tuple = support_tuple[:-1]\n",
    "    weighted_precision = np.average(scores, weights=supports)\n",
    "    return weighted_score"
   ]
  },
  {
   "cell_type": "code",
   "execution_count": null,
   "metadata": {},
   "outputs": [],
   "source": [
    "pre = []\n",
    "rec = []\n",
    "fs = []\n",
    "gms = []\n",
    "\n",
    "for _ in range(1):\n",
    "    \n",
    "    cv = KFold(n_splits=5, shuffle=True)\n",
    "    \n",
    "    model = Pipeline([\n",
    "        ('sampling', RandomOverSampler()), \n",
    "        ('clf', RandomForestClassifier(n_estimators=200))\n",
    "    ])\n",
    "\n",
    "    scoring = {'precision': make_scorer(precision_score, y_true=y_true[:-1],y_pred=y_pred[:-1], average='weighted')}\n",
    "#                ,\n",
    "#                'recall': make_scorer(recall_score, average='weighted'),\n",
    "#                'f1': make_scorer(f1_score, average='weighted'),\n",
    "#               'geom': make_scorer(geometric_mean_score , average='weighted')}\n",
    "\n",
    "    scores = cross_validate(model, X, np.argmax(y, 1), cv=cv, scoring=scoring, n_jobs=-1)\n",
    "    pre.append(np.mean(scores['test_precision']))\n",
    "    rec.append(np.mean(scores['test_recall'])) \n",
    "    fs.append(np.mean(scores['test_f1']))    \n",
    "    gms.append(np.mean(scores['test_geom']))\n"
   ]
  },
  {
   "cell_type": "code",
   "execution_count": 351,
   "metadata": {},
   "outputs": [
    {
     "name": "stdout",
     "output_type": "stream",
     "text": [
      "0.47327395696184205 0.5982255482074488 0.5101027745819445 0.5381242785185694\n"
     ]
    }
   ],
   "source": [
    "print(np.mean(pre), np.mean(rec), np.mean(fs), np.mean(gms))"
   ]
  },
  {
   "cell_type": "code",
   "execution_count": 321,
   "metadata": {},
   "outputs": [
    {
     "name": "stdout",
     "output_type": "stream",
     "text": [
      "                   pre       rec       spe        f1       geo       iba       sup\n",
      "\n",
      "          0       0.10      0.07      0.92      0.08      0.26      0.06        27\n",
      "          1       0.50      0.11      0.99      0.18      0.33      0.10        18\n",
      "          2       0.00      0.00      1.00      0.00      0.00      0.00         2\n",
      "          3       0.11      0.06      0.97      0.07      0.23      0.05        18\n",
      "          4       0.00      0.00      1.00      0.00      0.00      0.00         5\n",
      "          5       0.76      0.90      0.19      0.82      0.41      0.18       200\n",
      "\n",
      "avg / total       0.61      0.68      0.39      0.63      0.37      0.15       270\n",
      "\n"
     ]
    },
    {
     "name": "stderr",
     "output_type": "stream",
     "text": [
      "/root/anaconda3/lib/python3.6/site-packages/sklearn/metrics/classification.py:1143: UndefinedMetricWarning: Precision and F-score are ill-defined and being set to 0.0 in labels with no predicted samples.\n",
      "  'precision', 'predicted', average, warn_for)\n"
     ]
    }
   ],
   "source": [
    "print(classification_report_imbalanced(np.argmax(y_test, 1), rf_predictions))"
   ]
  },
  {
   "cell_type": "code",
   "execution_count": 487,
   "metadata": {},
   "outputs": [
    {
     "data": {
      "text/plain": [
       "array([[ 11,   0,   0,   0,   0,  11],\n",
       "       [ 16,   0,   0,   0,   0,   5],\n",
       "       [  3,   0,   0,   0,   0,   0],\n",
       "       [  8,   0,   0,   0,   0,   3],\n",
       "       [  4,   0,   0,   0,   0,   1],\n",
       "       [ 77,   1,   0,   0,   0, 130]])"
      ]
     },
     "execution_count": 487,
     "metadata": {},
     "output_type": "execute_result"
    }
   ],
   "source": [
    "conf_matrix = confusion_matrix(np.argmax(y_test, axis=1), np.argmax(rf_predictions, axis=1))\n",
    "conf_matrix"
   ]
  },
  {
   "cell_type": "code",
   "execution_count": 488,
   "metadata": {},
   "outputs": [],
   "source": [
    "tp = np.zeros(6)\n",
    "fn = np.zeros(6)\n",
    "fp = np.zeros(6)\n",
    "tn = np.zeros(6)\n",
    "\n",
    "for i in range(y_test.shape[1]):\n",
    "    for j in range(y_test.shape[0]):\n",
    "        if y_test[j, i] == 1:\n",
    "            if rf_predictions[j, i] == 1:\n",
    "                tp[i] += 1\n",
    "            else:\n",
    "                fn[i] += 1\n",
    "        else:\n",
    "            if rf_predictions[j, i] == 1:\n",
    "                fp[i] += 1\n",
    "            else:\n",
    "                tn[i] += 1"
   ]
  },
  {
   "cell_type": "code",
   "execution_count": 489,
   "metadata": {},
   "outputs": [
    {
     "name": "stdout",
     "output_type": "stream",
     "text": [
      "TP\tFP\n",
      "FN\tTN\n",
      "\n",
      "\n",
      "Promo\n",
      "0\t1\n",
      "22\t247\n",
      "\n",
      "\n",
      "Phasing\n",
      "0\t1\n",
      "21\t248\n",
      "\n",
      "\n",
      "SP&D\n",
      "0\t0\n",
      "3\t267\n",
      "\n",
      "\n",
      "POS\n",
      "0\t0\n",
      "11\t259\n",
      "\n",
      "\n",
      "Other\n",
      "0\t0\n",
      "5\t265\n",
      "\n",
      "\n",
      "NoComm\n",
      "130\t20\n",
      "78\t42\n",
      "\n",
      "\n"
     ]
    }
   ],
   "source": [
    "print('TP\\tFP')\n",
    "print('FN\\tTN')\n",
    "print(\"\\n\")\n",
    "for i in range(6):\n",
    "    print(label_cols[i])\n",
    "    print(\"%d\\t%d\" % (tp[i], fp[i]))\n",
    "    print(\"%d\\t%d\" % (fn[i], tn[i]))    \n",
    "    print(\"\\n\")"
   ]
  },
  {
   "cell_type": "markdown",
   "metadata": {},
   "source": [
    "## Multilabel Model"
   ]
  },
  {
   "cell_type": "code",
   "execution_count": 105,
   "metadata": {
    "scrolled": true
   },
   "outputs": [
    {
     "name": "stdout",
     "output_type": "stream",
     "text": [
      "Train on 603 samples, validate on 67 samples\n",
      "Epoch 1/6\n",
      "603/603 [==============================] - 1s 2ms/step - loss: 0.6381 - val_loss: 0.5557\n",
      "Epoch 2/6\n",
      "603/603 [==============================] - 0s 605us/step - loss: 0.4468 - val_loss: 0.3909\n",
      "Epoch 3/6\n",
      "603/603 [==============================] - 0s 584us/step - loss: 0.3635 - val_loss: 0.3699\n",
      "Epoch 4/6\n",
      "603/603 [==============================] - 0s 593us/step - loss: 0.3512 - val_loss: 0.3649\n",
      "Epoch 5/6\n",
      "603/603 [==============================] - 0s 594us/step - loss: 0.3466 - val_loss: 0.3632\n",
      "Epoch 6/6\n",
      "603/603 [==============================] - 0s 600us/step - loss: 0.3448 - val_loss: 0.3623\n"
     ]
    },
    {
     "data": {
      "text/plain": [
       "<keras.callbacks.History at 0x7f7175e89ac8>"
      ]
     },
     "execution_count": 105,
     "metadata": {},
     "output_type": "execute_result"
    }
   ],
   "source": [
    "# All classes (multilabel)\n",
    "# Maybe leave out NoComment label?\n",
    "model = Sequential()\n",
    "model.add(LSTM(200, input_shape=(1, 12)))\n",
    "model.add(Dense(4, activation='sigmoid')) \n",
    "model.compile(loss='binary_crossentropy', optimizer='adam')\n",
    "\n",
    "model.fit(trainX, BR_TR_labels[:, :4], validation_split=0.1, epochs=6, batch_size=8)"
   ]
  },
  {
   "cell_type": "code",
   "execution_count": 151,
   "metadata": {},
   "outputs": [
    {
     "ename": "ImportError",
     "evalue": "cannot import name 'multilabel_confusion_matrix'",
     "output_type": "error",
     "traceback": [
      "\u001b[0;31m---------------------------------------------------------------------------\u001b[0m",
      "\u001b[0;31mImportError\u001b[0m                               Traceback (most recent call last)",
      "\u001b[0;32m<ipython-input-151-ff17c6eefeeb>\u001b[0m in \u001b[0;36m<module>\u001b[0;34m\u001b[0m\n\u001b[0;32m----> 1\u001b[0;31m \u001b[0;32mfrom\u001b[0m \u001b[0msklearn\u001b[0m\u001b[0;34m.\u001b[0m\u001b[0mmetrics\u001b[0m \u001b[0;32mimport\u001b[0m \u001b[0mmultilabel_confusion_matrix\u001b[0m\u001b[0;34m\u001b[0m\u001b[0;34m\u001b[0m\u001b[0m\n\u001b[0m",
      "\u001b[0;31mImportError\u001b[0m: cannot import name 'multilabel_confusion_matrix'"
     ]
    }
   ],
   "source": [
    "from sklearn.metrics import multilabel_confusion_matrix"
   ]
  },
  {
   "cell_type": "code",
   "execution_count": 108,
   "metadata": {},
   "outputs": [],
   "source": [
    "predictions = model.predict(trainX)"
   ]
  },
  {
   "cell_type": "code",
   "execution_count": 144,
   "metadata": {},
   "outputs": [
    {
     "data": {
      "text/plain": [
       "array([169, 281])"
      ]
     },
     "execution_count": 144,
     "metadata": {},
     "output_type": "execute_result"
    }
   ],
   "source": [
    "c = predictions > 0.5 \n",
    "np.where(c)[0]"
   ]
  },
  {
   "cell_type": "code",
   "execution_count": 111,
   "metadata": {
    "scrolled": true
   },
   "outputs": [
    {
     "ename": "ValueError",
     "evalue": "Found input variables with inconsistent numbers of samples: [3350, 2680]",
     "output_type": "error",
     "traceback": [
      "\u001b[0;31m---------------------------------------------------------------------------\u001b[0m",
      "\u001b[0;31mValueError\u001b[0m                                Traceback (most recent call last)",
      "\u001b[0;32m<ipython-input-111-403d67163f44>\u001b[0m in \u001b[0;36m<module>\u001b[0;34m\u001b[0m\n\u001b[1;32m     13\u001b[0m \u001b[0;34m\u001b[0m\u001b[0m\n\u001b[1;32m     14\u001b[0m precision[\"micro\"], recall[\"micro\"], _ = precision_recall_curve(BR_TR_labels[:].ravel(),\n\u001b[0;32m---> 15\u001b[0;31m     predictions[:].ravel())\n\u001b[0m\u001b[1;32m     16\u001b[0m average_precision[\"micro\"] = average_precision_score(BR_TR_labels[:], predictions[:],\n\u001b[1;32m     17\u001b[0m                                                      average=\"micro\")\n",
      "\u001b[0;32m~/anaconda3/lib/python3.6/site-packages/sklearn/metrics/ranking.py\u001b[0m in \u001b[0;36mprecision_recall_curve\u001b[0;34m(y_true, probas_pred, pos_label, sample_weight)\u001b[0m\n\u001b[1;32m    520\u001b[0m     fps, tps, thresholds = _binary_clf_curve(y_true, probas_pred,\n\u001b[1;32m    521\u001b[0m                                              \u001b[0mpos_label\u001b[0m\u001b[0;34m=\u001b[0m\u001b[0mpos_label\u001b[0m\u001b[0;34m,\u001b[0m\u001b[0;34m\u001b[0m\u001b[0;34m\u001b[0m\u001b[0m\n\u001b[0;32m--> 522\u001b[0;31m                                              sample_weight=sample_weight)\n\u001b[0m\u001b[1;32m    523\u001b[0m \u001b[0;34m\u001b[0m\u001b[0m\n\u001b[1;32m    524\u001b[0m     \u001b[0mprecision\u001b[0m \u001b[0;34m=\u001b[0m \u001b[0mtps\u001b[0m \u001b[0;34m/\u001b[0m \u001b[0;34m(\u001b[0m\u001b[0mtps\u001b[0m \u001b[0;34m+\u001b[0m \u001b[0mfps\u001b[0m\u001b[0;34m)\u001b[0m\u001b[0;34m\u001b[0m\u001b[0;34m\u001b[0m\u001b[0m\n",
      "\u001b[0;32m~/anaconda3/lib/python3.6/site-packages/sklearn/metrics/ranking.py\u001b[0m in \u001b[0;36m_binary_clf_curve\u001b[0;34m(y_true, y_score, pos_label, sample_weight)\u001b[0m\n\u001b[1;32m    397\u001b[0m         \u001b[0;32mraise\u001b[0m \u001b[0mValueError\u001b[0m\u001b[0;34m(\u001b[0m\u001b[0;34m\"{0} format is not supported\"\u001b[0m\u001b[0;34m.\u001b[0m\u001b[0mformat\u001b[0m\u001b[0;34m(\u001b[0m\u001b[0my_type\u001b[0m\u001b[0;34m)\u001b[0m\u001b[0;34m)\u001b[0m\u001b[0;34m\u001b[0m\u001b[0;34m\u001b[0m\u001b[0m\n\u001b[1;32m    398\u001b[0m \u001b[0;34m\u001b[0m\u001b[0m\n\u001b[0;32m--> 399\u001b[0;31m     \u001b[0mcheck_consistent_length\u001b[0m\u001b[0;34m(\u001b[0m\u001b[0my_true\u001b[0m\u001b[0;34m,\u001b[0m \u001b[0my_score\u001b[0m\u001b[0;34m,\u001b[0m \u001b[0msample_weight\u001b[0m\u001b[0;34m)\u001b[0m\u001b[0;34m\u001b[0m\u001b[0;34m\u001b[0m\u001b[0m\n\u001b[0m\u001b[1;32m    400\u001b[0m     \u001b[0my_true\u001b[0m \u001b[0;34m=\u001b[0m \u001b[0mcolumn_or_1d\u001b[0m\u001b[0;34m(\u001b[0m\u001b[0my_true\u001b[0m\u001b[0;34m)\u001b[0m\u001b[0;34m\u001b[0m\u001b[0;34m\u001b[0m\u001b[0m\n\u001b[1;32m    401\u001b[0m     \u001b[0my_score\u001b[0m \u001b[0;34m=\u001b[0m \u001b[0mcolumn_or_1d\u001b[0m\u001b[0;34m(\u001b[0m\u001b[0my_score\u001b[0m\u001b[0;34m)\u001b[0m\u001b[0;34m\u001b[0m\u001b[0;34m\u001b[0m\u001b[0m\n",
      "\u001b[0;32m~/anaconda3/lib/python3.6/site-packages/sklearn/utils/validation.py\u001b[0m in \u001b[0;36mcheck_consistent_length\u001b[0;34m(*arrays)\u001b[0m\n\u001b[1;32m    233\u001b[0m     \u001b[0;32mif\u001b[0m \u001b[0mlen\u001b[0m\u001b[0;34m(\u001b[0m\u001b[0muniques\u001b[0m\u001b[0;34m)\u001b[0m \u001b[0;34m>\u001b[0m \u001b[0;36m1\u001b[0m\u001b[0;34m:\u001b[0m\u001b[0;34m\u001b[0m\u001b[0;34m\u001b[0m\u001b[0m\n\u001b[1;32m    234\u001b[0m         raise ValueError(\"Found input variables with inconsistent numbers of\"\n\u001b[0;32m--> 235\u001b[0;31m                          \" samples: %r\" % [int(l) for l in lengths])\n\u001b[0m\u001b[1;32m    236\u001b[0m \u001b[0;34m\u001b[0m\u001b[0m\n\u001b[1;32m    237\u001b[0m \u001b[0;34m\u001b[0m\u001b[0m\n",
      "\u001b[0;31mValueError\u001b[0m: Found input variables with inconsistent numbers of samples: [3350, 2680]"
     ]
    }
   ],
   "source": [
    "from sklearn.metrics import precision_recall_curve\n",
    "from sklearn.metrics import average_precision_score\n",
    "\n",
    "# For each class\n",
    "precision = dict()\n",
    "recall = dict()\n",
    "average_precision = dict()\n",
    "for i in range(4):\n",
    "    precision[i], recall[i], _ = precision_recall_curve(BR_TR_labels[:, i],\n",
    "                                                        predictions[:, i])\n",
    "    average_precision[i] = average_precision_score(BR_TR_labels[:, i], predictions[:, i])\n",
    "\n",
    "    \n",
    "precision[\"micro\"], recall[\"micro\"], _ = precision_recall_curve(BR_TR_labels[:].ravel(),\n",
    "    predictions[:].ravel())\n",
    "average_precision[\"micro\"] = average_precision_score(BR_TR_labels[:], predictions[:],\n",
    "                                                     average=\"micro\")\n",
    "print('Average precision score, micro-averaged over all classes: {0:0.2f}'\n",
    "      .format(average_precision[\"micro\"]))    "
   ]
  },
  {
   "cell_type": "code",
   "execution_count": null,
   "metadata": {},
   "outputs": [],
   "source": [
    "df_c[df_c[\"WM\"] == 1]"
   ]
  },
  {
   "cell_type": "code",
   "execution_count": null,
   "metadata": {},
   "outputs": [],
   "source": []
  },
  {
   "cell_type": "code",
   "execution_count": null,
   "metadata": {},
   "outputs": [],
   "source": []
  },
  {
   "cell_type": "code",
   "execution_count": 326,
   "metadata": {},
   "outputs": [],
   "source": [
    "pre = []\n",
    "rec = []\n",
    "fs = []\n",
    "gms = []\n",
    "wa = []\n",
    "\n",
    "for _ in range(1000):\n",
    "    predictions = np.random.randint(6, size=len(y_test))\n",
    "\n",
    "    pre.append(precision_score(np.argmax(y_test, 1), predictions, average='weighted'))\n",
    "    rec.append(recall_score(np.argmax(y_test, 1), predictions, average='weighted'))\n",
    "    fs.append(f1_score(np.argmax(y_test, 1), predictions, average='weighted'))\n",
    "    gms.append(geometric_mean_score(np.argmax(y_test, 1), predictions, average='weighted'))\n",
    "    wa.append(balanced_accuracy_score(np.argmax(y_test, 1), predictions))\n",
    "    \n",
    "# predictions = np.zeros(len(y_test)) + 5\n",
    "# print(classification_report_imbalanced(np.argmax(y_test, 1), predictions))"
   ]
  },
  {
   "cell_type": "code",
   "execution_count": 327,
   "metadata": {},
   "outputs": [
    {
     "name": "stdout",
     "output_type": "stream",
     "text": [
      "0.56858053811405 0.16504814814814814 0.2250185713086899 0.3703459368291807 0.1634129938271605\n"
     ]
    }
   ],
   "source": [
    "print(np.mean(pre), np.mean(rec), np.mean(fs), np.mean(gms), np.mean(wa))"
   ]
  },
  {
   "cell_type": "code",
   "execution_count": 165,
   "metadata": {
    "scrolled": true
   },
   "outputs": [
    {
     "name": "stdout",
     "output_type": "stream",
     "text": [
      "Weighted Accuracy 0.46301247771836007\n",
      "Geometric mean of recall and specificity: 0.46249729006288026 \n",
      "\n",
      "                   pre       rec       spe        f1       geo       iba       sup\n",
      "\n",
      "          0       0.73      0.44      0.48      0.55      0.46      0.21       204\n",
      "          1       0.22      0.48      0.44      0.30      0.46      0.21        66\n",
      "\n",
      "avg / total       0.60      0.45      0.47      0.49      0.46      0.21       270\n",
      "\n"
     ]
    }
   ],
   "source": [
    "predictions = np.random.randint(2, size=len(y_test))\n",
    "print('Weighted Accuracy', balanced_accuracy_score(1 - y_test[:, 5], predictions))\n",
    "print('Geometric mean of recall and specificity:', geometric_mean_score(1 - y_test[:,5], predictions), '\\n')\n",
    "print(classification_report_imbalanced(1 - y_test[:,5], predictions))"
   ]
  },
  {
   "cell_type": "code",
   "execution_count": 205,
   "metadata": {},
   "outputs": [],
   "source": [
    "pre = []\n",
    "rec = []\n",
    "fs = []\n",
    "gms = []\n",
    "wa = []\n",
    "for _ in range(100000):\n",
    "    predictions = np.random.randint(2, size=len(y_test))\n",
    "    pre.append(precision_score(1 - y_test[:, 5], predictions))\n",
    "    rec.append(recall_score(1 - y_test[:, 5], predictions))\n",
    "    fs.append(f1_score(1 - y_test[:, 5], predictions))\n",
    "    gms.append(geometric_mean_score(1 - y_test[:, 5], predictions))\n",
    "    wa.append(balanced_accuracy_score(1 - y_test[:, 5], predictions))"
   ]
  },
  {
   "cell_type": "code",
   "execution_count": 237,
   "metadata": {},
   "outputs": [
    {
     "data": {
      "text/plain": [
       "0.24445403902821658"
      ]
     },
     "execution_count": 237,
     "metadata": {},
     "output_type": "execute_result"
    }
   ],
   "source": [
    "np.mean(rec)"
   ]
  },
  {
   "cell_type": "code",
   "execution_count": 352,
   "metadata": {},
   "outputs": [
    {
     "name": "stderr",
     "output_type": "stream",
     "text": [
      "/root/anaconda3/lib/python3.6/site-packages/sklearn/metrics/classification.py:1145: UndefinedMetricWarning: Recall is ill-defined and being set to 0.0 in labels with no true samples.\n",
      "  'recall', 'true', average, warn_for)\n",
      "/root/anaconda3/lib/python3.6/site-packages/sklearn/metrics/classification.py:1145: UndefinedMetricWarning: F-score is ill-defined and being set to 0.0 in labels with no true samples.\n",
      "  'recall', 'true', average, warn_for)\n"
     ]
    }
   ],
   "source": [
    "pre = []\n",
    "rec = []\n",
    "fs = []\n",
    "gms = []\n",
    "\n",
    "\n",
    "for tr, te in KFold(n_splits=5, shuffle=True).split(X, y):\n",
    "    for _ in range(1000):\n",
    "        predictions = np.random.randint(6, size=len(y[te]))\n",
    "\n",
    "        pre.append(precision_score(np.argmax(y[te], 1), predictions, average='weighted'))\n",
    "        rec.append(recall_score(np.argmax(y[te], 1), predictions, average='weighted'))\n",
    "        fs.append(f1_score(np.argmax(y[te], 1), predictions, average='weighted'))\n",
    "        gms.append(geometric_mean_score(np.argmax(y[te], 1), predictions, average='weighted'))"
   ]
  },
  {
   "cell_type": "code",
   "execution_count": 353,
   "metadata": {},
   "outputs": [
    {
     "name": "stdout",
     "output_type": "stream",
     "text": [
      "0.43448491891782187 0.16671679081099897 0.21139656998666395 0.3713909516678196\n"
     ]
    }
   ],
   "source": [
    "print(np.mean(pre), np.mean(rec), np.mean(fs), np.mean(gms))"
   ]
  },
  {
   "cell_type": "code",
   "execution_count": null,
   "metadata": {},
   "outputs": [],
   "source": []
  }
 ],
 "metadata": {
  "kernelspec": {
   "display_name": "Python 3",
   "language": "python",
   "name": "python3"
  },
  "language_info": {
   "codemirror_mode": {
    "name": "ipython",
    "version": 3
   },
   "file_extension": ".py",
   "mimetype": "text/x-python",
   "name": "python",
   "nbconvert_exporter": "python",
   "pygments_lexer": "ipython3",
   "version": "3.6.6"
  }
 },
 "nbformat": 4,
 "nbformat_minor": 2
}
